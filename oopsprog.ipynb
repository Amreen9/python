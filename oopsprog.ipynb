{
 "cells": [
  {
   "cell_type": "code",
   "execution_count": 1,
   "id": "eb5eda01-79be-41d2-80f4-1e8df6203978",
   "metadata": {},
   "outputs": [],
   "source": [
    "# Q1. Which function is used to open a file? \n",
    "# What are the different modes of opening a file? Explain each mode\n",
    "# of file opening."
   ]
  },
  {
   "cell_type": "code",
   "execution_count": 2,
   "id": "ff457cdd-c7da-4d9e-acb3-61167d6c7e1b",
   "metadata": {},
   "outputs": [],
   "source": [
    "# The open () function takes two parameters; filename, and mode. \n",
    "# There are four different methods (modes) for opening a file: \n",
    "# \"r\"  Read  Default value. Opens a file for reading, error \n",
    "# if the file does not exist \"a\" \n",
    "# Append Opens a file for appending, creates the file if it does not exist"
   ]
  },
  {
   "cell_type": "code",
   "execution_count": 3,
   "id": "20057a51-69f1-45fc-ac78-489b2f926d01",
   "metadata": {},
   "outputs": [],
   "source": [
    "# Q2. Why close() function is used? Why is it important to close a file?"
   ]
  },
  {
   "cell_type": "code",
   "execution_count": 4,
   "id": "0748f30b-7c5f-4b89-a5b9-250194e69e42",
   "metadata": {},
   "outputs": [],
   "source": [
    "# The close () method of a file object flushes any unwritten information \n",
    "# and closes the file object, after which no more writing can be done. \n",
    "# Python automatically closes a file when the reference object of a file is \n",
    "# reassigned to another file. \n",
    "# It is a good practice to use the close () method to close a file.\n"
   ]
  },
  {
   "cell_type": "code",
   "execution_count": 5,
   "id": "eba8e664-986f-4e3c-b313-c2c6197a29c0",
   "metadata": {},
   "outputs": [],
   "source": [
    "# Q3. Write a python program to create a text file.\n",
    "# Write ‘I want to become a Data Scientist’ in that file. \n",
    "# Then\n",
    "# close the file. Open this file and read the content of the file."
   ]
  },
  {
   "cell_type": "code",
   "execution_count": 6,
   "id": "1d648b2d-9775-482e-8aa0-d47ba709c275",
   "metadata": {},
   "outputs": [],
   "source": [
    "f=open(\"test.txt\",\"w\")"
   ]
  },
  {
   "cell_type": "code",
   "execution_count": 7,
   "id": "1f0b90f6-a9f0-4faf-837f-276d94228519",
   "metadata": {},
   "outputs": [
    {
     "data": {
      "text/plain": [
       "33"
      ]
     },
     "execution_count": 7,
     "metadata": {},
     "output_type": "execute_result"
    }
   ],
   "source": [
    "f.write(\"I want to become a Data Scientist\")"
   ]
  },
  {
   "cell_type": "code",
   "execution_count": 8,
   "id": "7a2bdd50-4e3b-46d9-a7ac-5c930fc7b065",
   "metadata": {},
   "outputs": [],
   "source": [
    "f.close()"
   ]
  },
  {
   "cell_type": "code",
   "execution_count": 40,
   "id": "731f6c44-7cca-4499-a456-e06cddf37dd2",
   "metadata": {},
   "outputs": [],
   "source": [
    "data=open(\"test.txt\",\"r\")"
   ]
  },
  {
   "cell_type": "code",
   "execution_count": 41,
   "id": "3b24edfd-f789-4c82-b834-394a7a89556f",
   "metadata": {},
   "outputs": [
    {
     "data": {
      "text/plain": [
       "'I want to become a Data Scientist'"
      ]
     },
     "execution_count": 41,
     "metadata": {},
     "output_type": "execute_result"
    }
   ],
   "source": [
    "\n",
    "\n",
    "data.read()"
   ]
  },
  {
   "cell_type": "code",
   "execution_count": 42,
   "id": "d5b2aeaa-c8c7-48d6-be68-ec0b35ce6da5",
   "metadata": {},
   "outputs": [],
   "source": [
    "# Q4. Explain the following with python code: read(), readline() and readlines()."
   ]
  },
  {
   "cell_type": "code",
   "execution_count": 49,
   "id": "c8a4a812-4471-47f3-a55c-67ee1d21cafb",
   "metadata": {},
   "outputs": [],
   "source": [
    "f=open(\"test.txt\",\"w\")"
   ]
  },
  {
   "cell_type": "code",
   "execution_count": 57,
   "id": "3f2bc34a-13be-4954-a890-a8181da8c667",
   "metadata": {},
   "outputs": [],
   "source": [
    "f.writelines(\"Data scientists use mathematical models to answer questions and solve problems in the real world. They apply advanced tools and techniques to find patterns, create visualizations, and draw conclusions from data sets. These scientists work for computer systems design companies, government agencies, and software publishers.\")"
   ]
  },
  {
   "cell_type": "code",
   "execution_count": 58,
   "id": "d7a77e73-d73f-4299-a4a3-1c4cfadc3b3b",
   "metadata": {},
   "outputs": [],
   "source": [
    "data=open(\"test.txt\",\"r\")"
   ]
  },
  {
   "cell_type": "code",
   "execution_count": 60,
   "id": "0065d2cd-1441-4791-b964-86cd1727bbb7",
   "metadata": {},
   "outputs": [
    {
     "data": {
      "text/plain": [
       "''"
      ]
     },
     "execution_count": 60,
     "metadata": {},
     "output_type": "execute_result"
    }
   ],
   "source": [
    "data.read() #reads everything"
   ]
  },
  {
   "cell_type": "code",
   "execution_count": 55,
   "id": "c8155845-f8a9-4a01-a858-83fe63505d43",
   "metadata": {},
   "outputs": [
    {
     "data": {
      "text/plain": [
       "<function TextIOWrapper.readline(size=-1, /)>"
      ]
     },
     "execution_count": 55,
     "metadata": {},
     "output_type": "execute_result"
    }
   ],
   "source": [
    "data.readline() #reads a line"
   ]
  },
  {
   "cell_type": "code",
   "execution_count": 56,
   "id": "ccd6d754-cd38-4f77-ab42-ed4ce199978c",
   "metadata": {},
   "outputs": [
    {
     "data": {
      "text/plain": [
       "[]"
      ]
     },
     "execution_count": 56,
     "metadata": {},
     "output_type": "execute_result"
    }
   ],
   "source": [
    "data.readlines()#read the number of line you want"
   ]
  },
  {
   "cell_type": "code",
   "execution_count": 62,
   "id": "6db098ba-47be-4b92-92c8-8bf93182c73a",
   "metadata": {},
   "outputs": [],
   "source": [
    "# Q5. Explain why with statement is used with open(). What is the advantage of using with statement and\n",
    "# open() together?"
   ]
  },
  {
   "cell_type": "code",
   "execution_count": 63,
   "id": "0b7d9864-4d1b-4261-8d66-86c643c542b9",
   "metadata": {},
   "outputs": [],
   "source": [
    "# It means when we used “with statement” with open () function, \n",
    "# an execution blocked started and the file object returned by open () \n",
    "# function is assigned to file_object. When this execution block of\n",
    "# “with statement” end, then the file object’s close function gets \n",
    "# called automatically, \n",
    "# and the file will be closed gracefully."
   ]
  },
  {
   "cell_type": "code",
   "execution_count": 64,
   "id": "31585cc6-298b-4d4a-b28a-5530385cc928",
   "metadata": {},
   "outputs": [],
   "source": [
    "# Q6. Explain the write() and writelines() functions. Give a suitable example."
   ]
  },
  {
   "cell_type": "code",
   "execution_count": 65,
   "id": "0ad64509-438a-4a37-8860-25ccf6db4baf",
   "metadata": {},
   "outputs": [],
   "source": [
    "# The write() function will write the content in the file\n",
    "# without adding any extra characters."
   ]
  },
  {
   "cell_type": "code",
   "execution_count": 67,
   "id": "bf8f1471-f147-4ad9-af9d-28eb2747dafb",
   "metadata": {},
   "outputs": [
    {
     "name": "stdin",
     "output_type": "stream",
     "text": [
      "Enter the name of the employee:  singh\n",
      "Enter the name of the employee:  sara\n",
      "Enter the name of the employee:  suya\n"
     ]
    },
    {
     "name": "stdout",
     "output_type": "stream",
     "text": [
      "Data is written into the file.\n"
     ]
    }
   ],
   "source": [
    "file = open(\"Employees.txt\", \"w\")\n",
    "\n",
    "for i in range(3):\n",
    "    name = input(\"Enter the name of the employee: \")\n",
    "file.write(name)\n",
    "file.write(\"\\n\")\n",
    "\t\n",
    "file.close()\n",
    "\n",
    "print(\"Data is written into the file.\")\n"
   ]
  },
  {
   "cell_type": "code",
   "execution_count": 68,
   "id": "1739ccea-c998-435e-8ae0-3f5860b852b8",
   "metadata": {},
   "outputs": [],
   "source": [
    "# writelines() function\n",
    "# This function writes the content of a list to a file."
   ]
  },
  {
   "cell_type": "code",
   "execution_count": 69,
   "id": "ff81b0d1-6be3-4675-8b77-c23c04b9e866",
   "metadata": {},
   "outputs": [
    {
     "name": "stdin",
     "output_type": "stream",
     "text": [
      "Enter the name of the employee:  rajeev\n",
      "Enter the name of the employee:  rahul\n",
      "Enter the name of the employee:  ratan\n"
     ]
    },
    {
     "name": "stdout",
     "output_type": "stream",
     "text": [
      "Data is written into the file.\n"
     ]
    }
   ],
   "source": [
    "file1 = open(\"Employees.txt\", \"w\")\n",
    "lst = []\n",
    "for i in range(3):\n",
    "\tname = input(\"Enter the name of the employee: \")\n",
    "\tlst.append(name + '\\n')\n",
    "\t\n",
    "file1.writelines(lst)\n",
    "file1.close()\n",
    "print(\"Data is written into the file.\")\n"
   ]
  },
  {
   "cell_type": "code",
   "execution_count": null,
   "id": "e63a0132-52ea-403f-bf8b-845957ea02c2",
   "metadata": {},
   "outputs": [],
   "source": [
    "# The only difference between the write() and writelines() is that write() \n",
    "# is used to write a string to an already opened file while writelines()\n",
    "# method is used to write a list of strings in an opened file."
   ]
  }
 ],
 "metadata": {
  "kernelspec": {
   "display_name": "Python 3 (ipykernel)",
   "language": "python",
   "name": "python3"
  },
  "language_info": {
   "codemirror_mode": {
    "name": "ipython",
    "version": 3
   },
   "file_extension": ".py",
   "mimetype": "text/x-python",
   "name": "python",
   "nbconvert_exporter": "python",
   "pygments_lexer": "ipython3",
   "version": "3.10.8"
  }
 },
 "nbformat": 4,
 "nbformat_minor": 5
}
