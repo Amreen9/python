{
 "cells": [
  {
   "cell_type": "code",
   "execution_count": 1,
   "id": "d3fcaa08-5725-4312-a9fe-e793eb707834",
   "metadata": {},
   "outputs": [],
   "source": [
    "# Q1: what is multithreading in python? why is it used?\n",
    "# Name the module used to handle threads in python"
   ]
  },
  {
   "cell_type": "code",
   "execution_count": 4,
   "id": "d94ed8df-9354-4f1a-a660-58a3c3b2eeec",
   "metadata": {},
   "outputs": [],
   "source": [
    "# Multithreading in Python is a popular technique that enables multiple tasks to be\n",
    "# executed simultaneously. In simple words, the ability of \n",
    "# a processor to execute multiple threads simultaneously is known as multithreading."
   ]
  },
  {
   "cell_type": "code",
   "execution_count": 5,
   "id": "6120dd17-1463-4a68-971c-673d3e7fd5f6",
   "metadata": {},
   "outputs": [],
   "source": [
    "# it is used for multitasking, to run a program several times or \n",
    "# to make do several task in a program"
   ]
  },
  {
   "cell_type": "code",
   "execution_count": 6,
   "id": "977e7230-662d-45a9-ba37-80f9489742a7",
   "metadata": {},
   "outputs": [],
   "source": [
    "# Threading module is used to handle threads in python"
   ]
  },
  {
   "cell_type": "code",
   "execution_count": 7,
   "id": "2a6b7af4-a832-4c6a-ac1d-61c22f952efe",
   "metadata": {},
   "outputs": [],
   "source": [
    "# Q2: why threading module used? write the use of the following functions"
   ]
  },
  {
   "cell_type": "code",
   "execution_count": 8,
   "id": "93edbbf4-e95f-4da6-999c-3329eb80ce8e",
   "metadata": {},
   "outputs": [],
   "source": [
    "# The threading module is used for multi-threading in python, which means running \n",
    "# multiple tasks or operations concurrently in a single process"
   ]
  },
  {
   "cell_type": "code",
   "execution_count": 9,
   "id": "f502a1f7-e7eb-4c9c-b8e9-2c19843f90ed",
   "metadata": {},
   "outputs": [],
   "source": [
    "# # 1: activeCount()\n",
    "# the method threading.activeCount() from \n",
    "# the threading module is used to count the currently active or running threads."
   ]
  },
  {
   "cell_type": "code",
   "execution_count": 10,
   "id": "3f2af09f-7770-43a2-9d40-5c96edfef44e",
   "metadata": {},
   "outputs": [],
   "source": [
    "# 2:currentThread()\n",
    "# Current_thread () is an inbuilt method of the threading module in Python. \n",
    "# It is used to return the current Thread object"
   ]
  },
  {
   "cell_type": "code",
   "execution_count": 11,
   "id": "a7bd17b5-896c-47fe-86a5-6d33f05c4105",
   "metadata": {},
   "outputs": [],
   "source": [
    "# 3:enumerate()\n",
    "# Enumerate () method adds a counter to an iterable and returns it in \n",
    "# a form of enumerating object. This enumerated object can then be used directly \n",
    "# for loops or converted into a list of tuples using the list () function."
   ]
  },
  {
   "cell_type": "code",
   "execution_count": 12,
   "id": "c14dbe99-100a-4caf-a3b7-4639b553b42b",
   "metadata": {},
   "outputs": [],
   "source": [
    "# Q3. Explain the following functions"
   ]
  },
  {
   "cell_type": "code",
   "execution_count": 13,
   "id": "f00ea3f7-4593-4fc1-bbd8-174939f427de",
   "metadata": {},
   "outputs": [],
   "source": [
    "# 1:run()= it is used to call a running function in a thread\n",
    "# 2:start()= it is used start the multithreading \n",
    "# 3:join()=it is used to join the main thread to other threads\n",
    "# 4:isAlive()= . It uses a Thread object, \n",
    "# and checks whether that thread is alive or not,\n",
    "# ie, it is still running or not. "
   ]
  },
  {
   "cell_type": "code",
   "execution_count": 14,
   "id": "7dd6bce5-dac4-4235-80ab-f2055bbd261e",
   "metadata": {},
   "outputs": [],
   "source": [
    "# Q4. write a python program to create two threads. \n",
    "# Thread one must print the list of squares and \n",
    "# thread two must print the list of cubes"
   ]
  },
  {
   "cell_type": "code",
   "execution_count": 21,
   "id": "99429cb5-ea37-4e28-aacb-779113cc6ce5",
   "metadata": {},
   "outputs": [],
   "source": [
    "import threading"
   ]
  },
  {
   "cell_type": "code",
   "execution_count": 52,
   "id": "35af8e49-b5fd-4c88-b791-4ebf0fec4439",
   "metadata": {},
   "outputs": [],
   "source": [
    "def progg(num):\n",
    "    print(\"the square of number is %d\"%num**2)\n",
    "    print(\"the cube of number is %d\"%num**3)\n",
    "    "
   ]
  },
  {
   "cell_type": "code",
   "execution_count": 53,
   "id": "e9617394-0848-4405-97a0-1ee473306b7b",
   "metadata": {},
   "outputs": [],
   "source": [
    "thread=list(threading.Thread(target=progg, args=(i,))for i in range(10))"
   ]
  },
  {
   "cell_type": "code",
   "execution_count": 54,
   "id": "d98e276e-3e31-4bb9-9bb9-3bc4a80e98f7",
   "metadata": {},
   "outputs": [
    {
     "name": "stdout",
     "output_type": "stream",
     "text": [
      "the square of number is 0\n",
      "the cube of number is 0\n",
      "the square of number is 1\n",
      "the cube of number is 1\n",
      "the square of number is 4\n",
      "the cube of number is 8\n",
      "the square of number is 9\n",
      "the cube of number is 27\n",
      "the square of number is 16\n",
      "the cube of number is 64\n",
      "the square of number is 25\n",
      "the cube of number is 125\n",
      "the square of number is 36\n",
      "the cube of number is 216\n",
      "the square of number is 49\n",
      "the cube of number is 343\n",
      "the square of number is 64\n",
      "the cube of number is 512\n",
      "the square of number is 81\n",
      "the cube of number is 729\n"
     ]
    }
   ],
   "source": [
    "for t in thread:\n",
    "    \n",
    "    t.start()\n",
    "    "
   ]
  },
  {
   "cell_type": "code",
   "execution_count": 55,
   "id": "b0b75d31-f06a-4187-b127-483fb5c69b65",
   "metadata": {},
   "outputs": [],
   "source": [
    "# Q5. State advantages and disadvantages of multithreading"
   ]
  },
  {
   "cell_type": "code",
   "execution_count": 56,
   "id": "9dd2414e-c65a-45fc-be96-df08756de5e8",
   "metadata": {},
   "outputs": [],
   "source": [
    "# Advantages:\n",
    "\n",
    "# Improved performance: Multithreading can help increase the overall performance of \n",
    "# an application, especially on systems with multiple processors or cores. \n",
    "# It allows multiple tasks to run concurrently, utilizing the available CPU \n",
    "# resources more efficiently.\n",
    "\n",
    "# Responsiveness: In a single-threaded environment, if a long-running task blocks \n",
    "# the main thread, the entire application becomes unresponsive.\n",
    "# Multithreading can prevent this issue by running such tasks in separate threads,\n",
    "# ensuring the application remains responsive.\n",
    "\n",
    "# Better resource utilization: Multithreading allows better utilization of\n",
    "# system resources by keeping the CPU busy while waiting for I/O operations or\n",
    "# other tasks to complete.\n",
    "\n",
    "# Simplified modeling: Some problems can be more naturally modeled using multiple \n",
    "# threads. This makes the program easier to design, understand, and maintain.\n",
    "\n",
    "# Parallelism: Multithreading enables parallelism, which can lead to significant \n",
    "# performance improvements in applications that can be divided into smaller, \n",
    "# independent tasks.\n",
    "\n"
   ]
  },
  {
   "cell_type": "code",
   "execution_count": 57,
   "id": "1225beb8-8231-4b04-aa76-89b6f5adf46b",
   "metadata": {},
   "outputs": [],
   "source": [
    "# Disadvantages:\n",
    "\n",
    "# Complexity: Multithreading adds complexity to the program, making it more\n",
    "# difficult to design, implement, and debug. Developers need to be aware of \n",
    "# synchronization, deadlocks, race conditions, and other concurrency-related issues.\n",
    "\n",
    "# Synchronization overhead: To avoid data corruption and maintain consistency,\n",
    "# developers must synchronize access to shared resources, which can result in\n",
    "# additional overhead and reduced performance.\n",
    "\n",
    "# Context switching: Context switching between threads consumes CPU time and\n",
    "# resources, which can lead to performance degradation if not managed efficiently.\n",
    "\n",
    "# Hard to predict behavior: Due to the concurrent nature of multithreading, \n",
    "# the behavior of the program can be hard to predict and reproduce, especially\n",
    "# when it comes to debugging.\n",
    "\n",
    "# Limited by hardware: The performance benefits of multithreading are limited by \n",
    "# the number of available cores or processors in the system. In some cases, \n",
    "# excessive use of threads can lead to performance degradation instead of\n",
    "# improvement."
   ]
  },
  {
   "cell_type": "code",
   "execution_count": 58,
   "id": "3e8fec0b-518c-4755-94cd-c59358b5dab4",
   "metadata": {},
   "outputs": [],
   "source": [
    "# Q6. Explain deadlocks and race conditions."
   ]
  },
  {
   "cell_type": "code",
   "execution_count": 59,
   "id": "aea764cd-876a-45c5-a0c4-0fa9f7dc857f",
   "metadata": {},
   "outputs": [],
   "source": [
    "# A deadlock is when two (or more) threads are blocking each other.\n",
    "# Usually this has something to do with threads trying to acquire shared resources.\n",
    "# For example if threads T1 and T2 need to acquire both resources A and B in order\n",
    "# to do their work. If T1 acquires resource A, then T2 acquires resource B, \n",
    "# T1 could then be waiting for resource B while T2 was waiting for resource A. \n",
    "# In this case, both threads will wait indefinitely for the resource held by the \n",
    "# other thread. These threads are said to be deadlocked.\n",
    "\n"
   ]
  },
  {
   "cell_type": "code",
   "execution_count": null,
   "id": "44566296-0c0b-444e-9f72-daf8c598b4ee",
   "metadata": {},
   "outputs": [],
   "source": []
  }
 ],
 "metadata": {
  "kernelspec": {
   "display_name": "Python 3 (ipykernel)",
   "language": "python",
   "name": "python3"
  },
  "language_info": {
   "codemirror_mode": {
    "name": "ipython",
    "version": 3
   },
   "file_extension": ".py",
   "mimetype": "text/x-python",
   "name": "python",
   "nbconvert_exporter": "python",
   "pygments_lexer": "ipython3",
   "version": "3.10.8"
  }
 },
 "nbformat": 4,
 "nbformat_minor": 5
}
