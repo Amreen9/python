{
 "cells": [
  {
   "cell_type": "code",
   "execution_count": 1,
   "id": "219766ec-8dd3-4c19-bee1-fcfd515b3043",
   "metadata": {},
   "outputs": [],
   "source": [
    "# Q1. Create a Pandas Series that contains the following data: \n",
    "#     4, 8, 15, 16, 23, and 42. Then, print the series."
   ]
  },
  {
   "cell_type": "code",
   "execution_count": 1,
   "id": "4c771c2f-046a-4f3b-b32d-c9ca5d6d1747",
   "metadata": {},
   "outputs": [],
   "source": [
    "import pandas as pd"
   ]
  },
  {
   "cell_type": "code",
   "execution_count": 2,
   "id": "e94443d9-cd04-4a96-8159-f56a7708353c",
   "metadata": {},
   "outputs": [
    {
     "name": "stdout",
     "output_type": "stream",
     "text": [
      "Requirement already satisfied: pandas in /opt/conda/lib/python3.10/site-packages (1.5.2)\n",
      "Requirement already satisfied: python-dateutil>=2.8.1 in /opt/conda/lib/python3.10/site-packages (from pandas) (2.8.2)\n",
      "Requirement already satisfied: pytz>=2020.1 in /opt/conda/lib/python3.10/site-packages (from pandas) (2022.6)\n",
      "Requirement already satisfied: numpy>=1.21.0 in /opt/conda/lib/python3.10/site-packages (from pandas) (1.23.5)\n",
      "Requirement already satisfied: six>=1.5 in /opt/conda/lib/python3.10/site-packages (from python-dateutil>=2.8.1->pandas) (1.16.0)\n",
      "Note: you may need to restart the kernel to use updated packages.\n"
     ]
    }
   ],
   "source": [
    "pip install pandas"
   ]
  },
  {
   "cell_type": "code",
   "execution_count": 3,
   "id": "6f7acdd0-f1f1-40bb-8d86-a3a8a1fd7429",
   "metadata": {},
   "outputs": [],
   "source": [
    "import numpy as np"
   ]
  },
  {
   "cell_type": "code",
   "execution_count": 5,
   "id": "32e8760c-eee8-4834-a89c-ac9229e9e250",
   "metadata": {},
   "outputs": [],
   "source": [
    "data=np.array([4,8,15,16,23,42])\n",
    "\n"
   ]
  },
  {
   "cell_type": "code",
   "execution_count": 6,
   "id": "e9fc6b63-ffa5-425f-b94b-28c60fc7091e",
   "metadata": {},
   "outputs": [
    {
     "name": "stdout",
     "output_type": "stream",
     "text": [
      "0     4\n",
      "1     8\n",
      "2    15\n",
      "3    16\n",
      "4    23\n",
      "5    42\n",
      "dtype: int64\n"
     ]
    }
   ],
   "source": [
    "ser = pd.Series(data)\n",
    "print(ser)"
   ]
  },
  {
   "cell_type": "code",
   "execution_count": 7,
   "id": "660be641-ac69-4ed9-b6b1-f952a73ef4f7",
   "metadata": {},
   "outputs": [],
   "source": [
    "# Q2. Create a variable of list type containing 10 elements in it, \n",
    "# and apply pandas.Series function on the\n",
    "# variable print it."
   ]
  },
  {
   "cell_type": "code",
   "execution_count": 8,
   "id": "77ccccf8-71bd-4330-951c-0b9c02014f99",
   "metadata": {},
   "outputs": [],
   "source": [
    "data2=np.array([\"a\",\"b\",\"c\",\"d\",\"e\",\"f\",\"g\",\"h\",\"i\",\"j\"])"
   ]
  },
  {
   "cell_type": "code",
   "execution_count": 10,
   "id": "75f12bcf-cf9e-45ec-901d-cc604d60e25e",
   "metadata": {},
   "outputs": [
    {
     "name": "stdout",
     "output_type": "stream",
     "text": [
      "0    a\n",
      "1    b\n",
      "2    c\n",
      "3    d\n",
      "4    e\n",
      "5    f\n",
      "6    g\n",
      "7    h\n",
      "8    i\n",
      "9    j\n",
      "dtype: object\n"
     ]
    }
   ],
   "source": [
    "ser2=pd.Series(data2)\n",
    "print(ser2)"
   ]
  },
  {
   "cell_type": "code",
   "execution_count": 11,
   "id": "adc916b0-bdca-4d08-a322-29baf8d20725",
   "metadata": {},
   "outputs": [],
   "source": [
    "# Q3. Create a Pandas DataFrame that contains the following data:"
   ]
  },
  {
   "cell_type": "code",
   "execution_count": 30,
   "id": "d326702b-ce41-4c73-89cf-78be0faa9c75",
   "metadata": {},
   "outputs": [
    {
     "name": "stdout",
     "output_type": "stream",
     "text": [
      "        Name  Age  Gender\n",
      "SNo1   Alice   25  female\n",
      "SNo2     Bob   30    male\n",
      "SNo3  Claire   27  female\n"
     ]
    }
   ],
   "source": [
    "import pandas as pd\n",
    "\n",
    "dict1 = {'Name': pd.Series(['Alice',\n",
    "              'Bob', 'Claire'],\n",
    "          index=['SNo1', 'SNo2', 'SNo3']),\n",
    "         'Age': pd.Series([25,30,27],\n",
    "                   index=['SNo1', 'SNo2', 'SNo3']),\n",
    "         'Gender': pd.Series(['female','male','female'],\n",
    "                index=['SNo1', 'SNo2', 'SNo3'])}\n",
    " \n",
    "# Creating Dataframe\n",
    "df = pd.DataFrame(dict1, index=['SNo1', 'SNo2', 'SNo3'])\n",
    "# Printing dataframe\n",
    "print(df)"
   ]
  },
  {
   "cell_type": "code",
   "execution_count": 31,
   "id": "4c204c33-6e70-4def-93af-8cd97bd840ab",
   "metadata": {},
   "outputs": [],
   "source": [
    "# Q4. What is ‘DataFrame’ in pandas and how is it different from pandas.series? \n",
    "# Explain with an example."
   ]
  },
  {
   "cell_type": "code",
   "execution_count": 32,
   "id": "5a5631ea-ee43-4e4e-af5c-cda1747769e2",
   "metadata": {},
   "outputs": [],
   "source": [
    "# Pandas DataFrame is two-dimensional size-mutable, potentially heterogeneous \n",
    "# tabular data structure with labeled axes (rows and columns). A Data frame is a \n",
    "# two-dimensional data structure, i.e., data is aligned in a tabular fashion in \n",
    "# rows and columns. Pandas\n",
    "# DataFrame consists of three principal components, the data, rows, and columns."
   ]
  },
  {
   "cell_type": "code",
   "execution_count": 35,
   "id": "02afa5ab-0842-4b0b-b1c6-66428838938a",
   "metadata": {},
   "outputs": [
    {
     "name": "stdout",
     "output_type": "stream",
     "text": [
      "      0\n",
      "0  mimi\n",
      "1  cyan\n",
      "2   tin\n"
     ]
    }
   ],
   "source": [
    "lst=['mimi','cyan','tin']\n",
    "df=pd.DataFrame(lst)\n",
    "print(df)"
   ]
  },
  {
   "cell_type": "code",
   "execution_count": 36,
   "id": "b4546ca5-b770-48d6-b367-90fcb089e90d",
   "metadata": {},
   "outputs": [],
   "source": [
    "# Q5. What are some common functions you can use to manipulate data in a Pandas \n",
    "# DataFrame? Can you give an example of when you might use one of these functions?"
   ]
  },
  {
   "cell_type": "code",
   "execution_count": 37,
   "id": "5374f236-118d-4204-9441-31deb8a1896a",
   "metadata": {},
   "outputs": [],
   "source": [
    "# Pandas is an open-source library that is used from data manipulation to \n",
    "# data analysis & is very powerful, flexible & easy to use tool which can be\n",
    "# imported using import pandas as pd. Pandas deal essentially with data in 1-D \n",
    "# and 2-D arrays; Although, pandas handles these two differently. In pandas, \n",
    "# 1-D arrays are stated as a series & \n",
    "# a dataframe is simply a 2-D array. "
   ]
  },
  {
   "cell_type": "code",
   "execution_count": 39,
   "id": "121f50fc-fcb6-4360-a88c-67c34b6cdefb",
   "metadata": {},
   "outputs": [
    {
     "name": "stdout",
     "output_type": "stream",
     "text": [
      "Type- <class 'pandas.core.frame.DataFrame'>\n"
     ]
    },
    {
     "data": {
      "text/html": [
       "<div>\n",
       "<style scoped>\n",
       "    .dataframe tbody tr th:only-of-type {\n",
       "        vertical-align: middle;\n",
       "    }\n",
       "\n",
       "    .dataframe tbody tr th {\n",
       "        vertical-align: top;\n",
       "    }\n",
       "\n",
       "    .dataframe thead th {\n",
       "        text-align: right;\n",
       "    }\n",
       "</style>\n",
       "<table border=\"1\" class=\"dataframe\">\n",
       "  <thead>\n",
       "    <tr style=\"text-align: right;\">\n",
       "      <th></th>\n",
       "      <th>name</th>\n",
       "      <th>email</th>\n",
       "      <th>phone no</th>\n",
       "    </tr>\n",
       "  </thead>\n",
       "  <tbody>\n",
       "    <tr>\n",
       "      <th>0</th>\n",
       "      <td>amy</td>\n",
       "      <td>amy@gmail.com</td>\n",
       "      <td>9879076534</td>\n",
       "    </tr>\n",
       "    <tr>\n",
       "      <th>1</th>\n",
       "      <td>reen</td>\n",
       "      <td>reen@gmail.com</td>\n",
       "      <td>9878345678</td>\n",
       "    </tr>\n",
       "  </tbody>\n",
       "</table>\n",
       "</div>"
      ],
      "text/plain": [
       "   name           email    phone no\n",
       "0   amy   amy@gmail.com  9879076534\n",
       "1  reen  reen@gmail.com  9878345678"
      ]
     },
     "execution_count": 39,
     "metadata": {},
     "output_type": "execute_result"
    }
   ],
   "source": [
    "import pandas as pd\n",
    " \n",
    "# assign dataset\n",
    "df = pd.read_csv(\"data.csv\")\n",
    " \n",
    "# display\n",
    "print(\"Type-\", type(df))\n",
    "df"
   ]
  },
  {
   "cell_type": "code",
   "execution_count": 45,
   "id": "04a20f2d-3cf8-4ba5-9539-7f59b38b1006",
   "metadata": {},
   "outputs": [],
   "source": [
    "# Summary of Statistics of DataFrame using describe() method."
   ]
  },
  {
   "cell_type": "code",
   "execution_count": 46,
   "id": "b8f31bd0-857f-44e4-9b25-fd5fe5e3e58b",
   "metadata": {},
   "outputs": [
    {
     "data": {
      "text/html": [
       "<div>\n",
       "<style scoped>\n",
       "    .dataframe tbody tr th:only-of-type {\n",
       "        vertical-align: middle;\n",
       "    }\n",
       "\n",
       "    .dataframe tbody tr th {\n",
       "        vertical-align: top;\n",
       "    }\n",
       "\n",
       "    .dataframe thead th {\n",
       "        text-align: right;\n",
       "    }\n",
       "</style>\n",
       "<table border=\"1\" class=\"dataframe\">\n",
       "  <thead>\n",
       "    <tr style=\"text-align: right;\">\n",
       "      <th></th>\n",
       "      <th>phone no</th>\n",
       "    </tr>\n",
       "  </thead>\n",
       "  <tbody>\n",
       "    <tr>\n",
       "      <th>count</th>\n",
       "      <td>2.000000e+00</td>\n",
       "    </tr>\n",
       "    <tr>\n",
       "      <th>mean</th>\n",
       "      <td>9.878711e+09</td>\n",
       "    </tr>\n",
       "    <tr>\n",
       "      <th>std</th>\n",
       "      <td>5.167932e+05</td>\n",
       "    </tr>\n",
       "    <tr>\n",
       "      <th>min</th>\n",
       "      <td>9.878346e+09</td>\n",
       "    </tr>\n",
       "    <tr>\n",
       "      <th>25%</th>\n",
       "      <td>9.878528e+09</td>\n",
       "    </tr>\n",
       "    <tr>\n",
       "      <th>50%</th>\n",
       "      <td>9.878711e+09</td>\n",
       "    </tr>\n",
       "    <tr>\n",
       "      <th>75%</th>\n",
       "      <td>9.878894e+09</td>\n",
       "    </tr>\n",
       "    <tr>\n",
       "      <th>max</th>\n",
       "      <td>9.879077e+09</td>\n",
       "    </tr>\n",
       "  </tbody>\n",
       "</table>\n",
       "</div>"
      ],
      "text/plain": [
       "           phone no\n",
       "count  2.000000e+00\n",
       "mean   9.878711e+09\n",
       "std    5.167932e+05\n",
       "min    9.878346e+09\n",
       "25%    9.878528e+09\n",
       "50%    9.878711e+09\n",
       "75%    9.878894e+09\n",
       "max    9.879077e+09"
      ]
     },
     "execution_count": 46,
     "metadata": {},
     "output_type": "execute_result"
    }
   ],
   "source": [
    "df.describe()"
   ]
  },
  {
   "cell_type": "code",
   "execution_count": 47,
   "id": "c492cc13-f775-43d5-b040-5e1dd88984d8",
   "metadata": {},
   "outputs": [],
   "source": [
    "# Creating a dataframe manually:\n"
   ]
  },
  {
   "cell_type": "code",
   "execution_count": 48,
   "id": "300502af-86d8-467c-a37f-a840b800a2b2",
   "metadata": {},
   "outputs": [
    {
     "data": {
      "text/html": [
       "<div>\n",
       "<style scoped>\n",
       "    .dataframe tbody tr th:only-of-type {\n",
       "        vertical-align: middle;\n",
       "    }\n",
       "\n",
       "    .dataframe tbody tr th {\n",
       "        vertical-align: top;\n",
       "    }\n",
       "\n",
       "    .dataframe thead th {\n",
       "        text-align: right;\n",
       "    }\n",
       "</style>\n",
       "<table border=\"1\" class=\"dataframe\">\n",
       "  <thead>\n",
       "    <tr style=\"text-align: right;\">\n",
       "      <th></th>\n",
       "      <th>Name</th>\n",
       "      <th>Score</th>\n",
       "    </tr>\n",
       "  </thead>\n",
       "  <tbody>\n",
       "    <tr>\n",
       "      <th>0</th>\n",
       "      <td>Rohan</td>\n",
       "      <td>76</td>\n",
       "    </tr>\n",
       "    <tr>\n",
       "      <th>1</th>\n",
       "      <td>Rahul</td>\n",
       "      <td>69</td>\n",
       "    </tr>\n",
       "    <tr>\n",
       "      <th>2</th>\n",
       "      <td>Gaurav</td>\n",
       "      <td>70</td>\n",
       "    </tr>\n",
       "    <tr>\n",
       "      <th>3</th>\n",
       "      <td>Ananya</td>\n",
       "      <td>88</td>\n",
       "    </tr>\n",
       "    <tr>\n",
       "      <th>4</th>\n",
       "      <td>Vinay</td>\n",
       "      <td>79</td>\n",
       "    </tr>\n",
       "    <tr>\n",
       "      <th>5</th>\n",
       "      <td>Rohan</td>\n",
       "      <td>64</td>\n",
       "    </tr>\n",
       "    <tr>\n",
       "      <th>6</th>\n",
       "      <td>Vivek</td>\n",
       "      <td>62</td>\n",
       "    </tr>\n",
       "    <tr>\n",
       "      <th>7</th>\n",
       "      <td>Vinay</td>\n",
       "      <td>57</td>\n",
       "    </tr>\n",
       "  </tbody>\n",
       "</table>\n",
       "</div>"
      ],
      "text/plain": [
       "     Name  Score\n",
       "0   Rohan     76\n",
       "1   Rahul     69\n",
       "2  Gaurav     70\n",
       "3  Ananya     88\n",
       "4   Vinay     79\n",
       "5   Rohan     64\n",
       "6   Vivek     62\n",
       "7   Vinay     57"
      ]
     },
     "execution_count": 48,
     "metadata": {},
     "output_type": "execute_result"
    }
   ],
   "source": [
    "student = pd.DataFrame({'Name': ['Rohan', 'Rahul', 'Gaurav',\n",
    "                                 'Ananya', 'Vinay', 'Rohan',\n",
    "                                 'Vivek', 'Vinay'],\n",
    "                         \n",
    "                        'Score': [76, 69, 70, 88, 79, 64, 62, 57]})\n",
    " \n",
    "# Reading Dataframe\n",
    "student"
   ]
  },
  {
   "cell_type": "code",
   "execution_count": 49,
   "id": "f8ac9894-6e75-4b1f-965a-12b0a68f52ab",
   "metadata": {},
   "outputs": [],
   "source": [
    "# Sorting the DataFrame using sort_values() method."
   ]
  },
  {
   "cell_type": "code",
   "execution_count": 50,
   "id": "a58ee388-f0a1-40c7-bb39-bd0159f151ae",
   "metadata": {},
   "outputs": [
    {
     "data": {
      "text/html": [
       "<div>\n",
       "<style scoped>\n",
       "    .dataframe tbody tr th:only-of-type {\n",
       "        vertical-align: middle;\n",
       "    }\n",
       "\n",
       "    .dataframe tbody tr th {\n",
       "        vertical-align: top;\n",
       "    }\n",
       "\n",
       "    .dataframe thead th {\n",
       "        text-align: right;\n",
       "    }\n",
       "</style>\n",
       "<table border=\"1\" class=\"dataframe\">\n",
       "  <thead>\n",
       "    <tr style=\"text-align: right;\">\n",
       "      <th></th>\n",
       "      <th>Name</th>\n",
       "      <th>Score</th>\n",
       "    </tr>\n",
       "  </thead>\n",
       "  <tbody>\n",
       "    <tr>\n",
       "      <th>7</th>\n",
       "      <td>Vinay</td>\n",
       "      <td>57</td>\n",
       "    </tr>\n",
       "    <tr>\n",
       "      <th>6</th>\n",
       "      <td>Vivek</td>\n",
       "      <td>62</td>\n",
       "    </tr>\n",
       "    <tr>\n",
       "      <th>5</th>\n",
       "      <td>Rohan</td>\n",
       "      <td>64</td>\n",
       "    </tr>\n",
       "    <tr>\n",
       "      <th>1</th>\n",
       "      <td>Rahul</td>\n",
       "      <td>69</td>\n",
       "    </tr>\n",
       "    <tr>\n",
       "      <th>2</th>\n",
       "      <td>Gaurav</td>\n",
       "      <td>70</td>\n",
       "    </tr>\n",
       "    <tr>\n",
       "      <th>0</th>\n",
       "      <td>Rohan</td>\n",
       "      <td>76</td>\n",
       "    </tr>\n",
       "    <tr>\n",
       "      <th>4</th>\n",
       "      <td>Vinay</td>\n",
       "      <td>79</td>\n",
       "    </tr>\n",
       "    <tr>\n",
       "      <th>3</th>\n",
       "      <td>Ananya</td>\n",
       "      <td>88</td>\n",
       "    </tr>\n",
       "  </tbody>\n",
       "</table>\n",
       "</div>"
      ],
      "text/plain": [
       "     Name  Score\n",
       "7   Vinay     57\n",
       "6   Vivek     62\n",
       "5   Rohan     64\n",
       "1   Rahul     69\n",
       "2  Gaurav     70\n",
       "0   Rohan     76\n",
       "4   Vinay     79\n",
       "3  Ananya     88"
      ]
     },
     "execution_count": 50,
     "metadata": {},
     "output_type": "execute_result"
    }
   ],
   "source": [
    "student.sort_values(by=['Score'], ascending=True)"
   ]
  },
  {
   "cell_type": "code",
   "execution_count": 52,
   "id": "9961b9e3-15c9-44fa-8716-86ada69b540c",
   "metadata": {},
   "outputs": [],
   "source": [
    "# Creating another column in DataFrame, Here we will create column name percentage which will calculate the percentage of student score by using aggregate function sum()."
   ]
  },
  {
   "cell_type": "code",
   "execution_count": 53,
   "id": "7989a637-b425-4c8a-b70d-6de37cd11771",
   "metadata": {},
   "outputs": [
    {
     "data": {
      "text/html": [
       "<div>\n",
       "<style scoped>\n",
       "    .dataframe tbody tr th:only-of-type {\n",
       "        vertical-align: middle;\n",
       "    }\n",
       "\n",
       "    .dataframe tbody tr th {\n",
       "        vertical-align: top;\n",
       "    }\n",
       "\n",
       "    .dataframe thead th {\n",
       "        text-align: right;\n",
       "    }\n",
       "</style>\n",
       "<table border=\"1\" class=\"dataframe\">\n",
       "  <thead>\n",
       "    <tr style=\"text-align: right;\">\n",
       "      <th></th>\n",
       "      <th>Name</th>\n",
       "      <th>Score</th>\n",
       "      <th>Percentage</th>\n",
       "    </tr>\n",
       "  </thead>\n",
       "  <tbody>\n",
       "    <tr>\n",
       "      <th>0</th>\n",
       "      <td>Rohan</td>\n",
       "      <td>76</td>\n",
       "      <td>13.451327</td>\n",
       "    </tr>\n",
       "    <tr>\n",
       "      <th>1</th>\n",
       "      <td>Rahul</td>\n",
       "      <td>69</td>\n",
       "      <td>12.212389</td>\n",
       "    </tr>\n",
       "    <tr>\n",
       "      <th>2</th>\n",
       "      <td>Gaurav</td>\n",
       "      <td>70</td>\n",
       "      <td>12.389381</td>\n",
       "    </tr>\n",
       "    <tr>\n",
       "      <th>3</th>\n",
       "      <td>Ananya</td>\n",
       "      <td>88</td>\n",
       "      <td>15.575221</td>\n",
       "    </tr>\n",
       "    <tr>\n",
       "      <th>4</th>\n",
       "      <td>Vinay</td>\n",
       "      <td>79</td>\n",
       "      <td>13.982301</td>\n",
       "    </tr>\n",
       "    <tr>\n",
       "      <th>5</th>\n",
       "      <td>Rohan</td>\n",
       "      <td>64</td>\n",
       "      <td>11.327434</td>\n",
       "    </tr>\n",
       "    <tr>\n",
       "      <th>6</th>\n",
       "      <td>Vivek</td>\n",
       "      <td>62</td>\n",
       "      <td>10.973451</td>\n",
       "    </tr>\n",
       "    <tr>\n",
       "      <th>7</th>\n",
       "      <td>Vinay</td>\n",
       "      <td>57</td>\n",
       "      <td>10.088496</td>\n",
       "    </tr>\n",
       "  </tbody>\n",
       "</table>\n",
       "</div>"
      ],
      "text/plain": [
       "     Name  Score  Percentage\n",
       "0   Rohan     76   13.451327\n",
       "1   Rahul     69   12.212389\n",
       "2  Gaurav     70   12.389381\n",
       "3  Ananya     88   15.575221\n",
       "4   Vinay     79   13.982301\n",
       "5   Rohan     64   11.327434\n",
       "6   Vivek     62   10.973451\n",
       "7   Vinay     57   10.088496"
      ]
     },
     "execution_count": 53,
     "metadata": {},
     "output_type": "execute_result"
    }
   ],
   "source": [
    "student['Percentage'] = (student['Score'] / student['Score'].sum()) * 100\n",
    "student"
   ]
  },
  {
   "cell_type": "code",
   "execution_count": 54,
   "id": "4715b4ac-897a-44ce-9f76-e9f3a65a362c",
   "metadata": {},
   "outputs": [],
   "source": [
    "# Q6. Which of the following is mutable in nature Series, DataFrame, Panel?"
   ]
  },
  {
   "cell_type": "code",
   "execution_count": 55,
   "id": "91360641-c617-4a9b-b9ef-038bc579bf0c",
   "metadata": {},
   "outputs": [],
   "source": [
    "#ans: dataframe is mutable in nature"
   ]
  },
  {
   "cell_type": "code",
   "execution_count": 56,
   "id": "585b94d9-d8df-441c-b846-4aa4cccab87b",
   "metadata": {},
   "outputs": [],
   "source": [
    "# Q7. Create a DataFrame using multiple Series. Explain with an example."
   ]
  },
  {
   "cell_type": "code",
   "execution_count": null,
   "id": "2b4c9e95-170f-4aeb-abb5-5a63159984ab",
   "metadata": {},
   "outputs": [],
   "source": [
    "student = pd.DataFrame({'Name': ['Rohan', 'Rahul', 'Gaurav',\n",
    "                                 'Ananya', 'Vinay', 'Rohan',\n",
    "                                 'Vivek', 'Vinay'],\n",
    "                         \n",
    "                        'Score': [76, 69, 70, 88, 79, 64, 62, 57],\n",
    "                       'Age':[20]\n",
    "                       })\n",
    " \n",
    "# Reading Dataframe\n",
    "student"
   ]
  }
 ],
 "metadata": {
  "kernelspec": {
   "display_name": "Python 3 (ipykernel)",
   "language": "python",
   "name": "python3"
  },
  "language_info": {
   "codemirror_mode": {
    "name": "ipython",
    "version": 3
   },
   "file_extension": ".py",
   "mimetype": "text/x-python",
   "name": "python",
   "nbconvert_exporter": "python",
   "pygments_lexer": "ipython3",
   "version": "3.10.8"
  }
 },
 "nbformat": 4,
 "nbformat_minor": 5
}
