{
 "cells": [
  {
   "cell_type": "markdown",
   "id": "fde4ffa7-667a-4113-ae7c-7c291c0dc3e5",
   "metadata": {},
   "source": [
    "**Statistics Basic-2**\n",
    "\n"
   ]
  },
  {
   "cell_type": "markdown",
   "id": "17bdea29-711a-4a39-8f81-d6eb2630cfda",
   "metadata": {},
   "source": [
    "Q1. What are the three measures of central tendency?"
   ]
  },
  {
   "cell_type": "markdown",
   "id": "1407e960-d758-4fdf-8820-da1e6e2042b2",
   "metadata": {},
   "source": [
    "Ans1: The three measures of central tendency are:\n",
    "    \n",
    "    1.Mean\n",
    "    2.Median\n",
    "    3.Mode\n",
    "    \n"
   ]
  },
  {
   "cell_type": "markdown",
   "id": "f015e984-fc21-4171-b9f5-0718f8117c31",
   "metadata": {},
   "source": [
    "**Mean**"
   ]
  },
  {
   "cell_type": "markdown",
   "id": "026429de-c6e9-4218-be8a-00eed112b38e",
   "metadata": {},
   "source": [
    "mean in other terms is known as Arithmatic mean, it is define as the sum of observations \n",
    "divided by the number of observations"
   ]
  },
  {
   "cell_type": "markdown",
   "id": "0b4d5df6-dd37-4f97-8d75-1241f0baa4cf",
   "metadata": {},
   "source": [
    "**Example:** If there are 5 observations, which are 2,3,45,5 and 45 then the mean (X̄) is given by"
   ]
  },
  {
   "cell_type": "code",
   "execution_count": 3,
   "id": "9d18a3fa-ec6b-4b3c-8a67-423563b6c2f1",
   "metadata": {},
   "outputs": [
    {
     "name": "stdout",
     "output_type": "stream",
     "text": [
      "mean: 20.0\n"
     ]
    }
   ],
   "source": [
    "X̄= (2+3+45+5+45)/5\n",
    "print(\"mean:\",X̄)"
   ]
  },
  {
   "cell_type": "markdown",
   "id": "30920272-9bf7-48c6-b294-37c8dc33f5bf",
   "metadata": {},
   "source": [
    "**Median:**\n",
    "\n",
    "The Median of any distribution is that value that divides the distribution into \n",
    "two equal parts such that the number of observations above it is equal to the number \n",
    "of observations below it. Thus, the median is called the central value of any given\n",
    "data either grouped or ungrouped.\n",
    "\n",
    "To calculate the Median, the observations must be arranged in ascending or \n",
    "descending order.\n",
    "\n",
    "If the total number of observations is N then there are two cases:\n",
    "\n",
    "*Case 1: N is Odd*\n",
    "\n",
    "Median = Value of observation at [(n + 1) ÷ 2]th Position\n",
    "\n",
    "*Case 2: N is Even*\n",
    "\n",
    "Median = Arithmetic mean of Values of observations at (n ÷ 2)th and [(n ÷ 2) + 1]th \n",
    "Position"
   ]
  },
  {
   "cell_type": "code",
   "execution_count": 4,
   "id": "740cd673-cede-4dc3-9a9a-e5f934d306c9",
   "metadata": {},
   "outputs": [],
   "source": [
    "n=[1,2,3,4,5,]\n",
    "median=(5+1)/2"
   ]
  },
  {
   "cell_type": "code",
   "execution_count": 5,
   "id": "19c774f3-2927-4a39-aded-daaba0e386a8",
   "metadata": {},
   "outputs": [
    {
     "data": {
      "text/plain": [
       "3.0"
      ]
     },
     "execution_count": 5,
     "metadata": {},
     "output_type": "execute_result"
    }
   ],
   "source": [
    "median"
   ]
  },
  {
   "cell_type": "markdown",
   "id": "2a11ceb3-e76a-43e8-9a32-e057e06b6a14",
   "metadata": {},
   "source": [
    "3rd position= \"3\""
   ]
  },
  {
   "cell_type": "code",
   "execution_count": 8,
   "id": "6aaf6f77-0b5f-4d34-a841-efe64a194f67",
   "metadata": {},
   "outputs": [],
   "source": [
    "n=[1,2,3,4,5,5]\n",
    "median=(3+4)/2"
   ]
  },
  {
   "cell_type": "code",
   "execution_count": 9,
   "id": "51b5c515-44ce-4ffc-b714-beef404b032d",
   "metadata": {},
   "outputs": [
    {
     "data": {
      "text/plain": [
       "3.5"
      ]
     },
     "execution_count": 9,
     "metadata": {},
     "output_type": "execute_result"
    }
   ],
   "source": [
    "median\n"
   ]
  },
  {
   "cell_type": "markdown",
   "id": "8fc9282b-a19b-4177-a934-032abdf4cc25",
   "metadata": {},
   "source": [
    "**Mode**\n",
    "\n",
    "The Mode is the value of that observation which has a maximum frequency corresponding\n",
    "to it. In other, that observation of the data occurs the maximum number of times \n",
    "in a dataset."
   ]
  },
  {
   "cell_type": "markdown",
   "id": "0324ec23-de17-4b0c-8749-4082186ac7ea",
   "metadata": {},
   "source": [
    "n=[1,2,3,4,3,4,3,4,3]\n",
    "\n",
    "mode= 3"
   ]
  },
  {
   "cell_type": "markdown",
   "id": "4a58fa58-95a2-43c7-abf3-f74306bb1b78",
   "metadata": {},
   "source": [
    "Q2. What is the difference between the mean, median, and mode?\n",
    "How are they used to measure the central tendency of a dataset?"
   ]
  },
  {
   "cell_type": "markdown",
   "id": "0e6957f8-5e2f-4b0e-a786-485d3634b8dd",
   "metadata": {},
   "source": [
    "Ans2: Here are the differences:\n",
    "\n",
    "*Mean:*\t\n",
    "\n",
    "The average taken of given observations is called Mean. \t\n",
    "\n",
    "*Median:*\n",
    "\n",
    "The middle number in a given set of observations is called Median.\t\n",
    "\n",
    "*Mode:*\n",
    "\n",
    "The most frequently occurred number in a given set of observations is called mode.\n",
    "\n",
    "Central tendency refers to identifying the central position of the given data set. Central tendency is measured using Mean, Median, and Mode.\n",
    "\n",
    "\n"
   ]
  },
  {
   "cell_type": "markdown",
   "id": "d2a3c504-9d49-408c-9ec2-1dbb7b82c1fb",
   "metadata": {},
   "source": [
    "Q3. Measure the three measures of central tendency for the given height data:\n"
   ]
  },
  {
   "cell_type": "code",
   "execution_count": 22,
   "id": "8c0cc8d6-222d-4d9b-b448-bf61df62f05a",
   "metadata": {},
   "outputs": [],
   "source": [
    "n=[178,177,176,177,178.2,178,175,179,180,175,178.9,176.2,177,172.5,178,176.5]\n"
   ]
  },
  {
   "cell_type": "code",
   "execution_count": 31,
   "id": "874523fb-289c-471b-b2a8-316bddb27e42",
   "metadata": {},
   "outputs": [],
   "source": [
    "total=0\n",
    "for i in range(0,len(n)):\n",
    "    total=total+n[i]\n",
    "    \n",
    "    \n"
   ]
  },
  {
   "cell_type": "code",
   "execution_count": 36,
   "id": "133a5d07-ba30-4dfb-bb99-49d16b50f282",
   "metadata": {},
   "outputs": [
    {
     "name": "stdout",
     "output_type": "stream",
     "text": [
      "mean: 177.01875\n"
     ]
    }
   ],
   "source": [
    "mean=total/16\n",
    "print(\"mean:\",mean)"
   ]
  },
  {
   "cell_type": "code",
   "execution_count": 37,
   "id": "724ba612-2ff5-47a6-9d45-217f2faf1049",
   "metadata": {},
   "outputs": [
    {
     "name": "stdout",
     "output_type": "stream",
     "text": [
      "median 179.5\n"
     ]
    }
   ],
   "source": [
    "median=(179+180)/2\n",
    "print(\"median\",median)"
   ]
  },
  {
   "cell_type": "code",
   "execution_count": 38,
   "id": "d1f10b36-a80c-46d9-8a40-b2a1f4b2137b",
   "metadata": {},
   "outputs": [],
   "source": [
    "mode= 177"
   ]
  },
  {
   "cell_type": "markdown",
   "id": "d110a102-f7bf-4823-8ea7-03f47ec17a58",
   "metadata": {},
   "source": [
    "Q4. Find the standard deviation for the given data:\n"
   ]
  },
  {
   "cell_type": "code",
   "execution_count": 40,
   "id": "89ce5a6a-ef86-488c-94e6-b24f6d38ee85",
   "metadata": {},
   "outputs": [],
   "source": [
    "import numpy as np\n",
    "n=[178,177,176,177,178.2,178,175,179,180,175,178.9,176.2,177,172.5,178,176.5]\n",
    "std1=np.std(n)"
   ]
  },
  {
   "cell_type": "code",
   "execution_count": 41,
   "id": "786c8a7f-d9fc-4084-b99f-5faf05d7eb32",
   "metadata": {},
   "outputs": [
    {
     "data": {
      "text/plain": [
       "1.7885814036548633"
      ]
     },
     "execution_count": 41,
     "metadata": {},
     "output_type": "execute_result"
    }
   ],
   "source": [
    "std1\n"
   ]
  },
  {
   "cell_type": "code",
   "execution_count": 42,
   "id": "cf42e2b5-ce8e-41d8-a95d-6f7691f15240",
   "metadata": {},
   "outputs": [
    {
     "data": {
      "text/plain": [
       "177.01875"
      ]
     },
     "execution_count": 42,
     "metadata": {},
     "output_type": "execute_result"
    }
   ],
   "source": [
    "np.mean(n)"
   ]
  },
  {
   "cell_type": "code",
   "execution_count": 43,
   "id": "4771fd01-38a1-4d29-a814-6d02b6b4c009",
   "metadata": {},
   "outputs": [
    {
     "data": {
      "text/plain": [
       "177.0"
      ]
     },
     "execution_count": 43,
     "metadata": {},
     "output_type": "execute_result"
    }
   ],
   "source": [
    "np.median(n)"
   ]
  },
  {
   "cell_type": "markdown",
   "id": "7313e766-1525-4002-94b6-8b2598804916",
   "metadata": {},
   "source": [
    "Q5. How are measures of dispersion such as range, variance, and standard deviation used \n",
    "to describe the spread of a dataset? Provide an example."
   ]
  },
  {
   "cell_type": "markdown",
   "id": "9910ab83-ca93-4651-bf7f-7e6ad1a71c18",
   "metadata": {},
   "source": [
    "Measures of dispersion are used to measure the spread or variability of a dataset. \n",
    "The most commonly used measures of dispersion are:\n",
    "\n",
    "1. **Range**: the difference between the largest and smallest data points in a set.\n",
    "2. **Standard deviation**: a measure of how spread out the data is from its mean. It is the square root of the variance.\n",
    "3. **Variance**: the average of squared distances from the mean.\n",
    "\n",
    "\n",
    "These measures help to get an understanding of the distribution of data.\n",
    "\n",
    "The range tells us that our data spans over a range of nine units\n",
    "The variance and standard deviation tell us how much our data deviates from its mean value \n",
    "A higher variance or standard deviation indicates that our data is more spread out and \n",
    "less consistent.\n"
   ]
  },
  {
   "cell_type": "markdown",
   "id": "ad310fe9-c998-4076-bde9-a478716c0284",
   "metadata": {},
   "source": [
    "Q6. What is a Venn diagram?"
   ]
  },
  {
   "cell_type": "markdown",
   "id": "a9acdf21-c10a-44a7-b475-95185389bf42",
   "metadata": {},
   "source": [
    "Ans6: A Venn diagram is a diagram that shows all possible logical relations between a \n",
    "finite collection of different sets. It is used to represent the groups of data in \n",
    "circles, if the circles are overlapping, some elements in the groups are common,\n",
    "if they are not overlapping, there is nothing common between the groups or sets of data.\n",
    "The sets are represented as circles and the circles are shown inside the rectangle which \n",
    "is representing the Universal set. A universal set contains all the circles \n",
    "since it has all the elements present involving all the sets."
   ]
  },
  {
   "cell_type": "markdown",
   "id": "8e7bde11-ce54-4d8b-877e-aeec1e556890",
   "metadata": {},
   "source": [
    "\n",
    "Q7. For the two given sets A = (2,3,4,5,6,7) & B = (0,2,6,8,10). Find:\n",
    "\n",
    "(i) A ∩ B\n",
    "\n",
    "(ii) A ⋃ B"
   ]
  },
  {
   "cell_type": "markdown",
   "id": "dbaabb22-6a2e-4d8e-b6e5-bfa752c0ca8a",
   "metadata": {},
   "source": [
    "Ans7: \n",
    "    \n",
    "(i) A ∩ B = (2,6)\n",
    "\n",
    "(ii) A ⋃ B = (0,2,3,4,5,6,7,8,10)\n"
   ]
  },
  {
   "cell_type": "markdown",
   "id": "0f2c11ff-9a06-4476-a9df-db12aaf8844d",
   "metadata": {},
   "source": [
    "Q8. What do you understand about skewness in data?"
   ]
  },
  {
   "cell_type": "markdown",
   "id": "55329a5d-071d-4331-911c-28ccf6e56b0a",
   "metadata": {},
   "source": [
    "Ans8: Skewness is a measure of the asymmetry of a distribution. \n",
    "A distribution is asymmetrical when its left and right side are not mirror images.\n",
    "A distribution can have right (or positive), left (or negative), or zero skewness. \\\n",
    "A right-skewed distribution is longer on the right side of its peak, and \n",
    "a left-skewed distribution is longer on the left side of its peak"
   ]
  },
  {
   "cell_type": "markdown",
   "id": "54bc9f4b-e0c2-4645-855d-b9aa1b4bb594",
   "metadata": {},
   "source": [
    "Q9. If a data is right skewed then what will be the position of median with respect to mean?"
   ]
  },
  {
   "cell_type": "markdown",
   "id": "8779e621-81b5-4fcc-9277-8cae2caef36b",
   "metadata": {},
   "source": [
    "Ans9:  the relation between the mean, median, and mode of a right-skewed histogram \n",
    "is given as Mean > Median > Mode\n",
    "\n",
    "in this the median will be to the left of the mean"
   ]
  },
  {
   "cell_type": "markdown",
   "id": "30d0805f-1189-4baa-bd70-3e7bd9a43b5f",
   "metadata": {},
   "source": [
    "Q10. Explain the difference between covariance and correlation. \n",
    "How are these measures used in statistical analysis?"
   ]
  },
  {
   "cell_type": "markdown",
   "id": "e822ff2a-829e-4161-bdf2-9d6de9b2af6a",
   "metadata": {},
   "source": [
    "Ans10: \n",
    "    \n",
    "**Covariance =>**\n",
    "\n",
    "It is the relationship between a pair of random variables where change in one variable causes change in another variable.\n",
    "It can take any value between -infinity to +infinity, where the negative value represents the negative relationship whereas a positive value represents the positive relationship.\n",
    "It is used for the linear relationship between variables.\n",
    "It gives the direction of relationship between variables.\n",
    "\n",
    "**Correlation =>**\n",
    "\n",
    "It show whether and how strongly pairs of variables are related to each other.\n",
    "Correlation takes values between -1 to +1, wherein values close to +1 represents strong positive correlation and values close to -1 represents strong negative correlation.\n",
    "In this variable are indirectly related to each other.\n",
    "It gives the direction and strength of relationship between variables.\n",
    "\n",
    "in statistical analysis it is used to measure the relationship between two random variables"
   ]
  },
  {
   "cell_type": "markdown",
   "id": "2ec52266-87e6-4b03-b6dd-41654622635b",
   "metadata": {},
   "source": [
    "Q11. What is the formula for calculating the sample mean? Provide an example calculation for a\n",
    "dataset."
   ]
  },
  {
   "cell_type": "markdown",
   "id": "bf7e41af-6e96-457b-8d9c-a30887f9aec6",
   "metadata": {},
   "source": [
    "\n",
    "Ans11: \n",
    "\n",
    "**Sample Mean Formula**\n",
    "\n",
    "The sample mean for a data set is defined as the sum of all the terms divided \n",
    "by the total number of terms. It is denoted by the symbol x̄.\n",
    "\n",
    "x̄ = Σxi / n"
   ]
  },
  {
   "cell_type": "code",
   "execution_count": 2,
   "id": "46d1406a-5653-41b0-90b1-2c21933ee83d",
   "metadata": {},
   "outputs": [],
   "source": [
    "data= [12,24,23,20,7]\n",
    "sumofdata=12+24+23+20+7\n",
    "n=5\n",
    "\n",
    "sample_mean=sumofdata/n"
   ]
  },
  {
   "cell_type": "code",
   "execution_count": 3,
   "id": "e6b2c794-b7f9-4c07-9d5d-f2ce0b206992",
   "metadata": {},
   "outputs": [
    {
     "data": {
      "text/plain": [
       "17.2"
      ]
     },
     "execution_count": 3,
     "metadata": {},
     "output_type": "execute_result"
    }
   ],
   "source": [
    "sample_mean\n"
   ]
  },
  {
   "cell_type": "markdown",
   "id": "d8fcc2e7-647e-4bf3-8844-54b1384cf5ac",
   "metadata": {},
   "source": [
    "Q12. For a normal distribution data what is the relationship between its measure of central tendency?"
   ]
  },
  {
   "cell_type": "markdown",
   "id": "6715cdba-5cd9-42c2-8df4-0cc06d0a53f2",
   "metadata": {},
   "source": [
    "Ans12: \n",
    "    \n",
    "Any normal distribution has a graph that is perfectly symmetric about a vertical line through its peak. Therefore, all measures of central tendency (most commonly, the mean, median, and mode) give the same answer: the \n",
    "x\n",
    "-value of the peak."
   ]
  },
  {
   "cell_type": "markdown",
   "id": "43f2dc6a-b2ad-45dc-af17-128494218cd9",
   "metadata": {},
   "source": [
    "Q13. How is covariance different from correlation?"
   ]
  },
  {
   "cell_type": "markdown",
   "id": "ebbec210-0eac-46ef-9410-fa6e71407826",
   "metadata": {},
   "source": [
    "Ans13:\n",
    "    \n",
    "Covariance and correlation are two statistical concepts that are used to measure the relationship between two variables. Covariance measures how much two variables change together, \n",
    "while correlation measures the strength and direction of the linear relationship between two variables "
   ]
  },
  {
   "cell_type": "markdown",
   "id": "25c9927b-12f5-4bee-b873-97ee3e806990",
   "metadata": {},
   "source": [
    "Q14. How do outliers affect measures of central tendency and dispersion? Provide an example."
   ]
  },
  {
   "cell_type": "code",
   "execution_count": null,
   "id": "ceea8d59-9859-470c-94d8-0c97033850da",
   "metadata": {},
   "outputs": [],
   "source": [
    "Ans14: \n",
    "    \n",
    "Outliers are data points that are significantly different from the rest of the data. They can affect measures of central tendency and dispersion in the following ways ¹:\n",
    "\n",
    "1. They inflate the mean value.\n",
    "2. The mode may become useless as a measure of central tendency.\n",
    "3. Outliers have little effect on the median.\n",
    "4. Outliers have little effect on the mode.\n",
    "5. Outliers have little effect on the range.\n",
    "6. Outliers have little effect on the interquartile range.\n",
    "\n",
    "For example, consider a dataset of 10 test scores: 50, 60, 70, 80, 90, 100, 110, 120, 130, and 140. The mean score is (50+60+70+80+90+100+110+120+130+140)/10 = **95**. However, if we add an outlier score of 1000 to this dataset, the mean score becomes (50+60+70+80+90+100+110+120+130+140+1000)/11 = **213.6**. This shows how an outlier can significantly affect the mean value.\n",
    "\n",
    "On the other hand, if we consider the median score for both datasets, it remains unchanged at **95** because it is not affected by outliers.\n",
    "\n",
    "I hope this helps!\n",
    "\n",
    "Source: Conversation with Bing, 1/9/2023\n",
    "(1) Sis Sigma Statistics Flashcards | Quizlet. https://quizlet.com/719395176/sis-sigma-statistics-flash-cards/.\n",
    "(2) . https://bing.com/search?q=outliers+affect+measures+of+central+tendency+and+dispersion+example.\n",
    "(3) How are measures of central tendency affected by outliers?. https://socratic.org/questions/how-are-measures-of-central-tendency-affected-by-outliers.\n",
    "(4) Measures of central tendency | Australian Bureau of Statistics. https://www.abs.gov.au/statistics/understanding-statistics/statistical-terms-and-concepts/measures-central-tendency.\n",
    "(5) Mean, Median, and Mode: Measures of Central Tendency. https://statisticsbyjim.com/basics/measures-central-tendency-mean-median-mode/.\n",
    "(6) Measures of Central Tendency: Definition & Examples - Statology. https://www.statology.org/measures-central-tendency/.\n",
    "(7) undefined. https://www.statisticshowto.com/central-tendency/.\n",
    "(8) undefined. https://callysto.github.io/curriculum-jbook/curriculum-notebooks/Mathematics/CentralTendencyAndOutlier/outliers-and-central-tendency.html.\n",
    "(9) undefined. https://online.stat.psu.edu/stat200/lesson/2/2.2/2.2.4/2.2.4.1."
   ]
  }
 ],
 "metadata": {
  "kernelspec": {
   "display_name": "Python 3 (ipykernel)",
   "language": "python",
   "name": "python3"
  },
  "language_info": {
   "codemirror_mode": {
    "name": "ipython",
    "version": 3
   },
   "file_extension": ".py",
   "mimetype": "text/x-python",
   "name": "python",
   "nbconvert_exporter": "python",
   "pygments_lexer": "ipython3",
   "version": "3.10.8"
  }
 },
 "nbformat": 4,
 "nbformat_minor": 5
}
