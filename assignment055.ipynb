{
 "cells": [
  {
   "cell_type": "code",
   "execution_count": 1,
   "id": "f68eaa3e-c5d6-4214-bdd2-2cd37e786b35",
   "metadata": {},
   "outputs": [],
   "source": [
    "# 1. Write a program to accept percentage from the user and display \n",
    "# the grade according to the following criteria: \n",
    "# Marks \n",
    "# Grade \n",
    "# >90     \n",
    "# A \n",
    "# >80 and <=90 \n",
    "# B \n",
    "# >=60 and <=80 \n",
    "# C \n",
    "# below 60 \n",
    "# D"
   ]
  },
  {
   "cell_type": "code",
   "execution_count": 4,
   "id": "1866ffdf-fe9e-4585-b21b-3e4459f9a3f5",
   "metadata": {},
   "outputs": [
    {
     "name": "stdin",
     "output_type": "stream",
     "text": [
      "Enter your marks please: 89\n"
     ]
    },
    {
     "name": "stdout",
     "output_type": "stream",
     "text": [
      "your Grade is B!\n"
     ]
    }
   ],
   "source": [
    "marks= int(input(\"Enter your marks please:\"))\n",
    "\n",
    "if marks > 90:\n",
    "    print(\"your Grade is A!\")\n",
    "elif marks >80 and marks <=90:\n",
    "    print(\"your Grade is B!\")\n",
    "elif marks>=60 and marks<=80:\n",
    "    print(\"your Grade is C!\")\n",
    "elif marks>60:\n",
    "    print(\"your Grade is D!\")\n",
    "    "
   ]
  },
  {
   "cell_type": "code",
   "execution_count": 1,
   "id": "111284bb-598e-4642-a2ed-3f94dcbd736f",
   "metadata": {},
   "outputs": [],
   "source": [
    "# 2. Write a program to accept the cost price of a bike and \n",
    "# display the road tax to be paid according to the \n",
    "# following criteria:"
   ]
  },
  {
   "cell_type": "code",
   "execution_count": 3,
   "id": "bd648e2e-6b07-40fa-bd9e-b12b6461020f",
   "metadata": {},
   "outputs": [
    {
     "name": "stdin",
     "output_type": "stream",
     "text": [
      "Enter the cost price:  60000\n"
     ]
    },
    {
     "name": "stdout",
     "output_type": "stream",
     "text": [
      "6000.0 is the road tax\n"
     ]
    }
   ],
   "source": [
    "cp=int(input(\"Enter the cost price: \"))\n",
    "if cp>100000:\n",
    "    tax=0.15\n",
    "elif cp>50000 and cp<= 100000:\n",
    "    tax=0.10\n",
    "elif cp<= 50000:\n",
    "    tax=0.5\n",
    "road_tax=cp*tax\n",
    "print(road_tax,\"is the road tax\")\n"
   ]
  },
  {
   "cell_type": "code",
   "execution_count": 4,
   "id": "4ddd0cfd-1344-42e5-9c9b-eee155e4d1c4",
   "metadata": {},
   "outputs": [],
   "source": [
    "# 3. Accept any city from the user and display monuments of that city"
   ]
  },
  {
   "cell_type": "code",
   "execution_count": 2,
   "id": "c4a0b8d1-de8d-436a-9d8a-5a718dee0989",
   "metadata": {},
   "outputs": [
    {
     "name": "stdin",
     "output_type": "stream",
     "text": [
      "Enter the city:  Delhi\n"
     ]
    },
    {
     "name": "stdout",
     "output_type": "stream",
     "text": [
      "monument of delhi is Red Fort\n"
     ]
    }
   ],
   "source": [
    "city=str(input(\"Enter the city: \"))\n",
    "if city==\"Delhi\":\n",
    "    print(\"monument of delhi is Red Fort\")\n",
    "elif city==\"Agra\":\n",
    "    print(\"monument of Agra is Taj Mahal\")\n",
    "elif city==\"Jaipur\":\n",
    "    print(\"monument\")"
   ]
  },
  {
   "cell_type": "code",
   "execution_count": 3,
   "id": "fc408e8f-c9f0-4f10-9224-0641ac1a7ea9",
   "metadata": {},
   "outputs": [],
   "source": [
    "# 4. Check how many times a given number can be divided by 3 \n",
    "# before it is less than or equal to 10. "
   ]
  },
  {
   "cell_type": "code",
   "execution_count": 9,
   "id": "4eaee459-810d-4cbd-b49f-d3fd6c2489c5",
   "metadata": {},
   "outputs": [
    {
     "name": "stdin",
     "output_type": "stream",
     "text": [
      "enter the num: 12\n"
     ]
    },
    {
     "name": "stdout",
     "output_type": "stream",
     "text": [
      "4.0\n"
     ]
    }
   ],
   "source": [
    "num=int(input(\"enter the num:\"))\n",
    "if num>=10:\n",
    "    print(num/3)\n",
    "\n",
    "    "
   ]
  },
  {
   "cell_type": "code",
   "execution_count": 10,
   "id": "4093cfd8-0022-4d8d-bfd9-7dbd6cacded1",
   "metadata": {},
   "outputs": [],
   "source": [
    "# 5. Why and When to Use while Loop in Python give a detailed description \n",
    "# with example \n"
   ]
  },
  {
   "cell_type": "code",
   "execution_count": 11,
   "id": "f2907c73-be10-4d4c-a0bb-fe523406dfda",
   "metadata": {},
   "outputs": [],
   "source": [
    "# Ans: while loop is used when we dont know the range of the program"
   ]
  },
  {
   "cell_type": "code",
   "execution_count": 15,
   "id": "e77f9952-344c-4005-8164-d8f982b5800c",
   "metadata": {},
   "outputs": [
    {
     "name": "stdin",
     "output_type": "stream",
     "text": [
      "enter a number: 12\n"
     ]
    },
    {
     "name": "stdout",
     "output_type": "stream",
     "text": [
      "6.0\n"
     ]
    },
    {
     "name": "stdin",
     "output_type": "stream",
     "text": [
      "enter a number: 16\n"
     ]
    },
    {
     "name": "stdout",
     "output_type": "stream",
     "text": [
      "8.0\n"
     ]
    },
    {
     "name": "stdin",
     "output_type": "stream",
     "text": [
      "enter a number: 23\n"
     ]
    }
   ],
   "source": [
    "# example:\n",
    "\n",
    "while True:\n",
    "    k=int(input(\"enter a number:\"))\n",
    "    if k%2==0:\n",
    "        print(k/2)\n",
    "    else:\n",
    "        break\n",
    "        "
   ]
  },
  {
   "cell_type": "code",
   "execution_count": 17,
   "id": "b5e5f29d-9ed5-48f3-921f-7a302d5bff6d",
   "metadata": {},
   "outputs": [
    {
     "name": "stdout",
     "output_type": "stream",
     "text": [
      "##\n",
      "# #\n",
      "#  #\n",
      "#   #\n",
      "#    #\n",
      "#     #\n",
      "#      #\n",
      "#       #\n"
     ]
    }
   ],
   "source": [
    "# 6. Use nested while loop to print 3 different pattern. \n",
    "spaces = 0\n",
    "\n",
    "while spaces < 8:\n",
    "    to_print = \"#\"\n",
    "\n",
    "    count = 0\n",
    "    while count < spaces:\n",
    "        to_print += \" \"\n",
    "        count += 1\n",
    "\n",
    "    to_print += \"#\"\n",
    "\n",
    "    print (to_print)\n",
    "    spaces += 1"
   ]
  },
  {
   "cell_type": "code",
   "execution_count": 18,
   "id": "4e0eae46-9764-4611-95be-3926015644f1",
   "metadata": {},
   "outputs": [
    {
     "name": "stdout",
     "output_type": "stream",
     "text": [
      "\n",
      "1 \n",
      "2 2 \n",
      "3 3 3 \n",
      "4 4 4 4 \n",
      "5 5 5 5 5 \n"
     ]
    }
   ],
   "source": [
    "rows = 6\n",
    "for i in range(rows):\n",
    "    for j in range(i):\n",
    "        print(i, end=' ')\n",
    "    \n",
    "    print('')"
   ]
  },
  {
   "cell_type": "code",
   "execution_count": 19,
   "id": "ff1f13b0-ae45-40a7-91d6-0babfdecc01a",
   "metadata": {},
   "outputs": [
    {
     "name": "stdout",
     "output_type": "stream",
     "text": [
      "1 1 1 1 1 \n",
      "2 2 2 2 \n",
      "3 3 3 \n",
      "4 4 \n",
      "5 \n"
     ]
    }
   ],
   "source": [
    "rows = 5\n",
    "b = 0\n",
    "# reverse for loop from 5 to 0\n",
    "for i in range(rows, 0, -1):\n",
    "    b += 1\n",
    "    for j in range(1, i + 1):\n",
    "        print(b, end=' ')\n",
    "    print('\\r')"
   ]
  },
  {
   "cell_type": "code",
   "execution_count": 20,
   "id": "16426100-2237-47b8-95b8-95e134d9f7d6",
   "metadata": {},
   "outputs": [],
   "source": [
    "# 7. Reverse a while loop to display numbers from 10 to 1"
   ]
  },
  {
   "cell_type": "code",
   "execution_count": 25,
   "id": "7096e739-d59b-4971-986b-0157ae0b6710",
   "metadata": {},
   "outputs": [
    {
     "name": "stdout",
     "output_type": "stream",
     "text": [
      "Reversed Number: 1\n"
     ]
    }
   ],
   "source": [
    "num = 10\n",
    "reversed_num = 0\n",
    "\n",
    "while num != 0:\n",
    "    digit = num % 10\n",
    "    reversed_num = reversed_num * 10 + digit\n",
    "    num //= 10\n",
    "\n",
    "print(\"Reversed Number: \" + str(reversed_num))"
   ]
  },
  {
   "cell_type": "code",
   "execution_count": 26,
   "id": "3c169de0-d0ba-4d2a-acdf-74f3de177d81",
   "metadata": {},
   "outputs": [],
   "source": [
    "# 8. Reverse a while loop to display numbers from 10 to 1 \n"
   ]
  },
  {
   "cell_type": "code",
   "execution_count": 27,
   "id": "9bf5a0ab-e4dd-433d-b33e-6ef8e67a6aa3",
   "metadata": {},
   "outputs": [
    {
     "name": "stdout",
     "output_type": "stream",
     "text": [
      "Reversed Number: 1\n"
     ]
    }
   ],
   "source": [
    "num = 10\n",
    "reversed_num = 0\n",
    "\n",
    "while num != 0:\n",
    "    digit = num % 10\n",
    "    reversed_num = reversed_num * 10 + digit\n",
    "    num //= 10\n",
    "\n",
    "print(\"Reversed Number: \" + str(reversed_num))"
   ]
  },
  {
   "cell_type": "code",
   "execution_count": null,
   "id": "0055b1f3-0f8b-40e5-8c1f-0e3b45f84d02",
   "metadata": {},
   "outputs": [],
   "source": []
  }
 ],
 "metadata": {
  "kernelspec": {
   "display_name": "Python 3 (ipykernel)",
   "language": "python",
   "name": "python3"
  },
  "language_info": {
   "codemirror_mode": {
    "name": "ipython",
    "version": 3
   },
   "file_extension": ".py",
   "mimetype": "text/x-python",
   "name": "python",
   "nbconvert_exporter": "python",
   "pygments_lexer": "ipython3",
   "version": "3.10.8"
  }
 },
 "nbformat": 4,
 "nbformat_minor": 5
}
