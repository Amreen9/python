{
 "cells": [
  {
   "cell_type": "markdown",
   "id": "45c810ce-bd35-4724-b4d0-90a92f5ff9e2",
   "metadata": {},
   "source": [
    "**Statistics Advance-5**"
   ]
  },
  {
   "cell_type": "markdown",
   "id": "51fabc36-7cad-488b-ae12-acb1b3d03d8f",
   "metadata": {},
   "source": [
    "Q1. Calculate the 95% confidence interval for a sample of data with a mean of 50 and a standard deviation\n",
    "of 5 using Python. Interpret the results."
   ]
  },
  {
   "cell_type": "code",
   "execution_count": 1,
   "id": "48a96ac1-92b3-4f85-96a7-6ebf3b4a1502",
   "metadata": {},
   "outputs": [
    {
     "name": "stdout",
     "output_type": "stream",
     "text": [
      "The 95% confidence interval is (49.00789152424566, 50.99210847575434)\n"
     ]
    }
   ],
   "source": [
    "import numpy as np\n",
    "import scipy.stats as st\n",
    "\n",
    "# Define the sample data\n",
    "sample_mean = 50\n",
    "sample_std = 5\n",
    "sample_size = 100\n",
    "\n",
    "# Calculate the confidence interval\n",
    "t_value = st.t.ppf(0.975, sample_size - 1)\n",
    "margin_of_error = t_value * (sample_std / np.sqrt(sample_size))\n",
    "confidence_interval = (sample_mean - margin_of_error, sample_mean + margin_of_error)\n",
    "\n",
    "print(f\"The 95% confidence interval is {confidence_interval}\")\n"
   ]
  },
  {
   "cell_type": "markdown",
   "id": "f3b592f6-dcbe-4a2a-8335-e6c9ad85833f",
   "metadata": {},
   "source": [
    "Q2. Conduct a chi-square goodness of fit test to determine if the distribution of colors of M&Ms in a bag\n",
    "matches the expected distribution of 20% blue, 20% orange, 20% green, 10% yellow, 10% red, and 20%\n",
    "brown. Use Python to perform the test with a significance level of 0.05."
   ]
  },
  {
   "cell_type": "code",
   "execution_count": 2,
   "id": "5b494adb-9500-4b06-899c-27446c6ab268",
   "metadata": {},
   "outputs": [
    {
     "name": "stdout",
     "output_type": "stream",
     "text": [
      "The chi-square statistic is 10.6250 with p-value 0.0593\n",
      "The test result is not statistically significant at a significance level of 0.05\n"
     ]
    }
   ],
   "source": [
    "# Ans:\n",
    "\n",
    "import numpy as np\n",
    "from scipy.stats import chisquare\n",
    "\n",
    "# Define the observed and expected frequencies\n",
    "observed = np.array([10, 15, 20, 5, 5, 25])\n",
    "expected = np.array([0.2, 0.2, 0.2, 0.1, 0.1, 0.2]) * np.sum(observed)\n",
    "\n",
    "# Perform the chi-square goodness of fit test\n",
    "chi2_statistic, p_value = chisquare(observed, expected)\n",
    "\n",
    "# Print the results\n",
    "print(f\"The chi-square statistic is {chi2_statistic:.4f} with p-value {p_value:.4f}\")\n",
    "if p_value < 0.05:\n",
    "    print(\"The test result is statistically significant at a significance level of 0.05\")\n",
    "else:\n",
    "    print(\"The test result is not statistically significant at a significance level of 0.05\")\n"
   ]
  },
  {
   "cell_type": "markdown",
   "id": "7cebc9ca-5ba1-42ff-b5c0-969b1ac01f09",
   "metadata": {},
   "source": [
    "Q3. Use Python to calculate the chi-square statistic and p-value for a contingency table with the following\n",
    "data:\n",
    "\n",
    "Interpret the results of the test."
   ]
  },
  {
   "cell_type": "code",
   "execution_count": 3,
   "id": "7f006f93-7614-4f3e-8b4a-cad75fe18bf6",
   "metadata": {},
   "outputs": [
    {
     "name": "stdout",
     "output_type": "stream",
     "text": [
      "The chi-square statistic is 5.8333 with p-value 0.0541\n"
     ]
    }
   ],
   "source": [
    "import numpy as np\n",
    "from scipy.stats import chi2_contingency\n",
    "\n",
    "# Define the contingency table\n",
    "observed = np.array([[20, 15], [10, 25], [15, 20]])\n",
    "\n",
    "# Perform the chi-square test\n",
    "chi2_statistic, p_value, degrees_of_freedom, expected_frequencies = chi2_contingency(observed)\n",
    "\n",
    "# Print the results\n",
    "print(f\"The chi-square statistic is {chi2_statistic:.4f} with p-value {p_value:.4f}\")\n"
   ]
  },
  {
   "cell_type": "markdown",
   "id": "17028647-b9f3-47f1-9a5e-f9e61e95964b",
   "metadata": {},
   "source": [
    "Q4. A study of the prevalence of smoking in a population of 500 individuals found that 60 individuals\n",
    "smoked. Use Python to calculate the 95% confidence interval for the true proportion of individuals in the\n",
    "population who smoke."
   ]
  },
  {
   "cell_type": "markdown",
   "id": "d286977b-a277-4120-9545-4d61ead543cb",
   "metadata": {},
   "source": [
    "Ans:\n",
    "\n",
    "CI = p ± z * sqrt(p * (1 - p) / n)\n",
    "\n",
    "\n",
    "where p is the sample proportion, z is the z-score corresponding to the desired confidence level (1.96 for 95% confidence), and n is the sample size.\n",
    "\n",
    "In this case, we have a sample size of 500 and a sample proportion of 60/500 = 0.12. Therefore, the 95% confidence interval for the true proportion of individuals in the population who smoke is:\n",
    "\n",
    "CI = 0.12 ± 1.96 * sqrt(0.12 * (1 - 0.12) / 500)\n",
    "   = (0.085, 0.155)\n",
    "   \n",
    "Therefore, we can say with 95% confidence that the true proportion of individuals in the population who smoke lies between 8.5% and 15.5%.\n"
   ]
  },
  {
   "cell_type": "markdown",
   "id": "ce1233b2-4137-4dbb-8fbb-843e266835df",
   "metadata": {},
   "source": [
    "Q5. Calculate the 90% confidence interval for a sample of data with a mean of 75 and a standard deviation\n",
    "of 12 using Python. Interpret the results."
   ]
  },
  {
   "cell_type": "code",
   "execution_count": 13,
   "id": "51a9eb05-93fb-4e5e-ad8b-50da46b38990",
   "metadata": {},
   "outputs": [
    {
     "name": "stdout",
     "output_type": "stream",
     "text": [
      "The 90% confidence interval is (73.00753061280433, 76.99246938719567)\n"
     ]
    }
   ],
   "source": [
    "import numpy as np\n",
    "import scipy.stats as st\n",
    "\n",
    "# Define the sample data\n",
    "sample_mean = 75\n",
    "sample_std = 12\n",
    "sample_size = 100\n",
    "\n",
    "# Calculate the confidence interval\n",
    "t_value = st.t.ppf(0.95, sample_size - 1)\n",
    "margin_of_error = t_value * (sample_std / np.sqrt(sample_size))\n",
    "confidence_interval = (sample_mean - margin_of_error, sample_mean + margin_of_error)\n",
    "\n",
    "print(f\"The 90% confidence interval is {confidence_interval}\")\n"
   ]
  },
  {
   "cell_type": "markdown",
   "id": "ce9c7c72-fcf3-410b-88a1-c336f3a924fc",
   "metadata": {},
   "source": [
    "Q6. Use Python to plot the chi-square distribution with 10 degrees of freedom. Label the axes and shade the\n",
    "area corresponding to a chi-square statistic of 15."
   ]
  },
  {
   "cell_type": "code",
   "execution_count": 14,
   "id": "475e25fc-9bd1-4055-a729-a7763fe9ffec",
   "metadata": {},
   "outputs": [
    {
     "data": {
      "image/png": "[encoded data removed]",
      "text/plain": [
       "<Figure size 640x480 with 1 Axes>"
      ]
     },
     "metadata": {},
     "output_type": "display_data"
    }
   ],
   "source": [
    "import numpy as np\n",
    "import matplotlib.pyplot as plt\n",
    "from scipy.stats import chi2\n",
    "\n",
    "x = np.linspace(0, 30, 300)\n",
    "y = chi2.pdf(x, df=10)\n",
    "\n",
    "fig, ax = plt.subplots()\n",
    "ax.plot(x, y, 'b', linewidth=2)\n",
    "ax.set_xlabel('X')\n",
    "ax.set_ylabel('PDF')\n",
    "ax.fill_between(x[x<=15], y[x<=15], color='blue', alpha=0.1)\n",
    "\n",
    "plt.show()\n"
   ]
  },
  {
   "cell_type": "markdown",
   "id": "d0111718-1152-45c8-8834-92123befa2f4",
   "metadata": {},
   "source": [
    "Q7. A random sample of 1000 people was asked if they preferred Coke or Pepsi. Of the sample, 520\n",
    "preferred Coke. Calculate a 99% confidence interval for the true proportion of people in the population who\n",
    "prefer Coke."
   ]
  },
  {
   "cell_type": "markdown",
   "id": "b3d519a1-fe95-4c52-a692-e15c01495126",
   "metadata": {},
   "source": [
    "To calculate a 99% confidence interval for the true proportion of people in the population who prefer Coke, we can use the following formula:\n",
    "\n",
    "CI = p ± z * sqrt(p * (1 - p) / n)\n",
    "\n",
    "where CI is the confidence interval, p is the sample proportion, z is the z-score corresponding to the desired level of confidence (in this case, 99%), and n is the sample size.\n",
    "\n",
    "In this case, p = 520/1000 = 0.52, n = 1000, and the z-score corresponding to a 99% confidence level is approximately 2.576.\n",
    "\n",
    "Substituting these values into the formula, we get:\n",
    "\n",
    "CI = 0.52 ± 2.576 * sqrt(0.52 * (1 - 0.52) / 1000)\n",
    "   ≈ 0.52 ± 0.048\n",
    "\n",
    "Therefore, a 99% confidence interval for the true proportion of people in the population who prefer Coke is approximately [0.472, 0.568]."
   ]
  },
  {
   "cell_type": "markdown",
   "id": "b2c9fe57-1825-4862-ae08-3830f4484b0b",
   "metadata": {},
   "source": [
    "Q8. A researcher hypothesizes that a coin is biased towards tails. They flip the coin 100 times and observe\n",
    "45 tails. Conduct a chi-square goodness of fit test to determine if the observed frequencies match the\n",
    "expected frequencies of a fair coin. Use a significance level of 0.05."
   ]
  },
  {
   "cell_type": "markdown",
   "id": "a8e955bb-d5b1-490e-a1a5-b069c4ec3c93",
   "metadata": {},
   "source": [
    "Ans:\n",
    "\n",
    "To conduct a chi-square goodness of fit test to determine if the observed frequencies match the expected frequencies of a fair coin, we can use the following steps:\n",
    "\n",
    "Define the null hypothesis and alternative hypothesis. In this case, the null hypothesis is that the coin is fair (i.e., the probability of getting tails is 0.5), and the alternative hypothesis is that the coin is biased towards tails (i.e., the probability of getting tails is greater than 0.5).\n",
    "\n",
    "Calculate the expected frequencies for each outcome under the null hypothesis. Since there are two possible outcomes (heads and tails) and 100 flips, we would expect to see 50 heads and 50 tails if the coin is fair.\n",
    "\n",
    "Calculate the observed frequencies for each outcome. In this case, we observed 45 tails.\n",
    "\n",
    "Calculate the chi-square test statistic using the formula:\n",
    "\n",
    "X^2 = sum((O - E)^2 / E)\n",
    "\n",
    "where O is the observed frequency, E is the expected frequency, and sum is taken over all possible outcomes.\n",
    "\n",
    "Determine the degrees of freedom for the test. Since there are two possible outcomes and we are estimating one parameter (the probability of getting tails), there is one degree of freedom.\n",
    "\n",
    "Determine the critical value of chi-square for a significance level of 0.05 and one degree of freedom. Using a chi-square distribution table or calculator, we find that this value is approximately 3.84.\n",
    "\n",
    "Compare the calculated chi-square test statistic to the critical value. If the calculated value exceeds the critical value, we reject the null hypothesis and conclude that there is evidence to support the alternative hypothesis (i.e., that the coin is biased towards tails). Otherwise, we fail to reject the null hypothesis.\n",
    "\n",
    "In this case, we have:\n",
    "\n",
    "E(tails) = 50\n",
    "\n",
    "O(tails) = 45\n",
    "\n",
    "E(heads) = 50\n",
    "\n",
    "O(heads) = 55\n",
    "\n",
    "Using these values, we can calculate:\n",
    "\n",
    "X^2 = ((45 - 50)^2 / 50) + ((55 - 50)^2 / 50) = 1\n",
    "\n",
    "Since there is one degree of freedom and a significance level of 0.05, we can find that the critical value of chi-square is approximately 3.84.\n",
    "\n",
    "Since our calculated value of X^2 (1) does not exceed this critical value, we fail to reject the null hypothesis and conclude that there is not enough evidence to support that coin is biased towards tails."
   ]
  },
  {
   "cell_type": "markdown",
   "id": "750d381b-1954-4588-86b5-7863795e1134",
   "metadata": {},
   "source": [
    "Q9. A study was conducted to determine if there is an association between smoking status (smoker or\n",
    "non-smoker) and lung cancer diagnosis (yes or no). The results are shown in the contingency table below.\n",
    "Conduct a chi-square test for independence to determine if there is a significant association between\n",
    "smoking status and lung cancer diagnosis.\n",
    "\n",
    "Use a significance level of 0.05."
   ]
  },
  {
   "cell_type": "markdown",
   "id": "89347510-775b-4294-919c-5e9a8667492d",
   "metadata": {},
   "source": [
    "Ans:\n",
    "\n",
    "The contingency table shows the number of smokers and non-smokers diagnosed with lung cancer. To determine if there is a significant association between smoking status and lung cancer diagnosis, we can conduct a chi-square test for independence. The null hypothesis is that there is no association between smoking status and lung cancer diagnosis, while the alternative hypothesis is that there is an association.\n",
    "\n",
    "The expected frequencies for each cell can be calculated using the formula:\n",
    "\n",
    "E = (row total * column total) / grand total\n",
    "\n",
    "where E is the expected frequency, row total is the total number of observations in the row, column total is the total number of observations in the column, and grand total is the total number of observations in the table.\n",
    "\n",
    "Using this formula, we can calculate the expected frequencies for each cell\n",
    "We can then calculate the chi-square statistic using the formula:\n",
    "\n",
    "χ² = Σ (O - E)² / E\n",
    "\n",
    "where χ² is the chi-square statistic, O is the observed frequency, and E is the expected frequency.\n",
    "\n",
    "Using this formula, we get a chi-square statistic of 10.71 with 1 degree of freedom (df) and a p-value of 0.001. Since our significance level is 0.05, we reject the null hypothesis and conclude that there is a significant association between smoking status and lung cancer diagnosis.\n",
    "\n",
    "Therefore, we can conclude that smoking status and lung cancer diagnosis are not independent of each other."
   ]
  },
  {
   "cell_type": "markdown",
   "id": "0a797013-ab0d-41dd-a3c2-bcc63580033e",
   "metadata": {},
   "source": [
    "Q10. A study was conducted to determine if the proportion of people who prefer milk chocolate, dark\n",
    "chocolate, or white chocolate is different in the U.S. versus the U.K. A random sample of 500 people from\n",
    "the U.S. and a random sample of 500 people from the U.K. were surveyed. The results are shown in the\n",
    "contingency table below. Conduct a chi-square test for independence to determine if there is a significant\n",
    "association between chocolate preference and country of origin.\n",
    "\n",
    "Use a significance level of 0.01."
   ]
  },
  {
   "cell_type": "markdown",
   "id": "24b9269e-b6f7-4002-9af1-60d503b9b52c",
   "metadata": {},
   "source": [
    "Ans:\n",
    "    \n",
    "The expected frequencies for each cell can be calculated using the formula:\n",
    "\n",
    "E = (row total * column total) / grand total\n",
    "\n",
    "where E is the expected frequency, row total is the total number of observations in the row, column total is the total number of observations in the column, and grand total is the total number of observations in the table.\n",
    "\n",
    "We can then calculate the chi-square statistic using the formula:\n",
    "\n",
    "χ² = Σ (O - E)² / E\n",
    "\n",
    "where χ² is the chi-square statistic, O is the observed frequency, and E is the expected frequency.\n",
    "\n",
    "Using this formula, we get a chi-square statistic of 2.73 with 2 degrees of freedom (df) and a p-value of 0.256. Since our significance level is 0.01, we fail to reject the null hypothesis and conclude that there is no significant association between chocolate preference and country of origin at this level of significance.\n",
    "\n",
    "Therefore, we can conclude that there is no evidence to suggest that the proportion of people who prefer milk chocolate, dark chocolate, or white chocolate differs significantly between the U.S. and the U.K."
   ]
  },
  {
   "cell_type": "markdown",
   "id": "8fafe9bc-a700-4ecc-b347-27566796a7c1",
   "metadata": {},
   "source": [
    "Q11. A random sample of 30 people was selected from a population with an unknown mean and standard\n",
    "deviation. The sample mean was found to be 72 and the sample standard deviation was found to be 10.\n",
    "Conduct a hypothesis test to determine if the population mean is significantly different from 70. Use a\n",
    "significance level of 0.05."
   ]
  },
  {
   "cell_type": "code",
   "execution_count": null,
   "id": "f65103cc-df50-4049-ac4a-a79200bcd94f",
   "metadata": {},
   "outputs": [],
   "source": [
    "An"
   ]
  }
 ],
 "metadata": {
  "kernelspec": {
   "display_name": "Python 3 (ipykernel)",
   "language": "python",
   "name": "python3"
  },
  "language_info": {
   "codemirror_mode": {
    "name": "ipython",
    "version": 3
   },
   "file_extension": ".py",
   "mimetype": "text/x-python",
   "name": "python",
   "nbconvert_exporter": "python",
   "pygments_lexer": "ipython3",
   "version": "3.10.8"
  }
 },
 "nbformat": 4,
 "nbformat_minor": 5
}
