{
 "cells": [
  {
   "cell_type": "markdown",
   "id": "82734c98-d745-4397-be78-74547c2d9cde",
   "metadata": {},
   "source": [
    "Q1: What are the Probability Mass Function (PMF) and Probability Density Function (PDF)? Explain with\n",
    "an example."
   ]
  },
  {
   "cell_type": "markdown",
   "id": "bc2fbdc8-a7c5-4ced-ac13-d4605c9bf19f",
   "metadata": {},
   "source": [
    "Ans1: \n",
    "    \n",
    "**Probability Mass Function (PMF)** is a function that gives the probability that a discrete random variable is exactly equal to some value. For example, the PMF of rolling a fair die is 1/6 for each of the six possible outcomes.\n",
    "\n",
    "**Probability Density Function (PDF)** is a function that describes the outcome of a continuous random variable. The integral of a PDF gives the probability that a random variable falls within some interval. For example, the PDF of a normal distribution is given by the formula:\n",
    "\n",
    "f(x)=2π​σ1​e−2σ2(x−μ)2​\n",
    "\n",
    "where μ is the mean and σ is the standard deviation. \n",
    "\n",
    "The probability that a normal random variable falls between a and b is given by:\n",
    "\n",
    "P(a≤X≤b)=∫ab​f(x)dx "
   ]
  },
  {
   "cell_type": "markdown",
   "id": "0ec19d08-583b-4349-844e-8b3d10bde04c",
   "metadata": {},
   "source": [
    "Q2: What is Cumulative Density Function (CDF)? Explain with an example. Why CDF is used?"
   ]
  },
  {
   "cell_type": "markdown",
   "id": "6d779778-aca1-46ac-907d-ff221ef58bbc",
   "metadata": {},
   "source": [
    "**Cumulative Distribution Function (CDF)** is a function that gives the probability that a random variable is less than or equal to a given value. It is obtained by integrating or summing the Probability Density Function (PDF), which gives the probability that the random variable is close to a value. For example, the CDF of a normal distribution is given by the formula:\n",
    "\n",
    "F(x)=21​[1+erf(σ2​x−μ​)]\n",
    "\n",
    "where μ is the mean, σ is the standard deviation, and erf is the error function. The CDF shows the accumulated probability so far for all values less than or equal to the current value.\n",
    "\n",
    "\n",
    "CDF is used to find the probability of an event occurring within a range of values, such as P(a≤X≤b)=F(b)−F(a), where F is the CDF of X. It can also be used to find quantiles, such as the median or the 95th percentile, by finding the value of x that satisfies F(x)=p, where p is the desired probability."
   ]
  },
  {
   "cell_type": "markdown",
   "id": "08dbe388-de71-41cb-af86-8aa5c4cc5a7b",
   "metadata": {},
   "source": [
    "Q3: What are some examples of situations where the normal distribution might be used as a model?\n",
    "Explain how the parameters of the normal distribution relate to the shape of the distribution."
   ]
  },
  {
   "cell_type": "markdown",
   "id": "2891b684-ffa5-4f02-903c-078beb1fa0b7",
   "metadata": {},
   "source": [
    "Ans:Some examples of situations where the normal distribution might be used as a model are:\n",
    "\n",
    "- Height, weight, blood pressure, or IQ scores of a population\n",
    "- Errors or residuals in measurements or predictions\n",
    "- Test scores or grades of students\n",
    "\n",
    "The parameters of the normal distribution are the mean and the standard deviation. The mean defines the location of the peak, and most of the data points are clustered around the mean. The standard deviation measures the dispersion of the data points relative to the mean. A larger standard deviation means a wider and flatter curve, while a smaller standard deviation means a narrower and taller curve. The shape of the normal distribution is symmetric and bell-shaped, regardless of the values of the parameters."
   ]
  },
  {
   "cell_type": "markdown",
   "id": "4bde84e3-60d9-40c8-9934-8895b8404e02",
   "metadata": {},
   "source": [
    "Q4: Explain the importance of Normal Distribution. Give a few real-life examples of Normal\n",
    "Distribution."
   ]
  },
  {
   "cell_type": "markdown",
   "id": "368892d7-9b0b-4fe6-8e74-21dec00a08e4",
   "metadata": {},
   "source": [
    "Ans: A4: The normal distribution is important because it:\n",
    "\n",
    "- Approximates many natural phenomena and variables, such as height, weight, blood pressure, IQ scores, etc.\n",
    "- Is a standard of reference for many probability problems and statistical tests\n",
    "- Has a simple mathematical formula and convenient properties, such as symmetry, mean = median = mode, and the empirical rule\n",
    "\n",
    "Some real-life examples of normal distribution are:\n",
    "\n",
    "- Birthweight of babies. The mean birthweight is about 7.5 pounds and most babies are close to that weight\n",
    "- Height of males. The average height is about 175 cm (5' 9\") and most males are within a few centimeters of that height\n",
    "- Shoe sizes. The mean shoe size is about 9 and most people have a shoe size close to that number\n",
    "- ACT scores. The average ACT score is about 21 and most students score within a few points of that score\n",
    "- Average NFL player weight. The mean weight is about 245 pounds and most players are within a few pounds of that weight\n"
   ]
  },
  {
   "cell_type": "markdown",
   "id": "41210764-b514-42ef-894c-86561e7e5c70",
   "metadata": {},
   "source": [
    "Q5: What is Bernaulli Distribution? Give an Example. What is the difference between Bernoulli\n",
    "Distribution and Binomial Distribution?"
   ]
  },
  {
   "cell_type": "markdown",
   "id": "cafb3a22-4f35-4409-ad36-d3c20590bd08",
   "metadata": {},
   "source": [
    "Ans:\n",
    "\n",
    "**A Bernoulli distribution** is a probability distribution of a random variable that can only take two possible outcomes: 0 or 1, usually representing success or failure. An example of a Bernoulli distribution is the outcome of a single coin flip, where 0 represents tails and 1 represents heads.\n",
    "\n",
    "**A Binomial distribution** is a probability distribution of a random variable that can take several values, representing the number of successes in a sequence of independent and identically distributed Bernoulli trials. The probability of success in each Bernoulli trial must be equal and independent. An example of a binomial distribution is the number of heads in 10 coin flips, where each coin flip is a Bernoulli trial.\n",
    "\n",
    "The difference between a Bernoulli distribution and a binomial distribution is that:\n",
    "\n",
    "- A Bernoulli distribution has only two possible values, but a binomial distribution has several values\n",
    "- A Bernoulli distribution models the outcome of a single trial, but a binomial distribution models the outcome of multiple trials\n",
    "- A Bernoulli distribution is a special case of a binomial distribution when n = 1, where n is the number of trials"
   ]
  },
  {
   "cell_type": "markdown",
   "id": "88b3bb70-8b31-42fb-879b-5388aeab055d",
   "metadata": {},
   "source": [
    "Q6. Consider a dataset with a mean of 50 and a standard deviation of 10. If we assume that the dataset\n",
    "is normally distributed, what is the probability that a randomly selected observation will be greater\n",
    "than 60? Use the appropriate formula and show your calculations."
   ]
  },
  {
   "cell_type": "markdown",
   "id": "c81b8c85-5e18-41f4-aabe-fc670cbd1cc5",
   "metadata": {},
   "source": [
    "Ans: \n",
    "    \n",
    "To calculate P(X ≤ 60), we need to transform the random variable X into a standard normal random variable Z using the following equation2:\n",
    "\n",
    "\n",
    "Z = (X - μ) / σ\n",
    "\n",
    "\n",
    "where μ is the mean and σ is the standard deviation of the dataset.\n",
    "\n",
    "Plugging in the values of X = 60, μ = 50, and σ = 10, we get:\n",
    "\n",
    "\n",
    "Z = (60 - 50) / 10\n",
    "\n",
    "\n",
    "Z = 1\n",
    "\n",
    "\n",
    "Now, we can use a standard normal table or a calculator to find the probability that Z is less than or equal to 1. This is also known as the cumulative distribution function (CDF) of Z at 1.\n",
    "\n",
    "\n",
    "P(Z ≤ 1) = 0.8413\n",
    "\n",
    "\n",
    "Therefore, P(X > 60) = 1 - P(Z ≤ 1) = 1 - 0.8413 = 0.1587\n",
    "\n",
    "The probability that a randomly selected observation will be greater than 60 is 0.1587."
   ]
  },
  {
   "cell_type": "markdown",
   "id": "e4836364-144f-4b4f-bf6c-484f52671f07",
   "metadata": {},
   "source": [
    "Q7: Explain uniform Distribution with an example."
   ]
  },
  {
   "cell_type": "markdown",
   "id": "f7771cb8-3e14-494d-af61-efc0fe1166c6",
   "metadata": {},
   "source": [
    "Ans:\n",
    "\n",
    "A **uniform distribution** is a type of probability distribution where all outcomes have an equal chance of occurring. There are two types of uniform distributions: discrete and continuous.\n",
    "\n",
    "A **discrete uniform distribution** is when the outcomes are discrete and have the same probability. For example, rolling a die or selecting a card from a deck are examples of discrete uniform distributions. The probability for each outcome is 1/n, where n is the number of outcomes.\n",
    "\n",
    "A **continuous uniform distribution** is when the outcomes are continuous and infinite. For example, choosing a random number between 0 and 1 is an example of a continuous uniform distribution. The probability for any interval of equal length is the same. The probability density function for a continuous uniform distribution is given by:\n",
    "\n",
    "P(x) = 1 / (y - x)\n",
    "\n",
    "where x and y are the minimum and maximum values of the distribution.\n"
   ]
  },
  {
   "cell_type": "markdown",
   "id": "ba76d4ab-9448-4041-9e8a-a2ec24217051",
   "metadata": {},
   "source": [
    "Q8: What is the z score? State the importance of the z score."
   ]
  },
  {
   "cell_type": "markdown",
   "id": "79945ccf-80f3-4fb2-b7ba-98e3ae42a804",
   "metadata": {},
   "source": [
    "Ans:  \n",
    "\n",
    "A **z-score** is a measure of how many standard deviations a given value is away from the mean of a distribution1. It is calculated by subtracting the mean from the value and dividing by the standard deviation2. The formula for z-score is:\n",
    "\n",
    "z = (x - μ) / σ\n",
    "\n",
    "where x is the value, μ is the mean, and σ is the standard deviation.\n",
    "\n",
    "The z-score is important because it allows us to compare values from different distributions or scales by standardizing them. It also tells us how likely or unlikely a value is to occur under a normal distribution. For example, a z-score of 0 means the value is equal to the mean, a z-score of 1 means the value is one standard deviation above the mean, and a z-score of -2 means the value is two standard deviations below the mean."
   ]
  },
  {
   "cell_type": "markdown",
   "id": "6f3b2814-4ea0-4479-85dd-2bace70bcb8c",
   "metadata": {},
   "source": [
    "Q9: What is Central Limit Theorem? State the significance of the Central Limit Theorem."
   ]
  },
  {
   "cell_type": "markdown",
   "id": "94094658-1fa0-4253-9ab8-5c7cf00d3027",
   "metadata": {},
   "source": [
    "Ans: The central limit theorem is a statistical concept that states that the sampling distribution of the mean of a large number of independent and randomly generated variables approaches a normal distribution, regardless of the shape of the original population distribution1. The formula for the central limit theorem is:\n",
    "\n",
    "X∼N(μ,nσ2​)\n",
    "\n",
    "where X is the sample mean, μ is the population mean, σ2 is the population variance, and n is the sample size.\n",
    "\n",
    "The significance of the central limit theorem lies in the fact that it allows us to use sample statistics to make inferences about population parameters without knowing anything about the shape of the frequency distribution of that population other than what we can get from the sample3. It also implies that probabilistic and statistical methods that work for normal distributions can be applicable to many problems involving other types of distributions."
   ]
  },
  {
   "cell_type": "markdown",
   "id": "31b2e925-27dc-4cc6-b464-251510823e70",
   "metadata": {},
   "source": [
    "Q10: State the assumptions of the Central Limit Theorem."
   ]
  },
  {
   "cell_type": "code",
   "execution_count": null,
   "id": "5d455830-d2ee-4a7b-8c07-3a2d86b6a78a",
   "metadata": {},
   "outputs": [],
   "source": [
    "Ans: The assumptions of the central limit theorem are:\n",
    "\n",
    "The samples are independent and identically distributed random variables1.\n",
    "The samples are randomly selected.\n",
    "The sample size is sufficiently large, usually n > 30.\n",
    "The population has a finite mean and variance1."
   ]
  }
 ],
 "metadata": {
  "kernelspec": {
   "display_name": "Python 3 (ipykernel)",
   "language": "python",
   "name": "python3"
  },
  "language_info": {
   "codemirror_mode": {
    "name": "ipython",
    "version": 3
   },
   "file_extension": ".py",
   "mimetype": "text/x-python",
   "name": "python",
   "nbconvert_exporter": "python",
   "pygments_lexer": "ipython3",
   "version": "3.10.8"
  }
 },
 "nbformat": 4,
 "nbformat_minor": 5
}
