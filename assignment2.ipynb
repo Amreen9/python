{
 "cells": [
  {
   "cell_type": "code",
   "execution_count": 1,
   "id": "94f9654d-ed1b-4718-9d96-e0691c69b6be",
   "metadata": {},
   "outputs": [],
   "source": [
    "# Q1. Which keyword is used to create a function? \n",
    "# Create a function to return a list of odd numbers in the\n",
    "# range of 1 to 25."
   ]
  },
  {
   "cell_type": "code",
   "execution_count": 2,
   "id": "ec34239d-5c7a-4700-bc4a-b6b24f1ec7e8",
   "metadata": {},
   "outputs": [],
   "source": [
    "#Ans: the keyword \"def\" is used to create a function in python"
   ]
  },
  {
   "cell_type": "code",
   "execution_count": 21,
   "id": "e3910ede-b273-4f2d-9414-a835786fd614",
   "metadata": {},
   "outputs": [
    {
     "name": "stdout",
     "output_type": "stream",
     "text": [
      "odd number from 1 to 25 are: [1, 3, 5, 7, 9, 11, 13, 15, 17, 19, 21, 23]\n"
     ]
    }
   ],
   "source": [
    "#example\n",
    "def odd_num(num):\n",
    "    odd=[]\n",
    "    for i in range(num):\n",
    "       if i%2==1:\n",
    "            odd.append(i)\n",
    "    return odd\n",
    "num= 25\n",
    "\n",
    "print(\"odd number from 1 to 25 are:\",odd_num(num))"
   ]
  },
  {
   "cell_type": "code",
   "execution_count": 22,
   "id": "8dcd8928-c506-4376-b5da-15d354d8e2e0",
   "metadata": {},
   "outputs": [],
   "source": [
    "# Q2. Why *args and **kwargs is used in some functions?\n",
    "# Create a function each for *args and **kwargs\n",
    "# to demonstrate their use."
   ]
  },
  {
   "cell_type": "code",
   "execution_count": 23,
   "id": "fe239f7e-21ad-4b7f-b3f9-761e2f4f96bb",
   "metadata": {},
   "outputs": [],
   "source": [
    "#ans: args and kwargs are used to set values of object\n",
    "# *args receives arguments as a tuple. \n",
    "# **kwargs receives arguments as a dictionary\n"
   ]
  },
  {
   "cell_type": "code",
   "execution_count": 4,
   "id": "d84e8983-763a-4958-8f4d-9e3ac87727b3",
   "metadata": {},
   "outputs": [
    {
     "name": "stdout",
     "output_type": "stream",
     "text": [
      "Hello\n",
      "this\n",
      "is\n",
      "an example of args\n"
     ]
    }
   ],
   "source": [
    "def myFunc(*args):\n",
    "\tfor arg in args:\n",
    "\t\tprint(arg)\n",
    "\n",
    "myFun('Hello',\"this\",\"is\",\"an example of args\")\n"
   ]
  },
  {
   "cell_type": "code",
   "execution_count": 7,
   "id": "69cdd6cd-2f80-4fb4-987e-85fa811885b5",
   "metadata": {},
   "outputs": [
    {
     "name": "stdout",
     "output_type": "stream",
     "text": [
      "First argument : Hello\n",
      "Next argument through *args : Welcome\n",
      "Next argument through *args : to\n",
      "Next argument through *args : pwskills\n"
     ]
    }
   ],
   "source": [
    "def myFun(arg1, *args):\n",
    "\tprint(\"First argument :\", arg1)\n",
    "\tfor arg in args:\n",
    "\t\tprint(\"Next argument through *args :\", arg)\n",
    "\n",
    "\n",
    "myFun('Hello', 'Welcome', 'to', \n",
    "      \"pwskills\")\n"
   ]
  },
  {
   "cell_type": "code",
   "execution_count": 9,
   "id": "338795b4-92ca-463e-824a-033359781d5a",
   "metadata": {},
   "outputs": [],
   "source": [
    "# Q3. What is an iterator in python? Name the method used to initialise the\n",
    "#iterator object and the method used for iteration. Use these methods to print \n",
    "# the first five elements of the given list [2, 4, 6, 8, 10, 12, 14,16, 18, 20]."
   ]
  },
  {
   "cell_type": "code",
   "execution_count": null,
   "id": "ddc85706-30b0-43e1-b716-84368aaa8f6d",
   "metadata": {},
   "outputs": [],
   "source": [
    "#ans:An iterator is an object that contains a countable number of values.\n",
    "# an iterator is an object that can be iterated upon, meaning that you can traverse\n",
    "# through all the values. Technically, in Python, an iterator is an object which\n",
    "# implements the iterator protocol, which consist of the methods\n",
    "# iter() and next()"
   ]
  },
  {
   "cell_type": "code",
   "execution_count": 11,
   "id": "5a84aaa0-fdf6-4ef9-9d96-919a33d0be3a",
   "metadata": {},
   "outputs": [
    {
     "name": "stdout",
     "output_type": "stream",
     "text": [
      "2\n",
      "4\n",
      "6\n",
      "8\n",
      "10\n"
     ]
    }
   ],
   "source": [
    "l=[2,4,6,8,10,12,14,16,18,20]\n",
    "iter_l=iter(l)\n",
    "# iterating on each item of the iterator object\n",
    "for index, item in enumerate(iter_l):\n",
    "    print(item)\n",
    " \n",
    "    # break outside loop after iterating on 3 elements\n",
    "    if index == 4:\n",
    "        break\n",
    "\n"
   ]
  },
  {
   "cell_type": "code",
   "execution_count": 12,
   "id": "2ea8d70c-85f9-42bf-a1da-12b7ea3e77c5",
   "metadata": {},
   "outputs": [],
   "source": [
    "# Q4. What is a generator function in python?\n",
    "# Why yield keyword is used?\n",
    "# Give an example of a generator function."
   ]
  },
  {
   "cell_type": "code",
   "execution_count": 13,
   "id": "8150d008-62ea-4611-bdba-79e91e681977",
   "metadata": {},
   "outputs": [],
   "source": [
    "#ans:A generator is a special type of function which does not return a single  \n",
    "# value instead, it returns an iterator object with a sequence of values.In a \n",
    "#generator function, a yield statement is used rather than a return statement.\n"
   ]
  },
  {
   "cell_type": "code",
   "execution_count": 14,
   "id": "8da134b0-01de-47a5-915c-67a3c61eed70",
   "metadata": {},
   "outputs": [],
   "source": [
    "#ans:the yield keyword is used in python, that will turn any expression that \n",
    "#is given with it into a generator object and return it"
   ]
  },
  {
   "cell_type": "code",
   "execution_count": 1,
   "id": "52306bcc-4b54-4353-829f-1a59803c50ed",
   "metadata": {},
   "outputs": [],
   "source": [
    "def generator():\n",
    "    while True:\n",
    "        yield f\"Next number is {i}\"\n",
    "    "
   ]
  },
  {
   "cell_type": "code",
   "execution_count": 2,
   "id": "9a60b2f0-aa3d-4abe-aeba-6d67e2fd1e3b",
   "metadata": {},
   "outputs": [],
   "source": [
    "gen1=generator()\n"
   ]
  },
  {
   "cell_type": "code",
   "execution_count": 3,
   "id": "3d9c444e-8f71-4719-b3b1-1739d2007545",
   "metadata": {},
   "outputs": [
    {
     "name": "stdout",
     "output_type": "stream",
     "text": [
      "Next number is 0\n",
      "Next number is 1\n",
      "Next number is 2\n",
      "Next number is 3\n",
      "Next number is 4\n",
      "Next number is 5\n",
      "Next number is 6\n",
      "Next number is 7\n",
      "Next number is 8\n",
      "Next number is 9\n"
     ]
    }
   ],
   "source": [
    "for i in range(10):\n",
    "    print(next(gen1))"
   ]
  },
  {
   "cell_type": "code",
   "execution_count": 50,
   "id": "6fdc01ae-5dbb-47b0-8b92-3fc582e6a9de",
   "metadata": {},
   "outputs": [],
   "source": [
    "# Q5. Create a generator function for prime numbers less than 1000. \n",
    "# Use the next() method to print the\n",
    "# first 20 prime numbers."
   ]
  },
  {
   "cell_type": "code",
   "execution_count": 62,
   "id": "28e3a5ad-0e84-4233-96d0-1ee36a65fe67",
   "metadata": {},
   "outputs": [
    {
     "name": "stdout",
     "output_type": "stream",
     "text": [
      "<generator object genprimes at 0x7f4084083610>\n"
     ]
    }
   ],
   "source": [
    "def genprimes(n):\n",
    "    D={}\n",
    "    q=2\n",
    "    while q <= n:\n",
    "        if q not in D:\n",
    "            yield q\n",
    "            D[q * q] = [q]\n",
    "        else:\n",
    "            for p in D[q]:\n",
    "                D.setdefault(p + q, []).append(p)\n",
    "            del D[q]\n",
    "        q += 1\n",
    "\n",
    "p = genprimes(1000)\n",
    "print(p)"
   ]
  },
  {
   "cell_type": "code",
   "execution_count": 63,
   "id": "cf28f7bd-7cbf-4b03-addf-a6c9ad0cb6c1",
   "metadata": {},
   "outputs": [
    {
     "name": "stdout",
     "output_type": "stream",
     "text": [
      "2\n",
      "3\n",
      "5\n",
      "7\n",
      "11\n",
      "13\n",
      "17\n",
      "19\n",
      "23\n",
      "29\n",
      "31\n",
      "37\n",
      "41\n",
      "43\n",
      "47\n",
      "53\n",
      "59\n",
      "61\n",
      "67\n",
      "71\n"
     ]
    }
   ],
   "source": [
    "for i in range(20):\n",
    "    print(next(p))"
   ]
  },
  {
   "cell_type": "code",
   "execution_count": 20,
   "id": "34b0ded9-b7e7-4b80-a84c-a1c722839d68",
   "metadata": {},
   "outputs": [],
   "source": [
    "# Q6. Write a python program to print the first 10 Fibonacci numbers \n",
    "# using a while loop.\n"
   ]
  },
  {
   "cell_type": "code",
   "execution_count": 21,
   "id": "d806fda0-eef9-46eb-b8d9-4250ac8ef1ea",
   "metadata": {},
   "outputs": [],
   "source": [
    "def fib_1():\n",
    "    a,b=0,1\n",
    "    while True:\n",
    "        yield a\n",
    "        a,b=b , a+b"
   ]
  },
  {
   "cell_type": "code",
   "execution_count": 22,
   "id": "50eb013f-12fc-44a0-b5b4-05ff801bd67f",
   "metadata": {},
   "outputs": [],
   "source": [
    "fib=fib_1()\n"
   ]
  },
  {
   "cell_type": "code",
   "execution_count": 23,
   "id": "1fd51834-9ce9-413c-8159-f6da78575e75",
   "metadata": {},
   "outputs": [
    {
     "name": "stdout",
     "output_type": "stream",
     "text": [
      "0\n",
      "1\n",
      "1\n",
      "2\n",
      "3\n",
      "5\n",
      "8\n",
      "13\n",
      "21\n",
      "34\n"
     ]
    }
   ],
   "source": [
    "for i in range(10):\n",
    "    print(next(fib))"
   ]
  },
  {
   "cell_type": "code",
   "execution_count": 3,
   "id": "198cd365-47dc-4df8-8cc8-58f2c5a468a2",
   "metadata": {},
   "outputs": [],
   "source": [
    "# Q7. Write a List Comprehension to iterate through the given string: ‘pwskills’.\n",
    "# Expected output: ['p', 'w', 's', 'k', 'i', 'l', 'l', 's']"
   ]
  },
  {
   "cell_type": "code",
   "execution_count": 6,
   "id": "9d577249-49e4-4d1f-b318-d40fd3f82c88",
   "metadata": {},
   "outputs": [
    {
     "name": "stdout",
     "output_type": "stream",
     "text": [
      "['p', 'w', 's', 'k', 'i', 'l', 'l', 's']\n"
     ]
    }
   ],
   "source": [
    "string=[i for i in \"pwskills\" ]\n",
    "print(string)"
   ]
  },
  {
   "cell_type": "code",
   "execution_count": 55,
   "id": "4d73bf85-9584-472b-8fb4-0cddbc748fe6",
   "metadata": {},
   "outputs": [],
   "source": [
    "# Q8. Write a python program to check whether a given number is Palindrome or not\n",
    "# using a while loop."
   ]
  },
  {
   "cell_type": "code",
   "execution_count": null,
   "id": "c4696b6e-69a5-4b90-ac04-75ae2ecccea8",
   "metadata": {},
   "outputs": [],
   "source": []
  },
  {
   "cell_type": "code",
   "execution_count": 61,
   "id": "7410b399-1bfe-4fc7-941e-268c836edb24",
   "metadata": {},
   "outputs": [
    {
     "name": "stdin",
     "output_type": "stream",
     "text": [
      "enter the number: 11\n"
     ]
    },
    {
     "name": "stdout",
     "output_type": "stream",
     "text": [
      "the number is palindrome!\n"
     ]
    }
   ],
   "source": [
    "n=int(input(\"enter the number:\"))\n",
    "temp=n\n",
    "rev=0\n",
    "while(n>0):\n",
    "    dig=n%10\n",
    "    rev=rev*10+dig\n",
    "    n=n//10\n",
    "if temp==rev:\n",
    "    print(\"the number is palindrome!\")\n",
    "else:\n",
    "    print(\"the number is not palindrome!\")\n",
    "    "
   ]
  },
  {
   "cell_type": "code",
   "execution_count": 62,
   "id": "e3b3afaa-f470-4589-bd15-3d4867c43e68",
   "metadata": {},
   "outputs": [],
   "source": [
    "# Q9. Write a code to print odd numbers from 1 to 100 using list comprehension."
   ]
  },
  {
   "cell_type": "code",
   "execution_count": 2,
   "id": "3ad2d46a-cb6c-42a8-be4a-294181bc98cf",
   "metadata": {},
   "outputs": [
    {
     "name": "stdout",
     "output_type": "stream",
     "text": [
      "[1, 3, 5, 7, 9, 11, 13, 15, 17, 19, 21, 23, 25, 27, 29, 31, 33, 35, 37, 39, 41, 43, 45, 47, 49, 51, 53, 55, 57, 59, 61, 63, 65, 67, 69, 71, 73, 75, 77, 79, 81, 83, 85, 87, 89, 91, 93, 95, 97, 99]\n"
     ]
    }
   ],
   "source": [
    "obj=[i for i in range(1,100) if i%2==1]\n",
    "print(obj)"
   ]
  },
  {
   "cell_type": "code",
   "execution_count": null,
   "id": "493572ef-4a99-4911-9227-b424d9762378",
   "metadata": {},
   "outputs": [],
   "source": []
  }
 ],
 "metadata": {
  "kernelspec": {
   "display_name": "Python 3 (ipykernel)",
   "language": "python",
   "name": "python3"
  },
  "language_info": {
   "codemirror_mode": {
    "name": "ipython",
    "version": 3
   },
   "file_extension": ".py",
   "mimetype": "text/x-python",
   "name": "python",
   "nbconvert_exporter": "python",
   "pygments_lexer": "ipython3",
   "version": "3.10.8"
  }
 },
 "nbformat": 4,
 "nbformat_minor": 5
}
