{
 "cells": [
  {
   "cell_type": "code",
   "execution_count": 1,
   "id": "523e7620-5b4e-4fd0-b9f7-d2e118eccaec",
   "metadata": {},
   "outputs": [],
   "source": [
    "# Q1. What is Statistics?"
   ]
  },
  {
   "cell_type": "code",
   "execution_count": 2,
   "id": "ddd9ce99-1317-4d7f-8548-2fd0d691c322",
   "metadata": {},
   "outputs": [],
   "source": [
    "# Statistics is the study of data collection, analysis, perception, introduction, and organization. It is a method of gathering and summarizing results. Statistics is the branch of mathematics that is all about the gathering, observing, interpretation, presentation, and organization of data. In simpler words, it is a field to collect and summarize data. There are two important principles involved in statistics they are, uncertainty and variation. These two factors can be calculated only through statistical analysis. This uncertainty in events is determined with the help of probability which plays an important role in the field of st"
   ]
  },
  {
   "cell_type": "code",
   "execution_count": 3,
   "id": "ad0f2011-c690-4a42-8b38-455560b84848",
   "metadata": {},
   "outputs": [],
   "source": [
    "# Q2.Define the different types of statistics and give an example of when each type might be used."
   ]
  },
  {
   "cell_type": "code",
   "execution_count": 4,
   "id": "712ce7b2-2dbb-4417-830f-d8adc981aa9a",
   "metadata": {},
   "outputs": [],
   "source": [
    "# There are two types of Statistics:\n",
    "\n",
    "# Descriptive Statistics: The data is summarized and interpreted and explained in this type of statistics. The data is summarized from a population sample using factors such as mean and standard deviation. It is a way of organizing, presenting, and explaining a set of data using graphs and summary measures. To summarise data and show it in tables or graphs, typical methods include histograms, pie charts, bars, and scatter plots. Simply put, descriptive statistics are that. Beyond the data they gather, they don’t need to be normalized. \n",
    "# Inferential Statistics: We try to understand the meaning of descriptive statistics using inferential statistics. After the data has been gathered, assessed, and summarised, we use inferential statistics to explain what the data mean. Inferential statistics uses the probability principle to examine if patterns seen in a research sample may be extrapolated to the larger population from which the sample was taken. Inferential statistics may be used to forecast population numbers in addition to testing hypotheses and examining connections between variables. To draw conclusions and inferences from samples, or to make precise generalizations, inferential statistics is used."
   ]
  },
  {
   "cell_type": "code",
   "execution_count": 5,
   "id": "dbc0c7cb-bc8d-4141-b9e7-8c7c6b2cd8b8",
   "metadata": {},
   "outputs": [],
   "source": [
    "# Q3. What are the different types of data and how do they differ from each other? Provide an example of\n",
    "# each type of data."
   ]
  },
  {
   "cell_type": "code",
   "execution_count": 6,
   "id": "1c940526-3126-4246-8a47-0122f935c5e3",
   "metadata": {},
   "outputs": [],
   "source": [
    "# ans: Data is a collection of observations, it can be in the form of numbers, words, measurements, or statements.\n",
    "\n",
    "# Types of Data :\n",
    "# 1) Qualitative Data: This data is descriptive. For example – She is beautiful, He is tall, etc.\n",
    "# 2) Quantitative Data: This is numerical information. For example- A horse has four legs.\n",
    "\n",
    "# Types of Quantitative Data\n",
    "# 1: Discrete Data: It has a particular fixed value and can be counted.\n",
    "# 2: Continuous Data: It is not fixed but has a range of data and can be measured.\n",
    "\n",
    "# Types of Qualitative Data\n",
    "# Qualitative data can be further categorized into the following types:\n",
    "\n",
    "# Nominal Data\n",
    "# Ordinal Data\n"
   ]
  },
  {
   "cell_type": "code",
   "execution_count": 7,
   "id": "de66fda5-f54e-42b4-a760-e2ba171642c2",
   "metadata": {},
   "outputs": [],
   "source": [
    "# Q4. Categorise the following datasets with respect to quantitative and qualitative data types:"
   ]
  },
  {
   "cell_type": "code",
   "execution_count": 8,
   "id": "bb79fba7-49cd-46c6-893c-76721234bbd8",
   "metadata": {},
   "outputs": [],
   "source": [
    "# (i) Grading in exam: A+, A, B+, B, C+, C, D, E => Qualitative data\n",
    "# (ii) Colour of mangoes: yellow, green, orange, red => Qualitative data\n",
    "# (iii) Height data of a class: [178.9, 179, 179.5, 176, 177.2, 178.3, 175.8,...]=> Quantitative data\n",
    "# (iv) Number of mangoes exported by a farm: [500, 600, 478, 672, ...]=> Quantitative data"
   ]
  },
  {
   "cell_type": "code",
   "execution_count": null,
   "id": "ec88ae23-339e-458f-8aee-2556a9ad9a7a",
   "metadata": {},
   "outputs": [],
   "source": [
    "# Q5.Explain the concept of levels of measurement and give an example of a variable for each level."
   ]
  },
  {
   "cell_type": "code",
   "execution_count": 9,
   "id": "116d132e-ee6c-483c-a578-385df6cdb547",
   "metadata": {},
   "outputs": [],
   "source": [
    "# Levels of measurement, also called scales of measurement, tell you how precisely variables are recorded. In scientific research, a variable is anything that can take on different values across your data set (e.g., height or test scores).\n",
    "\n",
    "# There are 4 levels of measurement:\n",
    "\n",
    "# Nominal level : the data can only be categorized\n",
    "# You can categorize your data by labelling them in mutually exclusive groups, but there is no order between the categories.\t\n",
    "# City of birth\n",
    "# Gender\n",
    "# Ethnicity\n",
    "# Car brands\n",
    "# Marital status\n",
    "\n",
    "# Ordinal level: the data can be categorized and ranked\n",
    "# You can categorize and rank your data in an order, but you cannot say anything \n",
    "# about the intervals between the rankings.\n",
    "\n",
    "# Language ability (e.g., beginner, intermediate, fluent)\n",
    "# Likert-type questions  (e.g., very dissatisfied to very satisfied)\n",
    "\n",
    "# Interval level : the data can be categorized, ranked, and evenly spaced\n",
    "# You can categorize, rank, and infer equal intervals between neighboring data points, \n",
    "# but there is no true zero point.\n",
    "# Test scores (e.g., IQ or exams)\n",
    "# Personality inventories\n",
    "# Temperature in Fahrenheit or Celsius\n",
    "\n",
    "# Ratio level : the data can be categorized, ranked, evenly spaced, and has a natural zero.\n",
    "# You can categorize, rank, and infer equal intervals between neighboring data points, \n",
    "# and there is a true zero point.\n",
    "\n",
    "# Height\n",
    "# Age\n",
    "# Weight\n",
    "# Temperature in Kelvin"
   ]
  },
  {
   "cell_type": "code",
   "execution_count": null,
   "id": "a5985ced-c8f9-4d7b-a2c1-b9943e8570dc",
   "metadata": {},
   "outputs": [],
   "source": [
    "# Q6. Why is it important to understand the level of measurement when analyzing data? Provide an\n",
    "# example to illustrate your answer."
   ]
  },
  {
   "cell_type": "code",
   "execution_count": null,
   "id": "19092c41-a6b8-4cf5-8e6f-977d7eb55877",
   "metadata": {},
   "outputs": [],
   "source": [
    "# Levels of measurement are important because they indicate the extent to which statisticians, marketing analysts and financial analysts can use existing data. For instance, if you classify your data at the ordinal level of measurement, you know that you can evaluate how items compare to each other based on a specific hierarchy."
   ]
  },
  {
   "cell_type": "code",
   "execution_count": null,
   "id": "cfcba8ff-6a3b-4212-97e7-d2da511d0f0d",
   "metadata": {},
   "outputs": [],
   "source": [
    "# Q7. How nominal data type is different from ordinal data type."
   ]
  },
  {
   "cell_type": "code",
   "execution_count": null,
   "id": "03b5a18c-ce3f-4bc7-8c47-ff88d4261dfb",
   "metadata": {},
   "outputs": [],
   "source": [
    "# Nominal and ordinal data are two different types of categorical data. Nominal data is used to label variables without any quantitative value, such as gender or profession. On the other hand, ordinal data is used to label variables with a quantitative value that can be ordered, such as rating scales or survey response"
   ]
  },
  {
   "cell_type": "code",
   "execution_count": null,
   "id": "607a2bf5-6b56-484c-a2e2-581c92e6ac0d",
   "metadata": {},
   "outputs": [],
   "source": [
    "# Q8. Which type of plot can be used to display data in terms of range?"
   ]
  },
  {
   "cell_type": "code",
   "execution_count": null,
   "id": "a93f1d84-409c-4963-a098-570220866ebf",
   "metadata": {},
   "outputs": [],
   "source": [
    "# A range plot is a type of chart that can be used to display data in terms of range"
   ]
  },
  {
   "cell_type": "code",
   "execution_count": null,
   "id": "95890321-953e-467b-bc1b-c3dd4bd9066c",
   "metadata": {},
   "outputs": [],
   "source": [
    "# Q9. Describe the difference between descriptive and inferential statistics. Give an example of each\n",
    "# type of statistics and explain how they are used."
   ]
  },
  {
   "cell_type": "code",
   "execution_count": null,
   "id": "bd224cad-486a-458c-90aa-d124d6ac464b",
   "metadata": {},
   "outputs": [],
   "source": [
    "# Descriptive statistics and inferential statistics are two main branches of statistics. Descriptive statistics aims to describe a chunk of raw data using summary statistics, graphs, and tables. It is useful for helping us gain a quick and easy understanding of a data set without pouring over all of the individual data values. For example, suppose we have a set of raw data that shows the test scores of 1,000 students at a particular school. We might be interested in the average test score along with the distribution of test scores. Using descriptive statistics, we could find the average score and create a graph that helps us visualize the distribution of scores. This allows us to understand the test scores of the students much more easily compared to just staring at the raw data. Common forms of descriptive statistics include summary statistics, graphs, and tables.\n",
    "# Inferential statistics, on the other hand, uses samples to draw inferences about larger populations. It is used when we want to make predictions or generalizations about a population based on a sample of data. For example, suppose we want to know whether there is a significant difference in test scores between male and female students at a particular school. We could take a random sample of students from each group and use inferential statistics to determine whether there is a significant difference in their test scores. Common forms of inferential statistics include hypothesis testing, confidence intervals, and regression analysis."
   ]
  },
  {
   "cell_type": "code",
   "execution_count": null,
   "id": "889c8d9b-df37-4667-877f-00c3fbc826e5",
   "metadata": {},
   "outputs": [],
   "source": [
    "# Q10. What are some common measures of central tendency and variability used in statistics? Explain\n",
    "# how each measure can be used to describe a dataset."
   ]
  },
  {
   "cell_type": "code",
   "execution_count": null,
   "id": "32f0b643-c9a9-4ead-b0e5-353e798e91e8",
   "metadata": {},
   "outputs": [],
   "source": [
    "# Measures of central tendency and variability are two important concepts in statistics. Measures of central tendency help us to find the center of a dataset, while measures of variability help us to understand how spread out the data is.\n",
    "\n",
    "# The three most common measures of central tendency are the mean, median, and mode. The mean is calculated by adding up all the values in a dataset and dividing by the total number of values. The median is the middle value in an ordered dataset, and the mode is the most frequently occurring value in a dataset. The mean is sensitive to outliers, while the median is more robust to outliers. The mode is useful for categorical data.\n",
    "\n",
    "# Measures of variability include range, variance, and standard deviation. The range is simply the difference between the largest and smallest values in a dataset. Variance measures how far each value in a dataset is from the mean, while standard deviation measures how much variation there is from the mean. Variance and standard deviation are useful for understanding how spread out a dataset is."
   ]
  }
 ],
 "metadata": {
  "kernelspec": {
   "display_name": "Python 3 (ipykernel)",
   "language": "python",
   "name": "python3"
  },
  "language_info": {
   "codemirror_mode": {
    "name": "ipython",
    "version": 3
   },
   "file_extension": ".py",
   "mimetype": "text/x-python",
   "name": "python",
   "nbconvert_exporter": "python",
   "pygments_lexer": "ipython3",
   "version": "3.10.8"
  }
 },
 "nbformat": 4,
 "nbformat_minor": 5
}
