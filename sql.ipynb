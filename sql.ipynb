{
 "cells": [
  {
   "cell_type": "code",
   "execution_count": 3,
   "id": "6a448f95-fb71-4ca6-bfd8-6bb19e63971c",
   "metadata": {},
   "outputs": [],
   "source": [
    "# Q1. What is a database? Differentiate between SQL and NoSQL databases."
   ]
  },
  {
   "cell_type": "code",
   "execution_count": 2,
   "id": "19d84af2-5d10-45e9-a481-67bd3830bd7a",
   "metadata": {},
   "outputs": [],
   "source": [
    "# Database : an organized collection of data and information or \n",
    "#             interrelated data collected at one place.\n",
    "\n"
   ]
  },
  {
   "cell_type": "code",
   "execution_count": 4,
   "id": "d817b334-d53b-439d-92c0-256672b517a2",
   "metadata": {},
   "outputs": [],
   "source": [
    "# SQL\t: RELATIONAL DATABASE MANAGEMENT SYSTEM (RDBMS)\t\n",
    "# NoSQL: Non-relational or distributed database system.\n",
    "\n",
    "# SQL:These databases have fixed or static or predefined schema\n",
    "# NoSQL:They have a dynamic schema\n",
    "    \n",
    "# SQL:These databases are not suited for hierarchical data storage.\n",
    "# NoSQL:These databases are best suited for hierarchical data storage.\n",
    "    \n",
    "# SQL:These databases are best suited for complex queries\t\n",
    "# NoSQL:These databases are not so good for complex queries\n",
    "    \n",
    "# SQL:Vertically Scalable\t\n",
    "# NoSQL:Horizontally scalable\n"
   ]
  },
  {
   "cell_type": "code",
   "execution_count": 5,
   "id": "5205831a-4123-4a32-9bbf-51c6afdc1d8a",
   "metadata": {},
   "outputs": [],
   "source": [
    "# Q2. What is DDL? Explain why CREATE, DROP, ALTER,\n",
    "# and TRUNCATE are used with an example."
   ]
  },
  {
   "cell_type": "code",
   "execution_count": 6,
   "id": "7529e4d0-d745-4278-9f96-38edfa27195a",
   "metadata": {},
   "outputs": [],
   "source": [
    "# Data definition language sounds like a programming language,\n",
    "# but is a method of categorising different Structured Query Language (SQL) \n",
    "# commands. Understanding data definition language\n",
    "# helps create database management processes as a database manager"
   ]
  },
  {
   "cell_type": "code",
   "execution_count": 7,
   "id": "12ac9106-002e-4965-af0c-eef0a90ed0c7",
   "metadata": {},
   "outputs": [],
   "source": [
    "# The CREATE TABLE command creates a new table in the database.\n"
   ]
  },
  {
   "cell_type": "code",
   "execution_count": 14,
   "id": "92ab58b2-64d8-4030-9bc4-0952d41ba6d9",
   "metadata": {},
   "outputs": [],
   "source": [
    "# CREATE TABLE Persons (\n",
    "#     PersonID int,\n",
    "#     LastName varchar(255),\n",
    "#     FirstName varchar(255),\n",
    "#     Address varchar(255),\n",
    "#     City varchar(255)\n",
    "# );"
   ]
  },
  {
   "cell_type": "code",
   "execution_count": 16,
   "id": "8eb18508-a1ab-4866-a52d-316973f78b2e",
   "metadata": {},
   "outputs": [],
   "source": [
    "# The ALTER TABLE command adds, deletes, or modifies columns in a table.\n",
    "# The ALTER TABLE command also adds and deletes various constraints in a table."
   ]
  },
  {
   "cell_type": "code",
   "execution_count": 17,
   "id": "6705d2a6-5627-421b-be19-00cefd9f4668",
   "metadata": {},
   "outputs": [],
   "source": [
    "# ALTER TABLE Customers\n",
    "# ADD Email varchar(255);"
   ]
  },
  {
   "cell_type": "code",
   "execution_count": 18,
   "id": "f5b007d3-3257-49c2-88bd-669312c84e68",
   "metadata": {},
   "outputs": [],
   "source": [
    "# The DROP TABLE command deletes a table in the database.\n",
    "# The following SQL deletes the table \"Shippers\":\n",
    "# DROP TABLE Shippers;"
   ]
  },
  {
   "cell_type": "code",
   "execution_count": null,
   "id": "bba775a2-513a-46a9-b50b-e09d5b8ea6af",
   "metadata": {},
   "outputs": [],
   "source": [
    "# The TRUNCATE TABLE command deletes the data inside a table, but \n",
    "# not the table itself.\n",
    "\n",
    "# The following SQL truncates the table \"\": "
   ]
  },
  {
   "cell_type": "code",
   "execution_count": 1,
   "id": "f3b74a75-c6d6-4734-8b11-a3165ab7c4b7",
   "metadata": {},
   "outputs": [],
   "source": [
    "# TRUNCATE TABLE Categories;\n"
   ]
  },
  {
   "cell_type": "code",
   "execution_count": 2,
   "id": "5b56c1de-04fe-4236-a888-7e384bad113e",
   "metadata": {},
   "outputs": [],
   "source": [
    "# Q3. What is DML? Explain INSERT, UPDATE, and DELETE with an example."
   ]
  },
  {
   "cell_type": "code",
   "execution_count": 3,
   "id": "6377732c-c7a7-4d9d-84df-a1c80cb856d7",
   "metadata": {},
   "outputs": [],
   "source": [
    "# ans: DML is an abbreviation of Data Manipulation Language.\n",
    "# The DML commands in Structured Query Language change the data present in the\n",
    "# SQL database. We can easily access, store, modify, update and \n",
    "# delete the existing records from the database using DML commands."
   ]
  },
  {
   "cell_type": "code",
   "execution_count": 7,
   "id": "27a8c6c3-470b-472a-ace1-1fea9295f1e0",
   "metadata": {},
   "outputs": [],
   "source": [
    "# INSERT is another most important data manipulation command in \n",
    "# Structured Query Language,\n",
    "# which allows users to insert data in database tables."
   ]
  },
  {
   "cell_type": "code",
   "execution_count": 8,
   "id": "68060546-935d-47e5-8237-23d07c448ca0",
   "metadata": {},
   "outputs": [],
   "source": [
    "# INSERT INTO Student (Stu_id, Stu_Name, Stu_Marks, Stu_Age) VALUES (104, Anmol,290,23);"
   ]
  },
  {
   "cell_type": "code",
   "execution_count": 9,
   "id": "c83044b5-2a32-44bb-8b60-0d6bda259be4",
   "metadata": {},
   "outputs": [],
   "source": [
    "# UPDATE is another most important data manipulation command in \n",
    "# Structured Query Language, \n",
    "# which allows users to update or modify the existing data in database tables."
   ]
  },
  {
   "cell_type": "code",
   "execution_count": 10,
   "id": "0648e337-9d10-44e2-a8bc-617492ba29ad",
   "metadata": {},
   "outputs": [],
   "source": [
    "# DATE Table_name SET [column_name1= value_1, ….., column_nameN = value_N]"
   ]
  },
  {
   "cell_type": "code",
   "execution_count": 11,
   "id": "1045a11f-3bee-450b-b637-719ad6c5be12",
   "metadata": {},
   "outputs": [],
   "source": [
    "# DELETE is a DML command which allows SQL users to remove single \n",
    "# or multiple existing records from the database tables."
   ]
  },
  {
   "cell_type": "code",
   "execution_count": 12,
   "id": "050df105-2aa3-49f6-86a4-f5463fb8e46b",
   "metadata": {},
   "outputs": [],
   "source": [
    "# DELETE FROM Table_Name WHERE condition;  "
   ]
  },
  {
   "cell_type": "code",
   "execution_count": 13,
   "id": "d0b2656b-b56d-4b0d-b564-c6f94f7deef0",
   "metadata": {},
   "outputs": [],
   "source": [
    "# Q4. What is DQL? Explain SELECT with an example."
   ]
  },
  {
   "cell_type": "code",
   "execution_count": 14,
   "id": "7f63a35a-94b7-418f-a2b2-2a28e18ff10d",
   "metadata": {},
   "outputs": [],
   "source": [
    "# DQL or data query language is to perform the query on the data inside the schema\n",
    "# or object (ie table, index, view, function, etc). With the help of a DQL query, \n",
    "# we can get the data from the database to perform actions or operations like analyzing the data. "
   ]
  },
  {
   "cell_type": "code",
   "execution_count": 15,
   "id": "3c326bbe-12a1-4b8c-9016-6896349032e9",
   "metadata": {},
   "outputs": [],
   "source": [
    "# Syntax\n",
    "\n",
    "# Select * from Table_Name;"
   ]
  },
  {
   "cell_type": "code",
   "execution_count": 16,
   "id": "a6c999e4-97e4-4df8-9919-c6c5b2b0f121",
   "metadata": {},
   "outputs": [],
   "source": [
    "# ex:\n",
    "# Select * from Student;"
   ]
  },
  {
   "cell_type": "code",
   "execution_count": 17,
   "id": "e7419af0-b175-484f-848f-0e6ea126a019",
   "metadata": {},
   "outputs": [],
   "source": [
    "# Q5. Explain Primary Key and Foreign Key."
   ]
  },
  {
   "cell_type": "code",
   "execution_count": 18,
   "id": "bacba061-9bdb-45cf-8505-5854be72d482",
   "metadata": {},
   "outputs": [],
   "source": [
    "# # \n",
    "# A primary key is used to ensure that data in the specific column is unique. \n",
    "# A column cannot have NULL values. It is either an existing table column or\n",
    "# a column that is specifically generated by the database according to a defined \n",
    "# sequence. \n",
    "\n",
    "# Example: STUD_NO, as well as STUD_PHONE both, are candidate keys for \n",
    "# relation STUDENT but STUD_NO can be chosen as the primary key "
   ]
  },
  {
   "cell_type": "code",
   "execution_count": 19,
   "id": "59619627-ee69-4693-af92-a1e3ea40c772",
   "metadata": {},
   "outputs": [],
   "source": [
    "# A foreign key is a column or group of columns in \n",
    "# a relational database table that provides a link between data in two tables.\n",
    "# It is a column (or columns) that references a column (most often the primary key)\n",
    "# of another table. \n",
    "\n",
    "# Example: STUD_NO in STUDENT_COURSE is a foreign key to STUD_NO in \n",
    "# STUDENT relation. "
   ]
  },
  {
   "cell_type": "code",
   "execution_count": 20,
   "id": "2d51d884-344a-480c-8f76-6117f56ef789",
   "metadata": {},
   "outputs": [],
   "source": [
    "# Q6. Write a python code to connect MySQL to python. \n",
    "# Explain the cursor() and execute() method."
   ]
  },
  {
   "cell_type": "code",
   "execution_count": 25,
   "id": "2fd238fd-04c1-4347-ae43-79c04eb273ee",
   "metadata": {},
   "outputs": [],
   "source": [
    "# import mysql.connector\n",
    " \n",
    "# dataBase = mysql.connector.connect(\n",
    "# host =\"localhost\",\n",
    "# user =\"abc\",\n",
    "# passwd =\"password\"\n",
    "# )\n",
    " \n",
    "\n",
    "# cursorObject = dataBase.cursor()\n",
    " \n",
    "\n",
    "# cursorObject.execute(\"CREATE DATABASE test\")"
   ]
  },
  {
   "cell_type": "code",
   "execution_count": 26,
   "id": "65b78849-fa99-4ba3-8bee-2f4c7e5f4cdb",
   "metadata": {},
   "outputs": [],
   "source": [
    "# Q7. Give the order of execution of SQL clauses in an SQL query."
   ]
  },
  {
   "cell_type": "code",
   "execution_count": null,
   "id": "5f63b705-90ad-4a5e-aaa6-1cc6d7fff2e7",
   "metadata": {},
   "outputs": [],
   "source": []
  }
 ],
 "metadata": {
  "kernelspec": {
   "display_name": "Python 3 (ipykernel)",
   "language": "python",
   "name": "python3"
  },
  "language_info": {
   "codemirror_mode": {
    "name": "ipython",
    "version": 3
   },
   "file_extension": ".py",
   "mimetype": "text/x-python",
   "name": "python",
   "nbconvert_exporter": "python",
   "pygments_lexer": "ipython3",
   "version": "3.10.8"
  }
 },
 "nbformat": 4,
 "nbformat_minor": 5
}
