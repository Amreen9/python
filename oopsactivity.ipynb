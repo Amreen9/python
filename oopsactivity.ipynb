{
 "cells": [
  {
   "cell_type": "code",
   "execution_count": 1,
   "id": "1ecd57f3-ecaf-4b0b-8762-0a58d1eba1bb",
   "metadata": {},
   "outputs": [],
   "source": [
    "# Q1, Create a vehicle class with an init method having instance variables \n",
    "# as name_of_vehicle, max_speed\n",
    "# and average_of_vehicle."
   ]
  },
  {
   "cell_type": "code",
   "execution_count": 6,
   "id": "aaa1f621-4f34-4cdc-a5c2-024364a2564c",
   "metadata": {},
   "outputs": [],
   "source": [
    "class Vehicle:\n",
    "        def __init__(self,name_of_vehicle, max_speed, average_of_vehicle):\n",
    "            self.name_of_vehicle = name_of_vehicle\n",
    "            self.max_speed = max_speed\n",
    "            self.average_of_vehicle = average_of_vehicle\n",
    "        def getdetails(self):\n",
    "            return self.name_of_vehicle , self.max_speed , self.average_of_vehicle\n",
    "\n",
    "\n"
   ]
  },
  {
   "cell_type": "code",
   "execution_count": 9,
   "id": "1baf2928-971a-4d0c-aaed-a09d1992b47b",
   "metadata": {},
   "outputs": [
    {
     "data": {
      "text/plain": [
       "('alto', 800, 140)"
      ]
     },
     "execution_count": 9,
     "metadata": {},
     "output_type": "execute_result"
    }
   ],
   "source": [
    "car = Vehicle('alto',800,140)\n",
    "car.getdetails()"
   ]
  },
  {
   "cell_type": "code",
   "execution_count": 8,
   "id": "ed5e3515-b888-47dd-a5c2-bc6d1663d64d",
   "metadata": {},
   "outputs": [],
   "source": [
    "# Q2. Create a child class car from the vehicle class created in Que 1, \n",
    "# which will inherit the vehicle class. Create a method named seating_capacity \n",
    "# which takes capacity as \n",
    "# an argument and returns the name of the vehicle and its seating capacity."
   ]
  },
  {
   "cell_type": "code",
   "execution_count": 11,
   "id": "52f9046d-806b-4e3f-8ab6-213a75d175a5",
   "metadata": {},
   "outputs": [
    {
     "data": {
      "text/plain": [
       "('alto', 4)"
      ]
     },
     "execution_count": 11,
     "metadata": {},
     "output_type": "execute_result"
    }
   ],
   "source": [
    "class car(Vehicle):\n",
    "    def seating_capacity(self,capacity):\n",
    "        self.capacity = capacity\n",
    "        return self.name_of_vehicle , self.capacity\n",
    "\n",
    "c1 = car(\"alto\" ,800,140)\n",
    "c1.seating_capacity(4)"
   ]
  },
  {
   "cell_type": "code",
   "execution_count": 13,
   "id": "565e4d39-90c9-4a91-b5f0-5b64c9a9097a",
   "metadata": {},
   "outputs": [],
   "source": [
    "# Q3. What is multiple inheritance? \n",
    "# Write a python code to demonstrate multiple inheritance."
   ]
  },
  {
   "cell_type": "code",
   "execution_count": null,
   "id": "d71a5946-0223-4212-8b68-b9db3225e6ba",
   "metadata": {},
   "outputs": [],
   "source": [
    "# When a class is derived from more than one base class it is called \n",
    "# multiple Inheritance. \n",
    "# the derived class inherits all the features of the base case."
   ]
  },
  {
   "cell_type": "code",
   "execution_count": 19,
   "id": "dd3f7735-9cb0-43cd-b2ad-346291a16329",
   "metadata": {},
   "outputs": [
    {
     "name": "stdout",
     "output_type": "stream",
     "text": [
      "mammals give birth\n",
      "reptles are air-breathing vertebrates\n"
     ]
    }
   ],
   "source": [
    "class reptile:\n",
    "    def reptile_info(self):\n",
    "        print(\"reptles are air-breathing vertebrates\")\n",
    "\n",
    "class mammal:\n",
    "    def mammal_info(self):\n",
    "        print(\"mammals give birth\")\n",
    "\n",
    "class platypus(reptile,mammal):\n",
    "    pass\n",
    "\n",
    "\n",
    "b1 =platypus()\n",
    "\n",
    "b1.mammal_info()\n",
    "b1.reptile_info()"
   ]
  },
  {
   "cell_type": "code",
   "execution_count": 20,
   "id": "cec29a7f-2b3a-4b9c-bb07-d967940de9c0",
   "metadata": {},
   "outputs": [],
   "source": [
    "# Q4. What are getter and setter in python?\n",
    "# Create a class and create a getter and a setter method in this\n",
    "# class."
   ]
  },
  {
   "cell_type": "code",
   "execution_count": 23,
   "id": "71fb7d6a-f4ad-4f56-a173-fd8e7ef6f0a8",
   "metadata": {},
   "outputs": [
    {
     "data": {
      "text/plain": [
       "'interior designer'"
      ]
     },
     "execution_count": 23,
     "metadata": {},
     "output_type": "execute_result"
    }
   ],
   "source": [
    "class Friend:\n",
    "    def __init__(self):\n",
    "        self.job = \"None\"\n",
    "\n",
    "    def getJob(self):\n",
    "        return self.job\n",
    "\n",
    "    def setJob(self, job):\n",
    "        self.job = job\n",
    "\n",
    "lily= Friend()\n",
    "lily.setJob(\"interior designer\")\n",
    "lily.getJob()"
   ]
  },
  {
   "cell_type": "code",
   "execution_count": 24,
   "id": "ef2b196c-558a-475a-adbc-5ccca6358cfd",
   "metadata": {},
   "outputs": [],
   "source": [
    "# Q5.What is method overriding in python?\n",
    "# Write a python code to demonstrate method overriding."
   ]
  },
  {
   "cell_type": "code",
   "execution_count": 25,
   "id": "ab202d3c-6d92-44c2-b9d2-bb74fd099a3b",
   "metadata": {},
   "outputs": [],
   "source": [
    "class Employee:\n",
    "    def __init__(self, name, base_pay):\n",
    "        self.name = name\n",
    "        self.base_pay = base_pay\n",
    "\n",
    "    def get_pay(self):\n",
    "        return self.base_pay"
   ]
  },
  {
   "cell_type": "code",
   "execution_count": 26,
   "id": "2d5629b3-c093-482c-a5e9-e29cd16ff9b8",
   "metadata": {},
   "outputs": [],
   "source": [
    "class SalesEmployee(Employee):\n",
    "    def __init__(self, name, base_pay, sales_incentive):\n",
    "        self.name = name\n",
    "        self.base_pay = base_pay\n",
    "        self.sales_incentive = sales_incentive"
   ]
  },
  {
   "cell_type": "code",
   "execution_count": 28,
   "id": "a0930985-0080-4b12-ac29-807a0cbe66b7",
   "metadata": {},
   "outputs": [
    {
     "data": {
      "text/plain": [
       "5000"
      ]
     },
     "execution_count": 28,
     "metadata": {},
     "output_type": "execute_result"
    }
   ],
   "source": [
    "amy=SalesEmployee(\"amy\",5000,10000)\n",
    "amy.get_pay()"
   ]
  },
  {
   "cell_type": "code",
   "execution_count": null,
   "id": "2bf53079-efd6-4bee-b909-ca087e0c9c69",
   "metadata": {},
   "outputs": [],
   "source": []
  }
 ],
 "metadata": {
  "kernelspec": {
   "display_name": "Python 3 (ipykernel)",
   "language": "python",
   "name": "python3"
  },
  "language_info": {
   "codemirror_mode": {
    "name": "ipython",
    "version": 3
   },
   "file_extension": ".py",
   "mimetype": "text/x-python",
   "name": "python",
   "nbconvert_exporter": "python",
   "pygments_lexer": "ipython3",
   "version": "3.10.8"
  }
 },
 "nbformat": 4,
 "nbformat_minor": 5
}
