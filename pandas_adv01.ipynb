{
 "cells": [
  {
   "cell_type": "code",
   "execution_count": 1,
   "id": "a59ff28a-8290-48b9-9310-a025fee59efb",
   "metadata": {},
   "outputs": [],
   "source": [
    "# Q1. List any five functions of the pandas library with execution."
   ]
  },
  {
   "cell_type": "code",
   "execution_count": 3,
   "id": "c953d2d7-bff4-4dd0-aef4-c63853a4f8d9",
   "metadata": {},
   "outputs": [
    {
     "name": "stdout",
     "output_type": "stream",
     "text": [
      "   name           email    phone no\n",
      "0   amy   amy@gmail.com  9879076534\n",
      "1  reen  reen@gmail.com  9878345678\n"
     ]
    }
   ],
   "source": [
    "#1:: Read CSV File using Pandas read_csv\n",
    "import pandas as pd\n",
    " \n",
    "# reading csv file\n",
    "df = pd.read_csv(\"data.csv\")\n",
    "print(df.head())"
   ]
  },
  {
   "cell_type": "code",
   "execution_count": 4,
   "id": "26e1f078-49cf-469f-8f80-f150fed3a30d",
   "metadata": {},
   "outputs": [
    {
     "name": "stdout",
     "output_type": "stream",
     "text": [
      "      Name Branch  Year  CGPA\n",
      "1  Sanchit    COE     2   9.1\n",
      "2   Aditya     IT     2   9.3\n",
      "3    Sagar     SE     1   9.5\n",
      "4  Prateek    MCE     3   7.8\n",
      "5    Sahil     EP     2   9.1\n"
     ]
    }
   ],
   "source": [
    "#2:: tail()\n",
    "df= pd.read_csv(\"university_records.csv\")\n",
    "print(df.tail())"
   ]
  },
  {
   "cell_type": "code",
   "execution_count": 6,
   "id": "72db13a5-5d53-4a40-87b5-95e6e24a9000",
   "metadata": {},
   "outputs": [
    {
     "data": {
      "text/html": [
       "<div>\n",
       "<style scoped>\n",
       "    .dataframe tbody tr th:only-of-type {\n",
       "        vertical-align: middle;\n",
       "    }\n",
       "\n",
       "    .dataframe tbody tr th {\n",
       "        vertical-align: top;\n",
       "    }\n",
       "\n",
       "    .dataframe thead th {\n",
       "        text-align: right;\n",
       "    }\n",
       "</style>\n",
       "<table border=\"1\" class=\"dataframe\">\n",
       "  <thead>\n",
       "    <tr style=\"text-align: right;\">\n",
       "      <th></th>\n",
       "      <th>Name</th>\n",
       "      <th>Branch</th>\n",
       "      <th>Year</th>\n",
       "      <th>CGPA</th>\n",
       "    </tr>\n",
       "  </thead>\n",
       "  <tbody>\n",
       "    <tr>\n",
       "      <th>3</th>\n",
       "      <td>Sagar</td>\n",
       "      <td>SE</td>\n",
       "      <td>1</td>\n",
       "      <td>9.5</td>\n",
       "    </tr>\n",
       "  </tbody>\n",
       "</table>\n",
       "</div>"
      ],
      "text/plain": [
       "    Name Branch  Year  CGPA\n",
       "3  Sagar     SE     1   9.5"
      ]
     },
     "execution_count": 6,
     "metadata": {},
     "output_type": "execute_result"
    }
   ],
   "source": [
    "#3::sample()\n",
    "data = pd.read_csv(\"university_records.csv\")\n",
    "# generating one row \n",
    "row1 = data.sample(n = 1)\n",
    "  \n",
    "# display\n",
    "row1\n",
    "  \n",
    "# generating another row\n",
    "row2 = data.sample(n = 1)\n",
    "  \n",
    "# display\n",
    "row2"
   ]
  },
  {
   "cell_type": "code",
   "execution_count": 7,
   "id": "b9c6829c-87e9-46c3-82c4-ea1d52bf32be",
   "metadata": {},
   "outputs": [
    {
     "name": "stdout",
     "output_type": "stream",
     "text": [
      "<class 'pandas.core.frame.DataFrame'>\n",
      "RangeIndex: 6 entries, 0 to 5\n",
      "Data columns (total 4 columns):\n",
      " #   Column  Non-Null Count  Dtype  \n",
      "---  ------  --------------  -----  \n",
      " 0   Name    6 non-null      object \n",
      " 1   Branch  6 non-null      object \n",
      " 2   Year    6 non-null      int64  \n",
      " 3   CGPA    6 non-null      float64\n",
      "dtypes: float64(1), int64(1), object(2)\n",
      "memory usage: 320.0+ bytes\n"
     ]
    }
   ],
   "source": [
    "#4::info()\n",
    "df.info()"
   ]
  },
  {
   "cell_type": "code",
   "execution_count": 10,
   "id": "efcf1fd4-eab3-496e-b231-426bf4557676",
   "metadata": {},
   "outputs": [
    {
     "name": "stdout",
     "output_type": "stream",
     "text": [
      "Name       object\n",
      "Branch     object\n",
      "Year        int64\n",
      "CGPA      float64\n",
      "dtype: object\n"
     ]
    }
   ],
   "source": [
    "#5::dtypes()\n",
    "result=df.dtypes\n",
    "print(result)"
   ]
  },
  {
   "cell_type": "code",
   "execution_count": 11,
   "id": "5703a03a-fe46-4408-9874-f10c8f6521e4",
   "metadata": {},
   "outputs": [],
   "source": [
    "# Q2. Given a Pandas DataFrame df with columns 'A', 'B', and 'C', write a Python function to re-index the\n",
    "# DataFrame with a new index that starts from 1 and increments by 2 for each row."
   ]
  },
  {
   "cell_type": "code",
   "execution_count": 16,
   "id": "1d1a64d1-93f9-486d-9865-f9bb9e143dac",
   "metadata": {},
   "outputs": [
    {
     "name": "stdout",
     "output_type": "stream",
     "text": [
      "     A    B    C\n",
      "1  5.0  1.0  6.0\n",
      "3  NaN  NaN  NaN\n",
      "5  NaN  NaN  NaN\n"
     ]
    }
   ],
   "source": [
    "def reindex_df(df):\n",
    "    new_index = range(1, 2*len(df)+1,2)\n",
    "\n",
    "    \n",
    "    new_df = df.reindex(new_index)\n",
    "\n",
    "    return new_df\n",
    "\n",
    "df = pd.DataFrame({'A': [3,5,6], 'B': [4, 1,2], 'C': [3,6,9]})\n",
    "\n",
    "new_df = reindex_df(df)\n",
    "\n",
    "print(new_df)"
   ]
  },
  {
   "cell_type": "code",
   "execution_count": 19,
   "id": "bb83ba09-8a61-425b-969c-87a79aed4aad",
   "metadata": {},
   "outputs": [],
   "source": [
    "# Q3. You have a Pandas DataFrame df with a column named 'Values'. Write a Python function that\n",
    "# iterates over the DataFrame and calculates the sum of the first three values in the 'Values' column. The\n",
    "# function should print the sum to the console.\n",
    "# For example, if the 'Values' column of df contains the values [10, 20, 30, 40, 50], your function should\n",
    "# calculate and print the sum of the first three values, which is 60.\n"
   ]
  },
  {
   "cell_type": "code",
   "execution_count": 20,
   "id": "9a83ed28-4f53-4822-b2d2-9d95dca9247f",
   "metadata": {},
   "outputs": [
    {
     "name": "stdout",
     "output_type": "stream",
     "text": [
      "the sum of first three values are: 100\n"
     ]
    }
   ],
   "source": [
    "def calculate_sum(df):\n",
    "    value_col=df['values']\n",
    "    value_sum=sum(value_col[:3])\n",
    "    print(\"the sum of first three values are:\",value_sum)\n",
    "    \n",
    "df=pd.DataFrame({'values':[10,30,60,20,40]})\n",
    "calculate_sum(df)\n",
    "    \n",
    "    "
   ]
  },
  {
   "cell_type": "code",
   "execution_count": 21,
   "id": "c74a53bf-df1b-4d49-bee3-d3ba31c9fce5",
   "metadata": {},
   "outputs": [],
   "source": [
    "# Q4. Given a Pandas DataFrame df with a column 'Text', write a Python function to create a new column\n",
    "# 'Word_Count' that contains the number of words in each row of the 'Text' column."
   ]
  },
  {
   "cell_type": "code",
   "execution_count": 23,
   "id": "dbaf37cd-57f7-457e-9b6e-908dcee852fd",
   "metadata": {},
   "outputs": [
    {
     "name": "stdout",
     "output_type": "stream",
     "text": [
      "                     text  word_count\n",
      "0       you are so pretty           4\n",
      "1  the sky is clear today           5\n"
     ]
    }
   ],
   "source": [
    "def word_count(df):\n",
    "    df['word_count']=df['text'].apply(lambda x : len(str(x).split()))\n",
    "    return df\n",
    "df=pd.DataFrame({'text':['you are so pretty','the sky is clear today']})\n",
    "df=word_count(df)\n",
    "print(df)"
   ]
  },
  {
   "cell_type": "code",
   "execution_count": 24,
   "id": "74755fd5-8a93-40a7-8489-3b2572386a95",
   "metadata": {},
   "outputs": [],
   "source": [
    "# Q5. How are DataFrame.size() and DataFrame.shape() different?"
   ]
  },
  {
   "cell_type": "code",
   "execution_count": 25,
   "id": "bb6c6e4f-08e0-435c-a419-641621c83e00",
   "metadata": {},
   "outputs": [],
   "source": [
    "#DataFrame.size() returns size of dataframe/series which is equivalent to total number of elements. That is rows x columns\n",
    "#DataFrame.shape() returns tuple of shape (Rows, columns) of dataframe/series"
   ]
  },
  {
   "cell_type": "code",
   "execution_count": 27,
   "id": "5b0dc628-0dcd-46aa-9d64-3be63f33a01f",
   "metadata": {},
   "outputs": [
    {
     "name": "stdout",
     "output_type": "stream",
     "text": [
      "4\n"
     ]
    }
   ],
   "source": [
    "ds=df.size\n",
    "print(ds)"
   ]
  },
  {
   "cell_type": "code",
   "execution_count": 28,
   "id": "163eceb8-9b78-433c-8c2f-9298374f32f0",
   "metadata": {},
   "outputs": [
    {
     "name": "stdout",
     "output_type": "stream",
     "text": [
      "(2, 2)\n"
     ]
    }
   ],
   "source": [
    "dsp=df.shape\n",
    "print(dsp)"
   ]
  },
  {
   "cell_type": "code",
   "execution_count": 29,
   "id": "26c3ae59-ffa6-40ea-80fa-d3fef161a058",
   "metadata": {},
   "outputs": [],
   "source": [
    "# Q6. Which function of pandas do we use to read an excel file?"
   ]
  },
  {
   "cell_type": "code",
   "execution_count": 30,
   "id": "9163dbec-764d-4f87-a23a-df42555d2581",
   "metadata": {},
   "outputs": [],
   "source": [
    "#ans: To read Excel files in Python’s Pandas, use the read_excel() function. You can specify the path to the file and a sheet name to read,"
   ]
  },
  {
   "cell_type": "code",
   "execution_count": 31,
   "id": "99d5f94b-119e-4513-9df8-7333a154d2ad",
   "metadata": {},
   "outputs": [],
   "source": [
    "# # Q7. You have a Pandas DataFrame df that contains a column named 'Email' that contains email\n",
    "# addresses in the format 'username@domain.com'. Write a Python function that creates a new column\n",
    "# 'Username' in df that contains only the username part of each email address.\n",
    "# The username is the part of the email address that appears before the '@' symbol. For example, if the\n",
    "# email address is 'john.doe@example.com', the 'Username' column should contain 'john.doe'. Your\n",
    "# function should extract the username from each email address and store it in the new 'Username'\n",
    "# column."
   ]
  },
  {
   "cell_type": "code",
   "execution_count": 32,
   "id": "57784a2e-2a14-4de2-ace0-a853832272ac",
   "metadata": {},
   "outputs": [
    {
     "name": "stdout",
     "output_type": "stream",
     "text": [
      "              email username\n",
      "0  sireen@gmail.com   sireen\n",
      "1  hazy19@gmail.com   hazy19\n"
     ]
    }
   ],
   "source": [
    "def user_name(df):\n",
    "    df['username']=df['email'].apply(lambda x: x.split(\"@\")[0])\n",
    "    return df\n",
    "df=pd.DataFrame({'email':['sireen@gmail.com','hazy19@gmail.com']})\n",
    "df=user_name(df)\n",
    "print(df)\n",
    "    "
   ]
  },
  {
   "cell_type": "code",
   "execution_count": 33,
   "id": "d4ea4fb8-7d5e-4b34-930e-849abf109275",
   "metadata": {},
   "outputs": [],
   "source": [
    "# Q8. You have a Pandas DataFrame df with columns 'A', 'B', and 'C'. Write a Python function that selects\n",
    "# all rows where the value in column 'A' is greater than 5 and the value in column 'B' is less than 10. The\n",
    "# function should return a new DataFrame that contains only the selected rows.\n",
    "# For example, if df contains the following values:\n",
    "# A B C\n",
    "# 0 3 5 1\n",
    "# 1 8 2 7\n",
    "# 2 6 9 4\n",
    "# 3 2 3 5\n",
    "# 4 9 1 2\n",
    "\n",
    "# Assignment\n",
    "\n",
    "# Data Science Masters\n",
    "\n",
    "# Your function should select the following rows: A B C\n",
    "# 1 8 2 7\n",
    "# 4 9 1 2\n",
    "# The function should return a new DataFrame that contains only the selected rows."
   ]
  },
  {
   "cell_type": "code",
   "execution_count": 4,
   "id": "63ba1fae-7f16-4a87-b732-3492009b4408",
   "metadata": {},
   "outputs": [
    {
     "name": "stdout",
     "output_type": "stream",
     "text": [
      "   A  B  C\n",
      "1  8  2  4\n",
      "2  6  9  5\n",
      "4  9  1  8\n"
     ]
    }
   ],
   "source": [
    "import pandas as pd\n",
    "def selected_rows(df):\n",
    "    selected_df=df[(df ['A']> 5) & (df['B']<10 )]\n",
    "    return selected_df\n",
    "df=pd.DataFrame({'A':[3,8,6,2,9],\n",
    "                'B':[5,2,9,3,1],\n",
    "                 'C':[2,4,5,6,8]\n",
    "                })\n",
    "selected_df=selected_rows(df)\n",
    "print(selected_df)\n",
    "\n"
   ]
  },
  {
   "cell_type": "code",
   "execution_count": 5,
   "id": "4a8fa13a-240a-42d3-bdd0-3a71a21921ac",
   "metadata": {},
   "outputs": [],
   "source": [
    "# Q9. Given a Pandas DataFrame df with a column 'Values', write a Python function to calculate the mean,\n",
    "# median, and standard deviation of the values in the 'Values' column."
   ]
  },
  {
   "cell_type": "code",
   "execution_count": 6,
   "id": "84f700da-4589-4598-ab51-1c9fcbee8375",
   "metadata": {},
   "outputs": [
    {
     "name": "stdout",
     "output_type": "stream",
     "text": [
      "mean:3.0, median:3.0, std:1.5811388300841898\n"
     ]
    }
   ],
   "source": [
    "import pandas as pd\n",
    "def calculate_sts(df):\n",
    "    values_mean=df['values'].mean()\n",
    "    values_median=df['values'].median()\n",
    "    values_std=df['values'].std()\n",
    "    return values_mean,values_median,values_std\n",
    "\n",
    "df=pd.DataFrame({'values':[1,2,3,4,5]})\n",
    "mean,median,std=calculate_sts(df)\n",
    "print(f'mean:{mean}, median:{median}, std:{std}')"
   ]
  },
  {
   "cell_type": "code",
   "execution_count": 7,
   "id": "b5251bc4-f0ce-4982-a304-4536b452ad78",
   "metadata": {},
   "outputs": [],
   "source": [
    "# Q10. Given a Pandas DataFrame df with a column 'Sales' and a column 'Date', write a Python function to\n",
    "# create a new column 'MovingAverage' that contains the moving average of the sales for the past 7 days\n",
    "# for each row in the DataFrame. The moving average should be calculated using a window of size 7 and\n",
    "# should include the current day."
   ]
  },
  {
   "cell_type": "code",
   "execution_count": 11,
   "id": "70a49064-1dd2-485c-82bd-8f6f318768ed",
   "metadata": {},
   "outputs": [
    {
     "name": "stdout",
     "output_type": "stream",
     "text": [
      "         date  sales  movingaverage\n",
      "0  2023-08-01    100     100.000000\n",
      "1  2023-08-02    200     150.000000\n",
      "2  2023-08-03    300     200.000000\n",
      "3  2023-08-04    340     235.000000\n",
      "4  2023-08-05    340     256.000000\n",
      "5  2023-08-06    450     288.333333\n",
      "6  2023-08-07     30     251.428571\n",
      "7  2023-08-08    300     280.000000\n",
      "8  2023-08-09    100     265.714286\n",
      "9  2023-08-10    200     251.428571\n",
      "10 2023-08-11    500     274.285714\n",
      "11 2023-08-12    300     268.571429\n",
      "12 2023-08-13    200     232.857143\n",
      "13 2023-08-14    140     248.571429\n",
      "14 2023-08-15    340     254.285714\n"
     ]
    }
   ],
   "source": [
    "def moving_avg_col(df):\n",
    "    df['movingaverage']=df['sales'].rolling(window=7,min_periods=1).mean()\n",
    "    return df\n",
    "\n",
    "df=pd.DataFrame({'date':pd.date_range(start='2023-08-1',end='2023-08-15'),\n",
    "                'sales':[100,200,300,340,340,450,30,300,100,200,500,300,200,140,340]})\n",
    "df=moving_avg_col(df)\n",
    "print(df)"
   ]
  },
  {
   "cell_type": "code",
   "execution_count": 12,
   "id": "21ce3c0d-4b56-4ba3-bd60-68239e8093c0",
   "metadata": {},
   "outputs": [],
   "source": [
    "# Q11. You have a Pandas DataFrame df with a column 'Date'. Write a Python function that creates a new\n",
    "# column 'Weekday' in the DataFrame. The 'Weekday' column should contain the weekday name (e.g.\n",
    "# Monday, Tuesday) corresponding to each date in the 'Date' column.\n",
    "# For example, if df contains the following values:\n",
    "# Date\n",
    "# 0 2023-01-01\n",
    "# 1 2023-01-02\n",
    "# 2 2023-01-03\n",
    "# 3 2023-01-04\n",
    "# 4 2023-01-05\n",
    "# Your function should create the following DataFrame:\n",
    "\n",
    "# Date Weekday\n",
    "# 0 2023-01-01 Sunday\n",
    "# 1 2023-01-02 Monday\n",
    "# 2 2023-01-03 Tuesday\n",
    "# 3 2023-01-04 Wednesday\n",
    "# 4 2023-01-05 Thursday\n",
    "# The function should return the modified DataFrame."
   ]
  },
  {
   "cell_type": "code",
   "execution_count": 13,
   "id": "28848f3a-d70c-4fa3-bcbe-e73c900a65ee",
   "metadata": {},
   "outputs": [
    {
     "name": "stdout",
     "output_type": "stream",
     "text": [
      "        date   weekdays\n",
      "0 2023-01-01     Sunday\n",
      "1 2023-01-02     Monday\n",
      "2 2023-01-03    Tuesday\n",
      "3 2023-01-04  Wednesday\n",
      "4 2023-01-05   Thursday\n"
     ]
    }
   ],
   "source": [
    "def add_weekday(df):\n",
    "    df['weekdays']=df['date'].dt.day_name()\n",
    "    return df\n",
    "\n",
    "df=pd.DataFrame({'date':pd.date_range(start='2023-01-01',end='2023-01-05')})\n",
    "df=add_weekday(df)\n",
    "print(df)"
   ]
  },
  {
   "cell_type": "code",
   "execution_count": 14,
   "id": "da8eefce-9b43-441e-b815-dfe1064146e0",
   "metadata": {},
   "outputs": [],
   "source": [
    "# Q12. Given a Pandas DataFrame df with a column 'Date' that contains timestamps, write a Python\n",
    "# function to select all rows where the date is between '2023-01-01' and '2023-01-31'."
   ]
  },
  {
   "cell_type": "code",
   "execution_count": 17,
   "id": "4ae5372b-49a3-4861-99c9-12707c265bd8",
   "metadata": {},
   "outputs": [
    {
     "name": "stdout",
     "output_type": "stream",
     "text": [
      "         date  values\n",
      "0  2023-01-01       1\n",
      "1  2023-01-25       2\n",
      "2  2023-01-31       3\n"
     ]
    }
   ],
   "source": [
    "def select_rows(df):\n",
    "    mask=df.loc[:,'date'].between('2023-01-01','2023-01-31')\n",
    "    result=df.loc[mask,:]\n",
    "    \n",
    "    return result\n",
    "df=pd.DataFrame({'date':['2023-01-01','2023-01-25','2023-01-31','2023-02-01'],'values':[1,2,3,4]})\n",
    "results=select_rows(df)\n",
    "print(results)"
   ]
  },
  {
   "cell_type": "code",
   "execution_count": 18,
   "id": "55151b23-16cd-4d0c-af93-2fb271939b0f",
   "metadata": {},
   "outputs": [],
   "source": [
    "# # Q13. To use the basic functions of pandas, what is the first and foremost necessary library that needs to\n",
    "# be imported?"
   ]
  },
  {
   "cell_type": "code",
   "execution_count": null,
   "id": "c107643e-04fa-4217-8ed8-49b19bd0f5de",
   "metadata": {},
   "outputs": [],
   "source": []
  }
 ],
 "metadata": {
  "kernelspec": {
   "display_name": "Python 3 (ipykernel)",
   "language": "python",
   "name": "python3"
  },
  "language_info": {
   "codemirror_mode": {
    "name": "ipython",
    "version": 3
   },
   "file_extension": ".py",
   "mimetype": "text/x-python",
   "name": "python",
   "nbconvert_exporter": "python",
   "pygments_lexer": "ipython3",
   "version": "3.10.8"
  }
 },
 "nbformat": 4,
 "nbformat_minor": 5
}
