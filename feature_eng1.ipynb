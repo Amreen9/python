{
 "cells": [
  {
   "cell_type": "markdown",
   "id": "c9bba945-65e3-4816-9649-65eb8a73c0d4",
   "metadata": {},
   "source": [
    "# Feature Engineering-4"
   ]
  },
  {
   "cell_type": "markdown",
   "id": "b479bd09-8550-4c05-b86d-0ca8d05f5573",
   "metadata": {},
   "source": [
    "Q1. What is data encoding? How is it useful in data science?"
   ]
  },
  {
   "cell_type": "markdown",
   "id": "3abbc135-e328-45c5-be4f-3645035c7219",
   "metadata": {},
   "source": [
    "### Answer"
   ]
  },
  {
   "cell_type": "markdown",
   "id": "867a2235-42ad-445b-9339-3c69e39b5e63",
   "metadata": {},
   "source": [
    "Data encoding is a process of converting data from one form to another, usually for the purpose of transmission,storage or analysis.\n",
    "\n",
    "In Data Science, Data encoding is very useful for handling categorical variables that have a finite number of possible values. Since most Machine Learning languages only understand numerical data, preprocessing the categorical data becomes a very necessary step.we need to convert these categorical variables into numbers so that the model is able to understand and extract the valuable information, there are many types of categorical data encoding such as binary encoding, one-hot encoding, label encoding and many more. each method have their own advantages and disadvantages such as binary encoding is useful when there is many categorical variables and one-hot encoding is useful when there is less categorical features."
   ]
  },
  {
   "cell_type": "markdown",
   "id": "696a8fe3-c983-4289-b7f7-ee6e901c3c62",
   "metadata": {},
   "source": [
    "Q2. What is nominal encoding? Provide an example of how you would use it in a real-world scenario."
   ]
  },
  {
   "cell_type": "markdown",
   "id": "a6194470-6268-4c24-a035-48eb888c5d68",
   "metadata": {},
   "source": [
    "### Answer"
   ]
  },
  {
   "cell_type": "markdown",
   "id": "220ecc38-7840-4256-826c-b68645fa307f",
   "metadata": {},
   "source": [
    "Nominal encoding is a type of categorical encoding that is used to convert categorical data into numerical data. It is used when the categorical data has no order or rank to it. Nominal encoding is also known as one-hot encoding. In nominal encoding, each category is assigned a unique number, and a new column is created for each category. The value in the column is 1 if the category is present and 0 if it is not.\n",
    "\n",
    "Here’s an example of how nominal encoding can be used in a real-world scenario: Suppose you have a dataset of customer reviews for a product, and one of the features is the country of origin of the customer. The countries are categorical data with no order or rank to them. To use this feature in a machine learning model, you can use nominal encoding to convert the countries into numerical data. You would create a new column for each country, and if a customer is from that country, you would assign a value of 1 in that column, and 0 otherwise. This way, you can use this feature in your machine learning model."
   ]
  },
  {
   "cell_type": "markdown",
   "id": "de1a2cc2-8847-41c6-a7f1-894837b570d9",
   "metadata": {},
   "source": [
    "Q3. In what situations is nominal encoding preferred over one-hot encoding? Provide a practical example."
   ]
  },
  {
   "cell_type": "markdown",
   "id": "d4679170-eab7-49da-a3af-f06390bec633",
   "metadata": {},
   "source": [
    "### Answer"
   ]
  },
  {
   "cell_type": "markdown",
   "id": "2ffff3a2-bc4f-4879-a2f7-c660a565a8b8",
   "metadata": {},
   "source": [
    "Nominal encoding is a type of categorical encoding that assigns a unique integer value to each category in the dataset. It is used when there is no inherent order or hierarchy between the categories. One practical example of nominal encoding is when we have a dataset with a categorical variable like “color” that has no natural ordering between its categories (e.g., red, blue, green, etc.). In this case, nominal encoding can be used to assign a unique integer value to each color category.\n",
    "\n",
    "On the other hand, one-hot encoding is used when there is no inherent order or hierarchy between the categories, but we want to avoid assigning any numerical order to them. One practical example of one-hot encoding is when we have a dataset with a categorical variable like “fruit” that has no natural ordering between its categories (e.g., apple, banana, orange, etc.). In this case, one-hot encoding can be used to create new binary columns for each category in the dataset.\n",
    "\n",
    "In general, one-hot encoding is preferred over nominal encoding because it avoids any numerical ranking between categories and ensures that each category is treated equally by machine learning algorithms. However, nominal encoding can be useful in some cases where we want to preserve the original order of the categories or when we have a large number of categories and one-hot encoding would result in too many new columns.\n"
   ]
  },
  {
   "cell_type": "markdown",
   "id": "6988a3bb-8e60-48d0-938f-5a09f9e2240b",
   "metadata": {},
   "source": [
    "Q4. Suppose you have a dataset containing categorical data with 5 unique values. Which encoding\n",
    "technique would you use to transform this data into a format suitable for machine learning algorithms?\n",
    "Explain why you made this choice."
   ]
  },
  {
   "cell_type": "markdown",
   "id": "3f5a8b6b-d6a3-402b-9cc5-0a6daff0d43b",
   "metadata": {},
   "source": [
    "### Answer"
   ]
  },
  {
   "cell_type": "markdown",
   "id": "c6ed118a-b45b-4f33-b4d8-4de306d7b7a7",
   "metadata": {},
   "source": [
    "To transform categorical data with 5 unique values into a format suitable for machine learning algorithms, we can use binary encoding. Binary encoding is a technique that converts each unique category value into a binary number. Each binary digit represents a power of 2, with the least significant bit on the right and the most significant bit on the left. The number of digits required to represent the unique values is equal to the base-2 logarithm of the number of unique values. In this case, we have 5 unique values, so we need 3 digits to represent them in binary.\n",
    "\n",
    "Binary encoding is a good choice for this scenario because it is more efficient than one-hot encoding, which creates a new column for each unique value and assigns a 1 or 0 to indicate whether that value is present in the original column. Binary encoding requires fewer columns and can reduce the dimensionality of the dataset, which can be beneficial for machine learning algorithms that are sensitive to the curse of dimensionality.\n"
   ]
  },
  {
   "cell_type": "markdown",
   "id": "937246ba-ad95-4b0f-9462-7494a4c5fabd",
   "metadata": {},
   "source": [
    "Q5. In a machine learning project, you have a dataset with 1000 rows and 5 columns. Two of the columns\n",
    "are categorical, and the remaining three columns are numerical. If you were to use nominal encoding to\n",
    "transform the categorical data, how many new columns would be created? Show your calculations."
   ]
  },
  {
   "cell_type": "markdown",
   "id": "d64846c4-8efe-4df6-bc46-3107de7bbd01",
   "metadata": {},
   "source": [
    "### Answer"
   ]
  },
  {
   "cell_type": "markdown",
   "id": "9ae8d71d-fc22-43a9-85dd-0bcaeaf3ecd5",
   "metadata": {},
   "source": [
    "Nominal encoding is a technique used to convert categorical data into numerical data. In nominal encoding, each unique category is assigned a unique integer value. For example, if we have a categorical column with three categories, “red”, “green”, and “blue”, we can assign them integer values 1, 2, and 3 respectively.\n",
    "\n",
    "if you were to use nominal encoding to transform the two categorical columns in your dataset, you would create two new columns. Each of the two categorical columns would be replaced by a new column with integer values assigned to each category. Since there are two categorical columns, you would create two new columns in total."
   ]
  },
  {
   "cell_type": "markdown",
   "id": "2d50be33-88a2-4141-8984-58e925661c84",
   "metadata": {},
   "source": [
    "Q6. You are working with a dataset containing information about different types of animals, including their\n",
    "species, habitat, and diet. Which encoding technique would you use to transform the categorical data into\n",
    "a format suitable for machine learning algorithms? Justify your answer."
   ]
  },
  {
   "cell_type": "markdown",
   "id": "fc7f5075-6ced-4c93-8353-f7c229c3908f",
   "metadata": {},
   "source": [
    "### Answer"
   ]
  },
  {
   "cell_type": "markdown",
   "id": "a15a15f0-318f-41d7-a95e-897eb654910a",
   "metadata": {},
   "source": [
    "In this case, since we have multiple categorical variables such as species, habitat, and diet, we need to use an encoding technique that can handle multiple categories. One such technique is One-Hot Encoding.\n",
    "\n",
    "One-Hot Encoding is a technique that creates a binary column for each category in the dataset. Each row in the dataset is then represented by a binary vector with a 1 in the column corresponding to its category and 0s in all other columns. This technique is particularly useful when dealing with nominal data, where there is no inherent order between categories.\n",
    "\n",
    "Therefore, One-Hot Encoding would be an appropriate encoding technique to transform the categorical data into a format suitable for machine learning algorithms."
   ]
  },
  {
   "cell_type": "markdown",
   "id": "adefd599-d2ef-4597-a7d1-5f8412c37b8e",
   "metadata": {},
   "source": [
    "Q7.You are working on a project that involves predicting customer churn for a telecommunications\n",
    "company. You have a dataset with 5 features, including the customer's gender, age, contract type,\n",
    "monthly charges, and tenure. Which encoding technique(s) would you use to transform the categorical\n",
    "data into numerical data? Provide a step-by-step explanation of how you would implement the encoding."
   ]
  },
  {
   "cell_type": "markdown",
   "id": "844407a2-a78d-4238-af67-ad93dbfa1a73",
   "metadata": {},
   "source": [
    "### Answer"
   ]
  },
  {
   "cell_type": "markdown",
   "id": "60a63ef5-26a0-4fb6-b1c7-4aa03e53d1d1",
   "metadata": {},
   "source": [
    "we have a dataset with 5 features,to transform the categorical data into numerical data we can use one-hot encoding, the steps to implement one-hot encoding into the dataset is as follows:"
   ]
  },
  {
   "cell_type": "code",
   "execution_count": 1,
   "id": "dde91a80-c845-47e9-9f0d-e145e40cbf3c",
   "metadata": {},
   "outputs": [
    {
     "name": "stdout",
     "output_type": "stream",
     "text": [
      "   age  monthly_charges  tenure  gender_female  gender_male  \\\n",
      "0   25               50       6              0            1   \n",
      "1   30               60      12              1            0   \n",
      "2   35               70      18              0            1   \n",
      "3   40               80      24              1            0   \n",
      "\n",
      "   contract_type_monthly  contract_type_yearly  \n",
      "0                      1                     0  \n",
      "1                      0                     1  \n",
      "2                      1                     0  \n",
      "3                      0                     1  \n"
     ]
    }
   ],
   "source": [
    "import pandas as pd\n",
    "\n",
    "df = pd.DataFrame({\n",
    "    'gender': ['male', 'female', 'male', 'female'],\n",
    "    'age': [25, 30, 35, 40],\n",
    "    'contract_type': ['monthly', 'yearly', 'monthly', 'yearly'],\n",
    "    'monthly_charges': [50, 60, 70, 80],\n",
    "    'tenure': [6, 12, 18, 24]\n",
    "})\n",
    "\n",
    "df_encoded = pd.get_dummies(df,columns=['gender','contract_type'])\n",
    "\n",
    "print(df_encoded)"
   ]
  },
  {
   "cell_type": "markdown",
   "id": "e859d8e4-6e73-43fa-9bcd-59f1834206df",
   "metadata": {},
   "source": [
    "This will create binary columns for each category in the categorical features. For example, if the gender feature has two categories, male and female, then two binary columns will be created: one for male and one for female. If a customer is male, then the male column will have a value of 1 and the female column will have a value of 0. Similarly, if a customer is female, then the female column will have a value of 1 and the male column will have a value of 0."
   ]
  },
  {
   "cell_type": "code",
   "execution_count": null,
   "id": "47e65c80-1504-401b-9ef2-739662791a26",
   "metadata": {},
   "outputs": [],
   "source": []
  }
 ],
 "metadata": {
  "kernelspec": {
   "display_name": "Python 3 (ipykernel)",
   "language": "python",
   "name": "python3"
  },
  "language_info": {
   "codemirror_mode": {
    "name": "ipython",
    "version": 3
   },
   "file_extension": ".py",
   "mimetype": "text/x-python",
   "name": "python",
   "nbconvert_exporter": "python",
   "pygments_lexer": "ipython3",
   "version": "3.10.8"
  }
 },
 "nbformat": 4,
 "nbformat_minor": 5
}
