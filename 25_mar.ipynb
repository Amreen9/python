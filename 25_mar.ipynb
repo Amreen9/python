{
 "cells": [
  {
   "cell_type": "markdown",
   "id": "d781e0a9-6475-46e9-b6c8-9e4751aae680",
   "metadata": {},
   "source": [
    "# <font color=purple>Flight Price:</font>"
   ]
  },
  {
   "cell_type": "markdown",
   "id": "ca7a1ae6-d6df-409e-9f9d-fce44497d23a",
   "metadata": {},
   "source": [
    "### Q1. Load the flight price dataset and examine its dimensions. How many rows and columns does the dataset have?\n",
    "***\n",
    "## Answer "
   ]
  },
  {
   "cell_type": "code",
   "execution_count": null,
   "id": "477285be-5157-43f8-9a23-76d6077d70a2",
   "metadata": {},
   "outputs": [],
   "source": [
    "import pandas as pd\n",
    "df=pd.read_excel('Data_Train.xlsx')\n",
    "df.shape"
   ]
  },
  {
   "cell_type": "markdown",
   "id": "dd5d9be2-b9f7-4953-b995-1abf6db2815c",
   "metadata": {},
   "source": [
    "### dataset have 10683 rows and 11 columns\n",
    "***"
   ]
  },
  {
   "cell_type": "markdown",
   "id": "bf58ca95-5c82-4032-81a3-1adf91c1f6f7",
   "metadata": {},
   "source": [
    "### Q2. What is the distribution of flight prices in the dataset? Create a histogram to visualize the distribution\n",
    "***\n",
    "## Answer"
   ]
  },
  {
   "cell_type": "code",
   "execution_count": null,
   "id": "842347ba-b2e5-4d14-b2c4-848d42617eff",
   "metadata": {},
   "outputs": [],
   "source": [
    "df.head()"
   ]
  },
  {
   "cell_type": "code",
   "execution_count": null,
   "id": "558079fa-bc91-4fcc-996f-9feef6645569",
   "metadata": {},
   "outputs": [],
   "source": [
    "import pandas as pd\n",
    "import numpy as np\n",
    "import seaborn as sns\n",
    "import matplotlib.pyplot as plt\n",
    "import warnings\n",
    "warnings.filterwarnings(\"ignore\")\n",
    "%matplotlib inline\n"
   ]
  },
  {
   "cell_type": "code",
   "execution_count": null,
   "id": "939fbc2c-d8fe-4378-b819-f4d96715de5e",
   "metadata": {},
   "outputs": [],
   "source": [
    "plt.figure(figsize=(10,5))\n",
    "sns.histplot(df['Price'],kde=True,bins=50,palette='')\n",
    "plt.xlabel('Flight Price')\n",
    "plt.ylabel('Frequency')\n",
    "plt.title('Distribution of Flight Prices')\n",
    "plt.show()\n"
   ]
  },
  {
   "cell_type": "markdown",
   "id": "af93fc08-237d-4def-906a-b91c084b2014",
   "metadata": {},
   "source": [
    "***"
   ]
  },
  {
   "cell_type": "markdown",
   "id": "883957c1-a49e-49f0-9485-b8c0a5fdfa72",
   "metadata": {},
   "source": [
    "### 3. What is the range of prices in the dataset? What is the minimum and maximum price?\n",
    "***\n",
    "## Answer"
   ]
  },
  {
   "cell_type": "code",
   "execution_count": null,
   "id": "b84083ce-f405-4c4d-b643-1162f3c8e57f",
   "metadata": {},
   "outputs": [],
   "source": [
    "# Calculate max , min and range of price in dataset\n",
    "max_price = df['Price'].max()\n",
    "min_price = df['Price'].min()\n",
    "range_price = max_price - min_price\n",
    "\n",
    "# Print Max , Min and Range values\n",
    "print(f'Maximum Price of Flight is : {max_price}')\n",
    "print(f'Minimum Price of Flight is : {min_price}')\n",
    "print(f'Range of price is : {range_price}')\n"
   ]
  },
  {
   "cell_type": "markdown",
   "id": "0af123da-3c1a-40ea-959c-188a6fccd54b",
   "metadata": {},
   "source": [
    "### minimum price is 1759 and maximum price is 79512 "
   ]
  },
  {
   "cell_type": "markdown",
   "id": "94cb3dbb-dde7-49bd-8cf1-f4c53e592892",
   "metadata": {},
   "source": [
    "***\n",
    "### Q4. How does the price of flights vary by airline? Create a boxplot to compare the prices of different airlines.\n",
    "***\n",
    "## Answer"
   ]
  },
  {
   "cell_type": "code",
   "execution_count": null,
   "id": "c2fe23df-3f8e-4f75-9bdb-bb5ca8fc2437",
   "metadata": {},
   "outputs": [],
   "source": [
    "df.head(1)"
   ]
  },
  {
   "cell_type": "code",
   "execution_count": null,
   "id": "0b2da766-1334-44e8-b724-e91f2d94b17a",
   "metadata": {},
   "outputs": [],
   "source": [
    "plt.figure(figsize=(15,10))\n",
    "plt.title('the prices of different airlines.')\n",
    "\n",
    "sns.boxplot(data=df,x='Price',y='Airline',orient='h',palette='cool')\n",
    "plt.show()\n"
   ]
  },
  {
   "cell_type": "markdown",
   "id": "f94e23b6-a65a-411d-8067-da7bb7206313",
   "metadata": {},
   "source": [
    "### from the above graph it is clear how different Airlines have different price range and the most expensive Airlines is jet Airways"
   ]
  },
  {
   "cell_type": "markdown",
   "id": "2ff7281b-a930-49f3-a9ac-575eee372ab3",
   "metadata": {},
   "source": [
    "***\n",
    "### Q5. Are there any outliers in the dataset? Identify any potential outliers using a boxplot and describe how they may impact your analysis.\n",
    "***\n",
    "## Answer"
   ]
  },
  {
   "cell_type": "code",
   "execution_count": null,
   "id": "f88dbd2b-ddac-4357-b4f7-c6039fd29cbf",
   "metadata": {},
   "outputs": [],
   "source": [
    "import seaborn as sns\n",
    "plt.figure(figsize=(10,6))\n",
    "sns.boxplot(data=df,x='Price')\n",
    "plt.show()"
   ]
  },
  {
   "cell_type": "markdown",
   "id": "60cc0961-bf66-453f-bdef-077fbddeb77d",
   "metadata": {},
   "source": [
    "## Outliers found in the Price of flight"
   ]
  },
  {
   "cell_type": "code",
   "execution_count": null,
   "id": "8dd39ba5-a00e-4d68-941f-b283d106e769",
   "metadata": {},
   "outputs": [],
   "source": [
    "import numpy as np\n",
    "from scipy.stats import iqr\n",
    "\n",
    "# Calculate the IQR\n",
    "q1, q3 = np.percentile(df['Price'], [25, 75])\n",
    "iqr_value = iqr(df['Price'])\n",
    "\n",
    "print(\"Q1:\", q1)\n",
    "print(\"Q3:\", q3)\n",
    "print(\"IQR:\", iqr_value)\n",
    "print(\"Lower Box :\",q1-1.5*iqr_value)\n",
    "print(\"Upper Box :\",q3 + 1.5*iqr_value)\n",
    "print(\"Max Price :\",df['Price'].max())\n",
    "print(\"Min Price :\",df['Price'].min())"
   ]
  },
  {
   "cell_type": "code",
   "execution_count": null,
   "id": "c85ccc05-6937-4567-a5be-ec3d063a7921",
   "metadata": {},
   "outputs": [],
   "source": [
    "df[df.Price > q3 + 1.5*iqr_value]"
   ]
  },
  {
   "cell_type": "markdown",
   "id": "e40572c1-531a-4d77-829b-d4d6fae3b721",
   "metadata": {},
   "source": [
    "## There are 94 Outliers in the dataset"
   ]
  },
  {
   "cell_type": "markdown",
   "id": "c69f9a19-5ce0-41a1-9c19-bc60f0891ff1",
   "metadata": {},
   "source": [
    "***\n",
    "### Q6. You are working for a travel agency, and your boss has asked you to analyze the Flight Price dataset to identify the peak travel season. What features would you analyze to identify the peak season, and how would you present your findings to your boss?\n",
    "***\n",
    "## Answer"
   ]
  },
  {
   "cell_type": "code",
   "execution_count": null,
   "id": "9c0f226f-2527-40cf-9de1-51dcc27e7574",
   "metadata": {},
   "outputs": [],
   "source": []
  },
  {
   "cell_type": "markdown",
   "id": "31400429-4d85-4dcd-b908-7a238f8c1099",
   "metadata": {},
   "source": [
    "### the features that help us identify the peak travel season is:\n",
    "- month : Analyse the month that have the highest flight price and lowest flight price which help us in finding the month that is most in demand\n",
    "- Day : Analyse the days that have the highest booking and highest flight price and lowest flight price \n",
    "- Destination : Analysing the flight price of each destination which help us identify the destinations with highest price and lowest price\n",
    "- Departure : Analysing the departure cities that have the highest and lowest cost price\n"
   ]
  },
  {
   "cell_type": "code",
   "execution_count": null,
   "id": "d2460c80-2976-48fb-9ba5-977e3448104f",
   "metadata": {},
   "outputs": [],
   "source": [
    "df.head(2)"
   ]
  },
  {
   "cell_type": "code",
   "execution_count": null,
   "id": "bcb94bc6-3b26-44ca-8f9b-8ba2627ed1d3",
   "metadata": {},
   "outputs": [],
   "source": [
    "df['Date_of_Journey']=pd.to_datetime(df['Date_of_Journey'])\n",
    "df['Day']=df['Date_of_Journey'].dt.day_name()\n",
    "df['month']=df['Date_of_Journey'].dt.month\n",
    "df['year']=df['Date_of_Journey'].dt.year"
   ]
  },
  {
   "cell_type": "code",
   "execution_count": null,
   "id": "4866bbb2-3ee3-48fd-a808-a554efeb0432",
   "metadata": {},
   "outputs": [],
   "source": [
    "df.groupby(by='month').mean()['Price'].sort_values()"
   ]
  },
  {
   "cell_type": "code",
   "execution_count": null,
   "id": "567b3d40-b81f-432f-8ff7-878877213a16",
   "metadata": {},
   "outputs": [],
   "source": [
    "df.groupby(by='month').mean()['Price'].sort_values().plot(kind='bar')"
   ]
  },
  {
   "cell_type": "code",
   "execution_count": null,
   "id": "3ee10f37-5052-4c3b-9c26-d0cc24e6bd3a",
   "metadata": {},
   "outputs": [],
   "source": [
    "df.groupby(by='Day').mean()['Price'].sort_values()"
   ]
  },
  {
   "cell_type": "code",
   "execution_count": null,
   "id": "20cb80b3-826c-46d1-b693-2fdef95269e5",
   "metadata": {},
   "outputs": [],
   "source": [
    "df.groupby(by='Day').mean()['Price'].sort_values().plot(kind='bar')"
   ]
  },
  {
   "cell_type": "code",
   "execution_count": null,
   "id": "881273b8-d239-48ba-8953-c019a20cad18",
   "metadata": {},
   "outputs": [],
   "source": [
    "df.groupby(by='Destination').mean()['Price'].sort_values()"
   ]
  },
  {
   "cell_type": "code",
   "execution_count": null,
   "id": "8622f53c-e2c1-4be9-854b-2e952b4300a2",
   "metadata": {},
   "outputs": [],
   "source": [
    "df.groupby(by='Destination').mean()['Price'].sort_values().plot(kind='bar')"
   ]
  },
  {
   "cell_type": "code",
   "execution_count": null,
   "id": "bdd899b3-7957-4a5d-81ca-c7d4c6b4ae7d",
   "metadata": {},
   "outputs": [],
   "source": [
    "df.groupby(by='Source').mean()['Price'].sort_values()"
   ]
  },
  {
   "cell_type": "code",
   "execution_count": null,
   "id": "51f8eb79-000e-44d5-94e3-fe303781c43c",
   "metadata": {},
   "outputs": [],
   "source": [
    "df.groupby(by='Source').mean()['Price'].sort_values().plot(kind='bar')"
   ]
  },
  {
   "cell_type": "markdown",
   "id": "d6c54ff6-c9d4-461a-8aaf-7e488555c6de",
   "metadata": {},
   "source": [
    "### Observation\n",
    "- the month with the highest flight price is the first month of the year\n",
    "- the days with the highest flight price is sunday, Monday and Thursday\n",
    "- the destination with the highest flight price is New Delhi\n",
    "- the departure city with highest flight price is Delhi\n",
    "- Cheapest Price is in Month of April with average price of 5230.86\n",
    "- Cheapest Prices are usually with flights departing on Wednesday at average price of 7996.29\n",
    "- Cheapest Flight destination is Kolkata with average price of 4789.89\n",
    "- Cheapest Flights are starting from city Chennai with average price of 4789.89"
   ]
  },
  {
   "cell_type": "markdown",
   "id": "75b6ca44-0a72-4881-aff4-7a31b19d34e0",
   "metadata": {},
   "source": [
    "***\n",
    "### Q7. You are a data analyst for a flight booking website, and you have been asked to analyze the Flight Price dataset to identify any trends in flight prices. What features would you analyze to identify these trends, and what visualizations would you use to present your findings to your team?\n",
    "***\n",
    "## Answer"
   ]
  },
  {
   "cell_type": "markdown",
   "id": "657e0db2-9c26-4163-aee4-0fb6f468fff7",
   "metadata": {},
   "source": [
    "## to identify any trends in flight prices we are going to analyse the Dates of the journey as well as the airlines to find out the cheapest flight prices and most used airlines for the destination\n",
    "## the visualization used:\n",
    "- Line charts: These could be used to show how flight prices change over time, or how they vary based on the time of day or day of the week.\n",
    "\n",
    "- Scatterplots: These could be used to show the relationship between flight prices and variables like the number of passengers or the number of seats available.\n",
    "\n",
    "- Bar charts: These could be used to compare flight prices across different airlines or different routes.\n",
    "\n",
    "- Heatmaps: These could be used to show which times of year tend to have higher or lower flight prices for different routes."
   ]
  },
  {
   "cell_type": "code",
   "execution_count": null,
   "id": "cffa442b-f54e-4cbf-9fce-ea2ab0de9dba",
   "metadata": {},
   "outputs": [],
   "source": [
    "df.head()"
   ]
  },
  {
   "cell_type": "code",
   "execution_count": null,
   "id": "3d4e3b57-419b-4a8c-965e-d5db71a1a0a6",
   "metadata": {},
   "outputs": [],
   "source": [
    "plt.figure(figsize=(15,10))\n",
    "sns.lineplot(data=df,x='Date_of_Journey',y='Price')"
   ]
  },
  {
   "cell_type": "code",
   "execution_count": null,
   "id": "c8dbae32-acb6-4c39-b05b-3a5c54139aad",
   "metadata": {},
   "outputs": [],
   "source": [
    "df.groupby(by='Airline').mean()['Price'].sort_values()"
   ]
  },
  {
   "cell_type": "code",
   "execution_count": null,
   "id": "d601f8e7-0573-489b-814c-5b1f72a6339c",
   "metadata": {},
   "outputs": [],
   "source": [
    "df.groupby(by='Airline').mean()['Price'].sort_values().plot(kind='bar')"
   ]
  },
  {
   "cell_type": "markdown",
   "id": "6ada6904-8a7c-496a-86ed-79f1d6fe9b52",
   "metadata": {},
   "source": [
    "## Insights : Truejet Flights are cheapest"
   ]
  },
  {
   "cell_type": "markdown",
   "id": "ca6be2b5-ee76-4a85-95bd-121eb450a791",
   "metadata": {},
   "source": [
    "***\n",
    "### Q8. You are a data scientist working for an airline company, and you have been asked to analyze the Flight Price dataset to identify the factors that affect flight prices. What features would you analyze to identify these factors, and how would you present your findings to the management team?\n",
    "***\n",
    "## Answer"
   ]
  },
  {
   "cell_type": "markdown",
   "id": "d138a247-3c01-403f-9e3a-10cce6eace02",
   "metadata": {},
   "source": [
    "To present my findings to the management team, I would create a report that includes the following:\n",
    "Summary statistics: I would provide summary statistics for each feature, including measures of central tendency, variance, and any outliers. This would give the management team a general sense of the distribution of each feature.\n",
    "\n",
    "- Visualizations: I would create a variety of visualizations to help illustrate the relationships between different features and flight prices. For example, I might create scatterplots to show the relationship between flight prices and the number of passengers or the number of seats available. I might also create bar charts to compare flight prices across different airlines or different routes.\n",
    "\n",
    "- Regression analysis: I would perform regression analysis to identify the factors that have the greatest impact on flight prices. This would allow me to create a predictive model that could be used to estimate flight prices based on different combinations of features.\n",
    "\n",
    "- Conclusions and recommendations: Based on my analysis, I would draw conclusions about the factors that have the greatest impact on flight prices and make recommendations to the management team about how they could adjust their pricing strategies to better meet the needs of their customers."
   ]
  },
  {
   "cell_type": "markdown",
   "id": "cdf0a13a-350a-46b3-a1e7-abfc87724b3b",
   "metadata": {},
   "source": [
    "## Data Cleaning and Feature Engineering"
   ]
  },
  {
   "cell_type": "code",
   "execution_count": null,
   "id": "04014be5-a242-4c4d-a5c4-ab5eccf4ecbf",
   "metadata": {},
   "outputs": [],
   "source": [
    "df.isnull().sum()"
   ]
  },
  {
   "cell_type": "code",
   "execution_count": null,
   "id": "623d3f4b-78c4-437d-a8e8-5230f6f9c8b5",
   "metadata": {},
   "outputs": [],
   "source": [
    "df['Day_no'] = df['Date_of_Journey'].dt.dayofweek\n",
    "df = df.drop(labels=['Date_of_Journey','Day'],axis=1)\n",
    "df.head(2)"
   ]
  },
  {
   "cell_type": "code",
   "execution_count": null,
   "id": "fbf6bcad-a52f-4c3d-a0a9-f0f1c9835343",
   "metadata": {},
   "outputs": [],
   "source": [
    "# Arrival Feature Engineering\n",
    "df['Arrival_Time'] = df['Arrival_Time'].apply(lambda s:s.split(' ')[0])\n",
    "df['Arrival_hour'] = df['Arrival_Time'].str.split(':').str[0]\n",
    "df['Arrival_min'] = df['Arrival_Time'].str.split(':').str[1]\n",
    "df['Arrival_hour'] = df['Arrival_hour'].astype(int)\n",
    "df['Arrival_min'] = df['Arrival_min'].astype(int)\n",
    "df = df.drop(labels=['Arrival_Time'],axis=1)\n",
    "df.head(2)"
   ]
  },
  {
   "cell_type": "code",
   "execution_count": null,
   "id": "6480f684-d0e7-4194-8b24-f2f6d438fbd0",
   "metadata": {},
   "outputs": [],
   "source": [
    "# Departure Feature Engineering\n",
    "df['Dep_hour'] = df['Dep_Time'].str.split(':').str[0]\n",
    "df['Dep_min'] = df['Dep_Time'].str.split(':').str[1]\n",
    "df['Dep_hour'] = df['Dep_hour'].astype(int)\n",
    "df['Dep_min'] = df['Dep_min'].astype(int)\n",
    "df = df.drop(labels=['Dep_Time'],axis=1)\n",
    "df.head(2)"
   ]
  },
  {
   "cell_type": "code",
   "execution_count": null,
   "id": "ce02210e-947e-4b4d-940d-2a06f356967a",
   "metadata": {},
   "outputs": [],
   "source": [
    "# Creating Function to get the duration of flight from string \n",
    "def get_duration_float(s):\n",
    "    if ((s.find('h')>0) and (s.find('m')>0)):\n",
    "        hrs = s.split('h')[0]\n",
    "        mins = s.split(' ')[1][:-1]\n",
    "    elif((s.find('h')>0) and (s.find('m')<0)):\n",
    "        hrs = s.split('h')[0]\n",
    "        mins = 0\n",
    "    elif((s.find('h')<0) and (s.find('m')>0)):\n",
    "        hrs = 0\n",
    "        mins = s.split('m')[0]\n",
    "    duration = float(hrs) + float(mins)/60\n",
    "    return duration"
   ]
  },
  {
   "cell_type": "code",
   "execution_count": null,
   "id": "bdd980eb-242b-4676-8f72-0eeb096ce370",
   "metadata": {},
   "outputs": [],
   "source": [
    "df['dur_float'] = df['Duration'].apply(get_duration_float)\n",
    "df = df.drop(labels=['Duration'],axis=1)\n",
    "df.head(2)"
   ]
  },
  {
   "cell_type": "code",
   "execution_count": null,
   "id": "dc30a96f-d66f-493a-b7f9-801ab281260a",
   "metadata": {},
   "outputs": [],
   "source": [
    "df[df['Total_Stops'].isna()]"
   ]
  },
  {
   "cell_type": "code",
   "execution_count": null,
   "id": "5516f7d8-bc0f-43f6-a1db-56d786246bc4",
   "metadata": {},
   "outputs": [],
   "source": [
    "md = df['Total_Stops'].mode()[0]\n",
    "md"
   ]
  },
  {
   "cell_type": "code",
   "execution_count": null,
   "id": "424ba769-5a77-400d-9a6b-5a90ebaf7830",
   "metadata": {},
   "outputs": [],
   "source": [
    "df['Total_Stops'] = df['Total_Stops'].fillna(md)"
   ]
  },
  {
   "cell_type": "code",
   "execution_count": null,
   "id": "9275a6bc-a599-4a5b-b1e5-f68511e45d06",
   "metadata": {},
   "outputs": [],
   "source": [
    "stops_mapper = {\n",
    "    'non-stop':0,\n",
    "    '1 stop':1,\n",
    "    '2 stops':2,\n",
    "    '3 stops':3,\n",
    "    '4 stops':4\n",
    "}\n",
    "df['Total_Stops'] = df['Total_Stops'].map(stops_mapper)\n",
    "df.head(2)"
   ]
  },
  {
   "cell_type": "code",
   "execution_count": null,
   "id": "59a7c742-e847-4dbc-86b7-061060394c9a",
   "metadata": {},
   "outputs": [],
   "source": [
    "# Drop route and additional info\n",
    "df = df.drop(labels=['Route','Additional_Info'],axis=1)\n",
    "df.head(2)"
   ]
  },
  {
   "cell_type": "code",
   "execution_count": null,
   "id": "dc119828-5030-46a1-9f60-8c89d9fc2a11",
   "metadata": {},
   "outputs": [],
   "source": [
    "df.duplicated().sum()"
   ]
  },
  {
   "cell_type": "code",
   "execution_count": null,
   "id": "e5ce7cc7-5279-48a6-add7-2a9fba946ca6",
   "metadata": {},
   "outputs": [],
   "source": [
    "df= df.drop_duplicates(keep='first')"
   ]
  },
  {
   "cell_type": "code",
   "execution_count": null,
   "id": "51c82cf6-0eb0-4626-ac81-5e714fe2f6cc",
   "metadata": {},
   "outputs": [],
   "source": [
    "df.info()"
   ]
  },
  {
   "cell_type": "markdown",
   "id": "501c0015-ebc1-424c-9975-000a9b48171e",
   "metadata": {},
   "source": [
    "## Feature Engineering"
   ]
  },
  {
   "cell_type": "code",
   "execution_count": null,
   "id": "9d474689-f3b4-483d-9f67-5650849c9041",
   "metadata": {},
   "outputs": [],
   "source": [
    "\n",
    "# Seperating X and Y\n",
    "X = df.drop(labels=['Price'],axis=1)\n",
    "Y = df[['Price']]\n",
    "# Seperating Numeric and Categorical Features\n",
    "cat_cols = list(X.select_dtypes(include='object').columns)\n",
    "num_cols = list(X.select_dtypes(exclude='object').columns)\n",
    "print(f'Numerical Features : {num_cols}')\n",
    "print(f'Categorical Features : {cat_cols}')"
   ]
  },
  {
   "cell_type": "code",
   "execution_count": null,
   "id": "3276d7c1-3678-4bbc-8dc4-b30a3d8102bb",
   "metadata": {},
   "outputs": [],
   "source": [
    "# One Hot Encoding of Categorical Variables\n",
    "X_cat = pd.get_dummies(X[cat_cols])\n",
    "X_cat.head()"
   ]
  },
  {
   "cell_type": "code",
   "execution_count": null,
   "id": "14731dba-1588-40d3-a880-7a74b0ea4f07",
   "metadata": {},
   "outputs": [],
   "source": [
    "# Concatenating Num and Cat variables\n",
    "X_concat = pd.concat([X[num_cols],X_cat],axis=1)\n",
    "X_concat.head()"
   ]
  },
  {
   "cell_type": "code",
   "execution_count": null,
   "id": "3bb17bdc-ceb3-4337-9d57-def1d9d2d707",
   "metadata": {},
   "outputs": [],
   "source": [
    "# Train Test split\n",
    "from sklearn.model_selection import train_test_split\n",
    "xtrain, xtest, ytrain, ytest = train_test_split(X_concat,Y,test_size=0.2,random_state=23)\n",
    "# Apply Standard Scaling on X\n",
    "from sklearn.preprocessing import StandardScaler\n",
    "scaler = StandardScaler()\n",
    "xtrain = pd.DataFrame(scaler.fit_transform(xtrain),columns=xtrain.columns)\n",
    "xtest = pd.DataFrame(scaler.transform(xtest),columns=xtest.columns)"
   ]
  },
  {
   "cell_type": "code",
   "execution_count": null,
   "id": "de8a8d5a-c83c-46a2-8589-ac50d632df1a",
   "metadata": {},
   "outputs": [],
   "source": [
    "xtrain.head()"
   ]
  },
  {
   "cell_type": "code",
   "execution_count": null,
   "id": "2c7ad431-11a4-4d84-af6f-9d059019a307",
   "metadata": {},
   "outputs": [],
   "source": [
    "xtest.head()"
   ]
  },
  {
   "cell_type": "markdown",
   "id": "be18de52-dcf5-450d-a8f1-8783e3254f43",
   "metadata": {},
   "source": [
    "# Insights\n",
    "\n",
    "## Top 5 Important features in Flight prices is :\n",
    "\n",
    "- Flight Duration in Hours\n",
    "- Date of the Flight\n",
    "- Total Stops\n",
    "- Airline\n",
    "- Month"
   ]
  },
  {
   "cell_type": "markdown",
   "id": "b6dedf07-d511-48da-a578-e515d182efc3",
   "metadata": {},
   "source": [
    "# <font color=purple>Google Playstore:</font>"
   ]
  },
  {
   "cell_type": "markdown",
   "id": "04dcf0ee-8a13-4ff9-ab7d-14a2636fad79",
   "metadata": {},
   "source": [
    "***\n",
    "### Q9. Load the Google Playstore dataset and examine its dimensions. How many rows and columns does the dataset have?\n",
    "***\n",
    "## Answer"
   ]
  },
  {
   "cell_type": "code",
   "execution_count": null,
   "id": "a5db5289-bf84-4bf0-9a10-a40b8b37b7bc",
   "metadata": {},
   "outputs": [],
   "source": [
    "import pandas as pd\n",
    "df=pd.read_csv('https://raw.githubusercontent.com/krishnaik06/playstore-Dataset/main/googleplaystore.csv')\n",
    "df.head()"
   ]
  },
  {
   "cell_type": "code",
   "execution_count": null,
   "id": "77925160-99b9-4c0e-9637-5f9bddb46f01",
   "metadata": {},
   "outputs": [],
   "source": [
    "rows, columns=df.shape\n",
    "print(f'the number of rows the dataset have is {rows}')\n",
    "print(f'the number of columns the dataset have is {columns}')"
   ]
  },
  {
   "cell_type": "markdown",
   "id": "39c0ee2a-fb0b-4afb-8d93-3aea20b57264",
   "metadata": {},
   "source": [
    "***\n",
    "### Q10. How does the rating of apps vary by category? Create a boxplot to compare the ratings of different app categories.\n",
    "***\n",
    "## Answer"
   ]
  },
  {
   "cell_type": "code",
   "execution_count": null,
   "id": "1b45b3ee-3131-4dc5-a6e7-a5cc5da5b835",
   "metadata": {},
   "outputs": [],
   "source": [
    "### Ratings of app depends on category as different category have different"
   ]
  },
  {
   "cell_type": "code",
   "execution_count": null,
   "id": "53d18599-e9c7-4901-a8c1-bf9ecf745cef",
   "metadata": {},
   "outputs": [],
   "source": [
    "import pandas as pd\n",
    "import numpy as np\n",
    "import seaborn as sns\n",
    "import matplotlib.pyplot as plt\n",
    "import warnings\n",
    "warnings.filterwarnings(\"ignore\")\n",
    "%matplotlib inline\n",
    "\n"
   ]
  },
  {
   "cell_type": "code",
   "execution_count": null,
   "id": "277712ef-1bf6-4507-94c7-23a715e2f6f6",
   "metadata": {},
   "outputs": [],
   "source": [
    "plt.figure(figsize=(20,20))\n",
    "sns.boxplot(data=df,y=df['Category'],x=df['Rating'])"
   ]
  },
  {
   "cell_type": "markdown",
   "id": "b66cc9ba-7a0f-4c61-8fb4-03e4a1092b61",
   "metadata": {},
   "source": [
    "***\n",
    "### Q11. Are there any missing values in the dataset? Identify any missing values and describe how they may impact your analysis.\n",
    "***\n",
    "## Answer"
   ]
  },
  {
   "cell_type": "code",
   "execution_count": null,
   "id": "8b2b594d-9719-4c06-b950-2a9495d6efe4",
   "metadata": {},
   "outputs": [],
   "source": [
    "df.isnull().sum()"
   ]
  },
  {
   "cell_type": "code",
   "execution_count": null,
   "id": "2c5ff197-0646-4f44-ab06-3eb8f0b42e7b",
   "metadata": {},
   "outputs": [],
   "source": [
    "df[df['Rating'].isna()]\n"
   ]
  },
  {
   "cell_type": "code",
   "execution_count": null,
   "id": "1784cf7d-2b54-485b-a9fd-0ec2665784a4",
   "metadata": {},
   "outputs": [],
   "source": [
    "df[df['Rating'].isna()].fillna(4.4,)"
   ]
  },
  {
   "cell_type": "code",
   "execution_count": null,
   "id": "94bff92a-cd78-4cb9-9088-e972a9a3048c",
   "metadata": {},
   "outputs": [],
   "source": []
  },
  {
   "cell_type": "markdown",
   "id": "eceafbdb-5ceb-4c8c-998a-48f57d09e959",
   "metadata": {},
   "source": [
    "## Insights :\n",
    "1. 1474 missing values found in Rating\n",
    "2. 1 Missing Value found in Type\n",
    "3. 8 Missing Values found in Current Ver\n",
    "4. 2 Missing Values found in Android Ver"
   ]
  },
  {
   "cell_type": "markdown",
   "id": "37b0a54a-3159-4933-955c-b20b089e1e8e",
   "metadata": {},
   "source": [
    "Missing values are data points that are absent in a dataset. They can occur due to various reasons such as data entry errors, equipment malfunctions, or simply because the data was not collected. Missing values can have a significant impact on the analysis of a dataset. For instance, they can lead to biased results, reduce the accuracy of machine learning models, and reduce the precision of calculated statistics.\n",
    "\n",
    "There are different ways to handle missing values in a dataset. Some of the most common methods include imputing missing values with mean or median values, discarding rows or columns with missing values, and replacing missing values with the most frequent value in the column.\n",
    "\n",
    "It is important to understand the different types of missing data and their potential impact on the analysis to select an appropriate method for handling the missing data. Each method has its advantages and disadvantages and is appropriate for different types of missing data values"
   ]
  },
  {
   "cell_type": "markdown",
   "id": "1719e8fd-dc1c-4b81-b88d-0af76b4c9921",
   "metadata": {},
   "source": [
    "***\n",
    "### Q12. What is the relationship between the size of an app and its rating? Create a scatter plot to visualize the relationship.\n",
    "***\n",
    "## Answer"
   ]
  },
  {
   "cell_type": "code",
   "execution_count": null,
   "id": "414b1164-b450-416d-9967-a2eb392cd0c1",
   "metadata": {},
   "outputs": [],
   "source": [
    "df.head(1)"
   ]
  },
  {
   "cell_type": "code",
   "execution_count": null,
   "id": "29455d3b-7bfd-40b0-9f8b-fdee74d377a1",
   "metadata": {},
   "outputs": [],
   "source": [
    "df['Size'].unique()"
   ]
  },
  {
   "cell_type": "code",
   "execution_count": null,
   "id": "3df9367b-e9df-46a9-952f-91ab0d57b9a0",
   "metadata": {},
   "outputs": [],
   "source": [
    "df['Size']=df['Size'].str.replace('M','000')\n",
    "df['Size']=df['Size'].str.replace('k','')\n",
    "df['Size']=df['Size'].str.replace('Varies with device','0')\n",
    "df['Size']=df['Size'].str.replace('1,000+','1')\n",
    "df['Size']=df['Size'].str.replace('+','')"
   ]
  },
  {
   "cell_type": "code",
   "execution_count": null,
   "id": "d960122f-ad73-40b3-8492-88f7db600ada",
   "metadata": {},
   "outputs": [],
   "source": [
    "df['Size']=df['Size'].astype(float)"
   ]
  },
  {
   "cell_type": "code",
   "execution_count": null,
   "id": "3059e1ff-c92e-43ea-a499-21b8ae383480",
   "metadata": {},
   "outputs": [],
   "source": [
    "df.info()"
   ]
  },
  {
   "cell_type": "code",
   "execution_count": null,
   "id": "3ed94777-d03c-4147-88dc-6bf6d9091c7a",
   "metadata": {},
   "outputs": [],
   "source": [
    "plt.scatter(x=df['Size'],y=df['Rating'],alpha=0.5)\n",
    "plt.xlabel('Size')\n",
    "plt.ylabel('Rating')\n",
    "plt.show()"
   ]
  },
  {
   "cell_type": "code",
   "execution_count": null,
   "id": "66387dc0-e9de-4d25-bf62-9e0b85907a3d",
   "metadata": {},
   "outputs": [],
   "source": [
    "df.corr()\n"
   ]
  },
  {
   "cell_type": "markdown",
   "id": "e8c86e88-81a7-4bbd-9fab-b8ee3e2a1af2",
   "metadata": {},
   "source": [
    "### Insights :\n",
    "- There is no relation between ratings and size as correlation is 0 and scatter plot also shows the same"
   ]
  },
  {
   "cell_type": "markdown",
   "id": "4ecc6160-c937-41e9-b4c5-7ddce1916f11",
   "metadata": {},
   "source": [
    "***\n",
    "### Q13. How does the type of app affect its price? Create a bar chart to compare average prices by app type.\n",
    "***\n",
    "## Answer"
   ]
  },
  {
   "cell_type": "code",
   "execution_count": null,
   "id": "dda691b3-a9f1-4d03-a93a-fec1ab98cb69",
   "metadata": {},
   "outputs": [],
   "source": [
    "df.Price.unique()"
   ]
  },
  {
   "cell_type": "code",
   "execution_count": null,
   "id": "4fb69261-01b7-4e08-ab18-318d2786f63c",
   "metadata": {},
   "outputs": [],
   "source": [
    "# Cleaning Price Column\n",
    "chars_to_remove = ['+',',','$','Everyone']\n",
    "columns_to_clean = ['Installs','Price']\n",
    "for items in chars_to_remove:\n",
    "    for col in columns_to_clean:\n",
    "        df[col] = df[col].str.replace(items,'')   "
   ]
  },
  {
   "cell_type": "code",
   "execution_count": null,
   "id": "998e6d10-2647-43af-934f-6c45abcc83d3",
   "metadata": {},
   "outputs": [],
   "source": [
    "df['Price']=df['Price'].str.replace('','0')"
   ]
  },
  {
   "cell_type": "code",
   "execution_count": null,
   "id": "990fe221-710d-4410-bc76-0eaaed48e3f4",
   "metadata": {},
   "outputs": [],
   "source": [
    "df['Price']=df['Price'].astype(float)"
   ]
  },
  {
   "cell_type": "code",
   "execution_count": null,
   "id": "0832b8bf-5bf4-4780-b6da-7979228d6b16",
   "metadata": {},
   "outputs": [],
   "source": [
    "df.groupby(by='Type').mean()['Price']"
   ]
  },
  {
   "cell_type": "code",
   "execution_count": null,
   "id": "d0c1e9cd-7b94-4a5c-967c-a19dc8a8bde5",
   "metadata": {},
   "outputs": [],
   "source": [
    "df.groupby(by='Type').mean()['Price'].plot(kind='bar',title='Barchart of app Type vs Average')\n"
   ]
  },
  {
   "cell_type": "markdown",
   "id": "d8d3bf1e-b833-4727-8ac1-8387613b93ef",
   "metadata": {},
   "source": [
    "## Insights\n",
    "- Free apps have 0 average price\n",
    "- Paid apps have 13.92 average price"
   ]
  },
  {
   "cell_type": "markdown",
   "id": "e75c29ec-696e-490c-aab7-3b35a79bd54b",
   "metadata": {},
   "source": [
    "---\n",
    "### Question 14 : What are the top 10 most popular apps in the dataset? Create a frequency table to identify the apps with the highest number of installs.\n",
    "---\n",
    "## Answer:"
   ]
  },
  {
   "cell_type": "code",
   "execution_count": null,
   "id": "c832d85e-3718-4ef2-a4a4-603b104e1c12",
   "metadata": {},
   "outputs": [],
   "source": [
    "df['App'].duplicated().sum()"
   ]
  },
  {
   "cell_type": "code",
   "execution_count": null,
   "id": "f6ed893f-bf1f-4ace-9f03-82a2bb8222a3",
   "metadata": {},
   "outputs": [],
   "source": [
    "df=df.drop_duplicates(subset=['App'],keep='first')"
   ]
  },
  {
   "cell_type": "code",
   "execution_count": null,
   "id": "733eace2-1247-426b-b577-4d5991ee69b1",
   "metadata": {},
   "outputs": [],
   "source": [
    "df['Installs']=df['Installs'].str.replace('Free','0')"
   ]
  },
  {
   "cell_type": "code",
   "execution_count": null,
   "id": "20ff509d-1de7-4a5e-81bc-41244cb88193",
   "metadata": {},
   "outputs": [],
   "source": [
    "df['Installs']=df['Installs'].astype(int)"
   ]
  },
  {
   "cell_type": "code",
   "execution_count": null,
   "id": "74f6842d-f642-44a8-9c92-e0ada5f2f313",
   "metadata": {},
   "outputs": [],
   "source": [
    "mx = df['Installs'].max()\n",
    "mx"
   ]
  },
  {
   "cell_type": "code",
   "execution_count": null,
   "id": "0801db35-93c8-4e60-8dba-7fcaba230d00",
   "metadata": {},
   "outputs": [],
   "source": [
    "top_10_apps = df.sort_values(by=['Installs','Rating'],ascending=False).head(10)[['App','Installs','Rating']]\n",
    "top_10_apps"
   ]
  },
  {
   "cell_type": "code",
   "execution_count": null,
   "id": "be0d875a-54ea-43f1-b8ad-d87741d83bb3",
   "metadata": {},
   "outputs": [],
   "source": [
    "list(top_10_apps['App'])"
   ]
  },
  {
   "cell_type": "markdown",
   "id": "6a7f089f-2085-4eac-8671-40af9ebcb3dd",
   "metadata": {},
   "source": [
    "---\n",
    "### Q15. A company wants to launch a new app on the Google Playstore and has asked you to analyze the Google Playstore dataset to identify the most popular app categories. How would you approach this task, and what features would you analyze to make recommendations to the company?\n",
    "---\n",
    "## Answer"
   ]
  },
  {
   "cell_type": "code",
   "execution_count": null,
   "id": "f72b3874-6f6f-40bf-83a5-a06a7172fabd",
   "metadata": {},
   "outputs": [],
   "source": [
    "df['Category'].value_counts()"
   ]
  },
  {
   "cell_type": "code",
   "execution_count": null,
   "id": "4c04620a-644c-44ff-b924-c0dd48acfc36",
   "metadata": {},
   "outputs": [],
   "source": [
    "df['Category'].value_counts().plot(kind='bar',figsize=(10,10),title='Value Count of App Categories')"
   ]
  },
  {
   "cell_type": "code",
   "execution_count": null,
   "id": "fe59ede2-e30c-4ae4-8ba2-19d48081d703",
   "metadata": {},
   "outputs": [],
   "source": [
    "df.groupby(by='Category').mean()['Rating'].sort_values(ascending=False).plot(kind='bar',\n",
    "                                                                                  figsize=(10,10),\n",
    "                                                                                  title = 'Average review')"
   ]
  },
  {
   "cell_type": "code",
   "execution_count": null,
   "id": "3143b17d-a540-4026-b3f9-ddb14b93658c",
   "metadata": {},
   "outputs": [],
   "source": [
    "df.groupby(by='Category').sum()['Installs'].sort_values(ascending=False).plot(kind='bar',\n",
    "                                                                                   figsize=(10,10),\n",
    "                                                                                   title='Total Installs per category')\n"
   ]
  },
  {
   "cell_type": "markdown",
   "id": "faca7537-6ce4-4c3e-adaa-2184cba06225",
   "metadata": {},
   "source": [
    "## Insight regarding app categories:\n",
    "- Top 3 app Categories with highest value count are : Family, Game, Tools\n",
    "- Top 3 app Categories with highest average rating are : Game, Communication and Tools\n",
    "- Top 3 app Categories with highest installs are : Game, Communication and Tools"
   ]
  },
  {
   "cell_type": "markdown",
   "id": "965b7b89-3e6b-4056-b4b5-6a93f9e852de",
   "metadata": {},
   "source": [
    "---\n",
    "### Q16. A mobile app development company wants to analyze the Google Playstore dataset to identify the most successful app developers. What features would you analyze to make recommendations to the company, and what data visualizations would you use to present your findings?\n",
    "---\n",
    "## Answer"
   ]
  },
  {
   "cell_type": "code",
   "execution_count": null,
   "id": "194d248d-8204-4f6c-b020-46c314af6647",
   "metadata": {},
   "outputs": [],
   "source": [
    "df.sort_values(by=['Installs','Rating'],ascending=False).head(10)"
   ]
  },
  {
   "cell_type": "code",
   "execution_count": null,
   "id": "0b83b20b-5898-43ad-8fec-bb1908022b97",
   "metadata": {},
   "outputs": [],
   "source": [
    "df.corr()"
   ]
  },
  {
   "cell_type": "code",
   "execution_count": null,
   "id": "b9415cd9-acf8-475a-9e23-2a12a260fca7",
   "metadata": {},
   "outputs": [],
   "source": [
    "df.groupby(by=['Category','Installs']).mean()['Rating']"
   ]
  },
  {
   "cell_type": "code",
   "execution_count": null,
   "id": "032929c4-06b9-4c71-9ced-26cf59656242",
   "metadata": {},
   "outputs": [],
   "source": [
    "df.groupby(by='Genres').mean()['Rating'].sort_values(ascending=False)[0:10]"
   ]
  },
  {
   "cell_type": "code",
   "execution_count": null,
   "id": "37a65023-472b-44a5-851b-69e6b6ee5e80",
   "metadata": {},
   "outputs": [],
   "source": [
    "df.groupby(by='Genres').mean()['Rating'].sort_values(ascending=False)[0:10].plot(kind='bar',\n",
    "                                                                                      figsize=(10,10),\n",
    "                                                                                      title='Genres vs Average Rating')"
   ]
  },
  {
   "cell_type": "code",
   "execution_count": null,
   "id": "0434773f-d878-454f-8f31-430aa8565a09",
   "metadata": {},
   "outputs": [],
   "source": [
    "df.groupby(by='Type').mean()['Rating'].plot(kind='bar')"
   ]
  },
  {
   "cell_type": "code",
   "execution_count": null,
   "id": "415bde8a-f525-4906-8dbc-8a2f6681302a",
   "metadata": {},
   "outputs": [],
   "source": [
    "df.groupby(by='Type').sum()['Installs']"
   ]
  },
  {
   "cell_type": "markdown",
   "id": "78bb6075-de25-4951-9db4-8fb7257b843c",
   "metadata": {},
   "source": [
    "### Insights :\n",
    "1. Top 3 apps with highest Installs and Ratings are : Subway Surfers, Instagram and Google Photos\n",
    "2. Top 3 Genres with highest Average Rating are : Comics , Board, Health and fitness\n",
    "3. Paid apps have slightly better average Rating\n",
    "4. Free apps are installed a lot when compared to Paid apps."
   ]
  },
  {
   "cell_type": "markdown",
   "id": "cb350a12-942c-4344-a4a8-391d6235ea9a",
   "metadata": {},
   "source": [
    "---\n",
    "### Queston 17 : A marketing research firm wants to analyze the Google Playstore dataset to identify the best time to launch a new app. What features would you analyze to make recommendations to the company, and what data visualizations would you use to present your findings?\n",
    "---\n",
    "## Answer"
   ]
  },
  {
   "cell_type": "code",
   "execution_count": null,
   "id": "20127bc1-c674-46ce-a8c9-0ce418c6862d",
   "metadata": {},
   "outputs": [],
   "source": [
    "import pandas as pd\n",
    "import matplotlib.pyplot as plt\n",
    "import seaborn as sns\n",
    "\n",
    "# Load the dataset\n",
    "url = \"https://raw.githubusercontent.com/krishnaik06/playstore-Dataset/main/googleplaystore.csv\"\n",
    "df = pd.read_csv(url)\n",
    "\n",
    "# Convert the \"Last Updated\" column to datetime\n",
    "df[\"Last Updated\"] = pd.to_datetime(df[\"Last Updated\"])\n",
    "\n",
    "# Create a new column for month\n",
    "df[\"Month\"] = df[\"Last Updated\"].dt.month\n",
    "\n",
    "# Group the data by month and calculate the mean for installs, rating, and price\n",
    "monthly_data = df.groupby(\"Month\").agg({\n",
    "    \"Installs\": \"mean\",\n",
    "    \"Rating\": \"mean\",\n",
    "    \"Price\": \"mean\"\n",
    "}).reset_index()\n",
    "\n",
    "# Visualize the data using a line chart\n",
    "plt.figure(figsize=(10, 6))\n",
    "sns.lineplot(x=\"Month\", y=\"value\", hue=\"variable\", \n",
    "             data=pd.melt(monthly_data, [\"Month\"]))\n",
    "plt.title(\"Monthly Trends in Installs, Rating, and Price\")\n",
    "plt.xlabel(\"Month\")\n",
    "plt.ylabel(\"Value\")\n",
    "plt.show()\n",
    "\n",
    "# Visualize the data using a bar chart\n",
    "plt.figure(figsize=(10, 6))\n",
    "sns.barplot(x=\"Month\", y=\"value\", hue=\"variable\", \n",
    "            data=pd.melt(monthly_data, [\"Month\"]))\n",
    "plt.title(\"Comparison of Installs, Rating, and Price Across Months\")\n",
    "plt.xlabel(\"Month\")\n",
    "plt.ylabel(\"Value\")\n",
    "plt.show()\n",
    "\n",
    "# Visualize the data using a heatmap\n",
    "heatmap_data = df.groupby([\"Month\", \"Installs\"]).agg({\n",
    "    \"Rating\": \"mean\"\n",
    "}).reset_index()\n",
    "heatmap_data = heatmap_data.pivot(\"Month\", \"Installs\", \"Rating\")\n",
    "plt.figure(figsize=(10, 6))\n",
    "sns.heatmap(heatmap_data, cmap=\"YlGnBu\")\n",
    "plt.title(\"Heatmap of Installs and Rating by Month\")\n",
    "plt.xlabel(\"Number of Installs\")\n",
    "plt.ylabel(\"Month\")\n",
    "plt.show()"
   ]
  },
  {
   "cell_type": "code",
   "execution_count": null,
   "id": "69539295-6fbb-49ad-9901-97c6e0ae5991",
   "metadata": {},
   "outputs": [],
   "source": []
  }
 ],
 "metadata": {
  "kernelspec": {
   "display_name": "Python 3 (ipykernel)",
   "language": "python",
   "name": "python3"
  },
  "language_info": {
   "codemirror_mode": {
    "name": "ipython",
    "version": 3
   },
   "file_extension": ".py",
   "mimetype": "text/x-python",
   "name": "python",
   "nbconvert_exporter": "python",
   "pygments_lexer": "ipython3",
   "version": "3.10.8"
  },
  "widgets": {
   "application/vnd.jupyter.widget-state+json": {
    "state": {},
    "version_major": 2,
    "version_minor": 0
   }
  }
 },
 "nbformat": 4,
 "nbformat_minor": 5
}
