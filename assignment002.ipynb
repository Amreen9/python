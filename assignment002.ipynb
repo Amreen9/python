{
 "cells": [
  {
   "cell_type": "code",
   "execution_count": 39,
   "id": "c33f2ccc-34de-440b-8526-ff0c72861bdb",
   "metadata": {},
   "outputs": [],
   "source": [
    "# Q1. Create a function which will take a list as an argument and return \n",
    "# the product of all the numbers\n",
    "# after creating a flat list.\n",
    "# Use the below-given list as an argument for your function."
   ]
  },
  {
   "cell_type": "code",
   "execution_count": 43,
   "id": "35768f92-498d-4712-8996-43efe7453c4e",
   "metadata": {},
   "outputs": [
    {
     "ename": "SyntaxError",
     "evalue": "invalid syntax (2346354043.py, line 3)",
     "output_type": "error",
     "traceback": [
      "\u001b[0;36m  Cell \u001b[0;32mIn[43], line 3\u001b[0;36m\u001b[0m\n\u001b[0;31m    sub_items[]\u001b[0m\n\u001b[0m              ^\u001b[0m\n\u001b[0;31mSyntaxError\u001b[0m\u001b[0;31m:\u001b[0m invalid syntax\n"
     ]
    }
   ],
   "source": [
    "def getflatlist(*arg):\n",
    "    flat_list=[]\n",
    "    sub_items[]\n",
    "    for items in list1:\n",
    "        if type(items)==int:\n",
    "            flat_list.append(items)\n",
    "        elif type(items)==list:\n",
    "            for sub_item in items:\n",
    "                if type(sub_item)==int:\n",
    "                    flat_list.append(sub_items)\n",
    "        elif type(items)==str:\n",
    "            pass\n",
    "        elif type(items)==tuple:\n",
    "            for sub_item in items:\n",
    "                if type(sub_item)==int:\n",
    "                    flat_list.append(sub_item)\n",
    "        elif type(items)==set:\n",
    "            for sub_item in items:\n",
    "                if type(sub_item)==int:\n",
    "                    flat_list.append(sub_item)\n",
    "                if type(items[sub_item])==int:\n",
    "                    flat_list.append(items[sub_item])\n",
    "                if type(sub_item)==str:\n",
    "                    pass\n",
    "                if type(items[sub_item])==list or type(items[sub_item])==tuple:\n",
    "                    for i in items[sub_item]:\n",
    "                        flat_list.append(i)\n",
    "        elif type(items)==list:\n",
    "            for sub_item in items:\n",
    "                if type(sub_item)==int:\n",
    "                    flat_list.append(sub_item)\n",
    "                    \n",
    "        else:\n",
    "            pass\n",
    "    print(flat_list)\n",
    "    value=1\n",
    "    for i in flat_list:\n",
    "        value=value*i\n",
    "    return value\n",
    "\n",
    "list1 = [1,2,3,4, [44,55,66, True], False, (34,56,78,89,34), {1,2,3,3,2,1}, {1:34, \"key2\": [55, 67, 78, 89], 4: (45,\n",
    "22, 61, 34)}, [56, 'data science'], 'Machine Learning']\n",
    "getflatlist(list1)\n",
    "                \n",
    "                \n",
    "                \n",
    "                \n",
    "                        \n",
    "            "
   ]
  },
  {
   "cell_type": "code",
   "execution_count": 22,
   "id": "147c06db-c53a-4f77-8af7-255c904b1a9b",
   "metadata": {},
   "outputs": [],
   "source": [
    "# Q2. Write a python program for encrypting a message sent to you by your friend. \n",
    "# The logic of encryption\n",
    "# should be such that, for a the output should be z. For b, the output should be\n",
    "# y. For c, the output should\n",
    "# be x respectively. Also, the whitespace should be replaced with a dollar sign.\n",
    "# Keep the punctuation\n",
    "# marks unchanged."
   ]
  },
  {
   "cell_type": "code",
   "execution_count": 36,
   "id": "963d79c7-c26b-4822-bf3a-d2aa81519ba7",
   "metadata": {},
   "outputs": [
    {
     "name": "stdout",
     "output_type": "stream",
     "text": [
      "r$dzmg$gl$yvxlnv$z$wzgz$hxrvmgrhg.\n"
     ]
    }
   ],
   "source": [
    "def encrypt_msg(message):\n",
    "    encrypted_msg = \"\"\n",
    "    for char in message.lower():\n",
    "        if char == \" \":\n",
    "            encrypted_msg += \"$\"\n",
    "        elif char.isalpha():\n",
    "            encrypted_msg += chr(ord(\"a\") + (25 - (ord(char) - ord(\"a\"))))\n",
    "        else:\n",
    "            encrypted_msg += char\n",
    "    return encrypted_msg\n",
    "input_sentence = \"I want to become a Data Scientist.\"\n",
    "encrypted_sentence = encrypt_msg(input_sentence)\n",
    "print(encrypted_sentence)"
   ]
  },
  {
   "cell_type": "code",
   "execution_count": null,
   "id": "0606a950-7ff8-4c4c-81ba-3afd30ef7bc6",
   "metadata": {},
   "outputs": [],
   "source": []
  }
 ],
 "metadata": {
  "kernelspec": {
   "display_name": "Python 3 (ipykernel)",
   "language": "python",
   "name": "python3"
  },
  "language_info": {
   "codemirror_mode": {
    "name": "ipython",
    "version": 3
   },
   "file_extension": ".py",
   "mimetype": "text/x-python",
   "name": "python",
   "nbconvert_exporter": "python",
   "pygments_lexer": "ipython3",
   "version": "3.10.8"
  }
 },
 "nbformat": 4,
 "nbformat_minor": 5
}
