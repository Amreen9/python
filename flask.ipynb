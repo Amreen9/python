{
 "cells": [
  {
   "cell_type": "code",
   "execution_count": 1,
   "id": "79fe70e7-85be-4ead-94b9-f50bdf81a3ce",
   "metadata": {},
   "outputs": [],
   "source": [
    "# Q1. What is Flask Framework? What are the advantages of Flask Framework?"
   ]
  },
  {
   "cell_type": "code",
   "execution_count": 2,
   "id": "e85d5ad7-6eea-4d69-b36c-3ab40d0d392d",
   "metadata": {},
   "outputs": [],
   "source": [
    "# Flask is a web framework that allows developers to build lightweight\n",
    "# web applications quickly and easily with Flask Libraries. \n",
    "# It was developed by Armin Ronacher, leader of the International Group \n",
    "# of Python Enthusiasts(POCCO). \n",
    "# It is basically based on the WSGI toolkit and Jinja2 templating engine."
   ]
  },
  {
   "cell_type": "code",
   "execution_count": 3,
   "id": "11604f4f-088e-4251-8f8b-e107da91178f",
   "metadata": {},
   "outputs": [],
   "source": [
    "# Advantages of Flask:\n",
    "\n",
    "# Flask is a lightweight backend framework with minimal dependencies.\n",
    "\n",
    "# Flask is easy to learn because its simple and intuitive API makes it easy to learn and use for beginners.\n",
    "\n",
    "# Flask is a flexible Framework because it allows you to customize and extend the framework to suit your needs easily.\n",
    "\n",
    "# Flask can be used with any database like:- SQL and NoSQL and with any Frontend Technology such as React or Angular.\n",
    "\n",
    "# Flask is great for small to medium projects that do not require the complexity of a large framework."
   ]
  },
  {
   "cell_type": "code",
   "execution_count": 4,
   "id": "781360ca-b711-4098-a154-1bfeecb850b3",
   "metadata": {},
   "outputs": [],
   "source": [
    "# Q2. Create a simple Flask application to display ‘Hello World!!’. \n",
    "# Attach the screenshot of the output in\n",
    "# Jupyter Notebook."
   ]
  },
  {
   "cell_type": "code",
   "execution_count": 3,
   "id": "9a733d08-8745-4ef3-95ae-eb34e28231b8",
   "metadata": {},
   "outputs": [
    {
     "name": "stdout",
     "output_type": "stream",
     "text": [
      "Requirement already satisfied: flask in /opt/conda/lib/python3.10/site-packages (2.3.2)\n",
      "Requirement already satisfied: click>=8.1.3 in /opt/conda/lib/python3.10/site-packages (from flask) (8.1.3)\n",
      "Requirement already satisfied: Werkzeug>=2.3.3 in /opt/conda/lib/python3.10/site-packages (from flask) (2.3.6)\n",
      "Requirement already satisfied: Jinja2>=3.1.2 in /opt/conda/lib/python3.10/site-packages (from flask) (3.1.2)\n",
      "Requirement already satisfied: itsdangerous>=2.1.2 in /opt/conda/lib/python3.10/site-packages (from flask) (2.1.2)\n",
      "Requirement already satisfied: blinker>=1.6.2 in /opt/conda/lib/python3.10/site-packages (from flask) (1.6.2)\n",
      "Requirement already satisfied: MarkupSafe>=2.0 in /opt/conda/lib/python3.10/site-packages (from Jinja2>=3.1.2->flask) (2.1.1)\n",
      "Note: you may need to restart the kernel to use updated packages.\n"
     ]
    }
   ],
   "source": [
    "pip install flask"
   ]
  },
  {
   "cell_type": "code",
   "execution_count": 4,
   "id": "df67c2a0-14c7-4bfa-bd93-fae3405ac23e",
   "metadata": {},
   "outputs": [],
   "source": [
    "from flask import Flask\n",
    "\n",
    "\n"
   ]
  },
  {
   "cell_type": "code",
   "execution_count": null,
   "id": "c73f81e2-13c6-44da-9c9a-ef8550d27569",
   "metadata": {},
   "outputs": [],
   "source": [
    "app= Flask(__name__)\n",
    "\n",
    "@app.route(\"/\")\n",
    "def hello_world():\n",
    "    return \"</h1>Hello,world!<h1>\"\n",
    "\n",
    "if __name__==\"__main__\":\n",
    "    app.run(host=\"0.0.0.0\")"
   ]
  },
  {
   "cell_type": "markdown",
   "id": "335ffb2e-a7ce-47c8-a43b-728cbcdedb90",
   "metadata": {},
   "source": [
    "![ss](C:\\Users\\Yoga\\Pictures\\Screenshots\\Screenshot (26).png)"
   ]
  },
  {
   "cell_type": "code",
   "execution_count": 18,
   "id": "d021ea64-c611-4ae5-bac6-1545b724f05d",
   "metadata": {},
   "outputs": [],
   "source": [
    "# Q3. What is App routing in Flask? Why do we use app routes?\n"
   ]
  },
  {
   "cell_type": "code",
   "execution_count": 19,
   "id": "d44c9178-c708-4323-b58a-e09a5e43ab55",
   "metadata": {},
   "outputs": [],
   "source": [
    "# App routing is used to map the specific URL with the associated function that is \n",
    "# intended to perform some task.\n",
    "# The routing technique helps a user remember application URLs and \n",
    "# is useful to access the desired page directly \n",
    "# without having to navigate from the home page."
   ]
  },
  {
   "cell_type": "code",
   "execution_count": 20,
   "id": "2748f23e-35c5-4f71-85fe-da80cb95876e",
   "metadata": {},
   "outputs": [],
   "source": [
    "# App routes are used to map URLs to\n",
    "# o specific functions that handle the logic for that URL"
   ]
  },
  {
   "cell_type": "code",
   "execution_count": null,
   "id": "bef7aca8-008e-44c9-95cd-30f81a07a9de",
   "metadata": {},
   "outputs": [],
   "source": [
    "# Q4. Create a “/welcome” route to display the welcome message \n",
    "# “Welcome to ABC Corporation” and a “/”\n",
    "# route to show the following details:\n",
    "# Company Name: ABC Corporation\n",
    "# Location: India\n",
    "# Contact Detail: 999-999-9999"
   ]
  },
  {
   "cell_type": "code",
   "execution_count": 1,
   "id": "e19970b8-634b-49f3-8fe0-0934cfaf7caa",
   "metadata": {},
   "outputs": [
    {
     "name": "stdout",
     "output_type": "stream",
     "text": [
      "Requirement already satisfied: flask in /opt/conda/lib/python3.10/site-packages (2.3.2)\n",
      "Requirement already satisfied: click>=8.1.3 in /opt/conda/lib/python3.10/site-packages (from flask) (8.1.3)\n",
      "Requirement already satisfied: Jinja2>=3.1.2 in /opt/conda/lib/python3.10/site-packages (from flask) (3.1.2)\n",
      "Requirement already satisfied: Werkzeug>=2.3.3 in /opt/conda/lib/python3.10/site-packages (from flask) (2.3.6)\n",
      "Requirement already satisfied: itsdangerous>=2.1.2 in /opt/conda/lib/python3.10/site-packages (from flask) (2.1.2)\n",
      "Requirement already satisfied: blinker>=1.6.2 in /opt/conda/lib/python3.10/site-packages (from flask) (1.6.2)\n",
      "Requirement already satisfied: MarkupSafe>=2.0 in /opt/conda/lib/python3.10/site-packages (from Jinja2>=3.1.2->flask) (2.1.1)\n",
      "Note: you may need to restart the kernel to use updated packages.\n"
     ]
    }
   ],
   "source": [
    "pip install flask"
   ]
  },
  {
   "cell_type": "code",
   "execution_count": 2,
   "id": "c3a2748c-27b3-4b4c-8822-8e62208ddd6c",
   "metadata": {},
   "outputs": [],
   "source": [
    "from flask import Flask"
   ]
  },
  {
   "cell_type": "code",
   "execution_count": null,
   "id": "2f37a05c-a92a-4a06-9754-99e3c1f7f98f",
   "metadata": {},
   "outputs": [
    {
     "name": "stdout",
     "output_type": "stream",
     "text": [
      " * Serving Flask app '__main__'\n",
      " * Debug mode: off\n"
     ]
    },
    {
     "name": "stderr",
     "output_type": "stream",
     "text": [
      "WARNING: This is a development server. Do not use it in a production deployment. Use a production WSGI server instead.\n",
      " * Running on all addresses (0.0.0.0)\n",
      " * Running on http://127.0.0.1:5000\n",
      " * Running on http://172.18.0.9:5000\n",
      "Press CTRL+C to quit\n",
      "172.18.0.2 - - [06/Jul/2023 06:09:52] \"GET /welcomee HTTP/1.1\" 200 -\n"
     ]
    }
   ],
   "source": [
    "app= Flask(__name__)\n",
    "\n",
    "@app.route(\"/welcomee\")\n",
    "def welcome():\n",
    "    return \"\"\"</h1>Welcome to ABC Corporation\\n\n",
    "    Company Name: ABC Corporation\\n\n",
    "Location: India\\n\n",
    "Contact Detail: 999-999-9999\\n\n",
    "    <h1>\"\"\"\n",
    "    \n",
    "\n",
    "if __name__==\"__main__\":\n",
    "    app.run(host=\"0.0.0.0\")\n"
   ]
  },
  {
   "cell_type": "markdown",
   "id": "b027db73-79a8-4230-a073-2dbf188d2a50",
   "metadata": {},
   "source": [
    "![ss2](C:\\Users\\Yoga\\Pictures\\Screenshots\\Screenshot (29).png)"
   ]
  },
  {
   "cell_type": "code",
   "execution_count": null,
   "id": "05f2e2db-0e4e-48d7-8e5b-51bc6163e880",
   "metadata": {},
   "outputs": [],
   "source": [
    "# Q5. What function is used in Flask for URL Building?\n",
    "# Write a Python code to demonstrate the working of the\n",
    "# url_for() function."
   ]
  },
  {
   "cell_type": "code",
   "execution_count": null,
   "id": "b389b587-3a79-48a7-b010-6e5f9f21567d",
   "metadata": {},
   "outputs": [],
   "source": [
    "# Flask url_for is defined as a function that enables developers to build \n",
    "# and generate URLs on a Flask application. As a best practice, it is the url_for \n",
    "# function that is required to be used, as hard coding the URL in templates and view \n",
    "# function of the Flask application tends to utilize more time during modification"
   ]
  },
  {
   "cell_type": "code",
   "execution_count": null,
   "id": "b88ad17c-3210-4a93-b4ba-990721a32d0d",
   "metadata": {},
   "outputs": [],
   "source": [
    "pip install flask"
   ]
  },
  {
   "cell_type": "code",
   "execution_count": 1,
   "id": "8d087286-ddaf-4eaf-bbc2-69b237f81cde",
   "metadata": {},
   "outputs": [
    {
     "ename": "SyntaxError",
     "evalue": "invalid syntax (552920035.py, line 1)",
     "output_type": "error",
     "traceback": [
      "\u001b[0;36m  Cell \u001b[0;32mIn[1], line 1\u001b[0;36m\u001b[0m\n\u001b[0;31m    pip install flask\u001b[0m\n\u001b[0m        ^\u001b[0m\n\u001b[0;31mSyntaxError\u001b[0m\u001b[0;31m:\u001b[0m invalid syntax\n"
     ]
    }
   ],
   "source": [
    "\n",
    "from flask import Flask\n",
    "\n",
    "\n",
    "app = Flask(__name__)\n",
    "\n",
    "\n",
    "@app.route('/')\n",
    "def home():\n",
    "   return \"Welcome to flask!\"\n",
    "\n",
    "\n",
    "@app.route('/about')\n",
    "def about():\n",
    "   return \"it helps to build urls\"\n",
    "\n",
    "\n",
    "if __name__ == '__main__':\n",
    "   app.run(debug=True)"
   ]
  },
  {
   "cell_type": "code",
   "execution_count": null,
   "id": "4bff525a-b943-47c2-bef9-90bf0feefcc6",
   "metadata": {},
   "outputs": [],
   "source": []
  }
 ],
 "metadata": {
  "kernelspec": {
   "display_name": "Python 3 (ipykernel)",
   "language": "python",
   "name": "python3"
  },
  "language_info": {
   "codemirror_mode": {
    "name": "ipython",
    "version": 3
   },
   "file_extension": ".py",
   "mimetype": "text/x-python",
   "name": "python",
   "nbconvert_exporter": "python",
   "pygments_lexer": "ipython3",
   "version": "3.10.8"
  }
 },
 "nbformat": 4,
 "nbformat_minor": 5
}
