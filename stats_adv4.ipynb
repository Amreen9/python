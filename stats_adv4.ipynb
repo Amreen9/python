{
 "cells": [
  {
   "cell_type": "markdown",
   "id": "a51050ce-2d91-4ff7-9663-8fea75dabfa5",
   "metadata": {},
   "source": [
    "**Statistics Advance - 4**"
   ]
  },
  {
   "cell_type": "markdown",
   "id": "6830c677-a199-453a-b827-a95f6b6bc1b9",
   "metadata": {},
   "source": [
    "Q1: What is the difference between a t-test and a z-test? Provide an example scenario where you would\n",
    "use each type of test."
   ]
  },
  {
   "cell_type": "markdown",
   "id": "9b715943-d69c-4e39-8771-c7b954225b7e",
   "metadata": {},
   "source": [
    "Ans: The main difference between t-tests and z-tests is that t-tests are used when the population standard deviation is unknown, while z-tests are used when the population standard deviation is known.\n",
    "\n",
    "T-tests are also used when the sample size is small (less than 30), while z-tests are used when the sample size is large (greater than or equal to 30).\n",
    "\n",
    "Both t-tests and z-tests are used to test hypotheses about population means, but they differ in their assumptions about the population standard deviation and sample size. T-tests use a t-distribution, which has heavier tails than the normal distribution used by z-tests. This means that t-tests are more appropriate when the sample size is small and the population standard deviation is unknown, as they provide more accurate results under these conditions.\n",
    "\n",
    "For example, suppose we want to test whether a new drug is more effective than an existing drug in treating a certain condition. We could randomly assign patients to two groups: one group receives the new drug, and the other group receives the existing drug. We could then use a t-test to compare the mean effectiveness of the two drugs if we don’t know the population standard deviation. If we know the population standard deviation, we could use a z-test instead."
   ]
  },
  {
   "cell_type": "markdown",
   "id": "078f0252-4eb0-4fb5-846f-c54bb8b774d9",
   "metadata": {},
   "source": [
    "Q2: Differentiate between one-tailed and two-tailed tests."
   ]
  },
  {
   "cell_type": "markdown",
   "id": "8d4b1e0c-f08d-445f-9899-592f75e5c234",
   "metadata": {},
   "source": [
    "One-tailed and two-tailed tests are used in hypothesis testing to determine whether a sample statistic is significantly different from a hypothesized population parameter. The main difference between the two tests is the directionality of the alternative hypothesis.\n",
    "\n",
    "In a one-tailed test, the alternative hypothesis specifies the direction of the difference between the sample statistic and the hypothesized population parameter. For example, if we want to test whether a new drug is more effective than an existing drug, we would use a one-tailed test with the alternative hypothesis that the new drug is more effective than the existing drug. The null hypothesis would be that there is no difference between the two drugs or that the existing drug is more effective than the new drug. The critical region for this test would be on one side of the sampling distribution.\n",
    "\n",
    "In a two-tailed test, the alternative hypothesis does not specify the direction of the difference between the sample statistic and the hypothesized population parameter. For example, if we want to test whether a coin is biased, we would use a two-tailed test with the alternative hypothesis that the coin is not fair. The null hypothesis would be that the coin is fair. The critical region for this test would be split between both sides of the sampling distribution.\n",
    "\n",
    "The choice between one-tailed and two-tailed tests depends on the research question and the directionality of the effect being tested. One-tailed tests are more powerful than two-tailed tests when there is a directional effect, but they are less powerful when there is no directional effect"
   ]
  },
  {
   "cell_type": "markdown",
   "id": "652dcb48-a5a7-4f9f-89d5-b679bc0ed488",
   "metadata": {},
   "source": [
    "Q3: Explain the concept of Type 1 and Type 2 errors in hypothesis testing. Provide an example scenario for\n",
    "each type of error."
   ]
  },
  {
   "cell_type": "markdown",
   "id": "97210008-df10-47ce-ac9c-8299cc744cdf",
   "metadata": {},
   "source": [
    "In hypothesis testing, Type I and Type II errors are two types of errors that can occur when making a decision about a null hypothesis.\n",
    "\n",
    "A Type I error occurs when the null hypothesis is rejected even though it is true. This is also known as a false positive. For example, suppose a medical test for a disease has a 5% false positive rate. This means that 5% of people who do not have the disease will test positive for it.\n",
    "\n",
    "A Type II error occurs when the null hypothesis is not rejected even though it is false. This is also known as a false negative. For example, suppose a medical test for a disease has a 10% false negative rate. This means that 10% of people who have the disease will test negative for it."
   ]
  },
  {
   "cell_type": "markdown",
   "id": "c205df7c-8371-4b4d-b6c2-8c40f6fd696a",
   "metadata": {},
   "source": [
    "Q4: Explain Bayes's theorem with an example."
   ]
  },
  {
   "cell_type": "markdown",
   "id": "4b4a98f8-b2d4-4bb9-a525-f90b9536dc99",
   "metadata": {},
   "source": [
    "Ans: Bayes’s theorem is a mathematical formula that describes the probability of an event based on prior knowledge of conditions that might be related to the event 1. It is used in Bayesian inference, a particular approach to statistical inference.\n",
    "\n",
    "The formula for Bayes’s theorem is:\n",
    "\n",
    "P(A|B) = P(B|A) * P(A) / P(B)\n",
    "\n",
    "where A and B are events, P(A|B) is the probability of A given B, P(B|A) is the probability of B given A, P(A) is the prior probability of A, and P(B) is the prior probability of B 1.\n",
    "\n",
    "For example, suppose we want to test the accuracy of a medical test for a disease. We know that the test has a 95% accuracy rate, meaning that it correctly identifies 95% of people who have the disease and 95% of people who do not have the disease. We also know that 1% of the population has the disease. If we randomly select a person from the population and administer the test, what is the probability that they actually have the disease if they test positive?\n",
    "\n",
    "Using Bayes’s theorem, we can calculate this probability as follows:\n",
    "\n",
    "P(Disease|Positive Test) = P(Positive Test|Disease) * P(Disease) / P(Positive Test)\n",
    "\n",
    "where Disease is the event that a person has the disease, Positive Test is the event that a person tests positive for the disease, P(Positive Test|Disease) is the probability of testing positive given that a person has the disease (which we know to be 0.95), P(Disease) is the prior probability of having the disease (which we know to be 0.01), and P(Positive Test) is the prior probability of testing positive (which we need to calculate).\n",
    "\n",
    "To calculate P(Positive Test), we can use the law of total probability:\n",
    "\n",
    "P(Positive Test) = P(Positive Test|Disease) * P(Disease) + P(Positive Test|No Disease) * P(No Disease)\n",
    "\n",
    "where No Disease is the event that a person does not have the disease. We know that P(Positive Test|No Disease) is 0.05 (since 5% of people who do not have the disease will test positive for it), and we can calculate P(No Disease) as 0.99 (since 1% of people have the disease). Therefore:\n",
    "\n",
    "P(Positive Test) = 0.95 * 0.01 + 0.05 * 0.99 = 0.059\n",
    "\n",
    "Substituting these values into Bayes’s theorem, we get:\n",
    "\n",
    "P(Disease|Positive Test) = 0.95 * 0.01 / 0.059 ≈ 0.161\n",
    "\n",
    "Therefore, if a person tests positive for the disease, there is only about a 16.1% chance that they actually have it.\n",
    "\n"
   ]
  },
  {
   "cell_type": "markdown",
   "id": "f5a5bc6c-11d9-4684-8555-2c32eb228dae",
   "metadata": {},
   "source": [
    "Q5: What is a confidence interval? How to calculate the confidence interval, explain with an example."
   ]
  },
  {
   "cell_type": "markdown",
   "id": "ffdd42f0-70fa-439b-b98b-9453e458f3bd",
   "metadata": {},
   "source": [
    "Ans: A confidence interval is a range of values that is likely to contain the true value of a population parameter with a certain level of confidence. It is calculated from a sample of data and is used to estimate the range of values that the population parameter could take.\n",
    "\n",
    "To calculate a confidence interval, we need to know the sample mean, sample standard deviation, sample size, and the level of confidence. The formula for calculating a confidence interval is:\n",
    "\n",
    "Confidence Interval = Sample Mean ± (Critical Value) * (Standard Error)\n",
    "\n",
    "where the critical value is obtained from a t-distribution table or a z-distribution table depending on the sample size and level of confidence, and the standard error is calculated as the sample standard deviation divided by the square root of the sample size.\n",
    "\n",
    "For example, suppose we want to estimate the average height of students in a university with 95% confidence. We take a random sample of 50 students and measure their heights. We find that the sample mean height is 68 inches and the sample standard deviation is 3 inches. Using a t-distribution table with 49 degrees of freedom and a significance level of 0.025 (since we want 95% confidence), we find that the critical value is approximately 2.009.\n",
    "\n",
    "Substituting these values into the formula, we get:\n",
    "\n",
    "Confidence Interval = 68 ± (2.009) * (3 / sqrt(50)) = (66.4, 69.6)\n",
    "\n",
    "Therefore, we can estimate with 95% confidence that the true average height of students in the university is between 66.4 and 69.6 inches."
   ]
  },
  {
   "cell_type": "markdown",
   "id": "0195d7c2-2872-4a51-aff5-5fb605b14d1c",
   "metadata": {},
   "source": [
    "Q6. Use Bayes' Theorem to calculate the probability of an event occurring given prior knowledge of the\n",
    "event's probability and new evidence. Provide a sample problem and solution."
   ]
  },
  {
   "cell_type": "markdown",
   "id": "f77818fd-fedc-4e94-b7c6-80db1c988f61",
   "metadata": {},
   "source": [
    "Ans:\n",
    "\n",
    "Bayes’ Theorem is a statistical formula that calculates the probability of an event occurring based on prior knowledge of the event’s probability and new evidence. It is used to update the probability of an event occurring as new information becomes available. The formula is as follows:\n",
    "\n",
    "P(A|B) = P(B|A) * P(A) / P(B)\n",
    "\n",
    "where P(A|B) is the probability of A given B, P(B|A) is the probability of B given A, P(A) is the prior probability of A, and P(B) is the prior probability of B.\n",
    "\n",
    "Here’s a sample problem and solution:\n",
    "\n",
    "Suppose that a certain disease affects 1% of the population. A test has been developed to detect the disease, but it is not perfect. The test correctly identifies 95% of people who have the disease (true positive rate) and 90% of people who do not have the disease (true negative rate). If a person tests positive for the disease, what is the probability that they actually have it?\n",
    "\n",
    "Let A be the event that a person has the disease, and B be the event that a person tests positive for the disease. We want to find P(A|B).\n",
    "\n",
    "Using Bayes’ Theorem, we have:\n",
    "\n",
    "P(A|B) = P(B|A) * P(A) / P(B)\n",
    "\n",
    "P(B|A) is the true positive rate, which is 0.95.\n",
    "\n",
    "P(A) is the prior probability of having the disease, which is 0.01.\n",
    "\n",
    "P(B) can be calculated using the law of total probability:\n",
    "\n",
    "P(B) = P(B|A) * P(A) + P(B|not A) * P(not A) = 0.95 * 0.01 + 0.1 * 0.99 = 0.1085\n",
    "\n",
    "where not A is the complement of A (i.e., not having the disease).\n",
    "\n",
    "Substituting these values into Bayes’ Theorem, we get:\n",
    "\n",
    "P(A|B) = 0.95 * 0.01 / 0.1085 ≈ 8.76%\n",
    "\n",
    "Therefore, if a person tests positive for the disease, there is only an 8.76% chance that they actually have it."
   ]
  },
  {
   "cell_type": "markdown",
   "id": "e2a3602e-93fa-4d29-8296-48f80152b304",
   "metadata": {},
   "source": [
    "Q7. Calculate the 95% confidence interval for a sample of data with a mean of 50 and a standard deviation \n",
    "of 5. Interpret the results"
   ]
  },
  {
   "cell_type": "markdown",
   "id": "310a92d3-8e3a-4062-b44d-d761ed99c61c",
   "metadata": {},
   "source": [
    "Ans:\n",
    "    \n",
    "To calculate the 95% confidence interval for a sample of data with a mean of 50 and a standard deviation of 5, we can use the following formula:\n",
    "\n",
    "Lower limit = M - Z.95 * σ / √n Upper limit = M + Z.95 * σ / √n\n",
    "\n",
    "where M is the sample mean, Z.95 is the Z-value for the 95% confidence level (which is 1.96), σ is the sample standard deviation, and n is the sample size.\n",
    "\n",
    "Substituting the given values into the formula, we get:\n",
    "\n",
    "Lower limit = 50 - 1.96 * 5 / √n Upper limit = 50 + 1.96 * 5 / √n\n",
    "\n",
    "Since we don’t know the sample size, we can’t calculate the exact values of the lower and upper limits. However, we can interpret what these limits mean.\n",
    "\n",
    "The confidence interval represents a range of values that we are fairly confident contains the true population mean. In this case, we are 95% confident that the true population mean falls between the lower and upper limits calculated above.\n",
    "\n",
    "Therefore, if we were to take many samples of data from this population and calculate a 95% confidence interval for each sample, we would expect that about 95% of these intervals would contain the true population mean "
   ]
  },
  {
   "cell_type": "markdown",
   "id": "60b65525-7463-436f-970c-876de9fc2a40",
   "metadata": {},
   "source": [
    "Q8. What is the margin of error in a confidence interval? How does sample size affect the margin of error? \n",
    "Provide an example of a scenario where a larger sample size would result in a smaller margin of error"
   ]
  },
  {
   "cell_type": "markdown",
   "id": "8d91005f-97f6-477c-9e81-2f50d5716c73",
   "metadata": {},
   "source": [
    "Ans: \n",
    "    \n",
    "The margin of error is a measure of the uncertainty in an estimate of a population parameter. It is the amount by which the sample statistic may differ from the true population parameter. The margin of error is calculated using the sample size, sample proportion, and chosen z-value. The larger the sample size, the smaller the margin of error.\n",
    "\n",
    "For example, suppose we want to estimate the proportion of voters who support a particular candidate in an upcoming election. We take a random sample of 500 voters and find that 60% of them support the candidate. We can use this information to construct a 95% confidence interval for the true proportion of voters who support the candidate.\n",
    "\n",
    "Using the formula for calculating the margin of error, we get:\n",
    "\n",
    "Margin of error = Z.95 * √(p * (1 - p)) / √n = 1.96 * √(0.6 * 0.4) / √500 ≈ 0.05\n",
    "\n",
    "This means that we are 95% confident that the true proportion of voters who support the candidate lies within 60% ± 5% or between 55% and 65%."
   ]
  },
  {
   "cell_type": "markdown",
   "id": "3c9f96f3-d485-4620-8f19-b9f049974d9f",
   "metadata": {},
   "source": [
    "Q9. Calculate the z-score for a data point with a value of 75, a population mean of 70, and a population \n",
    "standard deviation of 5. Interpret the results"
   ]
  },
  {
   "cell_type": "markdown",
   "id": "389c52ed-b848-4276-8800-04898c786378",
   "metadata": {},
   "source": [
    "Ans:\n",
    "    \n",
    "To calculate the z-score for a data point with a value of 75, a population mean of 70, and a population standard deviation of 5, we can use the following formula:\n",
    "\n",
    "z = (X – μ) / σ\n",
    "\n",
    "where X is the data point, μ is the population mean, and σ is the population standard deviation.\n",
    "\n",
    "Substituting the given values into the formula, we get:\n",
    "\n",
    "z = (75 - 70) / 5 = 1\n",
    "\n",
    "Therefore, the z-score for this data point is 1.\n",
    "\n",
    "Interpreting the results, we can say that this data point is 1 standard deviation above the population mean. This means that it is above average compared to the rest of the population."
   ]
  },
  {
   "cell_type": "markdown",
   "id": "c991f62c-dc53-4274-b37d-caf374a3ddb4",
   "metadata": {},
   "source": [
    "Q10. In a study of the effectiveness of a new weight loss drug, a sample of 50 participants lost an average \n",
    "of 6 pounds with a standard deviation of 2.5 pounds. Conduct a hypothesis test to determine if the drug is \n",
    "significantly effective at a 95% confidence level using a t-test"
   ]
  },
  {
   "cell_type": "markdown",
   "id": "07012093-965c-4f4f-a8b6-f7a288e0aa6b",
   "metadata": {},
   "source": [
    "Ans:\n",
    "\n",
    "To conduct a hypothesis test to determine if the drug is significantly effective at a 95% confidence level using a t-test, we need to set up the null and alternative hypotheses:\n",
    "\n",
    "Null hypothesis (H0): The drug is not significantly effective. The population mean weight loss is equal to or less than 0.\n",
    "Alternative hypothesis (Ha): The drug is significantly effective. The population mean weight loss is greater than 0.\n",
    "We can use a one-sample t-test to test these hypotheses. The test statistic is calculated as follows:\n",
    "\n",
    "t = (x̄ - μ) / (s / √n)\n",
    "\n",
    "where x̄ is the sample mean, μ is the hypothesized population mean under the null hypothesis, s is the sample standard deviation, and n is the sample size.\n",
    "\n",
    "Substituting the given values into the formula, we get:\n",
    "\n",
    "t = (6 - 0) / (2.5 / √50) ≈ 12.65\n",
    "\n",
    "Using a t-distribution table with 49 degrees of freedom and a significance level of 0.05, we find that the critical value of t for a one-tailed test is approximately 1.677.\n",
    "\n",
    "Since our calculated t-value (12.65) is greater than the critical value of t (1.677), we reject the null hypothesis and conclude that the drug is significantly effective at a 95% confidence level.\n",
    "\n",
    "Therefore, we can say that there is strong evidence to suggest that the new weight loss drug is effective in helping people lose weight."
   ]
  },
  {
   "cell_type": "markdown",
   "id": "0064deb9-4f48-4577-be24-70e13fa16d50",
   "metadata": {},
   "source": [
    "Q11. In a survey of 500 people, 65% reported being satisfied with their current job. Calculate the 95% \n",
    "confidence interval for the true proportion of people who are satisfied with their job"
   ]
  },
  {
   "cell_type": "markdown",
   "id": "b5cc93e0-754b-4118-9c4f-f8934558f300",
   "metadata": {},
   "source": [
    "To calculate the 95% confidence interval for the true proportion of people who are satisfied with their job, we can use the following formula:\n",
    "\n",
    "Lower limit = p - Z.95 * √(p * (1 - p) / n) Upper limit = p + Z.95 * √(p * (1 - p) / n)\n",
    "\n",
    "where p is the sample proportion, Z.95 is the Z-value for the 95% confidence level (which is 1.96), and n is the sample size.\n",
    "\n",
    "Substituting the given values into the formula, we get:\n",
    "\n",
    "Lower limit = 0.65 - 1.96 * √(0.65 * 0.35 / 500) Upper limit = 0.65 + 1.96 * √(0.65 * 0.35 / 500)\n",
    "\n",
    "Simplifying, we get:\n",
    "\n",
    "Lower limit ≈ 0.610 Upper limit ≈ 0.690\n",
    "\n",
    "Therefore, we can say with 95% confidence that the true proportion of people who are satisfied with their job lies between 61.0% and 69.0%."
   ]
  },
  {
   "cell_type": "markdown",
   "id": "759f4508-8db1-4dc8-b39f-8b06d3141037",
   "metadata": {},
   "source": [
    "Q12. A researcher is testing the effectiveness of two different teaching methods on student performance. \n",
    "Sample A has a mean score of 85 with a standard deviation of 6, while sample B has a mean score of 82 \n",
    "with a standard deviation of 5. Conduct a hypothesis test to determine if the two teaching methods have a \n",
    "significant difference in student performance using a t-test with a significance level of 0.01"
   ]
  },
  {
   "cell_type": "markdown",
   "id": "5a3d9be9-effe-4d2e-a182-b44cd5281e18",
   "metadata": {},
   "source": [
    "To conduct a hypothesis test to determine if the two teaching methods have a significant difference in student performance using a t-test with a significance level of 0.01, we need to set up the null and alternative hypotheses:\n",
    "\n",
    "Null hypothesis (H0): The two teaching methods do not have a significant difference in student performance. The population mean score of sample A is equal to the population mean score of sample B.\n",
    "Alternative hypothesis (Ha): The two teaching methods have a significant difference in student performance. The population mean score of sample A is not equal to the population mean score of sample B.\n",
    "We can use a two-sample t-test to test these hypotheses. The test statistic is calculated as follows:\n",
    "\n",
    "t = (x̄1 - x̄2) / √(s1^2/n1 + s2^2/n2)\n",
    "\n",
    "where x̄1 and x̄2 are the sample means, s1 and s2 are the sample standard deviations, and n1 and n2 are the sample sizes.\n",
    "\n",
    "Substituting the given values into the formula, we get:\n",
    "\n",
    "t = (85 - 82) / √(6^2/50 + 5^2/50) ≈ 2.22\n",
    "\n",
    "Using a t-distribution table with 98 degrees of freedom and a significance level of 0.01, we find that the critical value of t for a two-tailed test is approximately ±2.62.\n",
    "\n",
    "Since our calculated t-value (2.22) is less than the critical value of t (±2.62), we fail to reject the null hypothesis and conclude that there is not enough evidence to suggest that there is a significant difference in student performance between the two teaching methods at a 99% confidence level.\n",
    "\n",
    "Therefore, we can say that there is no statistically significant difference in student performance between the two teaching methods."
   ]
  },
  {
   "cell_type": "markdown",
   "id": "20c542dc-e742-4467-ada0-437366630d11",
   "metadata": {},
   "source": [
    "Q13. A population has a mean of 60 and a standard deviation of 8. A sample of 50 observations has a mean \n",
    "of 65. Calculate the 90% confidence interval for the true population mean."
   ]
  },
  {
   "cell_type": "markdown",
   "id": "21f5b4ba-6b40-4633-96c3-274ff9941f09",
   "metadata": {},
   "source": [
    "Ans:\n",
    "    \n",
    "To calculate the 90% confidence interval for the true population mean, we can use the following formula 1:\n",
    "\n",
    "Lower limit = x̄ - Z.95 * σ / √n Upper limit = x̄ + Z.95 * σ / √n\n",
    "\n",
    "where x̄ is the sample mean, Z.95 is the Z-value for the 90% confidence level (which is 1.645), σ is the population standard deviation, and n is the sample size.\n",
    "\n",
    "Substituting the given values into the formula, we get:\n",
    "\n",
    "Lower limit = 65 - 1.645 * 8 / √50 Upper limit = 65 + 1.645 * 8 / √50\n",
    "\n",
    "Simplifying, we get:\n",
    "\n",
    "Lower limit ≈ 63.22 Upper limit ≈ 66.78\n",
    "\n",
    "Therefore, we can say with 90% confidence that the true population mean lies between 63.22 and 66.78."
   ]
  },
  {
   "cell_type": "markdown",
   "id": "1387fd3b-f342-4abd-9182-8baea98752bd",
   "metadata": {},
   "source": [
    "Q14. In a study of the effects of caffeine on reaction time, a sample of 30 participants had an average \n",
    "reaction time of 0.25 seconds with a standard deviation of 0.05 seconds. Conduct a hypothesis test to \n",
    "determine if the caffeine has a significant effect on reaction time at a 90% confidence level using a t-test."
   ]
  },
  {
   "cell_type": "code",
   "execution_count": null,
   "id": "d879ab62-4cde-470b-bac3-e96e20a370ba",
   "metadata": {},
   "outputs": [],
   "source": [
    "Ans:\n",
    "    \n"
   ]
  }
 ],
 "metadata": {
  "kernelspec": {
   "display_name": "Python 3 (ipykernel)",
   "language": "python",
   "name": "python3"
  },
  "language_info": {
   "codemirror_mode": {
    "name": "ipython",
    "version": 3
   },
   "file_extension": ".py",
   "mimetype": "text/x-python",
   "name": "python",
   "nbconvert_exporter": "python",
   "pygments_lexer": "ipython3",
   "version": "3.10.8"
  }
 },
 "nbformat": 4,
 "nbformat_minor": 5
}
