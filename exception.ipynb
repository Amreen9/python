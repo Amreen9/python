{
 "cells": [
  {
   "cell_type": "code",
   "execution_count": 1,
   "id": "47278d50-b292-487a-91d0-7c0b34db90aa",
   "metadata": {},
   "outputs": [],
   "source": [
    "# Q1: what is an exception in python?\n",
    "# write the difference btw exception and syntax error"
   ]
  },
  {
   "cell_type": "code",
   "execution_count": 2,
   "id": "90a44544-51ea-4daa-943f-099a57de76ed",
   "metadata": {},
   "outputs": [],
   "source": [
    "# exceptions are raised when some internal events occur which changes the normal \n",
    "# flow of the program. \n",
    "\n",
    "# Two types of Error occurs in python. \n",
    "# 1: Syntax errors\n",
    "# 2: Logical errors (Exceptions) "
   ]
  },
  {
   "cell_type": "code",
   "execution_count": 3,
   "id": "a567b41b-369c-4018-af97-b47e763e895b",
   "metadata": {},
   "outputs": [],
   "source": [
    "# Exceptions are designed for the programmer to know how to handle them such \n",
    "# as outOfRange Once an exception arises the programmer has to decide how to handle \n",
    "# it and the code can continue to operate relatively smoothly\n",
    "\n",
    "# On the other hand an error indicates a problem that the programmer \n",
    "# could not foresee as an import error or a memory error Errors can still be \n",
    "# addressed and ensure that the software continues to run \n",
    "# but apparently not everything will be able to continue to work smoothly."
   ]
  },
  {
   "cell_type": "code",
   "execution_count": 4,
   "id": "e0a01f18-6b1b-4bf7-895c-ed8ea0391781",
   "metadata": {},
   "outputs": [],
   "source": [
    "# 2: what happens when an exception is not handled? explain with suitable example"
   ]
  },
  {
   "cell_type": "code",
   "execution_count": 5,
   "id": "d8e62394-6de1-40f8-bf41-721836c0107d",
   "metadata": {},
   "outputs": [],
   "source": [
    "# ans: when exception is not handled, the program will not run and show the error"
   ]
  },
  {
   "cell_type": "code",
   "execution_count": 7,
   "id": "82b81f70-45d1-4b9b-8d84-2f3e9114107e",
   "metadata": {},
   "outputs": [
    {
     "ename": "ZeroDivisionError",
     "evalue": "division by zero",
     "output_type": "error",
     "traceback": [
      "\u001b[0;31m---------------------------------------------------------------------------\u001b[0m",
      "\u001b[0;31mZeroDivisionError\u001b[0m                         Traceback (most recent call last)",
      "Cell \u001b[0;32mIn[7], line 2\u001b[0m\n\u001b[1;32m      1\u001b[0m \u001b[38;5;66;03m#example:\u001b[39;00m\n\u001b[0;32m----> 2\u001b[0m a\u001b[38;5;241m=\u001b[39m\u001b[38;5;241;43m10\u001b[39;49m\u001b[38;5;241;43m/\u001b[39;49m\u001b[38;5;241;43m0\u001b[39;49m\n",
      "\u001b[0;31mZeroDivisionError\u001b[0m: division by zero"
     ]
    }
   ],
   "source": [
    "#example:\n",
    "a=10/0"
   ]
  },
  {
   "cell_type": "code",
   "execution_count": 8,
   "id": "2011a00e-22f2-4cac-80de-e8c922e8b9ca",
   "metadata": {},
   "outputs": [],
   "source": [
    "# Q3: which python statement are used to catch and handle exception?\n",
    "# explain with example"
   ]
  },
  {
   "cell_type": "code",
   "execution_count": 9,
   "id": "572a6600-898e-42b2-8609-e2bab27a87b6",
   "metadata": {},
   "outputs": [],
   "source": [
    "#ans: the \"try\" and \"except\" and \"else\" statement are used to handle and catch\n",
    "#exception in python"
   ]
  },
  {
   "cell_type": "code",
   "execution_count": 10,
   "id": "c58fd404-3d2e-4ca7-9242-171b223ec963",
   "metadata": {},
   "outputs": [
    {
     "name": "stdout",
     "output_type": "stream",
     "text": [
      "we can not divide a number with zero\n"
     ]
    }
   ],
   "source": [
    "try:\n",
    "    10/0\n",
    "except:\n",
    "    print(\"we can not divide a number with zero\")\n",
    "else:\n",
    "    print(\"program successful\")"
   ]
  },
  {
   "cell_type": "code",
   "execution_count": 12,
   "id": "14e5e784-8ea7-4c86-b71a-7d65743363a3",
   "metadata": {},
   "outputs": [],
   "source": [
    "# 4: explain with an example:\n",
    "    \n",
    "# 1:try and else\n",
    "# 2: finally\n",
    "# 3: raise"
   ]
  },
  {
   "cell_type": "code",
   "execution_count": 13,
   "id": "736165b3-e0e9-4cc4-9429-cd2883fe22f7",
   "metadata": {},
   "outputs": [],
   "source": [
    "# try and else are used in exception,when try works else also works\n",
    "# otherwise both will not work"
   ]
  },
  {
   "cell_type": "code",
   "execution_count": 15,
   "id": "3918e447-e364-4e85-953f-cb5668cf4637",
   "metadata": {},
   "outputs": [
    {
     "name": "stdout",
     "output_type": "stream",
     "text": [
      "5.0\n",
      "program successful\n"
     ]
    }
   ],
   "source": [
    "try:\n",
    "    a=10/2\n",
    "    print(a)\n",
    "except:\n",
    "    print(\"we can not divide a number with zero\")\n",
    "else:\n",
    "    print(\"program successful\")"
   ]
  },
  {
   "cell_type": "code",
   "execution_count": 16,
   "id": "a32aa6df-73dd-4feb-911d-c46c18e86b0f",
   "metadata": {},
   "outputs": [],
   "source": [
    "# finally keyword is helpful for specifying code that should be run\n",
    "# no matter what happens in the try, except, or else blocks. T"
   ]
  },
  {
   "cell_type": "code",
   "execution_count": 17,
   "id": "44f5ed0b-d15a-44fd-bba8-d061f347dec1",
   "metadata": {},
   "outputs": [
    {
     "name": "stdout",
     "output_type": "stream",
     "text": [
      "this program is finished\n"
     ]
    },
    {
     "ename": "NameError",
     "evalue": "name 'jam' is not defined",
     "output_type": "error",
     "traceback": [
      "\u001b[0;31m---------------------------------------------------------------------------\u001b[0m",
      "\u001b[0;31mNameError\u001b[0m                                 Traceback (most recent call last)",
      "Cell \u001b[0;32mIn[17], line 2\u001b[0m\n\u001b[1;32m      1\u001b[0m \u001b[38;5;28;01mtry\u001b[39;00m:\n\u001b[0;32m----> 2\u001b[0m     \u001b[38;5;28mprint\u001b[39m(\u001b[43mjam\u001b[49m)\n\u001b[1;32m      3\u001b[0m \u001b[38;5;28;01mfinally\u001b[39;00m:\n\u001b[1;32m      4\u001b[0m     \u001b[38;5;28mprint\u001b[39m(\u001b[38;5;124m\"\u001b[39m\u001b[38;5;124mthis program is finished\u001b[39m\u001b[38;5;124m\"\u001b[39m)\n",
      "\u001b[0;31mNameError\u001b[0m: name 'jam' is not defined"
     ]
    }
   ],
   "source": [
    "try:\n",
    "    print(jam)\n",
    "finally:\n",
    "    print(\"this program is finished\")"
   ]
  },
  {
   "cell_type": "code",
   "execution_count": 18,
   "id": "1121c6ab-130e-499f-a269-da7940ca9e9b",
   "metadata": {},
   "outputs": [],
   "source": [
    "# raise is used to raise exception or to build user defined exception in python"
   ]
  },
  {
   "cell_type": "code",
   "execution_count": 19,
   "id": "dc275afb-c18f-4ecb-930b-e553f8ad5279",
   "metadata": {},
   "outputs": [
    {
     "ename": "Exception",
     "evalue": "The number shouldn't be an odd integer",
     "output_type": "error",
     "traceback": [
      "\u001b[0;31m---------------------------------------------------------------------------\u001b[0m",
      "\u001b[0;31mException\u001b[0m                                 Traceback (most recent call last)",
      "Cell \u001b[0;32mIn[19], line 4\u001b[0m\n\u001b[1;32m      1\u001b[0m a \u001b[38;5;241m=\u001b[39m \u001b[38;5;241m5\u001b[39m\n\u001b[1;32m      3\u001b[0m \u001b[38;5;28;01mif\u001b[39;00m a \u001b[38;5;241m%\u001b[39m \u001b[38;5;241m2\u001b[39m \u001b[38;5;241m!=\u001b[39m \u001b[38;5;241m0\u001b[39m:\n\u001b[0;32m----> 4\u001b[0m \t\u001b[38;5;28;01mraise\u001b[39;00m \u001b[38;5;167;01mException\u001b[39;00m(\u001b[38;5;124m\"\u001b[39m\u001b[38;5;124mThe number shouldn\u001b[39m\u001b[38;5;124m'\u001b[39m\u001b[38;5;124mt be an odd integer\u001b[39m\u001b[38;5;124m\"\u001b[39m)\n",
      "\u001b[0;31mException\u001b[0m: The number shouldn't be an odd integer"
     ]
    }
   ],
   "source": [
    "a = 5\n",
    "\n",
    "if a % 2 != 0:\n",
    "\traise Exception(\"The number shouldn't be an odd integer\")\n"
   ]
  },
  {
   "cell_type": "code",
   "execution_count": 20,
   "id": "e644b523-4ca5-4e5a-b287-af4608e1adae",
   "metadata": {},
   "outputs": [],
   "source": [
    "# 5: what are custom exceptions in python? why do we need custom exceptions? \n",
    "# explain with example"
   ]
  },
  {
   "cell_type": "code",
   "execution_count": 21,
   "id": "1436dfd9-3fdc-45c3-aa93-1f4251993c9a",
   "metadata": {},
   "outputs": [],
   "source": [
    "# A custom exception is an exception that is defined by the user.\n",
    "# It is used when the built-in exceptions are not sufficient to handle\n",
    "# a particular scenario in a program. Custom exceptions are created by subclassing\n",
    "# the built-in Exception class or any of its subclasses. By creating\n",
    "# a custom exception, \n",
    "# you can define your own error message and customize the exception handling."
   ]
  },
  {
   "cell_type": "code",
   "execution_count": 22,
   "id": "c3278bb9-b359-480d-ba6a-0c7e74cd44e4",
   "metadata": {},
   "outputs": [],
   "source": [
    "# Custom exceptions are useful in situations \n",
    "# where you want to handle specific errors in a program"
   ]
  },
  {
   "cell_type": "code",
   "execution_count": 25,
   "id": "dde5e0dc-4d08-4cd7-b35b-4a22a440d839",
   "metadata": {},
   "outputs": [
    {
     "name": "stdout",
     "output_type": "stream",
     "text": [
      "This is a custom exception\n"
     ]
    }
   ],
   "source": [
    "class CustomException(Exception):\n",
    "    def __init__(self, message):\n",
    "        self.message= message\n",
    "\n",
    "try:\n",
    "    raise CustomException(\"This is a custom exception\")\n",
    "except CustomException as e:\n",
    "    print(e)"
   ]
  },
  {
   "cell_type": "code",
   "execution_count": 27,
   "id": "fab64d0b-83c3-424b-96b9-e54b3f175b53",
   "metadata": {},
   "outputs": [],
   "source": [
    "# 6: create a custom exception class. use this class to handle exception"
   ]
  },
  {
   "cell_type": "code",
   "execution_count": 28,
   "id": "3a4f53c6-dc80-4ba5-8964-31db796ff892",
   "metadata": {},
   "outputs": [
    {
     "name": "stdin",
     "output_type": "stream",
     "text": [
      "Enter a number:  12\n"
     ]
    },
    {
     "name": "stdout",
     "output_type": "stream",
     "text": [
      "Exception occurred: Invalid Age\n"
     ]
    }
   ],
   "source": [
    "class InvalidAgeException(Exception):\n",
    "    \"Raised when the input value is less than 18\"\n",
    "    pass\n",
    "\n",
    "number = 18\n",
    "\n",
    "try:\n",
    "    input_num = int(input(\"Enter a number: \"))\n",
    "    if input_num < number:\n",
    "        raise InvalidAgeException\n",
    "    else:\n",
    "        print(\"Eligible to Vote\")\n",
    "        \n",
    "except InvalidAgeException:\n",
    "    print(\"Exception occurred: Invalid Age\")"
   ]
  },
  {
   "cell_type": "code",
   "execution_count": null,
   "id": "56218c9f-eceb-440f-9322-5eaf5b3e3104",
   "metadata": {},
   "outputs": [],
   "source": []
  }
 ],
 "metadata": {
  "kernelspec": {
   "display_name": "Python 3 (ipykernel)",
   "language": "python",
   "name": "python3"
  },
  "language_info": {
   "codemirror_mode": {
    "name": "ipython",
    "version": 3
   },
   "file_extension": ".py",
   "mimetype": "text/x-python",
   "name": "python",
   "nbconvert_exporter": "python",
   "pygments_lexer": "ipython3",
   "version": "3.10.8"
  }
 },
 "nbformat": 4,
 "nbformat_minor": 5
}
