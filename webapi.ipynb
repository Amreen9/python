{
 "cells": [
  {
   "cell_type": "code",
   "execution_count": 1,
   "id": "dff47f35-fc74-4083-bee6-6fc65eaba231",
   "metadata": {},
   "outputs": [],
   "source": [
    "# Q1. What is an API? Give an example, where an API is used in real life."
   ]
  },
  {
   "cell_type": "code",
   "execution_count": 2,
   "id": "a64fd0ff-2154-43b7-8219-1205ae59c021",
   "metadata": {},
   "outputs": [],
   "source": [
    "# ans: API is an abbreviation for Application Programming Interface\n",
    "# which is a collection of communication protocols and subroutines used by \n",
    "# various programs to communicate between them. A programmer\n",
    "# can make use of various API tools to make their program easier and simpler. "
   ]
  },
  {
   "cell_type": "code",
   "execution_count": 3,
   "id": "e94b59c3-d770-4e80-947a-f485836ab4e5",
   "metadata": {},
   "outputs": [],
   "source": [
    "# example:  We can take Zomato as an example to explain the concept of an API.\n",
    "# Zomato receives a request for an order, the customer can track the driver’s \n",
    "# location. Here, the API functions in this way- the Zomato app integrates with \n",
    "# Google Map where after integration, google maps help you to track the location. "
   ]
  },
  {
   "cell_type": "code",
   "execution_count": 4,
   "id": "c4d79830-829d-4e7e-beb7-28806aba0189",
   "metadata": {},
   "outputs": [],
   "source": [
    "# The most used APIs are the social media APIs where developers can access data\n",
    "# from social media platforms like Facebook, Instagram, etc. Each social media \n",
    "# has its own API that can be used by developers to interact with the platform’s data. "
   ]
  },
  {
   "cell_type": "code",
   "execution_count": 5,
   "id": "0bcf00e6-56fb-4bd0-b23e-83bbe58cfdd2",
   "metadata": {},
   "outputs": [],
   "source": [
    "# Q2. Give advantages and disadvantages of using API."
   ]
  },
  {
   "cell_type": "code",
   "execution_count": 6,
   "id": "5de6e4e2-5b64-4ab3-85ba-81b0966e2b0a",
   "metadata": {},
   "outputs": [],
   "source": [
    "# Advantages of APIs \n",
    "\n",
    "\n",
    "# Efficiency: API produces efficient, quicker, and more reliable results than \n",
    "# the outputs produced by human beings in an organization.\n",
    "\n",
    "# Flexible delivery of services: API provides fast and flexible delivery of services\n",
    "# according to developers’ requirements.\n",
    "\n",
    "# Integration: The best feature of API is that it allows the movement of data \n",
    "# between various sites and thus enhances the integrated user experience.\n",
    "\n",
    "# Automation: As API makes use of robotic computers rather than humans, \n",
    "# it produces better and more automated results.\n",
    "\n",
    "# New functionality: While using API the developers find new tools \n",
    "# and functionality for API exchanges."
   ]
  },
  {
   "cell_type": "code",
   "execution_count": 7,
   "id": "e8bffb27-be6e-44e0-b3b8-400f4f7642b7",
   "metadata": {},
   "outputs": [],
   "source": [
    "# Disadvantages of APIs \n",
    "\n",
    "\n",
    "# Cost: Developing and implementing API is costly at times and requires\n",
    "# high maintenance and support from developers.\n",
    "\n",
    "# Security issues: Using API adds another layer of surface which is then \n",
    "# prone to attacks, and hence the security risk problem is common in APIs."
   ]
  },
  {
   "cell_type": "code",
   "execution_count": 8,
   "id": "d9f462b6-e3a0-4eca-8c99-cbbd0d087d73",
   "metadata": {},
   "outputs": [],
   "source": [
    "# Q3. What is a Web API? Differentiate between API and Web API."
   ]
  },
  {
   "cell_type": "code",
   "execution_count": 9,
   "id": "02911c4f-ab2b-4387-b693-83526b1ce56e",
   "metadata": {},
   "outputs": [],
   "source": [
    "# Web API is basically an open-source framework that is used to write HTTP APIs. \n",
    "# It refers to an API over the web which can be accessed using the HTTP protocol.\n",
    "# It is important to note that it is a concept and not a technology.\n",
    "# Developers can build Web API using a vast array of technologies such as .NET,\n",
    "# and Java, among others."
   ]
  },
  {
   "cell_type": "code",
   "execution_count": 10,
   "id": "f58531d0-9034-4737-9f4f-1c8aa03fd2b4",
   "metadata": {},
   "outputs": [],
   "source": [
    "# API and Web  API serve different purposes and are used in different contexts.\n",
    "#  API is used for stateless, request/response communication over HTTP, while \n",
    "# Web API is used for persistent, bi-directional communication over\n",
    "# the Web API protocol. Understanding the differences between API and Web API\n",
    "# is essential for choosing the right API\n",
    "# for your web application and achieving optimal performance and user experience."
   ]
  },
  {
   "cell_type": "code",
   "execution_count": 11,
   "id": "086e58b6-4f47-47d0-ade6-09ca2f2f7ef6",
   "metadata": {},
   "outputs": [],
   "source": [
    "# Q4. Explain REST and SOAP Architecture. Mention shortcomings of SOAP."
   ]
  },
  {
   "cell_type": "code",
   "execution_count": 12,
   "id": "33bab151-ba31-4d71-86a2-596384c02ae0",
   "metadata": {},
   "outputs": [],
   "source": [
    "# SOAP (SIMPLE OBJECT ACCESS PROTOCOL): It defines messages in XML format \n",
    "# used by web applications to communicate with each other.\n",
    "\n",
    "# REST (Representational State Transfer): It makes use of HTTP to GET, POST, PUT,\n",
    "# or DELETE data. It is basically used to take advantage of the existing data."
   ]
  },
  {
   "cell_type": "code",
   "execution_count": 13,
   "id": "4a9a8abd-2b08-4148-a16f-ab3ee5cb9982",
   "metadata": {},
   "outputs": [],
   "source": [
    "# SOAP does not support caching API calls. \n",
    "# SOAP is much more complicated than REST, which can have performance implications. \n",
    "# SOAP is much less adaptable than REST. \n",
    "# SOAP is usually slower than REST."
   ]
  },
  {
   "cell_type": "code",
   "execution_count": 14,
   "id": "d28e79e0-eca9-4148-be35-04b58785e8c2",
   "metadata": {},
   "outputs": [],
   "source": [
    "# Q5. Differentiate between REST and SOAP."
   ]
  },
  {
   "cell_type": "code",
   "execution_count": null,
   "id": "703e2fa0-6b5c-4073-b8e1-7fd87a6ec251",
   "metadata": {},
   "outputs": [],
   "source": [
    "SOAP API : Relies on SOAP (Simple Object Access Protocol)\t\n",
    "\n",
    "REST API: Relies on REST (Representational State Transfer) architecture using HTTP.\n",
    "\n",
    "\n",
    "SOAP: Transports data in standard XML format.\t\n",
    "\n",
    "REST: Generally transports data in JSON. \n",
    "It is based on URI. Because REST follows stateless model, \n",
    "REST does not enforces message format as XML or JSON etc.\n",
    "\n",
    "\n",
    "SOAP: Because it is XML based and relies on SOAP, it works with WSDL\t\n",
    "\n",
    "REST: It works with GET, POST, PUT, DELETE\n",
    "\n",
    "\n",
    "SOAP: Works over HTTP, HTTPS, SMTP, XMPP\t\n",
    "\n",
    "REST:Works over HTTP and HTTPS\n",
    "\n",
    "\n",
    "SOAP: Highly structured/typed\t\n",
    "\n",
    "REST: Less structured -> less bulky data\n",
    "\n",
    "\n",
    "SOAP: Designed with large enterprise applications in mind\tDesigned with mobile devices in mind"
   ]
  }
 ],
 "metadata": {
  "kernelspec": {
   "display_name": "Python 3 (ipykernel)",
   "language": "python",
   "name": "python3"
  },
  "language_info": {
   "codemirror_mode": {
    "name": "ipython",
    "version": 3
   },
   "file_extension": ".py",
   "mimetype": "text/x-python",
   "name": "python",
   "nbconvert_exporter": "python",
   "pygments_lexer": "ipython3",
   "version": "3.10.8"
  }
 },
 "nbformat": 4,
 "nbformat_minor": 5
}
