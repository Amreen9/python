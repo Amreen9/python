{
 "cells": [
  {
   "cell_type": "code",
   "execution_count": 1,
   "id": "cb1f3076-8578-4021-b88e-965051d05c46",
   "metadata": {},
   "outputs": [],
   "source": [
    "# 1. Who developed Python Programming Language? \n"
   ]
  },
  {
   "cell_type": "code",
   "execution_count": 2,
   "id": "9e7ac2cf-16e3-40c9-89bf-15a14816b329",
   "metadata": {},
   "outputs": [],
   "source": [
    "# Ans: Guido van Rossum"
   ]
  },
  {
   "cell_type": "code",
   "execution_count": 3,
   "id": "9df3c3cc-da7a-4243-b877-e3097346d7ba",
   "metadata": {},
   "outputs": [],
   "source": [
    "# 2. Which type of Programming does Python support? \n"
   ]
  },
  {
   "cell_type": "code",
   "execution_count": 4,
   "id": "63582eb5-d160-4576-b7b2-365a0b12bce5",
   "metadata": {},
   "outputs": [],
   "source": [
    "# Ans: python supports multiple programming paradigms that is\n",
    "#object-oriented and functional programming"
   ]
  },
  {
   "cell_type": "code",
   "execution_count": 5,
   "id": "1745804d-fe85-4161-9ca2-a0cef71b2feb",
   "metadata": {},
   "outputs": [],
   "source": [
    "# 3. Is Python case sensitive when dealing with identifiers? "
   ]
  },
  {
   "cell_type": "code",
   "execution_count": 6,
   "id": "eb4901b5-bbd4-4c94-b792-5c449aa0e124",
   "metadata": {},
   "outputs": [],
   "source": [
    "# Yes, Python is case sensitive when dealing with identifiers.\n",
    "# This means that uppercase and lowercase letters are treated differently in\n",
    "# Python. \n",
    "# For example, \"Tree\" and \"tree\" are two different identifiers in Python"
   ]
  },
  {
   "cell_type": "code",
   "execution_count": 7,
   "id": "584478f3-37ae-4901-bfc7-eea05940294f",
   "metadata": {},
   "outputs": [],
   "source": [
    "# 4. What is the correct extension of the Python file? \n"
   ]
  },
  {
   "cell_type": "code",
   "execution_count": 8,
   "id": "940e2f8a-df53-4259-a46b-c5dc0ad260b2",
   "metadata": {},
   "outputs": [],
   "source": [
    "# Ans: '.py’ is the correct extension of the Python file.\n"
   ]
  },
  {
   "cell_type": "code",
   "execution_count": 9,
   "id": "2e7ff9c1-678b-4844-9a6e-7c3763f04f38",
   "metadata": {},
   "outputs": [],
   "source": [
    "# 5. Is Python code compiled or interpreted? "
   ]
  },
  {
   "cell_type": "code",
   "execution_count": 10,
   "id": "c12fd546-2035-445e-ae84-c2f97c2a9d34",
   "metadata": {},
   "outputs": [],
   "source": [
    "# Ans: python language is both interpreted and compiled\n",
    "# the python program is first compiled and then interpreted. \n",
    "# The compilation part is hidden from the programmer \n",
    "# thus, many programmers believe that it is an interpreted language. "
   ]
  },
  {
   "cell_type": "code",
   "execution_count": 11,
   "id": "2e7bcd6e-03ff-4182-8448-1899caa5dde4",
   "metadata": {},
   "outputs": [],
   "source": [
    "# 6. Name a few blocks of code used to define in Python language? \n"
   ]
  },
  {
   "cell_type": "code",
   "execution_count": 12,
   "id": "df023aec-71b6-4d62-9435-e764bc36f85b",
   "metadata": {},
   "outputs": [],
   "source": [
    "# Ans: A block is a piece of Python program text that is executed as a unit. \n",
    "# The following are blocks: a module, a function body, and a class definition. \n",
    "# Each command typed interactively is a block."
   ]
  },
  {
   "cell_type": "code",
   "execution_count": 13,
   "id": "77871489-1741-4536-978e-a9d1ba186390",
   "metadata": {},
   "outputs": [],
   "source": [
    "# 7. State a character used to give single-line comments in Python? \n"
   ]
  },
  {
   "cell_type": "code",
   "execution_count": 14,
   "id": "08e6c828-7488-49d8-8774-e62bf77ab751",
   "metadata": {},
   "outputs": [],
   "source": [
    "# Ans: # (hash character)\n"
   ]
  },
  {
   "cell_type": "code",
   "execution_count": 15,
   "id": "ee2a2de8-2291-475c-8ab2-eb8ae3aefbd9",
   "metadata": {},
   "outputs": [],
   "source": [
    "# 8. Mention functions which can help us to find the version of python that \n",
    "# we are currently working on?"
   ]
  },
  {
   "cell_type": "code",
   "execution_count": 17,
   "id": "0eff268f-4ad2-4bd5-8e5f-203df8cbf341",
   "metadata": {},
   "outputs": [
    {
     "name": "stdout",
     "output_type": "stream",
     "text": [
      "3.10.8\n"
     ]
    }
   ],
   "source": [
    "# Ans: \n",
    "from platform import python_version\n",
    "print(python_version())"
   ]
  },
  {
   "cell_type": "code",
   "execution_count": 18,
   "id": "40de072a-e06f-427d-8fae-2d92b4e6648c",
   "metadata": {},
   "outputs": [],
   "source": [
    "# 9. Python supports the creation of anonymous functions at runtime, \n",
    "# using a construct called \n",
    "\n"
   ]
  },
  {
   "cell_type": "code",
   "execution_count": 19,
   "id": "9d933629-8fa4-4501-b2cf-f939d5c972ea",
   "metadata": {},
   "outputs": [],
   "source": [
    "# Ans: Lambda"
   ]
  },
  {
   "cell_type": "code",
   "execution_count": 20,
   "id": "c08bc9e6-8989-4771-bd02-5a13b65f0219",
   "metadata": {},
   "outputs": [],
   "source": [
    "# 10. What does pip stand for python?"
   ]
  },
  {
   "cell_type": "code",
   "execution_count": 21,
   "id": "7dc563fb-4fb2-4285-a4ae-936ad254c00a",
   "metadata": {},
   "outputs": [],
   "source": [
    "# Ans: A package contains all the files you need for a module. \n",
    "# Modules are Python code libraries you can include in your project"
   ]
  },
  {
   "cell_type": "code",
   "execution_count": 22,
   "id": "e1269b52-74f9-4e4f-964c-15555369713b",
   "metadata": {},
   "outputs": [],
   "source": [
    "# 11. Mention a few built-in functions in python? \n"
   ]
  },
  {
   "cell_type": "code",
   "execution_count": 23,
   "id": "024688c3-b967-4289-aed1-7ef5ae2ab534",
   "metadata": {},
   "outputs": [
    {
     "name": "stdout",
     "output_type": "stream",
     "text": [
      "\n"
     ]
    }
   ],
   "source": [
    "Ans: print()"
   ]
  },
  {
   "cell_type": "code",
   "execution_count": 24,
   "id": "9cc3d58e-32c2-4de4-b00b-8e6ad4a3575d",
   "metadata": {},
   "outputs": [],
   "source": [
    "# 12. What is the maximum possible length of an identifier in Python? \n"
   ]
  },
  {
   "cell_type": "code",
   "execution_count": 26,
   "id": "376021ce-fb43-4736-96a6-da08e5e46002",
   "metadata": {},
   "outputs": [],
   "source": [
    "# Ans: 79 characters"
   ]
  },
  {
   "cell_type": "code",
   "execution_count": 27,
   "id": "6ac757e8-8aa3-4671-a5a8-3596c4cc60f8",
   "metadata": {},
   "outputs": [],
   "source": [
    "# 13. What are the benefits of using Python? \n"
   ]
  },
  {
   "cell_type": "code",
   "execution_count": 28,
   "id": "9ee1a3c5-99ff-4796-b6cd-b2cb73dcc4af",
   "metadata": {},
   "outputs": [],
   "source": [
    "# Ans: It is easy to learn, read, and use because it resembles the English language \n",
    "# and has a clear and intuitive syntax.It is flexible, scalable, portable,\n",
    "# and fast for web scripting.It has a large standard library that offers tools for \n",
    "# various tasks, such as interacting with the internet, \n",
    "# building graphical user interfaces, working with databases, and performing test"
   ]
  },
  {
   "cell_type": "code",
   "execution_count": 29,
   "id": "14959fc9-d73f-4512-89df-340a8d50d4fe",
   "metadata": {},
   "outputs": [],
   "source": [
    "# 14. How is memory managed in Python? \n",
    "\n"
   ]
  },
  {
   "cell_type": "code",
   "execution_count": 30,
   "id": "f1b05b47-e82f-462c-be70-e716ae3f5647",
   "metadata": {},
   "outputs": [],
   "source": [
    "# Ans:In Python memory allocation and deallocation method is automatic\n",
    "# as the Python developers created a garbage collector for\n",
    "# Python so that the user does not have to do manual garbage collection."
   ]
  },
  {
   "cell_type": "code",
   "execution_count": 31,
   "id": "516d3909-349b-4888-859e-a11432077eba",
   "metadata": {},
   "outputs": [],
   "source": [
    "# 15. How to install Python on Windows and set path variables? "
   ]
  },
  {
   "cell_type": "code",
   "execution_count": 32,
   "id": "7e575c53-5d83-49a9-8772-3b33aacd70e3",
   "metadata": {},
   "outputs": [],
   "source": [
    "# Ans: after installing python,you need find the Python executable, \n",
    "# you’ll need to look for a file called python.exe. The Python executable\n",
    "# could be in a directory in C:\\Python\\ or in your AppData\\ folder, for instance. "
   ]
  },
  {
   "cell_type": "code",
   "execution_count": 33,
   "id": "53549417-c6b2-45ae-bb4e-9eaef30ca0c2",
   "metadata": {},
   "outputs": [],
   "source": [
    "# 16. Is indentation required in python? \n"
   ]
  },
  {
   "cell_type": "code",
   "execution_count": null,
   "id": "10d01db5-bd13-4f45-969f-e86d7eedb826",
   "metadata": {},
   "outputs": [],
   "source": [
    "Ans: "
   ]
  }
 ],
 "metadata": {
  "kernelspec": {
   "display_name": "Python 3 (ipykernel)",
   "language": "python",
   "name": "python3"
  },
  "language_info": {
   "codemirror_mode": {
    "name": "ipython",
    "version": 3
   },
   "file_extension": ".py",
   "mimetype": "text/x-python",
   "name": "python",
   "nbconvert_exporter": "python",
   "pygments_lexer": "ipython3",
   "version": "3.10.8"
  }
 },
 "nbformat": 4,
 "nbformat_minor": 5
}
