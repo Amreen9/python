{
 "cells": [
  {
   "cell_type": "code",
   "execution_count": 1,
   "id": "434fb220-9a66-4568-9168-a2dd29723f0e",
   "metadata": {},
   "outputs": [],
   "source": [
    "# Q1. Explain Class and Object with respect to\n",
    "# Object-Oriented Programming. Give a suitable example."
   ]
  },
  {
   "cell_type": "code",
   "execution_count": 2,
   "id": "3e807d5a-9841-4871-8425-1f7b8df7c24c",
   "metadata": {},
   "outputs": [],
   "source": [
    "# A class is a user-defined blueprint or prototype from which objects are created.\n",
    "# Classes provide a means of bundling data and functionality together. \n",
    "# Creating a new class creates a new type of object, \n",
    "# allowing new instances of that type to be made. Each class instance can \n",
    "# have attributes attached to it for maintaining its state. Class instances can \n",
    "# also have methods (defined by their class) for modifying their state."
   ]
  },
  {
   "cell_type": "code",
   "execution_count": 3,
   "id": "3fb272e6-f0f4-48a3-b4b2-2e344deffa27",
   "metadata": {},
   "outputs": [],
   "source": [
    "#example"
   ]
  },
  {
   "cell_type": "code",
   "execution_count": 5,
   "id": "01f2ad7d-04fa-4378-803a-f9767cca1707",
   "metadata": {},
   "outputs": [],
   "source": [
    "class birds:\n",
    "    speciality=\"fly\""
   ]
  },
  {
   "cell_type": "code",
   "execution_count": 6,
   "id": "37d22eba-f6e5-48ab-8d37-1a83ced53f31",
   "metadata": {},
   "outputs": [],
   "source": [
    "# An Object is an instance of a Class. A class is like a blueprint \n",
    "# while an instance is a copy of the class with actual values"
   ]
  },
  {
   "cell_type": "code",
   "execution_count": 7,
   "id": "364394dd-8017-44dd-b89a-c29ad5f2a37e",
   "metadata": {},
   "outputs": [],
   "source": [
    "#example:\n",
    "class birds:\n",
    "    attr=\"fly\"\n",
    "    attr1=\"avian\"\n",
    "    \n",
    "    def fun(self):\n",
    "        print(\"i am a\", self.attr)\n",
    "        print(\"i can\", self.attr1)\n",
    "    "
   ]
  },
  {
   "cell_type": "code",
   "execution_count": 8,
   "id": "18148d95-c07b-4be5-a260-ea11252a6f67",
   "metadata": {},
   "outputs": [],
   "source": [
    "sparrow=birds()"
   ]
  },
  {
   "cell_type": "code",
   "execution_count": 9,
   "id": "999961f9-9322-4d0a-a534-965ef62ee91a",
   "metadata": {},
   "outputs": [
    {
     "name": "stdout",
     "output_type": "stream",
     "text": [
      "i am a fly\n",
      "i can avian\n"
     ]
    }
   ],
   "source": [
    "sparrow.fun()"
   ]
  },
  {
   "cell_type": "code",
   "execution_count": 10,
   "id": "f2a53da0-19b7-48b0-8e27-dfc15737f649",
   "metadata": {},
   "outputs": [],
   "source": [
    "# Q2. Name the four pillars of OOPs."
   ]
  },
  {
   "cell_type": "code",
   "execution_count": 12,
   "id": "91f4318d-ede2-4758-b644-8481e92d2d3c",
   "metadata": {},
   "outputs": [],
   "source": [
    "# ans: \n",
    "\n",
    "# The four pillars of object-oriented programming are:\n",
    "\n",
    "# Abstraction\n",
    "# Encapsulation\n",
    "# Inheritance\n",
    "# Polymorphism"
   ]
  },
  {
   "cell_type": "code",
   "execution_count": 13,
   "id": "75db413f-38c9-4cf8-b99d-908c9c41de2f",
   "metadata": {},
   "outputs": [],
   "source": [
    "# Q3. Explain why the __init__() function is used. Give a suitable example."
   ]
  },
  {
   "cell_type": "code",
   "execution_count": 14,
   "id": "a775a914-84ab-48dd-aab8-260102bfbb61",
   "metadata": {},
   "outputs": [],
   "source": [
    "# the __init__ function is called a constructor.\n",
    "# The function takes in self and the object parameters as input.\n",
    "# The object parameters as the name suggests are the state variables \n",
    "# that define the object."
   ]
  },
  {
   "cell_type": "code",
   "execution_count": 15,
   "id": "2c0eb480-6846-4d72-8be2-e8d7189565fd",
   "metadata": {},
   "outputs": [],
   "source": [
    "#example:\n",
    "\n",
    "class person:\n",
    "    \n",
    "    def __init__(self,name,age):\n",
    "        self.name=name\n",
    "        self.age=age\n",
    "        "
   ]
  },
  {
   "cell_type": "code",
   "execution_count": 16,
   "id": "054960f1-43f1-478f-8e80-e70ab2da139d",
   "metadata": {},
   "outputs": [],
   "source": [
    "p1= person(\"ram\",12)"
   ]
  },
  {
   "cell_type": "code",
   "execution_count": 17,
   "id": "f2a8c3f7-c535-464f-81e4-15f80ed0c49c",
   "metadata": {},
   "outputs": [
    {
     "data": {
      "text/plain": [
       "12"
      ]
     },
     "execution_count": 17,
     "metadata": {},
     "output_type": "execute_result"
    }
   ],
   "source": [
    "p1.age"
   ]
  },
  {
   "cell_type": "code",
   "execution_count": 18,
   "id": "7cca1c45-8553-4aef-ae3c-2a2b38bb1c4f",
   "metadata": {},
   "outputs": [
    {
     "data": {
      "text/plain": [
       "'ram'"
      ]
     },
     "execution_count": 18,
     "metadata": {},
     "output_type": "execute_result"
    }
   ],
   "source": [
    "p1.name"
   ]
  },
  {
   "cell_type": "code",
   "execution_count": 19,
   "id": "f0549209-20a4-4519-87ea-79af5304a30a",
   "metadata": {},
   "outputs": [],
   "source": [
    "# Q4. Why self is used in OOPs?"
   ]
  },
  {
   "cell_type": "code",
   "execution_count": 20,
   "id": "884f9018-5c72-49b1-b025-ee72515f3f59",
   "metadata": {},
   "outputs": [],
   "source": [
    "#Ans: self represents the instance of the class. \n",
    "# By using the “self”  we can access the attributes and methods of the \n",
    "# class in python. \n",
    "# It binds the attributes with the given arguments."
   ]
  },
  {
   "cell_type": "code",
   "execution_count": 21,
   "id": "c0de4efd-56ae-43e7-9e66-89a02a2be32b",
   "metadata": {},
   "outputs": [],
   "source": [
    "# Q5. What is inheritance? Give an example for each type of inheritance."
   ]
  },
  {
   "cell_type": "code",
   "execution_count": 22,
   "id": "3f39998c-2c2b-42ff-9319-800c493f76d2",
   "metadata": {},
   "outputs": [],
   "source": [
    "# Inheritance is defined as \n",
    "# the mechanism of inheriting the properties of \n",
    "# the base class to the child class."
   ]
  },
  {
   "cell_type": "code",
   "execution_count": 24,
   "id": "448600e7-ccb6-4978-9fc1-72efbeeddf94",
   "metadata": {},
   "outputs": [],
   "source": [
    "#example:\n",
    "\n",
    "class parent:\n",
    "    def func1(self):\n",
    "        print(\"this is from parent class\")\n",
    "        \n",
    "class child(parent):\n",
    "    def func2(self):\n",
    "        print(\"this is a child class\")"
   ]
  },
  {
   "cell_type": "code",
   "execution_count": 25,
   "id": "45c47b0c-125b-46ff-b1eb-554272c9c7aa",
   "metadata": {},
   "outputs": [],
   "source": [
    "obj=child()"
   ]
  },
  {
   "cell_type": "code",
   "execution_count": 27,
   "id": "a023bf05-7f63-4d87-86bf-bffabc3ceea9",
   "metadata": {},
   "outputs": [
    {
     "name": "stdout",
     "output_type": "stream",
     "text": [
      "this is from parent class\n",
      "this is a child class\n"
     ]
    }
   ],
   "source": [
    "obj.func1()\n",
    "obj.func2()"
   ]
  },
  {
   "cell_type": "code",
   "execution_count": null,
   "id": "6b1fa5f4-01b4-4ced-8f66-874bc7c103d9",
   "metadata": {},
   "outputs": [],
   "source": []
  }
 ],
 "metadata": {
  "kernelspec": {
   "display_name": "Python 3 (ipykernel)",
   "language": "python",
   "name": "python3"
  },
  "language_info": {
   "codemirror_mode": {
    "name": "ipython",
    "version": 3
   },
   "file_extension": ".py",
   "mimetype": "text/x-python",
   "name": "python",
   "nbconvert_exporter": "python",
   "pygments_lexer": "ipython3",
   "version": "3.10.8"
  }
 },
 "nbformat": 4,
 "nbformat_minor": 5
}
