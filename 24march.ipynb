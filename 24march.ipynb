{
 "cells": [
  {
   "cell_type": "markdown",
   "id": "47371110-a27b-47b2-ae37-6ed277b56029",
   "metadata": {},
   "source": [
    "# **<font color='green'>Exploratory Data Analysis-1</font >**"
   ]
  },
  {
   "cell_type": "markdown",
   "id": "d8c44c0b-7966-423d-9c31-591b03b8f0a7",
   "metadata": {},
   "source": [
    "#### **<font color='grey'>Q1. What are the key features of the wine quality data set? Discuss the importance of each feature in predicting the quality of wine.</font >**\n",
    "***"
   ]
  },
  {
   "cell_type": "markdown",
   "id": "58ab9bf3-16ba-4ed5-9a27-2ff015d29b35",
   "metadata": {},
   "source": [
    "### Answer"
   ]
  },
  {
   "cell_type": "markdown",
   "id": "21d86d33-f2b1-4fea-8093-6653d376c441",
   "metadata": {},
   "source": [
    "#### the key features of the wine dataset are as follows, each feature has its own importance in predicting the quality of wine"
   ]
  },
  {
   "cell_type": "markdown",
   "id": "ff5e08dc-2262-4dc0-835b-b627185225a5",
   "metadata": {},
   "source": [
    "- **fixed acidity** : It indicates the amount of tartaric acid in wine and is measured in g/dm3 and shows most acids involved with wine are fixed or nonvolatile (do not evaporate readily)\n",
    "\n",
    "- **volatile acidity** :It indicates the amount of acetic acid in the wine. It is measured in g/dm3.the amount of acetic acid in wine, which at too high of levels can lead to an unpleasant, vinegar taste\n",
    "\n",
    "- **citric acid** : It indicates the amount of citric acid in the wine. It is also measured in g/dm3. found in small quantities, citric acid can add 'freshness' and flavor to wines\n",
    "\n",
    "- **residual sugar** : It indicates the amount of sugar left in the wine after the fermentation process is done. It is also measured in g/dm3It ,the amount of sugar remaining after fermentation stops, it's rare to find wines with less than 1 gram/liter and wines with greater than 45 grams/liter are considered sweet\n",
    "\n",
    "- **chlorides** : the amount of salt in the wine.\n",
    "\n",
    "- **free sulfur dioxide** : It measures the amount of sulfur dioxide (SO2) in free form. It is also measured in g/dm3, the free form of SO2 exists in equilibrium between molecular SO2 (as a dissolved gas) and bisulfite ion; it prevents microbial growth and the oxidation of wine\n",
    "\n",
    "- **total sulfur dioxide** :It measures the total amount of SO2 in the wine. This chemical works as an antioxidant and antimicrobial agent. amount of free and bound forms of S02; in low concentrations, SO2 is mostly undetectable in wine, but at free SO2 concentrations over 50 ppm, SO2 becomes evident in the nose and taste of wine\n",
    "\n",
    "- **density** :It indicates the density of the wine and is measured in g/dm3.the density of water is close to that of water depending on the percent alcohol and sugar content\n",
    "\n",
    "- **pH** :  It indicates the pH value of the wine. The range of value is between 0 to 14.0, which indicates very high acidity, and 14 indicates basic acidity. describes how acidic or basic a wine is on a scale from 0 (very acidic) to 14 (very basic); most wines are between 3-4 on the pH scale\n",
    "\n",
    "- **sulphates** :  It indicates the amount of potassium sulphate in the wine. It is also measured in g/dm3. a wine additive which can contribute to sulfur dioxide gas (S02) levels, wich acts as an antimicrobial \n",
    "- **Alcohol**: It indicates the alcohol content in the wine.\n",
    "- **Quality**: It indicates the quality of the wine, which is ranged from 1 to 10. Here, the higher the value is, the better the wine."
   ]
  },
  {
   "cell_type": "markdown",
   "id": "c4b30b45-bff7-4a50-aa7c-c55d81b56e39",
   "metadata": {},
   "source": [
    "***\n",
    "#### **<font color='grey'>Q2. How did you handle missing data in the wine quality data set during the feature engineering process? Discuss the advantages and disadvantages of different imputation techniques.</font >**\n",
    "***"
   ]
  },
  {
   "cell_type": "markdown",
   "id": "cc420c30-fde9-4c2b-a026-79bde871fd12",
   "metadata": {},
   "source": [
    "### Answer"
   ]
  },
  {
   "cell_type": "code",
   "execution_count": 6,
   "id": "7bbe327d-cd1a-4daa-9293-f058be6e1e8f",
   "metadata": {},
   "outputs": [],
   "source": [
    "import pandas as pd\n",
    "import seaborn as sns\n",
    "import numpy as np\n",
    "import matplotlib.pyplot as plt\n",
    "import warnings\n",
    "warnings.filterwarnings('ignore')"
   ]
  },
  {
   "cell_type": "code",
   "execution_count": 7,
   "id": "0bf8f27a-7ef8-4ad0-abeb-8a9d642ccc39",
   "metadata": {},
   "outputs": [
    {
     "data": {
      "text/html": [
       "<div>\n",
       "<style scoped>\n",
       "    .dataframe tbody tr th:only-of-type {\n",
       "        vertical-align: middle;\n",
       "    }\n",
       "\n",
       "    .dataframe tbody tr th {\n",
       "        vertical-align: top;\n",
       "    }\n",
       "\n",
       "    .dataframe thead th {\n",
       "        text-align: right;\n",
       "    }\n",
       "</style>\n",
       "<table border=\"1\" class=\"dataframe\">\n",
       "  <thead>\n",
       "    <tr style=\"text-align: right;\">\n",
       "      <th></th>\n",
       "      <th>fixed acidity</th>\n",
       "      <th>volatile acidity</th>\n",
       "      <th>citric acid</th>\n",
       "      <th>residual sugar</th>\n",
       "      <th>chlorides</th>\n",
       "      <th>free sulfur dioxide</th>\n",
       "      <th>total sulfur dioxide</th>\n",
       "      <th>density</th>\n",
       "      <th>pH</th>\n",
       "      <th>sulphates</th>\n",
       "      <th>alcohol</th>\n",
       "      <th>quality</th>\n",
       "    </tr>\n",
       "  </thead>\n",
       "  <tbody>\n",
       "    <tr>\n",
       "      <th>0</th>\n",
       "      <td>7.4</td>\n",
       "      <td>0.70</td>\n",
       "      <td>0.00</td>\n",
       "      <td>1.9</td>\n",
       "      <td>0.076</td>\n",
       "      <td>11.0</td>\n",
       "      <td>34.0</td>\n",
       "      <td>0.9978</td>\n",
       "      <td>3.51</td>\n",
       "      <td>0.56</td>\n",
       "      <td>9.4</td>\n",
       "      <td>5</td>\n",
       "    </tr>\n",
       "    <tr>\n",
       "      <th>1</th>\n",
       "      <td>7.8</td>\n",
       "      <td>0.88</td>\n",
       "      <td>0.00</td>\n",
       "      <td>2.6</td>\n",
       "      <td>0.098</td>\n",
       "      <td>25.0</td>\n",
       "      <td>67.0</td>\n",
       "      <td>0.9968</td>\n",
       "      <td>3.20</td>\n",
       "      <td>0.68</td>\n",
       "      <td>9.8</td>\n",
       "      <td>5</td>\n",
       "    </tr>\n",
       "    <tr>\n",
       "      <th>2</th>\n",
       "      <td>7.8</td>\n",
       "      <td>0.76</td>\n",
       "      <td>0.04</td>\n",
       "      <td>2.3</td>\n",
       "      <td>0.092</td>\n",
       "      <td>15.0</td>\n",
       "      <td>54.0</td>\n",
       "      <td>0.9970</td>\n",
       "      <td>3.26</td>\n",
       "      <td>0.65</td>\n",
       "      <td>9.8</td>\n",
       "      <td>5</td>\n",
       "    </tr>\n",
       "    <tr>\n",
       "      <th>3</th>\n",
       "      <td>11.2</td>\n",
       "      <td>0.28</td>\n",
       "      <td>0.56</td>\n",
       "      <td>1.9</td>\n",
       "      <td>0.075</td>\n",
       "      <td>17.0</td>\n",
       "      <td>60.0</td>\n",
       "      <td>0.9980</td>\n",
       "      <td>3.16</td>\n",
       "      <td>0.58</td>\n",
       "      <td>9.8</td>\n",
       "      <td>6</td>\n",
       "    </tr>\n",
       "    <tr>\n",
       "      <th>4</th>\n",
       "      <td>7.4</td>\n",
       "      <td>0.70</td>\n",
       "      <td>0.00</td>\n",
       "      <td>1.9</td>\n",
       "      <td>0.076</td>\n",
       "      <td>11.0</td>\n",
       "      <td>34.0</td>\n",
       "      <td>0.9978</td>\n",
       "      <td>3.51</td>\n",
       "      <td>0.56</td>\n",
       "      <td>9.4</td>\n",
       "      <td>5</td>\n",
       "    </tr>\n",
       "  </tbody>\n",
       "</table>\n",
       "</div>"
      ],
      "text/plain": [
       "   fixed acidity  volatile acidity  citric acid  residual sugar  chlorides  \\\n",
       "0            7.4              0.70         0.00             1.9      0.076   \n",
       "1            7.8              0.88         0.00             2.6      0.098   \n",
       "2            7.8              0.76         0.04             2.3      0.092   \n",
       "3           11.2              0.28         0.56             1.9      0.075   \n",
       "4            7.4              0.70         0.00             1.9      0.076   \n",
       "\n",
       "   free sulfur dioxide  total sulfur dioxide  density    pH  sulphates  \\\n",
       "0                 11.0                  34.0   0.9978  3.51       0.56   \n",
       "1                 25.0                  67.0   0.9968  3.20       0.68   \n",
       "2                 15.0                  54.0   0.9970  3.26       0.65   \n",
       "3                 17.0                  60.0   0.9980  3.16       0.58   \n",
       "4                 11.0                  34.0   0.9978  3.51       0.56   \n",
       "\n",
       "   alcohol  quality  \n",
       "0      9.4        5  \n",
       "1      9.8        5  \n",
       "2      9.8        5  \n",
       "3      9.8        6  \n",
       "4      9.4        5  "
      ]
     },
     "execution_count": 7,
     "metadata": {},
     "output_type": "execute_result"
    }
   ],
   "source": [
    "df=pd.read_csv('winequality-red[1].csv',delimiter=';')\n",
    "df.head()"
   ]
  },
  {
   "cell_type": "markdown",
   "id": "0885d737-ec37-472d-881d-ab34d79ae98e",
   "metadata": {},
   "source": [
    "### missing data in red wine data set"
   ]
  },
  {
   "cell_type": "code",
   "execution_count": 19,
   "id": "beb2a801-fb09-46d2-bafa-240a51b7a05b",
   "metadata": {},
   "outputs": [
    {
     "data": {
      "text/plain": [
       "fixed acidity           0\n",
       "volatile acidity        0\n",
       "citric acid             0\n",
       "residual sugar          0\n",
       "chlorides               0\n",
       "free sulfur dioxide     0\n",
       "total sulfur dioxide    0\n",
       "density                 0\n",
       "pH                      0\n",
       "sulphates               0\n",
       "alcohol                 0\n",
       "quality                 0\n",
       "dtype: int64"
      ]
     },
     "execution_count": 19,
     "metadata": {},
     "output_type": "execute_result"
    }
   ],
   "source": [
    "df.isnull().sum()"
   ]
  },
  {
   "cell_type": "markdown",
   "id": "54046c83-c0d3-4275-8431-8661b731f264",
   "metadata": {},
   "source": [
    "### it is clear that there is no missing data in red wine data set but if there would be any missing value then:"
   ]
  },
  {
   "cell_type": "code",
   "execution_count": 24,
   "id": "a5607f27-4b5e-40a8-9e23-09217acd49c9",
   "metadata": {},
   "outputs": [
    {
     "data": {
      "text/plain": [
       "fixed acidity           float64\n",
       "volatile acidity        float64\n",
       "citric acid             float64\n",
       "residual sugar          float64\n",
       "chlorides               float64\n",
       "free sulfur dioxide     float64\n",
       "total sulfur dioxide    float64\n",
       "density                 float64\n",
       "pH                      float64\n",
       "sulphates               float64\n",
       "alcohol                 float64\n",
       "quality                   int64\n",
       "dtype: object"
      ]
     },
     "execution_count": 24,
     "metadata": {},
     "output_type": "execute_result"
    }
   ],
   "source": [
    "df.dtypes"
   ]
  },
  {
   "cell_type": "markdown",
   "id": "fa25dd31-900b-4122-8aba-2ec1ed80e60e",
   "metadata": {},
   "source": [
    "### all the values are numeric then we can handle the missing values by mean,median mode method"
   ]
  },
  {
   "cell_type": "markdown",
   "id": "cd27603a-3518-4695-b0b8-f9f99834ae25",
   "metadata": {},
   "source": [
    "#### Missing data is a common problem in real-world datasets, and handling missing data is an important step in the data preprocessing and feature engineering process. Here are some common techniques for handling missing data:\n",
    "\n",
    "    \n",
    "1. Mean/median imputation: In this technique, missing values are replaced with the mean or median value of the corresponding feature. This technique is simple and easy to implement, and can work well if the missing values are not too numerous. However, it can also introduce bias if the missing values are not missing at random, and it can reduce the variance of the data.\n",
    "\n",
    "2. Mode imputation: In this technique, missing values are replaced with the mode value of the corresponding feature. This technique works well for categorical variables and can be useful if the most common value is a good approximation of the missing value. However, it can also introduce bias if the missing values are not missing at random.\n",
    "\n",
    "3. K-nearest neighbor imputation: In this technique, missing values are replaced with the values of the nearest k-neighbors in the dataset. This method can work well if the missing data is not too extensive and the dataset has a clear underlying structure. However, it can also introduce bias if the nearest neighbors are not truly similar.\n",
    "\n",
    "4. Iterative imputation: In this technique, missing values are imputed by modeling the missing values as a function of other variables in the dataset. Multiple iterations are performed to refine the imputed values, with each iteration using the imputed values from the previous iteration as input. This technique can be effective if the missing data is not too extensive and can be modeled using other variables in the dataset. It can also provide a measure of uncertainty for the imputed values. However, it can be computationally expensive and requires a good understanding of the underlying data structure.\n"
   ]
  },
  {
   "cell_type": "markdown",
   "id": "c4e4dc4b-74ef-4abe-b642-04385ef81d38",
   "metadata": {},
   "source": [
    "***\n",
    "#### **<font color='grey'>Q3. What are the key factors that affect students performance in exams? How would you go about analyzing these factors using statistical techniques?</font >**\n",
    "***"
   ]
  },
  {
   "cell_type": "markdown",
   "id": "b504ea73-9b12-4440-827e-63f7e59beb0e",
   "metadata": {},
   "source": [
    "### Answer"
   ]
  },
  {
   "cell_type": "code",
   "execution_count": 8,
   "id": "d644dc4b-03fd-4490-a071-48131d71701a",
   "metadata": {},
   "outputs": [
    {
     "data": {
      "text/html": [
       "<div>\n",
       "<style scoped>\n",
       "    .dataframe tbody tr th:only-of-type {\n",
       "        vertical-align: middle;\n",
       "    }\n",
       "\n",
       "    .dataframe tbody tr th {\n",
       "        vertical-align: top;\n",
       "    }\n",
       "\n",
       "    .dataframe thead th {\n",
       "        text-align: right;\n",
       "    }\n",
       "</style>\n",
       "<table border=\"1\" class=\"dataframe\">\n",
       "  <thead>\n",
       "    <tr style=\"text-align: right;\">\n",
       "      <th></th>\n",
       "      <th>gender</th>\n",
       "      <th>race/ethnicity</th>\n",
       "      <th>parental level of education</th>\n",
       "      <th>lunch</th>\n",
       "      <th>test preparation course</th>\n",
       "      <th>math score</th>\n",
       "      <th>reading score</th>\n",
       "      <th>writing score</th>\n",
       "    </tr>\n",
       "  </thead>\n",
       "  <tbody>\n",
       "    <tr>\n",
       "      <th>0</th>\n",
       "      <td>female</td>\n",
       "      <td>group B</td>\n",
       "      <td>bachelor's degree</td>\n",
       "      <td>standard</td>\n",
       "      <td>none</td>\n",
       "      <td>72</td>\n",
       "      <td>72</td>\n",
       "      <td>74</td>\n",
       "    </tr>\n",
       "    <tr>\n",
       "      <th>1</th>\n",
       "      <td>female</td>\n",
       "      <td>group C</td>\n",
       "      <td>some college</td>\n",
       "      <td>standard</td>\n",
       "      <td>completed</td>\n",
       "      <td>69</td>\n",
       "      <td>90</td>\n",
       "      <td>88</td>\n",
       "    </tr>\n",
       "    <tr>\n",
       "      <th>2</th>\n",
       "      <td>female</td>\n",
       "      <td>group B</td>\n",
       "      <td>master's degree</td>\n",
       "      <td>standard</td>\n",
       "      <td>none</td>\n",
       "      <td>90</td>\n",
       "      <td>95</td>\n",
       "      <td>93</td>\n",
       "    </tr>\n",
       "    <tr>\n",
       "      <th>3</th>\n",
       "      <td>male</td>\n",
       "      <td>group A</td>\n",
       "      <td>associate's degree</td>\n",
       "      <td>free/reduced</td>\n",
       "      <td>none</td>\n",
       "      <td>47</td>\n",
       "      <td>57</td>\n",
       "      <td>44</td>\n",
       "    </tr>\n",
       "    <tr>\n",
       "      <th>4</th>\n",
       "      <td>male</td>\n",
       "      <td>group C</td>\n",
       "      <td>some college</td>\n",
       "      <td>standard</td>\n",
       "      <td>none</td>\n",
       "      <td>76</td>\n",
       "      <td>78</td>\n",
       "      <td>75</td>\n",
       "    </tr>\n",
       "  </tbody>\n",
       "</table>\n",
       "</div>"
      ],
      "text/plain": [
       "   gender race/ethnicity parental level of education         lunch  \\\n",
       "0  female        group B           bachelor's degree      standard   \n",
       "1  female        group C                some college      standard   \n",
       "2  female        group B             master's degree      standard   \n",
       "3    male        group A          associate's degree  free/reduced   \n",
       "4    male        group C                some college      standard   \n",
       "\n",
       "  test preparation course  math score  reading score  writing score  \n",
       "0                    none          72             72             74  \n",
       "1               completed          69             90             88  \n",
       "2                    none          90             95             93  \n",
       "3                    none          47             57             44  \n",
       "4                    none          76             78             75  "
      ]
     },
     "execution_count": 8,
     "metadata": {},
     "output_type": "execute_result"
    }
   ],
   "source": [
    "df=pd.read_csv('StudentsPerformance.csv')\n",
    "df.head()"
   ]
  },
  {
   "cell_type": "code",
   "execution_count": 28,
   "id": "1b33b4f0-9626-4de7-966e-01e8a8036df4",
   "metadata": {},
   "outputs": [
    {
     "data": {
      "text/html": [
       "<div>\n",
       "<style scoped>\n",
       "    .dataframe tbody tr th:only-of-type {\n",
       "        vertical-align: middle;\n",
       "    }\n",
       "\n",
       "    .dataframe tbody tr th {\n",
       "        vertical-align: top;\n",
       "    }\n",
       "\n",
       "    .dataframe thead th {\n",
       "        text-align: right;\n",
       "    }\n",
       "</style>\n",
       "<table border=\"1\" class=\"dataframe\">\n",
       "  <thead>\n",
       "    <tr style=\"text-align: right;\">\n",
       "      <th></th>\n",
       "      <th>gender</th>\n",
       "      <th>race/ethnicity</th>\n",
       "      <th>parental level of education</th>\n",
       "      <th>lunch</th>\n",
       "      <th>test preparation course</th>\n",
       "      <th>math score</th>\n",
       "      <th>reading score</th>\n",
       "      <th>writing score</th>\n",
       "      <th>total_score</th>\n",
       "      <th>average_score</th>\n",
       "    </tr>\n",
       "  </thead>\n",
       "  <tbody>\n",
       "    <tr>\n",
       "      <th>0</th>\n",
       "      <td>female</td>\n",
       "      <td>group B</td>\n",
       "      <td>bachelor's degree</td>\n",
       "      <td>standard</td>\n",
       "      <td>none</td>\n",
       "      <td>72</td>\n",
       "      <td>72</td>\n",
       "      <td>74</td>\n",
       "      <td>218</td>\n",
       "      <td>72.666667</td>\n",
       "    </tr>\n",
       "    <tr>\n",
       "      <th>1</th>\n",
       "      <td>female</td>\n",
       "      <td>group C</td>\n",
       "      <td>some college</td>\n",
       "      <td>standard</td>\n",
       "      <td>completed</td>\n",
       "      <td>69</td>\n",
       "      <td>90</td>\n",
       "      <td>88</td>\n",
       "      <td>247</td>\n",
       "      <td>82.333333</td>\n",
       "    </tr>\n",
       "    <tr>\n",
       "      <th>2</th>\n",
       "      <td>female</td>\n",
       "      <td>group B</td>\n",
       "      <td>master's degree</td>\n",
       "      <td>standard</td>\n",
       "      <td>none</td>\n",
       "      <td>90</td>\n",
       "      <td>95</td>\n",
       "      <td>93</td>\n",
       "      <td>278</td>\n",
       "      <td>92.666667</td>\n",
       "    </tr>\n",
       "    <tr>\n",
       "      <th>3</th>\n",
       "      <td>male</td>\n",
       "      <td>group A</td>\n",
       "      <td>associate's degree</td>\n",
       "      <td>free/reduced</td>\n",
       "      <td>none</td>\n",
       "      <td>47</td>\n",
       "      <td>57</td>\n",
       "      <td>44</td>\n",
       "      <td>148</td>\n",
       "      <td>49.333333</td>\n",
       "    </tr>\n",
       "    <tr>\n",
       "      <th>4</th>\n",
       "      <td>male</td>\n",
       "      <td>group C</td>\n",
       "      <td>some college</td>\n",
       "      <td>standard</td>\n",
       "      <td>none</td>\n",
       "      <td>76</td>\n",
       "      <td>78</td>\n",
       "      <td>75</td>\n",
       "      <td>229</td>\n",
       "      <td>76.333333</td>\n",
       "    </tr>\n",
       "  </tbody>\n",
       "</table>\n",
       "</div>"
      ],
      "text/plain": [
       "   gender race/ethnicity parental level of education         lunch  \\\n",
       "0  female        group B           bachelor's degree      standard   \n",
       "1  female        group C                some college      standard   \n",
       "2  female        group B             master's degree      standard   \n",
       "3    male        group A          associate's degree  free/reduced   \n",
       "4    male        group C                some college      standard   \n",
       "\n",
       "  test preparation course  math score  reading score  writing score  \\\n",
       "0                    none          72             72             74   \n",
       "1               completed          69             90             88   \n",
       "2                    none          90             95             93   \n",
       "3                    none          47             57             44   \n",
       "4                    none          76             78             75   \n",
       "\n",
       "   total_score  average_score  \n",
       "0          218      72.666667  \n",
       "1          247      82.333333  \n",
       "2          278      92.666667  \n",
       "3          148      49.333333  \n",
       "4          229      76.333333  "
      ]
     },
     "execution_count": 28,
     "metadata": {},
     "output_type": "execute_result"
    }
   ],
   "source": [
    "df['total_score']=(df['math score']+df[ 'reading score']+df['writing score'])"
   ]
  },
  {
   "cell_type": "markdown",
   "id": "4baa2c74-1d4d-4153-9e6a-79327710b9c7",
   "metadata": {},
   "source": [
    "### the factors affecting the student performance are:\n",
    "\n",
    "1. Gender: Previous research has shown that gender can impact students' academic performance. You could analyze the relationship between gender and exam performance using a t-test or ANOVA to compare the mean exam scores of male and female students.\n",
    "\n",
    "2. Race/ethnicity: Similar to gender, race/ethnicity can also impact students' academic performance. You could analyze the relationship between race/ethnicity and exam performance using a similar approach as for gender.\n",
    "\n",
    "3. Parental level of education: Students whose parents have a higher level of education may have better study habits and support systems that contribute to their academic success. You could analyze the relationship between parental level of education and exam performance using a correlation analysis or multiple regression.\n",
    "\n",
    "4. Lunch: Students who receive free or reduced-price lunches may face additional challenges that impact their academic performance. You could analyze the relationship between lunch status and exam performance using a t-test or ANOVA to compare the mean exam scores of students who receive free or reduced-price lunches versus those who do not.\n",
    "\n",
    "5. Test preparation course: Students who take test preparation courses may perform better on exams due to improved study strategies and test-taking skills. You could analyze the relationship between test preparation course enrollment and exam performance using a t-test or ANOVA to compare the mean exam scores of students who took the course versus those who did not.\n",
    "\n",
    "6. Math, reading, and writing scores: These three variables represent the individual subject scores of students on their exams. You could analyze the relationship between these variables and exam performance using correlation analyses or multiple regression.\n",
    "\n",
    "7. Total score: This variable represents the combined score of all three subjects on the exam. You could analyze the relationship between total score and the other variables using a multiple regression.\n",
    "\n"
   ]
  },
  {
   "cell_type": "markdown",
   "id": "55e81d34-9a26-4463-beaa-19013c5a6aad",
   "metadata": {},
   "source": [
    "## Gender column\n",
    "#### Does gender have any impact on student performance?\n"
   ]
  },
  {
   "cell_type": "code",
   "execution_count": 13,
   "id": "4c925d03-1a5c-4b6b-88b7-4db8f2659ccd",
   "metadata": {},
   "outputs": [
    {
     "data": {
      "text/plain": [
       "([<matplotlib.patches.Wedge at 0x7f951ac90610>,\n",
       "  <matplotlib.patches.Wedge at 0x7f951ac91180>],\n",
       " [Text(-0.06217041096298424, 1.0982417038160106, 'male'),\n",
       "  Text(0.06217041096298411, -1.0982417038160106, 'femlae')],\n",
       " [Text(-0.033911133252536856, 0.5990409293541875, '51.8%'),\n",
       "  Text(0.033911133252536786, -0.5990409293541875, '48.2%')])"
      ]
     },
     "execution_count": 13,
     "metadata": {},
     "output_type": "execute_result"
    },
    {
     "data": {
      "image/png": "[encoded data removed]",
      "text/plain": [
       "<Figure size 800x600 with 2 Axes>"
      ]
     },
     "metadata": {},
     "output_type": "display_data"
    }
   ],
   "source": [
    "f,ax=plt.subplots(1,2,figsize=(8,6))\n",
    "sns.countplot(data=df,x=df['gender'],palette='bright',saturation=0.95,ax=ax[0],color='black')\n",
    "for container in ax[0].containers:\n",
    "    ax[0].bar_label(container,color='black',size=15)\n",
    "    \n",
    "plt.pie(x=df['gender'].value_counts(),labels=['male','femlae'],colors=['pink','blue'],autopct='%1.1f%%')\n"
   ]
  },
  {
   "cell_type": "markdown",
   "id": "5361801d-60d0-47ee-bd5a-552a78c9db19",
   "metadata": {},
   "source": [
    "Gender has balanced data with female students are 518 (48%) and male students are 482 (52%)"
   ]
  },
  {
   "cell_type": "markdown",
   "id": "f2dacea5-9f6c-4545-a185-e54c566b6ed3",
   "metadata": {},
   "source": [
    "## Race/ethnicity:"
   ]
  },
  {
   "cell_type": "code",
   "execution_count": 19,
   "id": "2c339b41-0c6e-4b30-abb4-21c8fa8ab29b",
   "metadata": {},
   "outputs": [
    {
     "data": {
      "text/plain": [
       "([<matplotlib.patches.Wedge at 0x7f9517b3f430>,\n",
       "  <matplotlib.patches.Wedge at 0x7f9517b3ee90>,\n",
       "  <matplotlib.patches.Wedge at 0x7f9517b3fe20>,\n",
       "  <matplotlib.patches.Wedge at 0x7f9517b5c730>,\n",
       "  <matplotlib.patches.Wedge at 0x7f9517b5d000>],\n",
       " [Text(0.592324332246979, 0.9269044640242977, 'group C'),\n",
       "  Text(-1.0461621742897658, 0.3399186742226879, 'group D'),\n",
       "  Text(-0.49322154359063347, -0.9832255636109514, 'group B'),\n",
       "  Text(0.5952333666001212, -0.9250390474384775, 'group E'),\n",
       "  Text(1.057281962489778, -0.3035701760610943, 'group A')],\n",
       " [Text(0.3230859994074431, 0.5055842531041623, '31.9%'),\n",
       "  Text(-0.5706339132489631, 0.18541018593964795, '26.2%'),\n",
       "  Text(-0.2690299328676182, -0.5363048528787007, '19.0%'),\n",
       "  Text(0.32467274541824787, -0.5045667531482604, '14.0%'),\n",
       "  Text(0.5766992522671516, -0.1655837323969605, '8.9%')])"
      ]
     },
     "execution_count": 19,
     "metadata": {},
     "output_type": "execute_result"
    },
    {
     "data": {
      "image/png": "[encoded data removed]",
      "text/plain": [
       "<Figure size 1200x800 with 2 Axes>"
      ]
     },
     "metadata": {},
     "output_type": "display_data"
    }
   ],
   "source": [
    "f,ax=plt.subplots(1,2,figsize=(12,8))\n",
    "sns.countplot(data=df,x=df['race/ethnicity'],palette='bright',saturation=0.95,ax=ax[0],color='black')\n",
    "for container in ax[0].containers:\n",
    "    ax[0].bar_label(container,color='black',size=15)\n",
    "    \n",
    "\n",
    "    \n",
    "    \n",
    "plt.pie(x=df['race/ethnicity'].value_counts(),labels=df['race/ethnicity'].value_counts().index,colors=['red','yellow','green','pink','blue'],shadow=True,autopct='%1.1f%%')\n"
   ]
  },
  {
   "cell_type": "markdown",
   "id": "cbe5e1d2-a6e2-4c62-90b9-2896717f9463",
   "metadata": {},
   "source": [
    "### insights\n",
    "- most of the students are from group C 319(31.9%) and group D 262(26.2%)\n",
    "- lowest number of students are from group A"
   ]
  },
  {
   "cell_type": "markdown",
   "id": "9a301cc4-33e2-49dd-877d-f3b79636dd5c",
   "metadata": {},
   "source": [
    "## parental level of education\t\n"
   ]
  },
  {
   "cell_type": "code",
   "execution_count": 36,
   "id": "3bb93972-970e-4804-8a61-7523d79b7ff8",
   "metadata": {},
   "outputs": [
    {
     "data": {
      "image/png": "[encoded data removed]",
      "text/plain": [
       "<Figure size 1500x900 with 1 Axes>"
      ]
     },
     "metadata": {},
     "output_type": "display_data"
    }
   ],
   "source": [
    "plt.rcParams['figure.figsize'] = (15, 9)\n",
    "plt.style.use('fivethirtyeight')\n",
    "sns.histplot(df[\"parental level of education\"], palette = 'Blues')\n",
    "plt.title('Comparison of Parental Education', fontweight = 30, fontsize = 20)\n",
    "plt.xlabel('Degree')\n",
    "plt.ylabel('count')\n",
    "plt.show()"
   ]
  },
  {
   "cell_type": "code",
   "execution_count": 12,
   "id": "3e6c2edf-d896-481f-a224-c682815e8aae",
   "metadata": {},
   "outputs": [
    {
     "data": {
      "image/png": "[encoded data removed]",
      "text/plain": [
       "<Figure size 1000x1000 with 1 Axes>"
      ]
     },
     "metadata": {},
     "output_type": "display_data"
    }
   ],
   "source": [
    "df.groupby('parental level of education').agg('mean').plot(kind='barh',figsize=(10,10))\n",
    "plt.legend(bbox_to_anchor=(1.05,1),loc=2,borderaxespad=0.)\n",
    "plt.show()"
   ]
  },
  {
   "cell_type": "markdown",
   "id": "08cdcf6a-0780-46a9-9520-af4a98d855ed",
   "metadata": {},
   "source": [
    "- students with parental level of education at master's degree, bachelor's degree and associate degree have the highest score.\n",
    "\n",
    "- students with parental level of education at high school have lowest score."
   ]
  },
  {
   "cell_type": "code",
   "execution_count": 13,
   "id": "d1a85e07-9be4-452f-ac5d-b98ea60c0f01",
   "metadata": {},
   "outputs": [
    {
     "data": {
      "image/png": "[encoded data removed]",
      "text/plain": [
       "<Figure size 1000x1000 with 1 Axes>"
      ]
     },
     "metadata": {},
     "output_type": "display_data"
    }
   ],
   "source": [
    "df.groupby('lunch').agg('mean').plot(kind='barh',figsize=(10,10))\n",
    "plt.legend(bbox_to_anchor=(1.05,1),loc=2,borderaxespad=0.)\n",
    "plt.show()"
   ]
  },
  {
   "cell_type": "markdown",
   "id": "f8319743-7223-4c69-beaa-e3634461e866",
   "metadata": {},
   "source": [
    "- students with standard lunch have higher score as compared to the students with free/reduced lunch"
   ]
  },
  {
   "cell_type": "code",
   "execution_count": 15,
   "id": "ee25f361-5edf-4bae-ad4f-01b3ea1431c8",
   "metadata": {},
   "outputs": [
    {
     "data": {
      "image/png": "[encoded data removed]",
      "text/plain": [
       "<Figure size 1000x1000 with 1 Axes>"
      ]
     },
     "metadata": {},
     "output_type": "display_data"
    }
   ],
   "source": [
    "df.groupby('test preparation course').agg('mean').plot(kind='barh',figsize=(10,10))\n",
    "plt.legend(bbox_to_anchor=(1.05,1),loc=2,borderaxespad=0.)\n",
    "plt.show()"
   ]
  },
  {
   "cell_type": "markdown",
   "id": "798fa2c9-5205-4bb5-bd6f-d5505e17fa44",
   "metadata": {},
   "source": [
    "- students with completed test preparation course have higher scores as compared to the students with no test preparation."
   ]
  },
  {
   "cell_type": "markdown",
   "id": "969380c3-d192-4c55-818e-a4d043fea1c7",
   "metadata": {},
   "source": [
    "### from the above analysis we can say that:\n",
    "1. gender does not affect the student performance as much bcz we have almost equal number of girls and boys\n",
    "\n",
    "2. race/ethnicity does affect the student performace as most of the students are from group C or group D and least number of students are from group A.\n",
    "\n",
    "3. parental level of education\talso affects the student performance as the students whose parents have master's or bachelor's degree have higher scores as compared to the students whose parents have high school degree.\n",
    "\n",
    "4. lunch also affect the student performance as students with standard lunch do better in exams as compared to students with free lunch. \n",
    "\n",
    "5. test preparation course also affect the student performance as students with complete test preparation have higher score as compred to students with no test preparation"
   ]
  },
  {
   "cell_type": "markdown",
   "id": "710acacb-ad94-47fd-a65d-19aa705e5d41",
   "metadata": {},
   "source": [
    "***\n",
    "#### **<font color='grey'>Q4. Describe the process of feature engineering in the context of the student performance data set.How did you select and transform the variables for your model?</font >**\n",
    "***"
   ]
  },
  {
   "cell_type": "markdown",
   "id": "cb17844f-54f3-408d-be57-cfe6014ae255",
   "metadata": {},
   "source": [
    "### Answer"
   ]
  },
  {
   "cell_type": "markdown",
   "id": "228a4878-6d4c-4d89-8586-5c363ca42247",
   "metadata": {},
   "source": [
    "### Feature engineering is the process of modifying and selecting the features of a data set to improve predictions made by machine learning algorithms. In the context of student performance data, feature engineering can help improve the prediction of student performance by modifying input data. The process of feature engineering involves selecting and transforming variables for a model"
   ]
  },
  {
   "cell_type": "markdown",
   "id": "15559a83-ab67-4e3d-b370-ca2ae6c96979",
   "metadata": {},
   "source": [
    "## Data Checks to Perform\n",
    "- Check Missing values\n",
    "- Check Duplicates\n",
    "- Check data type\n",
    "- Check the number of unique values in each column\n",
    "- Check the statistics of the data set\n",
    "- Check various categories present in the different categorical column"
   ]
  },
  {
   "cell_type": "markdown",
   "id": "2905ebdf-3953-4a21-9677-4463913265e2",
   "metadata": {},
   "source": [
    "- ### Check Missing values"
   ]
  },
  {
   "cell_type": "code",
   "execution_count": 17,
   "id": "0d4c24fe-f284-43ab-ba33-1c9f669480f3",
   "metadata": {},
   "outputs": [
    {
     "data": {
      "text/plain": [
       "gender                         0\n",
       "race/ethnicity                 0\n",
       "parental level of education    0\n",
       "lunch                          0\n",
       "test preparation course        0\n",
       "math score                     0\n",
       "reading score                  0\n",
       "writing score                  0\n",
       "dtype: int64"
      ]
     },
     "execution_count": 17,
     "metadata": {},
     "output_type": "execute_result"
    }
   ],
   "source": [
    "df.isnull().sum()"
   ]
  },
  {
   "cell_type": "markdown",
   "id": "15f450cf-cc09-46dc-9f53-4a78c2936c8d",
   "metadata": {},
   "source": [
    "#### there is no missing data inthe data set"
   ]
  },
  {
   "cell_type": "markdown",
   "id": "6bfe3fbb-a138-4ab7-9aa0-46c2896e9dcb",
   "metadata": {},
   "source": [
    "- ### Check Duplicates"
   ]
  },
  {
   "cell_type": "code",
   "execution_count": 18,
   "id": "1887008e-90d2-45d4-a24b-9a88b6fb1650",
   "metadata": {},
   "outputs": [
    {
     "data": {
      "text/plain": [
       "0"
      ]
     },
     "execution_count": 18,
     "metadata": {},
     "output_type": "execute_result"
    }
   ],
   "source": [
    "df.duplicated().sum()"
   ]
  },
  {
   "cell_type": "markdown",
   "id": "ed6f6908-97b5-4206-86fc-95a629765579",
   "metadata": {},
   "source": [
    "#### there is no duplicates in the dataset"
   ]
  },
  {
   "cell_type": "markdown",
   "id": "2ac5dfcc-8bd6-4d9e-a8ea-e23f53fc5060",
   "metadata": {},
   "source": [
    "- ### Check data type"
   ]
  },
  {
   "cell_type": "code",
   "execution_count": 20,
   "id": "16c21c72-d198-4d4a-9466-6804a3480354",
   "metadata": {},
   "outputs": [
    {
     "name": "stdout",
     "output_type": "stream",
     "text": [
      "<class 'pandas.core.frame.DataFrame'>\n",
      "RangeIndex: 1000 entries, 0 to 999\n",
      "Data columns (total 8 columns):\n",
      " #   Column                       Non-Null Count  Dtype \n",
      "---  ------                       --------------  ----- \n",
      " 0   gender                       1000 non-null   object\n",
      " 1   race/ethnicity               1000 non-null   object\n",
      " 2   parental level of education  1000 non-null   object\n",
      " 3   lunch                        1000 non-null   object\n",
      " 4   test preparation course      1000 non-null   object\n",
      " 5   math score                   1000 non-null   int64 \n",
      " 6   reading score                1000 non-null   int64 \n",
      " 7   writing score                1000 non-null   int64 \n",
      "dtypes: int64(3), object(5)\n",
      "memory usage: 62.6+ KB\n"
     ]
    }
   ],
   "source": [
    "df.info()"
   ]
  },
  {
   "cell_type": "markdown",
   "id": "f6637a1a-5028-4e83-93f6-1245ddc7e8c3",
   "metadata": {},
   "source": [
    "#### there are 5 object types and 3 numeric "
   ]
  },
  {
   "cell_type": "markdown",
   "id": "cb12f2fc-29e2-4397-bc70-73f8ce99327a",
   "metadata": {},
   "source": [
    "- ### Check the number of unique values in each column"
   ]
  },
  {
   "cell_type": "code",
   "execution_count": 21,
   "id": "6b61c863-ec81-41ad-b9f0-e40ed04d782c",
   "metadata": {},
   "outputs": [
    {
     "data": {
      "text/plain": [
       "gender                          2\n",
       "race/ethnicity                  5\n",
       "parental level of education     6\n",
       "lunch                           2\n",
       "test preparation course         2\n",
       "math score                     81\n",
       "reading score                  72\n",
       "writing score                  77\n",
       "dtype: int64"
      ]
     },
     "execution_count": 21,
     "metadata": {},
     "output_type": "execute_result"
    }
   ],
   "source": [
    "df.nunique()"
   ]
  },
  {
   "cell_type": "markdown",
   "id": "b735ac3d-c272-4411-8c98-96e25f31ab3b",
   "metadata": {},
   "source": [
    "- ### Check the statistics of the data set"
   ]
  },
  {
   "cell_type": "code",
   "execution_count": 24,
   "id": "3fc72c35-ff46-4a7d-bfd2-87df23c10fba",
   "metadata": {},
   "outputs": [
    {
     "data": {
      "text/html": [
       "<div>\n",
       "<style scoped>\n",
       "    .dataframe tbody tr th:only-of-type {\n",
       "        vertical-align: middle;\n",
       "    }\n",
       "\n",
       "    .dataframe tbody tr th {\n",
       "        vertical-align: top;\n",
       "    }\n",
       "\n",
       "    .dataframe thead th {\n",
       "        text-align: right;\n",
       "    }\n",
       "</style>\n",
       "<table border=\"1\" class=\"dataframe\">\n",
       "  <thead>\n",
       "    <tr style=\"text-align: right;\">\n",
       "      <th></th>\n",
       "      <th>math score</th>\n",
       "      <th>reading score</th>\n",
       "      <th>writing score</th>\n",
       "    </tr>\n",
       "  </thead>\n",
       "  <tbody>\n",
       "    <tr>\n",
       "      <th>count</th>\n",
       "      <td>1000.00000</td>\n",
       "      <td>1000.000000</td>\n",
       "      <td>1000.000000</td>\n",
       "    </tr>\n",
       "    <tr>\n",
       "      <th>mean</th>\n",
       "      <td>66.08900</td>\n",
       "      <td>69.169000</td>\n",
       "      <td>68.054000</td>\n",
       "    </tr>\n",
       "    <tr>\n",
       "      <th>std</th>\n",
       "      <td>15.16308</td>\n",
       "      <td>14.600192</td>\n",
       "      <td>15.195657</td>\n",
       "    </tr>\n",
       "    <tr>\n",
       "      <th>min</th>\n",
       "      <td>0.00000</td>\n",
       "      <td>17.000000</td>\n",
       "      <td>10.000000</td>\n",
       "    </tr>\n",
       "    <tr>\n",
       "      <th>25%</th>\n",
       "      <td>57.00000</td>\n",
       "      <td>59.000000</td>\n",
       "      <td>57.750000</td>\n",
       "    </tr>\n",
       "    <tr>\n",
       "      <th>50%</th>\n",
       "      <td>66.00000</td>\n",
       "      <td>70.000000</td>\n",
       "      <td>69.000000</td>\n",
       "    </tr>\n",
       "    <tr>\n",
       "      <th>75%</th>\n",
       "      <td>77.00000</td>\n",
       "      <td>79.000000</td>\n",
       "      <td>79.000000</td>\n",
       "    </tr>\n",
       "    <tr>\n",
       "      <th>max</th>\n",
       "      <td>100.00000</td>\n",
       "      <td>100.000000</td>\n",
       "      <td>100.000000</td>\n",
       "    </tr>\n",
       "  </tbody>\n",
       "</table>\n",
       "</div>"
      ],
      "text/plain": [
       "       math score  reading score  writing score\n",
       "count  1000.00000    1000.000000    1000.000000\n",
       "mean     66.08900      69.169000      68.054000\n",
       "std      15.16308      14.600192      15.195657\n",
       "min       0.00000      17.000000      10.000000\n",
       "25%      57.00000      59.000000      57.750000\n",
       "50%      66.00000      70.000000      69.000000\n",
       "75%      77.00000      79.000000      79.000000\n",
       "max     100.00000     100.000000     100.000000"
      ]
     },
     "execution_count": 24,
     "metadata": {},
     "output_type": "execute_result"
    }
   ],
   "source": [
    "df.describe()"
   ]
  },
  {
   "cell_type": "markdown",
   "id": "68595767-d546-4eb1-bc54-8776e4f55871",
   "metadata": {},
   "source": [
    "### Insights/Observation"
   ]
  },
  {
   "cell_type": "markdown",
   "id": "5a6d9ca9-c312-4c5d-bc11-44c7042365c1",
   "metadata": {},
   "source": [
    "- the mean of the marks are similar to each other as 66,69,68.\n",
    "- the standard deviation is also close to each other.\n",
    "- the minimum marks is 0 for math, its 17 and 10 for others.\n",
    "- the maximum marks is 100 in all."
   ]
  },
  {
   "cell_type": "markdown",
   "id": "9c442ed6-8842-4ba5-bb5e-2587ac4660b9",
   "metadata": {},
   "source": [
    "- ### Check various categories present in the different categorical column"
   ]
  },
  {
   "cell_type": "code",
   "execution_count": 30,
   "id": "fcc91819-5f25-489c-81c7-8b17ca14f010",
   "metadata": {},
   "outputs": [
    {
     "data": {
      "text/plain": [
       "['math score', 'reading score', 'writing score']"
      ]
     },
     "execution_count": 30,
     "metadata": {},
     "output_type": "execute_result"
    }
   ],
   "source": [
    "[feature for feature in df.columns if df[feature].dtype!=('O')]"
   ]
  },
  {
   "cell_type": "code",
   "execution_count": 45,
   "id": "9ab24575-4d90-49b2-865b-ca3bd53ae601",
   "metadata": {},
   "outputs": [],
   "source": [
    "numerical_feature=list([feature for feature in df.columns if df[feature].dtype!=('O')])\n",
    "categorical_feature=list([feature for feature in df.columns if df[feature].dtype==('O')])"
   ]
  },
  {
   "cell_type": "code",
   "execution_count": 47,
   "id": "b166abb4-de78-4602-8f81-03137971d4ab",
   "metadata": {},
   "outputs": [
    {
     "data": {
      "text/plain": [
       "['gender',\n",
       " 'race/ethnicity',\n",
       " 'parental level of education',\n",
       " 'lunch',\n",
       " 'test preparation course']"
      ]
     },
     "execution_count": 47,
     "metadata": {},
     "output_type": "execute_result"
    }
   ],
   "source": [
    "categorical_feature"
   ]
  },
  {
   "cell_type": "code",
   "execution_count": 48,
   "id": "7800830c-072c-4434-a9ba-e72c69e277d1",
   "metadata": {},
   "outputs": [
    {
     "data": {
      "text/html": [
       "<div>\n",
       "<style scoped>\n",
       "    .dataframe tbody tr th:only-of-type {\n",
       "        vertical-align: middle;\n",
       "    }\n",
       "\n",
       "    .dataframe tbody tr th {\n",
       "        vertical-align: top;\n",
       "    }\n",
       "\n",
       "    .dataframe thead th {\n",
       "        text-align: right;\n",
       "    }\n",
       "</style>\n",
       "<table border=\"1\" class=\"dataframe\">\n",
       "  <thead>\n",
       "    <tr style=\"text-align: right;\">\n",
       "      <th></th>\n",
       "      <th>gender</th>\n",
       "      <th>race/ethnicity</th>\n",
       "      <th>parental level of education</th>\n",
       "      <th>lunch</th>\n",
       "      <th>test preparation course</th>\n",
       "      <th>math score</th>\n",
       "      <th>reading score</th>\n",
       "      <th>writing score</th>\n",
       "      <th>total_score</th>\n",
       "      <th>average</th>\n",
       "    </tr>\n",
       "  </thead>\n",
       "  <tbody>\n",
       "    <tr>\n",
       "      <th>0</th>\n",
       "      <td>female</td>\n",
       "      <td>group B</td>\n",
       "      <td>bachelor's degree</td>\n",
       "      <td>standard</td>\n",
       "      <td>none</td>\n",
       "      <td>72</td>\n",
       "      <td>72</td>\n",
       "      <td>74</td>\n",
       "      <td>218</td>\n",
       "      <td>72.666667</td>\n",
       "    </tr>\n",
       "    <tr>\n",
       "      <th>1</th>\n",
       "      <td>female</td>\n",
       "      <td>group C</td>\n",
       "      <td>some college</td>\n",
       "      <td>standard</td>\n",
       "      <td>completed</td>\n",
       "      <td>69</td>\n",
       "      <td>90</td>\n",
       "      <td>88</td>\n",
       "      <td>247</td>\n",
       "      <td>82.333333</td>\n",
       "    </tr>\n",
       "    <tr>\n",
       "      <th>2</th>\n",
       "      <td>female</td>\n",
       "      <td>group B</td>\n",
       "      <td>master's degree</td>\n",
       "      <td>standard</td>\n",
       "      <td>none</td>\n",
       "      <td>90</td>\n",
       "      <td>95</td>\n",
       "      <td>93</td>\n",
       "      <td>278</td>\n",
       "      <td>92.666667</td>\n",
       "    </tr>\n",
       "    <tr>\n",
       "      <th>3</th>\n",
       "      <td>male</td>\n",
       "      <td>group A</td>\n",
       "      <td>associate's degree</td>\n",
       "      <td>free/reduced</td>\n",
       "      <td>none</td>\n",
       "      <td>47</td>\n",
       "      <td>57</td>\n",
       "      <td>44</td>\n",
       "      <td>148</td>\n",
       "      <td>49.333333</td>\n",
       "    </tr>\n",
       "    <tr>\n",
       "      <th>4</th>\n",
       "      <td>male</td>\n",
       "      <td>group C</td>\n",
       "      <td>some college</td>\n",
       "      <td>standard</td>\n",
       "      <td>none</td>\n",
       "      <td>76</td>\n",
       "      <td>78</td>\n",
       "      <td>75</td>\n",
       "      <td>229</td>\n",
       "      <td>76.333333</td>\n",
       "    </tr>\n",
       "  </tbody>\n",
       "</table>\n",
       "</div>"
      ],
      "text/plain": [
       "   gender race/ethnicity parental level of education         lunch  \\\n",
       "0  female        group B           bachelor's degree      standard   \n",
       "1  female        group C                some college      standard   \n",
       "2  female        group B             master's degree      standard   \n",
       "3    male        group A          associate's degree  free/reduced   \n",
       "4    male        group C                some college      standard   \n",
       "\n",
       "  test preparation course  math score  reading score  writing score  \\\n",
       "0                    none          72             72             74   \n",
       "1               completed          69             90             88   \n",
       "2                    none          90             95             93   \n",
       "3                    none          47             57             44   \n",
       "4                    none          76             78             75   \n",
       "\n",
       "   total_score    average  \n",
       "0          218  72.666667  \n",
       "1          247  82.333333  \n",
       "2          278  92.666667  \n",
       "3          148  49.333333  \n",
       "4          229  76.333333  "
      ]
     },
     "execution_count": 48,
     "metadata": {},
     "output_type": "execute_result"
    }
   ],
   "source": [
    "df['total_score'] = df['math score'] + df['reading score'] + df['writing score']\n",
    "df['average'] = df['total_score']/3\n",
    "df.head()\n"
   ]
  },
  {
   "cell_type": "code",
   "execution_count": 49,
   "id": "204263e6-88d8-484a-b3fe-34e547d5be14",
   "metadata": {},
   "outputs": [],
   "source": [
    "x=df.drop(labels=['math score','reading score','writing score','total_score','average'],axis=1)\n",
    "y=df[['average']]"
   ]
  },
  {
   "cell_type": "code",
   "execution_count": 53,
   "id": "c6bc1378-2747-47d4-a5b9-a8d77dedcca7",
   "metadata": {},
   "outputs": [
    {
     "data": {
      "text/html": [
       "<div>\n",
       "<style scoped>\n",
       "    .dataframe tbody tr th:only-of-type {\n",
       "        vertical-align: middle;\n",
       "    }\n",
       "\n",
       "    .dataframe tbody tr th {\n",
       "        vertical-align: top;\n",
       "    }\n",
       "\n",
       "    .dataframe thead th {\n",
       "        text-align: right;\n",
       "    }\n",
       "</style>\n",
       "<table border=\"1\" class=\"dataframe\">\n",
       "  <thead>\n",
       "    <tr style=\"text-align: right;\">\n",
       "      <th></th>\n",
       "      <th>gender_female</th>\n",
       "      <th>gender_male</th>\n",
       "      <th>race/ethnicity_group A</th>\n",
       "      <th>race/ethnicity_group B</th>\n",
       "      <th>race/ethnicity_group C</th>\n",
       "      <th>race/ethnicity_group D</th>\n",
       "      <th>race/ethnicity_group E</th>\n",
       "      <th>parental level of education_associate's degree</th>\n",
       "      <th>parental level of education_bachelor's degree</th>\n",
       "      <th>parental level of education_high school</th>\n",
       "      <th>parental level of education_master's degree</th>\n",
       "      <th>parental level of education_some college</th>\n",
       "      <th>parental level of education_some high school</th>\n",
       "      <th>lunch_free/reduced</th>\n",
       "      <th>lunch_standard</th>\n",
       "      <th>test preparation course_completed</th>\n",
       "      <th>test preparation course_none</th>\n",
       "    </tr>\n",
       "  </thead>\n",
       "  <tbody>\n",
       "    <tr>\n",
       "      <th>0</th>\n",
       "      <td>1</td>\n",
       "      <td>0</td>\n",
       "      <td>0</td>\n",
       "      <td>1</td>\n",
       "      <td>0</td>\n",
       "      <td>0</td>\n",
       "      <td>0</td>\n",
       "      <td>0</td>\n",
       "      <td>1</td>\n",
       "      <td>0</td>\n",
       "      <td>0</td>\n",
       "      <td>0</td>\n",
       "      <td>0</td>\n",
       "      <td>0</td>\n",
       "      <td>1</td>\n",
       "      <td>0</td>\n",
       "      <td>1</td>\n",
       "    </tr>\n",
       "    <tr>\n",
       "      <th>1</th>\n",
       "      <td>1</td>\n",
       "      <td>0</td>\n",
       "      <td>0</td>\n",
       "      <td>0</td>\n",
       "      <td>1</td>\n",
       "      <td>0</td>\n",
       "      <td>0</td>\n",
       "      <td>0</td>\n",
       "      <td>0</td>\n",
       "      <td>0</td>\n",
       "      <td>0</td>\n",
       "      <td>1</td>\n",
       "      <td>0</td>\n",
       "      <td>0</td>\n",
       "      <td>1</td>\n",
       "      <td>1</td>\n",
       "      <td>0</td>\n",
       "    </tr>\n",
       "    <tr>\n",
       "      <th>2</th>\n",
       "      <td>1</td>\n",
       "      <td>0</td>\n",
       "      <td>0</td>\n",
       "      <td>1</td>\n",
       "      <td>0</td>\n",
       "      <td>0</td>\n",
       "      <td>0</td>\n",
       "      <td>0</td>\n",
       "      <td>0</td>\n",
       "      <td>0</td>\n",
       "      <td>1</td>\n",
       "      <td>0</td>\n",
       "      <td>0</td>\n",
       "      <td>0</td>\n",
       "      <td>1</td>\n",
       "      <td>0</td>\n",
       "      <td>1</td>\n",
       "    </tr>\n",
       "    <tr>\n",
       "      <th>3</th>\n",
       "      <td>0</td>\n",
       "      <td>1</td>\n",
       "      <td>1</td>\n",
       "      <td>0</td>\n",
       "      <td>0</td>\n",
       "      <td>0</td>\n",
       "      <td>0</td>\n",
       "      <td>1</td>\n",
       "      <td>0</td>\n",
       "      <td>0</td>\n",
       "      <td>0</td>\n",
       "      <td>0</td>\n",
       "      <td>0</td>\n",
       "      <td>1</td>\n",
       "      <td>0</td>\n",
       "      <td>0</td>\n",
       "      <td>1</td>\n",
       "    </tr>\n",
       "    <tr>\n",
       "      <th>4</th>\n",
       "      <td>0</td>\n",
       "      <td>1</td>\n",
       "      <td>0</td>\n",
       "      <td>0</td>\n",
       "      <td>1</td>\n",
       "      <td>0</td>\n",
       "      <td>0</td>\n",
       "      <td>0</td>\n",
       "      <td>0</td>\n",
       "      <td>0</td>\n",
       "      <td>0</td>\n",
       "      <td>1</td>\n",
       "      <td>0</td>\n",
       "      <td>0</td>\n",
       "      <td>1</td>\n",
       "      <td>0</td>\n",
       "      <td>1</td>\n",
       "    </tr>\n",
       "  </tbody>\n",
       "</table>\n",
       "</div>"
      ],
      "text/plain": [
       "   gender_female  gender_male  race/ethnicity_group A  race/ethnicity_group B  \\\n",
       "0              1            0                       0                       1   \n",
       "1              1            0                       0                       0   \n",
       "2              1            0                       0                       1   \n",
       "3              0            1                       1                       0   \n",
       "4              0            1                       0                       0   \n",
       "\n",
       "   race/ethnicity_group C  race/ethnicity_group D  race/ethnicity_group E  \\\n",
       "0                       0                       0                       0   \n",
       "1                       1                       0                       0   \n",
       "2                       0                       0                       0   \n",
       "3                       0                       0                       0   \n",
       "4                       1                       0                       0   \n",
       "\n",
       "   parental level of education_associate's degree  \\\n",
       "0                                               0   \n",
       "1                                               0   \n",
       "2                                               0   \n",
       "3                                               1   \n",
       "4                                               0   \n",
       "\n",
       "   parental level of education_bachelor's degree  \\\n",
       "0                                              1   \n",
       "1                                              0   \n",
       "2                                              0   \n",
       "3                                              0   \n",
       "4                                              0   \n",
       "\n",
       "   parental level of education_high school  \\\n",
       "0                                        0   \n",
       "1                                        0   \n",
       "2                                        0   \n",
       "3                                        0   \n",
       "4                                        0   \n",
       "\n",
       "   parental level of education_master's degree  \\\n",
       "0                                            0   \n",
       "1                                            0   \n",
       "2                                            1   \n",
       "3                                            0   \n",
       "4                                            0   \n",
       "\n",
       "   parental level of education_some college  \\\n",
       "0                                         0   \n",
       "1                                         1   \n",
       "2                                         0   \n",
       "3                                         0   \n",
       "4                                         1   \n",
       "\n",
       "   parental level of education_some high school  lunch_free/reduced  \\\n",
       "0                                             0                   0   \n",
       "1                                             0                   0   \n",
       "2                                             0                   0   \n",
       "3                                             0                   1   \n",
       "4                                             0                   0   \n",
       "\n",
       "   lunch_standard  test preparation course_completed  \\\n",
       "0               1                                  0   \n",
       "1               1                                  1   \n",
       "2               1                                  0   \n",
       "3               0                                  0   \n",
       "4               1                                  0   \n",
       "\n",
       "   test preparation course_none  \n",
       "0                             1  \n",
       "1                             0  \n",
       "2                             1  \n",
       "3                             1  \n",
       "4                             1  "
      ]
     },
     "execution_count": 53,
     "metadata": {},
     "output_type": "execute_result"
    }
   ],
   "source": [
    "cat_col=pd.get_dummies(x[categorical_feature])\n",
    "cat_col.head()"
   ]
  },
  {
   "cell_type": "code",
   "execution_count": 63,
   "id": "dfeac24e-f792-48fa-81b3-6e8126d41f0c",
   "metadata": {},
   "outputs": [],
   "source": [
    "from sklearn.model_selection import train_test_split\n",
    "xtrain, xtest, ytrain, ytest = train_test_split(cat_col, y, test_size=0.2, random_state=42)"
   ]
  },
  {
   "cell_type": "code",
   "execution_count": 58,
   "id": "cfa0a3ba-df89-4dee-bdd3-6d43a4464a87",
   "metadata": {},
   "outputs": [
    {
     "data": {
      "text/plain": [
       "(800, 5)"
      ]
     },
     "execution_count": 58,
     "metadata": {},
     "output_type": "execute_result"
    }
   ],
   "source": [
    "xtrain.shape"
   ]
  },
  {
   "cell_type": "code",
   "execution_count": 59,
   "id": "7768d515-3944-49c5-843f-00ee405cd02a",
   "metadata": {},
   "outputs": [
    {
     "data": {
      "text/plain": [
       "(200, 5)"
      ]
     },
     "execution_count": 59,
     "metadata": {},
     "output_type": "execute_result"
    }
   ],
   "source": [
    "xtest.shape"
   ]
  },
  {
   "cell_type": "code",
   "execution_count": 64,
   "id": "61373ed5-fd76-436f-98e8-ade2ed6426fe",
   "metadata": {},
   "outputs": [],
   "source": [
    "from sklearn.preprocessing import StandardScaler\n",
    "scaler = StandardScaler()\n",
    "xtrain = pd.DataFrame(scaler.fit_transform(xtrain),columns=xtrain.columns)\n",
    "xtest = pd.DataFrame(scaler.transform(xtest),columns=xtest.columns)"
   ]
  },
  {
   "cell_type": "code",
   "execution_count": 66,
   "id": "7292d5a1-c273-4f5c-9b3c-26c314d40d00",
   "metadata": {},
   "outputs": [
    {
     "data": {
      "text/html": [
       "<div>\n",
       "<style scoped>\n",
       "    .dataframe tbody tr th:only-of-type {\n",
       "        vertical-align: middle;\n",
       "    }\n",
       "\n",
       "    .dataframe tbody tr th {\n",
       "        vertical-align: top;\n",
       "    }\n",
       "\n",
       "    .dataframe thead th {\n",
       "        text-align: right;\n",
       "    }\n",
       "</style>\n",
       "<table border=\"1\" class=\"dataframe\">\n",
       "  <thead>\n",
       "    <tr style=\"text-align: right;\">\n",
       "      <th></th>\n",
       "      <th>gender_female</th>\n",
       "      <th>gender_male</th>\n",
       "      <th>race/ethnicity_group A</th>\n",
       "      <th>race/ethnicity_group B</th>\n",
       "      <th>race/ethnicity_group C</th>\n",
       "      <th>race/ethnicity_group D</th>\n",
       "      <th>race/ethnicity_group E</th>\n",
       "      <th>parental level of education_associate's degree</th>\n",
       "      <th>parental level of education_bachelor's degree</th>\n",
       "      <th>parental level of education_high school</th>\n",
       "      <th>parental level of education_master's degree</th>\n",
       "      <th>parental level of education_some college</th>\n",
       "      <th>parental level of education_some high school</th>\n",
       "      <th>lunch_free/reduced</th>\n",
       "      <th>lunch_standard</th>\n",
       "      <th>test preparation course_completed</th>\n",
       "      <th>test preparation course_none</th>\n",
       "    </tr>\n",
       "  </thead>\n",
       "  <tbody>\n",
       "    <tr>\n",
       "      <th>0</th>\n",
       "      <td>0.948808</td>\n",
       "      <td>-0.948808</td>\n",
       "      <td>-0.307232</td>\n",
       "      <td>-0.486288</td>\n",
       "      <td>-0.693889</td>\n",
       "      <td>1.720580</td>\n",
       "      <td>-0.411814</td>\n",
       "      <td>-0.536884</td>\n",
       "      <td>-0.369274</td>\n",
       "      <td>-0.498046</td>\n",
       "      <td>4.002659</td>\n",
       "      <td>-0.542677</td>\n",
       "      <td>-0.454573</td>\n",
       "      <td>-0.727761</td>\n",
       "      <td>0.727761</td>\n",
       "      <td>-0.731785</td>\n",
       "      <td>0.731785</td>\n",
       "    </tr>\n",
       "    <tr>\n",
       "      <th>1</th>\n",
       "      <td>0.948808</td>\n",
       "      <td>-0.948808</td>\n",
       "      <td>-0.307232</td>\n",
       "      <td>-0.486288</td>\n",
       "      <td>1.441153</td>\n",
       "      <td>-0.581199</td>\n",
       "      <td>-0.411814</td>\n",
       "      <td>-0.536884</td>\n",
       "      <td>2.708013</td>\n",
       "      <td>-0.498046</td>\n",
       "      <td>-0.249834</td>\n",
       "      <td>-0.542677</td>\n",
       "      <td>-0.454573</td>\n",
       "      <td>1.374077</td>\n",
       "      <td>-1.374077</td>\n",
       "      <td>1.366522</td>\n",
       "      <td>-1.366522</td>\n",
       "    </tr>\n",
       "    <tr>\n",
       "      <th>2</th>\n",
       "      <td>0.948808</td>\n",
       "      <td>-0.948808</td>\n",
       "      <td>-0.307232</td>\n",
       "      <td>-0.486288</td>\n",
       "      <td>-0.693889</td>\n",
       "      <td>1.720580</td>\n",
       "      <td>-0.411814</td>\n",
       "      <td>-0.536884</td>\n",
       "      <td>-0.369274</td>\n",
       "      <td>-0.498046</td>\n",
       "      <td>-0.249834</td>\n",
       "      <td>1.842717</td>\n",
       "      <td>-0.454573</td>\n",
       "      <td>1.374077</td>\n",
       "      <td>-1.374077</td>\n",
       "      <td>-0.731785</td>\n",
       "      <td>0.731785</td>\n",
       "    </tr>\n",
       "    <tr>\n",
       "      <th>3</th>\n",
       "      <td>-1.053953</td>\n",
       "      <td>1.053953</td>\n",
       "      <td>-0.307232</td>\n",
       "      <td>-0.486288</td>\n",
       "      <td>1.441153</td>\n",
       "      <td>-0.581199</td>\n",
       "      <td>-0.411814</td>\n",
       "      <td>-0.536884</td>\n",
       "      <td>-0.369274</td>\n",
       "      <td>-0.498046</td>\n",
       "      <td>4.002659</td>\n",
       "      <td>-0.542677</td>\n",
       "      <td>-0.454573</td>\n",
       "      <td>1.374077</td>\n",
       "      <td>-1.374077</td>\n",
       "      <td>-0.731785</td>\n",
       "      <td>0.731785</td>\n",
       "    </tr>\n",
       "    <tr>\n",
       "      <th>4</th>\n",
       "      <td>-1.053953</td>\n",
       "      <td>1.053953</td>\n",
       "      <td>-0.307232</td>\n",
       "      <td>-0.486288</td>\n",
       "      <td>-0.693889</td>\n",
       "      <td>-0.581199</td>\n",
       "      <td>2.428282</td>\n",
       "      <td>-0.536884</td>\n",
       "      <td>-0.369274</td>\n",
       "      <td>2.007846</td>\n",
       "      <td>-0.249834</td>\n",
       "      <td>-0.542677</td>\n",
       "      <td>-0.454573</td>\n",
       "      <td>-0.727761</td>\n",
       "      <td>0.727761</td>\n",
       "      <td>-0.731785</td>\n",
       "      <td>0.731785</td>\n",
       "    </tr>\n",
       "  </tbody>\n",
       "</table>\n",
       "</div>"
      ],
      "text/plain": [
       "   gender_female  gender_male  race/ethnicity_group A  race/ethnicity_group B  \\\n",
       "0       0.948808    -0.948808               -0.307232               -0.486288   \n",
       "1       0.948808    -0.948808               -0.307232               -0.486288   \n",
       "2       0.948808    -0.948808               -0.307232               -0.486288   \n",
       "3      -1.053953     1.053953               -0.307232               -0.486288   \n",
       "4      -1.053953     1.053953               -0.307232               -0.486288   \n",
       "\n",
       "   race/ethnicity_group C  race/ethnicity_group D  race/ethnicity_group E  \\\n",
       "0               -0.693889                1.720580               -0.411814   \n",
       "1                1.441153               -0.581199               -0.411814   \n",
       "2               -0.693889                1.720580               -0.411814   \n",
       "3                1.441153               -0.581199               -0.411814   \n",
       "4               -0.693889               -0.581199                2.428282   \n",
       "\n",
       "   parental level of education_associate's degree  \\\n",
       "0                                       -0.536884   \n",
       "1                                       -0.536884   \n",
       "2                                       -0.536884   \n",
       "3                                       -0.536884   \n",
       "4                                       -0.536884   \n",
       "\n",
       "   parental level of education_bachelor's degree  \\\n",
       "0                                      -0.369274   \n",
       "1                                       2.708013   \n",
       "2                                      -0.369274   \n",
       "3                                      -0.369274   \n",
       "4                                      -0.369274   \n",
       "\n",
       "   parental level of education_high school  \\\n",
       "0                                -0.498046   \n",
       "1                                -0.498046   \n",
       "2                                -0.498046   \n",
       "3                                -0.498046   \n",
       "4                                 2.007846   \n",
       "\n",
       "   parental level of education_master's degree  \\\n",
       "0                                     4.002659   \n",
       "1                                    -0.249834   \n",
       "2                                    -0.249834   \n",
       "3                                     4.002659   \n",
       "4                                    -0.249834   \n",
       "\n",
       "   parental level of education_some college  \\\n",
       "0                                 -0.542677   \n",
       "1                                 -0.542677   \n",
       "2                                  1.842717   \n",
       "3                                 -0.542677   \n",
       "4                                 -0.542677   \n",
       "\n",
       "   parental level of education_some high school  lunch_free/reduced  \\\n",
       "0                                     -0.454573           -0.727761   \n",
       "1                                     -0.454573            1.374077   \n",
       "2                                     -0.454573            1.374077   \n",
       "3                                     -0.454573            1.374077   \n",
       "4                                     -0.454573           -0.727761   \n",
       "\n",
       "   lunch_standard  test preparation course_completed  \\\n",
       "0        0.727761                          -0.731785   \n",
       "1       -1.374077                           1.366522   \n",
       "2       -1.374077                          -0.731785   \n",
       "3       -1.374077                          -0.731785   \n",
       "4        0.727761                          -0.731785   \n",
       "\n",
       "   test preparation course_none  \n",
       "0                      0.731785  \n",
       "1                     -1.366522  \n",
       "2                      0.731785  \n",
       "3                      0.731785  \n",
       "4                      0.731785  "
      ]
     },
     "execution_count": 66,
     "metadata": {},
     "output_type": "execute_result"
    }
   ],
   "source": [
    "xtrain.head()"
   ]
  },
  {
   "cell_type": "code",
   "execution_count": 67,
   "id": "a1077f54-9016-4d1d-8465-60e37068623e",
   "metadata": {},
   "outputs": [
    {
     "data": {
      "text/html": [
       "<div>\n",
       "<style scoped>\n",
       "    .dataframe tbody tr th:only-of-type {\n",
       "        vertical-align: middle;\n",
       "    }\n",
       "\n",
       "    .dataframe tbody tr th {\n",
       "        vertical-align: top;\n",
       "    }\n",
       "\n",
       "    .dataframe thead th {\n",
       "        text-align: right;\n",
       "    }\n",
       "</style>\n",
       "<table border=\"1\" class=\"dataframe\">\n",
       "  <thead>\n",
       "    <tr style=\"text-align: right;\">\n",
       "      <th></th>\n",
       "      <th>gender_female</th>\n",
       "      <th>gender_male</th>\n",
       "      <th>race/ethnicity_group A</th>\n",
       "      <th>race/ethnicity_group B</th>\n",
       "      <th>race/ethnicity_group C</th>\n",
       "      <th>race/ethnicity_group D</th>\n",
       "      <th>race/ethnicity_group E</th>\n",
       "      <th>parental level of education_associate's degree</th>\n",
       "      <th>parental level of education_bachelor's degree</th>\n",
       "      <th>parental level of education_high school</th>\n",
       "      <th>parental level of education_master's degree</th>\n",
       "      <th>parental level of education_some college</th>\n",
       "      <th>parental level of education_some high school</th>\n",
       "      <th>lunch_free/reduced</th>\n",
       "      <th>lunch_standard</th>\n",
       "      <th>test preparation course_completed</th>\n",
       "      <th>test preparation course_none</th>\n",
       "    </tr>\n",
       "  </thead>\n",
       "  <tbody>\n",
       "    <tr>\n",
       "      <th>0</th>\n",
       "      <td>0.948808</td>\n",
       "      <td>-0.948808</td>\n",
       "      <td>-0.307232</td>\n",
       "      <td>-0.486288</td>\n",
       "      <td>1.441153</td>\n",
       "      <td>-0.581199</td>\n",
       "      <td>-0.411814</td>\n",
       "      <td>1.862599</td>\n",
       "      <td>-0.369274</td>\n",
       "      <td>-0.498046</td>\n",
       "      <td>-0.249834</td>\n",
       "      <td>-0.542677</td>\n",
       "      <td>-0.454573</td>\n",
       "      <td>-0.727761</td>\n",
       "      <td>0.727761</td>\n",
       "      <td>-0.731785</td>\n",
       "      <td>0.731785</td>\n",
       "    </tr>\n",
       "    <tr>\n",
       "      <th>1</th>\n",
       "      <td>0.948808</td>\n",
       "      <td>-0.948808</td>\n",
       "      <td>-0.307232</td>\n",
       "      <td>2.056394</td>\n",
       "      <td>-0.693889</td>\n",
       "      <td>-0.581199</td>\n",
       "      <td>-0.411814</td>\n",
       "      <td>-0.536884</td>\n",
       "      <td>-0.369274</td>\n",
       "      <td>-0.498046</td>\n",
       "      <td>-0.249834</td>\n",
       "      <td>1.842717</td>\n",
       "      <td>-0.454573</td>\n",
       "      <td>1.374077</td>\n",
       "      <td>-1.374077</td>\n",
       "      <td>1.366522</td>\n",
       "      <td>-1.366522</td>\n",
       "    </tr>\n",
       "    <tr>\n",
       "      <th>2</th>\n",
       "      <td>-1.053953</td>\n",
       "      <td>1.053953</td>\n",
       "      <td>-0.307232</td>\n",
       "      <td>-0.486288</td>\n",
       "      <td>-0.693889</td>\n",
       "      <td>1.720580</td>\n",
       "      <td>-0.411814</td>\n",
       "      <td>-0.536884</td>\n",
       "      <td>2.708013</td>\n",
       "      <td>-0.498046</td>\n",
       "      <td>-0.249834</td>\n",
       "      <td>-0.542677</td>\n",
       "      <td>-0.454573</td>\n",
       "      <td>-0.727761</td>\n",
       "      <td>0.727761</td>\n",
       "      <td>-0.731785</td>\n",
       "      <td>0.731785</td>\n",
       "    </tr>\n",
       "    <tr>\n",
       "      <th>3</th>\n",
       "      <td>-1.053953</td>\n",
       "      <td>1.053953</td>\n",
       "      <td>-0.307232</td>\n",
       "      <td>-0.486288</td>\n",
       "      <td>1.441153</td>\n",
       "      <td>-0.581199</td>\n",
       "      <td>-0.411814</td>\n",
       "      <td>-0.536884</td>\n",
       "      <td>-0.369274</td>\n",
       "      <td>-0.498046</td>\n",
       "      <td>-0.249834</td>\n",
       "      <td>1.842717</td>\n",
       "      <td>-0.454573</td>\n",
       "      <td>1.374077</td>\n",
       "      <td>-1.374077</td>\n",
       "      <td>-0.731785</td>\n",
       "      <td>0.731785</td>\n",
       "    </tr>\n",
       "    <tr>\n",
       "      <th>4</th>\n",
       "      <td>-1.053953</td>\n",
       "      <td>1.053953</td>\n",
       "      <td>-0.307232</td>\n",
       "      <td>-0.486288</td>\n",
       "      <td>-0.693889</td>\n",
       "      <td>-0.581199</td>\n",
       "      <td>2.428282</td>\n",
       "      <td>-0.536884</td>\n",
       "      <td>-0.369274</td>\n",
       "      <td>-0.498046</td>\n",
       "      <td>-0.249834</td>\n",
       "      <td>1.842717</td>\n",
       "      <td>-0.454573</td>\n",
       "      <td>-0.727761</td>\n",
       "      <td>0.727761</td>\n",
       "      <td>1.366522</td>\n",
       "      <td>-1.366522</td>\n",
       "    </tr>\n",
       "  </tbody>\n",
       "</table>\n",
       "</div>"
      ],
      "text/plain": [
       "   gender_female  gender_male  race/ethnicity_group A  race/ethnicity_group B  \\\n",
       "0       0.948808    -0.948808               -0.307232               -0.486288   \n",
       "1       0.948808    -0.948808               -0.307232                2.056394   \n",
       "2      -1.053953     1.053953               -0.307232               -0.486288   \n",
       "3      -1.053953     1.053953               -0.307232               -0.486288   \n",
       "4      -1.053953     1.053953               -0.307232               -0.486288   \n",
       "\n",
       "   race/ethnicity_group C  race/ethnicity_group D  race/ethnicity_group E  \\\n",
       "0                1.441153               -0.581199               -0.411814   \n",
       "1               -0.693889               -0.581199               -0.411814   \n",
       "2               -0.693889                1.720580               -0.411814   \n",
       "3                1.441153               -0.581199               -0.411814   \n",
       "4               -0.693889               -0.581199                2.428282   \n",
       "\n",
       "   parental level of education_associate's degree  \\\n",
       "0                                        1.862599   \n",
       "1                                       -0.536884   \n",
       "2                                       -0.536884   \n",
       "3                                       -0.536884   \n",
       "4                                       -0.536884   \n",
       "\n",
       "   parental level of education_bachelor's degree  \\\n",
       "0                                      -0.369274   \n",
       "1                                      -0.369274   \n",
       "2                                       2.708013   \n",
       "3                                      -0.369274   \n",
       "4                                      -0.369274   \n",
       "\n",
       "   parental level of education_high school  \\\n",
       "0                                -0.498046   \n",
       "1                                -0.498046   \n",
       "2                                -0.498046   \n",
       "3                                -0.498046   \n",
       "4                                -0.498046   \n",
       "\n",
       "   parental level of education_master's degree  \\\n",
       "0                                    -0.249834   \n",
       "1                                    -0.249834   \n",
       "2                                    -0.249834   \n",
       "3                                    -0.249834   \n",
       "4                                    -0.249834   \n",
       "\n",
       "   parental level of education_some college  \\\n",
       "0                                 -0.542677   \n",
       "1                                  1.842717   \n",
       "2                                 -0.542677   \n",
       "3                                  1.842717   \n",
       "4                                  1.842717   \n",
       "\n",
       "   parental level of education_some high school  lunch_free/reduced  \\\n",
       "0                                     -0.454573           -0.727761   \n",
       "1                                     -0.454573            1.374077   \n",
       "2                                     -0.454573           -0.727761   \n",
       "3                                     -0.454573            1.374077   \n",
       "4                                     -0.454573           -0.727761   \n",
       "\n",
       "   lunch_standard  test preparation course_completed  \\\n",
       "0        0.727761                          -0.731785   \n",
       "1       -1.374077                           1.366522   \n",
       "2        0.727761                          -0.731785   \n",
       "3       -1.374077                          -0.731785   \n",
       "4        0.727761                           1.366522   \n",
       "\n",
       "   test preparation course_none  \n",
       "0                      0.731785  \n",
       "1                     -1.366522  \n",
       "2                      0.731785  \n",
       "3                      0.731785  \n",
       "4                     -1.366522  "
      ]
     },
     "execution_count": 67,
     "metadata": {},
     "output_type": "execute_result"
    }
   ],
   "source": [
    "xtest.head()"
   ]
  },
  {
   "cell_type": "markdown",
   "id": "4e0717bb-dbff-44ff-8279-c2a3562139ee",
   "metadata": {},
   "source": [
    "## our data is now ready for model traning"
   ]
  },
  {
   "cell_type": "markdown",
   "id": "8dd8cd6b-52d4-42cb-8e5f-4fe67dd6a479",
   "metadata": {},
   "source": [
    "***\n",
    "#### **<font color='grey'>Q5. Load the wine quality data set and perform exploratory data analysis (EDA) to identify the distribution of each feature. Which feature(s) exhibit non-normality,and what transformations could be applied to these features to improve normality?</font >**\n",
    "***"
   ]
  },
  {
   "cell_type": "code",
   "execution_count": 1,
   "id": "a9ca182d-0380-4f94-aaa5-45540552cdc9",
   "metadata": {},
   "outputs": [
    {
     "ename": "NameError",
     "evalue": "name 'pd' is not defined",
     "output_type": "error",
     "traceback": [
      "\u001b[0;31m---------------------------------------------------------------------------\u001b[0m",
      "\u001b[0;31mNameError\u001b[0m                                 Traceback (most recent call last)",
      "Cell \u001b[0;32mIn[1], line 1\u001b[0m\n\u001b[0;32m----> 1\u001b[0m df\u001b[38;5;241m=\u001b[39m\u001b[43mpd\u001b[49m\u001b[38;5;241m.\u001b[39mread_csv(\u001b[38;5;124m'\u001b[39m\u001b[38;5;124mwinequality-red[1].csv\u001b[39m\u001b[38;5;124m'\u001b[39m,delimiter\u001b[38;5;241m=\u001b[39m\u001b[38;5;124m'\u001b[39m\u001b[38;5;124m;\u001b[39m\u001b[38;5;124m'\u001b[39m)\n",
      "\u001b[0;31mNameError\u001b[0m: name 'pd' is not defined"
     ]
    }
   ],
   "source": [
    "df=pd.read_csv('winequality-red[1].csv',delimiter=';')"
   ]
  },
  {
   "cell_type": "code",
   "execution_count": 69,
   "id": "51d7e51e-4772-4822-bf29-5ac8f7b2c722",
   "metadata": {},
   "outputs": [
    {
     "data": {
      "text/html": [
       "<div>\n",
       "<style scoped>\n",
       "    .dataframe tbody tr th:only-of-type {\n",
       "        vertical-align: middle;\n",
       "    }\n",
       "\n",
       "    .dataframe tbody tr th {\n",
       "        vertical-align: top;\n",
       "    }\n",
       "\n",
       "    .dataframe thead th {\n",
       "        text-align: right;\n",
       "    }\n",
       "</style>\n",
       "<table border=\"1\" class=\"dataframe\">\n",
       "  <thead>\n",
       "    <tr style=\"text-align: right;\">\n",
       "      <th></th>\n",
       "      <th>fixed acidity</th>\n",
       "      <th>volatile acidity</th>\n",
       "      <th>citric acid</th>\n",
       "      <th>residual sugar</th>\n",
       "      <th>chlorides</th>\n",
       "      <th>free sulfur dioxide</th>\n",
       "      <th>total sulfur dioxide</th>\n",
       "      <th>density</th>\n",
       "      <th>pH</th>\n",
       "      <th>sulphates</th>\n",
       "      <th>alcohol</th>\n",
       "      <th>quality</th>\n",
       "    </tr>\n",
       "  </thead>\n",
       "  <tbody>\n",
       "    <tr>\n",
       "      <th>0</th>\n",
       "      <td>7.4</td>\n",
       "      <td>0.700</td>\n",
       "      <td>0.00</td>\n",
       "      <td>1.9</td>\n",
       "      <td>0.076</td>\n",
       "      <td>11.0</td>\n",
       "      <td>34.0</td>\n",
       "      <td>0.99780</td>\n",
       "      <td>3.51</td>\n",
       "      <td>0.56</td>\n",
       "      <td>9.4</td>\n",
       "      <td>5</td>\n",
       "    </tr>\n",
       "    <tr>\n",
       "      <th>1</th>\n",
       "      <td>7.8</td>\n",
       "      <td>0.880</td>\n",
       "      <td>0.00</td>\n",
       "      <td>2.6</td>\n",
       "      <td>0.098</td>\n",
       "      <td>25.0</td>\n",
       "      <td>67.0</td>\n",
       "      <td>0.99680</td>\n",
       "      <td>3.20</td>\n",
       "      <td>0.68</td>\n",
       "      <td>9.8</td>\n",
       "      <td>5</td>\n",
       "    </tr>\n",
       "    <tr>\n",
       "      <th>2</th>\n",
       "      <td>7.8</td>\n",
       "      <td>0.760</td>\n",
       "      <td>0.04</td>\n",
       "      <td>2.3</td>\n",
       "      <td>0.092</td>\n",
       "      <td>15.0</td>\n",
       "      <td>54.0</td>\n",
       "      <td>0.99700</td>\n",
       "      <td>3.26</td>\n",
       "      <td>0.65</td>\n",
       "      <td>9.8</td>\n",
       "      <td>5</td>\n",
       "    </tr>\n",
       "    <tr>\n",
       "      <th>3</th>\n",
       "      <td>11.2</td>\n",
       "      <td>0.280</td>\n",
       "      <td>0.56</td>\n",
       "      <td>1.9</td>\n",
       "      <td>0.075</td>\n",
       "      <td>17.0</td>\n",
       "      <td>60.0</td>\n",
       "      <td>0.99800</td>\n",
       "      <td>3.16</td>\n",
       "      <td>0.58</td>\n",
       "      <td>9.8</td>\n",
       "      <td>6</td>\n",
       "    </tr>\n",
       "    <tr>\n",
       "      <th>4</th>\n",
       "      <td>7.4</td>\n",
       "      <td>0.700</td>\n",
       "      <td>0.00</td>\n",
       "      <td>1.9</td>\n",
       "      <td>0.076</td>\n",
       "      <td>11.0</td>\n",
       "      <td>34.0</td>\n",
       "      <td>0.99780</td>\n",
       "      <td>3.51</td>\n",
       "      <td>0.56</td>\n",
       "      <td>9.4</td>\n",
       "      <td>5</td>\n",
       "    </tr>\n",
       "    <tr>\n",
       "      <th>...</th>\n",
       "      <td>...</td>\n",
       "      <td>...</td>\n",
       "      <td>...</td>\n",
       "      <td>...</td>\n",
       "      <td>...</td>\n",
       "      <td>...</td>\n",
       "      <td>...</td>\n",
       "      <td>...</td>\n",
       "      <td>...</td>\n",
       "      <td>...</td>\n",
       "      <td>...</td>\n",
       "      <td>...</td>\n",
       "    </tr>\n",
       "    <tr>\n",
       "      <th>1594</th>\n",
       "      <td>6.2</td>\n",
       "      <td>0.600</td>\n",
       "      <td>0.08</td>\n",
       "      <td>2.0</td>\n",
       "      <td>0.090</td>\n",
       "      <td>32.0</td>\n",
       "      <td>44.0</td>\n",
       "      <td>0.99490</td>\n",
       "      <td>3.45</td>\n",
       "      <td>0.58</td>\n",
       "      <td>10.5</td>\n",
       "      <td>5</td>\n",
       "    </tr>\n",
       "    <tr>\n",
       "      <th>1595</th>\n",
       "      <td>5.9</td>\n",
       "      <td>0.550</td>\n",
       "      <td>0.10</td>\n",
       "      <td>2.2</td>\n",
       "      <td>0.062</td>\n",
       "      <td>39.0</td>\n",
       "      <td>51.0</td>\n",
       "      <td>0.99512</td>\n",
       "      <td>3.52</td>\n",
       "      <td>0.76</td>\n",
       "      <td>11.2</td>\n",
       "      <td>6</td>\n",
       "    </tr>\n",
       "    <tr>\n",
       "      <th>1596</th>\n",
       "      <td>6.3</td>\n",
       "      <td>0.510</td>\n",
       "      <td>0.13</td>\n",
       "      <td>2.3</td>\n",
       "      <td>0.076</td>\n",
       "      <td>29.0</td>\n",
       "      <td>40.0</td>\n",
       "      <td>0.99574</td>\n",
       "      <td>3.42</td>\n",
       "      <td>0.75</td>\n",
       "      <td>11.0</td>\n",
       "      <td>6</td>\n",
       "    </tr>\n",
       "    <tr>\n",
       "      <th>1597</th>\n",
       "      <td>5.9</td>\n",
       "      <td>0.645</td>\n",
       "      <td>0.12</td>\n",
       "      <td>2.0</td>\n",
       "      <td>0.075</td>\n",
       "      <td>32.0</td>\n",
       "      <td>44.0</td>\n",
       "      <td>0.99547</td>\n",
       "      <td>3.57</td>\n",
       "      <td>0.71</td>\n",
       "      <td>10.2</td>\n",
       "      <td>5</td>\n",
       "    </tr>\n",
       "    <tr>\n",
       "      <th>1598</th>\n",
       "      <td>6.0</td>\n",
       "      <td>0.310</td>\n",
       "      <td>0.47</td>\n",
       "      <td>3.6</td>\n",
       "      <td>0.067</td>\n",
       "      <td>18.0</td>\n",
       "      <td>42.0</td>\n",
       "      <td>0.99549</td>\n",
       "      <td>3.39</td>\n",
       "      <td>0.66</td>\n",
       "      <td>11.0</td>\n",
       "      <td>6</td>\n",
       "    </tr>\n",
       "  </tbody>\n",
       "</table>\n",
       "<p>1599 rows × 12 columns</p>\n",
       "</div>"
      ],
      "text/plain": [
       "      fixed acidity  volatile acidity  citric acid  residual sugar  chlorides  \\\n",
       "0               7.4             0.700         0.00             1.9      0.076   \n",
       "1               7.8             0.880         0.00             2.6      0.098   \n",
       "2               7.8             0.760         0.04             2.3      0.092   \n",
       "3              11.2             0.280         0.56             1.9      0.075   \n",
       "4               7.4             0.700         0.00             1.9      0.076   \n",
       "...             ...               ...          ...             ...        ...   \n",
       "1594            6.2             0.600         0.08             2.0      0.090   \n",
       "1595            5.9             0.550         0.10             2.2      0.062   \n",
       "1596            6.3             0.510         0.13             2.3      0.076   \n",
       "1597            5.9             0.645         0.12             2.0      0.075   \n",
       "1598            6.0             0.310         0.47             3.6      0.067   \n",
       "\n",
       "      free sulfur dioxide  total sulfur dioxide  density    pH  sulphates  \\\n",
       "0                    11.0                  34.0  0.99780  3.51       0.56   \n",
       "1                    25.0                  67.0  0.99680  3.20       0.68   \n",
       "2                    15.0                  54.0  0.99700  3.26       0.65   \n",
       "3                    17.0                  60.0  0.99800  3.16       0.58   \n",
       "4                    11.0                  34.0  0.99780  3.51       0.56   \n",
       "...                   ...                   ...      ...   ...        ...   \n",
       "1594                 32.0                  44.0  0.99490  3.45       0.58   \n",
       "1595                 39.0                  51.0  0.99512  3.52       0.76   \n",
       "1596                 29.0                  40.0  0.99574  3.42       0.75   \n",
       "1597                 32.0                  44.0  0.99547  3.57       0.71   \n",
       "1598                 18.0                  42.0  0.99549  3.39       0.66   \n",
       "\n",
       "      alcohol  quality  \n",
       "0         9.4        5  \n",
       "1         9.8        5  \n",
       "2         9.8        5  \n",
       "3         9.8        6  \n",
       "4         9.4        5  \n",
       "...       ...      ...  \n",
       "1594     10.5        5  \n",
       "1595     11.2        6  \n",
       "1596     11.0        6  \n",
       "1597     10.2        5  \n",
       "1598     11.0        6  \n",
       "\n",
       "[1599 rows x 12 columns]"
      ]
     },
     "execution_count": 69,
     "metadata": {},
     "output_type": "execute_result"
    }
   ],
   "source": [
    "df"
   ]
  },
  {
   "cell_type": "code",
   "execution_count": 71,
   "id": "445ada10-9e0f-4351-aa1f-218bc716b97e",
   "metadata": {},
   "outputs": [
    {
     "name": "stdout",
     "output_type": "stream",
     "text": [
      "<class 'pandas.core.frame.DataFrame'>\n",
      "RangeIndex: 1599 entries, 0 to 1598\n",
      "Data columns (total 12 columns):\n",
      " #   Column                Non-Null Count  Dtype  \n",
      "---  ------                --------------  -----  \n",
      " 0   fixed acidity         1599 non-null   float64\n",
      " 1   volatile acidity      1599 non-null   float64\n",
      " 2   citric acid           1599 non-null   float64\n",
      " 3   residual sugar        1599 non-null   float64\n",
      " 4   chlorides             1599 non-null   float64\n",
      " 5   free sulfur dioxide   1599 non-null   float64\n",
      " 6   total sulfur dioxide  1599 non-null   float64\n",
      " 7   density               1599 non-null   float64\n",
      " 8   pH                    1599 non-null   float64\n",
      " 9   sulphates             1599 non-null   float64\n",
      " 10  alcohol               1599 non-null   float64\n",
      " 11  quality               1599 non-null   int64  \n",
      "dtypes: float64(11), int64(1)\n",
      "memory usage: 150.0 KB\n"
     ]
    }
   ],
   "source": [
    "df.info()"
   ]
  },
  {
   "cell_type": "code",
   "execution_count": 72,
   "id": "e636e18a-5fa2-4995-b3d6-1da8b272006a",
   "metadata": {},
   "outputs": [
    {
     "data": {
      "text/plain": [
       "fixed acidity           0\n",
       "volatile acidity        0\n",
       "citric acid             0\n",
       "residual sugar          0\n",
       "chlorides               0\n",
       "free sulfur dioxide     0\n",
       "total sulfur dioxide    0\n",
       "density                 0\n",
       "pH                      0\n",
       "sulphates               0\n",
       "alcohol                 0\n",
       "quality                 0\n",
       "dtype: int64"
      ]
     },
     "execution_count": 72,
     "metadata": {},
     "output_type": "execute_result"
    }
   ],
   "source": [
    "df.isnull().sum()"
   ]
  },
  {
   "cell_type": "code",
   "execution_count": 77,
   "id": "950bfb7d-5e1b-437e-9aad-c3f58cd75e0d",
   "metadata": {},
   "outputs": [
    {
     "data": {
      "text/plain": [
       "240"
      ]
     },
     "execution_count": 77,
     "metadata": {},
     "output_type": "execute_result"
    }
   ],
   "source": [
    "df.duplicated().sum()\n"
   ]
  },
  {
   "cell_type": "code",
   "execution_count": 78,
   "id": "bf19b06e-42fb-4eee-a82b-7501465e4258",
   "metadata": {},
   "outputs": [
    {
     "data": {
      "text/plain": [
       "(1599, 12)"
      ]
     },
     "execution_count": 78,
     "metadata": {},
     "output_type": "execute_result"
    }
   ],
   "source": [
    "df.shape"
   ]
  },
  {
   "cell_type": "code",
   "execution_count": 81,
   "id": "62ee1459-8634-4d3c-8b97-8b8d0aeb72e5",
   "metadata": {},
   "outputs": [
    {
     "data": {
      "text/plain": [
       "(1359, 12)"
      ]
     },
     "execution_count": 81,
     "metadata": {},
     "output_type": "execute_result"
    }
   ],
   "source": [
    "df=df.drop_duplicates(keep='first')\n",
    "df.shape\n"
   ]
  },
  {
   "cell_type": "code",
   "execution_count": 84,
   "id": "b227681a-86f8-456f-a0e7-dc4b0b505fca",
   "metadata": {},
   "outputs": [],
   "source": [
    "# to check normality\n",
    "\n",
    "import scipy.stats as stat\n",
    "import pylab\n",
    "import seaborn as sns\n",
    "import matplotlib.pyplot as ply\n",
    "\n",
    "def qq_plot(df,feature):\n",
    "    plt.figure(figsize=(10,6))\n",
    "    plt.subplot(1,2,1)\n",
    "    sns.histplot(df[feature],kde=True)\n",
    "    plt.title(f\"Histogram plot for : {feature}\")\n",
    "    plt.subplot(1,2,2)\n",
    "    stat.probplot(df[feature],dist='norm',plot=pylab)\n",
    "    plt.title(f'qq_plot for : {feature}')\n",
    "    plt.show()"
   ]
  },
  {
   "cell_type": "code",
   "execution_count": 85,
   "id": "4a9bdef7-a6bc-4a37-ae20-2d5c007005ce",
   "metadata": {},
   "outputs": [],
   "source": [
    "## function to plot QQ plots to check normality\n",
    "import scipy.stats as stat\n",
    "import pylab\n",
    "import seaborn as sns\n",
    "import matplotlib.pyplot as plt\n",
    "def qq_plot(df, feature):\n",
    "    plt.figure(figsize=(10,6))\n",
    "    plt.subplot(1,2,1)\n",
    "    sns.histplot(df[feature],kde=True)\n",
    "    plt.title(f'Histogram Plot for : {feature}')\n",
    "    plt.subplot(1,2,2)\n",
    "    stat.probplot(df[feature],dist='norm',plot=pylab)\n",
    "    plt.title(f'Q-Q Plot for : {feature}')\n",
    "    plt.show()"
   ]
  },
  {
   "cell_type": "code",
   "execution_count": null,
   "id": "0c7aade7-ec87-42b5-b095-6012837c2dbc",
   "metadata": {},
   "outputs": [],
   "source": []
  },
  {
   "cell_type": "markdown",
   "id": "c70a7bb6-02b1-4245-befb-c51236caef9b",
   "metadata": {},
   "source": [
    "### Answer"
   ]
  },
  {
   "cell_type": "markdown",
   "id": "a49a55f9-33c3-433f-86ae-4f7fb3e7f2e1",
   "metadata": {},
   "source": [
    "***\n",
    "#### **<font color='grey'>Q6. Using the wine quality data set, perform principal component analysis (PCA) to reduce the number of features. What is the minimum number of principal components required to explain 90% of the variance in the data?</font >**\n",
    "***"
   ]
  },
  {
   "cell_type": "markdown",
   "id": "06be4f80-315a-4974-a3d4-ad6aadd1829a",
   "metadata": {},
   "source": [
    "### Answer"
   ]
  },
  {
   "cell_type": "code",
   "execution_count": null,
   "id": "9a7f8124-d2f8-4c21-b4e7-449e7a906720",
   "metadata": {},
   "outputs": [],
   "source": []
  },
  {
   "cell_type": "markdown",
   "id": "b7bd32a6-84fd-4f10-8390-7f04aadfecbc",
   "metadata": {},
   "source": [
    "#### **<font color='grey'></font >**"
   ]
  },
  {
   "cell_type": "markdown",
   "id": "292e4e21-ef77-4b87-ac17-fe632a5d8378",
   "metadata": {},
   "source": [
    "#### **<font color='green'></font >**"
   ]
  },
  {
   "cell_type": "markdown",
   "id": "b1fe74ec-0b96-47e4-9b61-38d50e8fc090",
   "metadata": {},
   "source": [
    "#### **<font color='green'></font >**"
   ]
  },
  {
   "cell_type": "markdown",
   "id": "a585b82c-aec4-4164-a722-72cf113c606f",
   "metadata": {},
   "source": [
    "#### **<font color='green'></font >**"
   ]
  },
  {
   "cell_type": "markdown",
   "id": "f2baab6f-cb96-4d30-adcc-460da3eb54d1",
   "metadata": {},
   "source": [
    "#### **<font color='green'></font >**"
   ]
  },
  {
   "cell_type": "markdown",
   "id": "a765699d-f448-4e94-81aa-c2d7bb13e0f3",
   "metadata": {},
   "source": [
    "#### **<font color='green'></font >**"
   ]
  },
  {
   "cell_type": "markdown",
   "id": "edede8de-57a2-484d-b978-e71c172a1fe9",
   "metadata": {},
   "source": [
    "#### **<font color='green'></font >**"
   ]
  },
  {
   "cell_type": "markdown",
   "id": "33a0da6a-1296-4fc7-9b8c-ebaf7a1cbfcf",
   "metadata": {},
   "source": [
    "#### **<font color='green'></font >**"
   ]
  },
  {
   "cell_type": "markdown",
   "id": "c7ef9a0f-95e6-4ced-8abd-d6cb90bcc7bd",
   "metadata": {},
   "source": [
    "#### **<font color='green'></font >**"
   ]
  },
  {
   "cell_type": "markdown",
   "id": "a67ba109-e941-495a-9cc9-375b445649ab",
   "metadata": {},
   "source": [
    "#### **<font color='green'></font >**"
   ]
  },
  {
   "cell_type": "markdown",
   "id": "45e76118-9818-4315-81ea-9c664286e938",
   "metadata": {},
   "source": [
    "#### **<font color='green'></font >**"
   ]
  }
 ],
 "metadata": {
  "kernelspec": {
   "display_name": "Python 3 (ipykernel)",
   "language": "python",
   "name": "python3"
  },
  "language_info": {
   "codemirror_mode": {
    "name": "ipython",
    "version": 3
   },
   "file_extension": ".py",
   "mimetype": "text/x-python",
   "name": "python",
   "nbconvert_exporter": "python",
   "pygments_lexer": "ipython3",
   "version": "3.10.8"
  }
 },
 "nbformat": 4,
 "nbformat_minor": 5
}
