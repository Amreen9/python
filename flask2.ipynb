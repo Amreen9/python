{
 "cells": [
  {
   "cell_type": "code",
   "execution_count": 1,
   "id": "60a18992-cd98-4d09-aafa-20926a17ae09",
   "metadata": {},
   "outputs": [],
   "source": [
    "# Q1. Explain GET and POST methods."
   ]
  },
  {
   "cell_type": "code",
   "execution_count": 2,
   "id": "2ddaebdb-e4f1-42c9-8ae8-5fb0efb1feeb",
   "metadata": {},
   "outputs": [],
   "source": [
    "# HTTP GET: The Hypertext Transfer Protocol(HTTP) Get method \n",
    "# is mainly used at the client (Browser) side to send a request to a specified \n",
    "# server to get certain data or resources. Using this method the server should \n",
    "# only let us receive the data and not change its state. \n",
    "# Hence it is only used to view something and not to change it."
   ]
  },
  {
   "cell_type": "code",
   "execution_count": 3,
   "id": "588ab0a9-f378-4166-b2f3-e1530f97ef5f",
   "metadata": {},
   "outputs": [],
   "source": [
    "# HTTP POST: The Hypertext Transfer Protocol(HTTP) Post method is mainly used at \n",
    "# the client (Browser) side to send data to a Specified server in order to create \n",
    "# or rewrite a particular resource/data. This data sent to the server is stored in\n",
    "# the request body of the HTTP request. Post method eventually leads to \n",
    "# the creation of a new resource or updating an existing one."
   ]
  },
  {
   "cell_type": "code",
   "execution_count": 4,
   "id": "42c35a3b-5205-4d7d-9742-71478df0a714",
   "metadata": {},
   "outputs": [],
   "source": [
    "# Q2. Why is request used in Flask?"
   ]
  },
  {
   "cell_type": "code",
   "execution_count": 5,
   "id": "b7dd2a21-5987-4f69-b9fc-29eea4d9f3ed",
   "metadata": {},
   "outputs": [],
   "source": [
    "# request is used to access the incoming data in Flask, you have to use \n",
    "# the request object. The request object holds all incoming data from the request,\n",
    "# which includes the mimetype,\n",
    "# referrer, IP address, raw data, HTTP method, and headers, among other things."
   ]
  },
  {
   "cell_type": "code",
   "execution_count": 6,
   "id": "8727ccf9-e100-446e-8e26-66cfdf135071",
   "metadata": {},
   "outputs": [],
   "source": [
    "# Q3. Why is redirect() used in Flask?"
   ]
  },
  {
   "cell_type": "code",
   "execution_count": 7,
   "id": "55b5cebf-005d-446b-b964-be95c225e7a7",
   "metadata": {},
   "outputs": [],
   "source": [
    "# Flask redirect is defined as a function or utility in Flask which allows\n",
    "# developers to redirect users to a specified URL and assign a specified status code.\n",
    "# When this function is called, a response object is returned, and the redirection\n",
    "# happens to the target location with the status code. When a website is visited, \n",
    "# server receives a request and after processing responds to the request with a \n",
    "# three-digit code known as the HTTP code. In a programming \n",
    "# world this status code that is returned as a response is known as Errors."
   ]
  },
  {
   "cell_type": "code",
   "execution_count": 9,
   "id": "a568809e-9ac1-4c9a-9b58-e087d591a7d4",
   "metadata": {},
   "outputs": [],
   "source": [
    "# Q4. What are templates in Flask? Why is the render_template() function used?"
   ]
  },
  {
   "cell_type": "code",
   "execution_count": 10,
   "id": "89cd3725-a1fc-498f-9788-33b72eb045a2",
   "metadata": {},
   "outputs": [],
   "source": [
    "# A template is just a text file which contains static HTML code as well as some \n",
    "# special markup denoting dynamic content that will be known at the time of the \n",
    "# request. The process which replaces the dynamic markup and generates flat HTML page \n",
    "# is known as template rendering. Flask comes bundled with a template engine called\n",
    "# Jinja which does the actual job of parsing templates and converting them to flat HTML page."
   ]
  },
  {
   "cell_type": "code",
   "execution_count": 11,
   "id": "70eebc77-8b4c-47e6-b43d-f5f7de8df8bb",
   "metadata": {},
   "outputs": [],
   "source": [
    "# The render_template finds the app by default in the templates folder. So, \n",
    "# we just need to provide the name of the template instead of the entire path to \n",
    "# the template. The index function renders a template index.html and hence \n",
    "# we see the result in the browser."
   ]
  },
  {
   "cell_type": "code",
   "execution_count": 12,
   "id": "f356fce2-5b56-44f1-9196-55f680c75b5f",
   "metadata": {},
   "outputs": [],
   "source": [
    "# Q5. Create a simple API. Use Postman to test it.\n",
    "# Attach the screenshot of the output in the Jupyter Notebook."
   ]
  },
  {
   "cell_type": "code",
   "execution_count": 1,
   "id": "b77bafd6-9014-4ef6-9ba5-9e656c725584",
   "metadata": {},
   "outputs": [
    {
     "name": "stdout",
     "output_type": "stream",
     "text": [
      "Requirement already satisfied: flask in /opt/conda/lib/python3.10/site-packages (2.3.2)\n",
      "Requirement already satisfied: click>=8.1.3 in /opt/conda/lib/python3.10/site-packages (from flask) (8.1.3)\n",
      "Requirement already satisfied: Werkzeug>=2.3.3 in /opt/conda/lib/python3.10/site-packages (from flask) (2.3.6)\n",
      "Requirement already satisfied: blinker>=1.6.2 in /opt/conda/lib/python3.10/site-packages (from flask) (1.6.2)\n",
      "Requirement already satisfied: itsdangerous>=2.1.2 in /opt/conda/lib/python3.10/site-packages (from flask) (2.1.2)\n",
      "Requirement already satisfied: Jinja2>=3.1.2 in /opt/conda/lib/python3.10/site-packages (from flask) (3.1.2)\n",
      "Requirement already satisfied: MarkupSafe>=2.0 in /opt/conda/lib/python3.10/site-packages (from Jinja2>=3.1.2->flask) (2.1.1)\n",
      "Note: you may need to restart the kernel to use updated packages.\n"
     ]
    }
   ],
   "source": [
    "pip install flask\n"
   ]
  },
  {
   "cell_type": "code",
   "execution_count": 2,
   "id": "4ad7ab37-d34c-432d-9249-11f3d9327f40",
   "metadata": {},
   "outputs": [
    {
     "name": "stdout",
     "output_type": "stream",
     "text": [
      "Requirement already satisfied: pyngrok in /opt/conda/lib/python3.10/site-packages (6.0.0)\n",
      "Requirement already satisfied: PyYAML in /opt/conda/lib/python3.10/site-packages (from pyngrok) (6.0)\n",
      "Note: you may need to restart the kernel to use updated packages.\n"
     ]
    }
   ],
   "source": [
    "pip install pyngrok"
   ]
  },
  {
   "cell_type": "code",
   "execution_count": null,
   "id": "a3b9b536-d804-4ad1-ae26-4c93d8972dad",
   "metadata": {},
   "outputs": [
    {
     "name": "stdout",
     "output_type": "stream",
     "text": [
      " * Serving Flask app '__main__'\n",
      " * Debug mode: off\n"
     ]
    },
    {
     "name": "stderr",
     "output_type": "stream",
     "text": [
      "WARNING: This is a development server. Do not use it in a production deployment. Use a production WSGI server instead.\n",
      " * Running on all addresses (0.0.0.0)\n",
      " * Running on http://127.0.0.1:5000\n",
      " * Running on http://172.18.0.13:5000\n",
      "Press CTRL+C to quit\n",
      "172.18.0.2 - - [08/Jul/2023 06:15:59] \"GET / HTTP/1.1\" 200 -\n",
      "172.18.0.2 - - [08/Jul/2023 06:16:22] \"GET / HTTP/1.1\" 200 -\n"
     ]
    }
   ],
   "source": [
    "from flask import *\n",
    "import json,time\n",
    "\n",
    "app=Flask(__name__)\n",
    "\n",
    "@app.route('/',methods=['GET'])\n",
    "def home_page():\n",
    "    data_set={'page':'Home','Message':'Successfully loaded the Home page','timestamp':time.time()}\n",
    "    json_dump=json.dumps(data_set)\n",
    "    \n",
    "    return json_dump\n",
    "\n",
    "@app.route('/user/',methods=['GET'])\n",
    "def request_page():\n",
    "    user_query=str(request.args.get('user'))#/user/?user=REEN\n",
    "    \n",
    "    data_set={'page':'request','Message':f'Successfully got the request for {user_query}','timestamp':time.time()}\n",
    "    json_dump=json.dumps(data_set)\n",
    "    \n",
    "    return json_dump\n",
    "\n",
    "if __name__=='__main__':\n",
    "    app.run(host=\"0.0.0.0\")"
   ]
  },
  {
   "cell_type": "markdown",
   "id": "f0e23325-3b65-4dcc-9a26-ad7cad29104d",
   "metadata": {},
   "source": [
    "[ss]!(C:\\Users\\Yoga\\Pictures\\Screenshots\\Screenshot (32).png\n",
    ")"
   ]
  }
 ],
 "metadata": {
  "kernelspec": {
   "display_name": "Python 3 (ipykernel)",
   "language": "python",
   "name": "python3"
  },
  "language_info": {
   "codemirror_mode": {
    "name": "ipython",
    "version": 3
   },
   "file_extension": ".py",
   "mimetype": "text/x-python",
   "name": "python",
   "nbconvert_exporter": "python",
   "pygments_lexer": "ipython3",
   "version": "3.10.8"
  }
 },
 "nbformat": 4,
 "nbformat_minor": 5
}
