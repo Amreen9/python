{
 "cells": [
  {
   "cell_type": "code",
   "execution_count": 1,
   "id": "a48271db-8f73-4489-963b-e8b428aef34f",
   "metadata": {},
   "outputs": [],
   "source": [
    "# Q1. Create a python program to sort the given list of tuples based \n",
    "# on integer value using a lambda function.\n",
    "# [('Sachin Tendulkar', 34357), ('Ricky Ponting', 27483),\n",
    "#  ('Jack Kallis', 25534), ('Virat Kohli', 24936)]"
   ]
  },
  {
   "cell_type": "code",
   "execution_count": 6,
   "id": "18e6086d-0079-429b-b6e6-4b2f48f249ae",
   "metadata": {},
   "outputs": [],
   "source": [
    "name_list= [('Sachin Tendulkar', 34357), ('Ricky Ponting', 27483),\n",
    "('Jack Kallis', 25534), ('Virat Kohli', 24936)]\n"
   ]
  },
  {
   "cell_type": "code",
   "execution_count": 7,
   "id": "6118c171-a8d2-43e3-b8fc-41d838072c67",
   "metadata": {},
   "outputs": [
    {
     "name": "stdout",
     "output_type": "stream",
     "text": [
      "sorted list None\n",
      "[('Virat Kohli', 24936), ('Jack Kallis', 25534), ('Ricky Ponting', 27483), ('Sachin Tendulkar', 34357)]\n"
     ]
    }
   ],
   "source": [
    "name_list.sort(key=lambda x:x[1])\n",
    "print(\"sorted list\",name_list.sort(key = lambda x:x[1]))\n",
    "print(name_list)"
   ]
  },
  {
   "cell_type": "code",
   "execution_count": 18,
   "id": "dd8b5cc8-3435-492f-b922-d307ad79383d",
   "metadata": {},
   "outputs": [],
   "source": [
    "# Write a Python Program to find the squares of all the numbers \n",
    "# in the given list of integers using\n",
    "# lambda and map functions.\n",
    "# [1, 2, 3, 4, 5, 6, 7, 8, 9, 10]"
   ]
  },
  {
   "cell_type": "code",
   "execution_count": 56,
   "id": "498f94ec-e6d6-4f6b-a626-fe4e0b0b336f",
   "metadata": {},
   "outputs": [],
   "source": [
    "a=[1, 2, 3, 4, 5, 6, 7, 8, 9, 10]\n",
    "\n",
    "a3=[]"
   ]
  },
  {
   "cell_type": "code",
   "execution_count": 57,
   "id": "fee4198c-fb1d-4a11-b370-e6eb38281e14",
   "metadata": {},
   "outputs": [
    {
     "name": "stdout",
     "output_type": "stream",
     "text": [
      "[1, 4, 9, 16, 25, 36, 49, 64, 81, 100]\n"
     ]
    }
   ],
   "source": [
    "a2=(map(lambda x: x**2,a))\n",
    "for x in a2:\n",
    "    a3.append(x)\n",
    "print(a3)"
   ]
  },
  {
   "cell_type": "code",
   "execution_count": 55,
   "id": "31beb091-793c-4c8c-8578-b7b79af6b68b",
   "metadata": {},
   "outputs": [],
   "source": [
    "# Q3. Write a python program to convert the given list of integers into a\n",
    "# tuple of strings. Use map and\n",
    "# lambda functions\n",
    "# Given String: [1, 2, 3, 4, 5, 6, 7, 8, 9, 10]\n",
    "# Expected output: ('1', '2', '3', '4', '5', '6', '7', '8', '9', '10')"
   ]
  },
  {
   "cell_type": "code",
   "execution_count": 53,
   "id": "656a70c5-8fde-435d-bd8b-f062ccb93057",
   "metadata": {},
   "outputs": [
    {
     "name": "stdout",
     "output_type": "stream",
     "text": [
      "('1', '2', '3', '4', '5', '6', '7', '8', '9', '10')\n"
     ]
    }
   ],
   "source": [
    "String= [1, 2, 3, 4, 5, 6, 7, 8, 9, 10]\n",
    "string2=tuple(map(str,String))\n",
    "print(string2)"
   ]
  },
  {
   "cell_type": "code",
   "execution_count": 32,
   "id": "1616c9a8-3e61-4b4f-be92-0a1ccf139ab7",
   "metadata": {},
   "outputs": [],
   "source": [
    "# Q4. Write a python program using reduce function to compute the product \n",
    "# of a list containing numbers from 1 to 25."
   ]
  },
  {
   "cell_type": "code",
   "execution_count": 38,
   "id": "8526e9b2-f1dd-4681-98c7-ddb62e287982",
   "metadata": {},
   "outputs": [
    {
     "name": "stdout",
     "output_type": "stream",
     "text": [
      "620448401733239439360000\n"
     ]
    }
   ],
   "source": [
    "from functools import reduce \n",
    "\n",
    "list1=[]\n",
    "for i in range(1,25):\n",
    "    list1.append(i)\n",
    "    \n",
    "total= reduce(lambda a,b :a*b,list1)\n",
    "print(total)\n",
    "    "
   ]
  },
  {
   "cell_type": "code",
   "execution_count": 39,
   "id": "d80c1acf-9575-489c-930e-0a3595ebcf32",
   "metadata": {},
   "outputs": [],
   "source": [
    "# Q5. Write a python program to filter the numbers in a given list \n",
    "# that are divisible by 2 and 3 using the\n",
    "# filter function."
   ]
  },
  {
   "cell_type": "code",
   "execution_count": 44,
   "id": "92874d57-1426-4bf3-adcd-9fa549319a79",
   "metadata": {},
   "outputs": [
    {
     "name": "stdout",
     "output_type": "stream",
     "text": [
      "[6, 60, 90, 120]\n"
     ]
    }
   ],
   "source": [
    "list1=[2, 3, 6, 9, 27, 60, 90, 120, 55, 46]\n",
    "a=[]\n",
    "list2=filter(lambda x:x%2==0 and x%3==0,list1)\n",
    "for x in list2:\n",
    "    a.append(x)\n",
    "print(a)\n",
    "\n"
   ]
  },
  {
   "cell_type": "code",
   "execution_count": 58,
   "id": "7da6026f-be76-4b9e-8c5f-70ed34df9801",
   "metadata": {},
   "outputs": [],
   "source": [
    "# Q6. Write a python program to find palindromes in the given list of strings \n",
    "# using lambda and filter function.\n",
    "# ['python', 'php', 'aba', 'radar', 'level']"
   ]
  },
  {
   "cell_type": "code",
   "execution_count": null,
   "id": "3d4b663b-4496-4da7-815e-abf1d032810c",
   "metadata": {},
   "outputs": [],
   "source": [
    "text=['python', 'php', 'aba', 'radar', 'level']\n",
    "result=[]\n",
    "result2=filter(lambda x: (x==\"\".join()))"
   ]
  }
 ],
 "metadata": {
  "kernelspec": {
   "display_name": "Python 3 (ipykernel)",
   "language": "python",
   "name": "python3"
  },
  "language_info": {
   "codemirror_mode": {
    "name": "ipython",
    "version": 3
   },
   "file_extension": ".py",
   "mimetype": "text/x-python",
   "name": "python",
   "nbconvert_exporter": "python",
   "pygments_lexer": "ipython3",
   "version": "3.10.8"
  }
 },
 "nbformat": 4,
 "nbformat_minor": 5
}
