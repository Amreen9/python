{
 "cells": [
  {
   "cell_type": "code",
   "execution_count": 1,
   "id": "9d14464a-8822-4185-ae26-3b0f36bda4a2",
   "metadata": {},
   "outputs": [],
   "source": [
    "# Q1. What is Abstraction in OOps? Explain with an example."
   ]
  },
  {
   "cell_type": "code",
   "execution_count": 11,
   "id": "a9044e90-0796-4c94-8a74-5a97681de563",
   "metadata": {},
   "outputs": [],
   "source": [
    "# Ans: Abstraction is used to hide the internal functionality of the function \n",
    "# from the users. The users only interact with the basic implementation of \n",
    "# the function, but inner working is hidden. User is familiar with that\n",
    "# \"what function does\"\n",
    "# but they don't know \"how it does.\""
   ]
  },
  {
   "cell_type": "code",
   "execution_count": 13,
   "id": "b6880132-0637-43d8-8458-85ee60f8b632",
   "metadata": {},
   "outputs": [
    {
     "name": "stdout",
     "output_type": "stream",
     "text": [
      "I have 3 sides\n",
      "I have 4 sides\n"
     ]
    }
   ],
   "source": [
    "from abc import ABC, abstractmethod\n",
    "\n",
    "class Polygon(ABC):\n",
    "\n",
    "\t@abstractmethod\n",
    "\tdef noofsides(self):\n",
    "\t\tpass\n",
    "\n",
    "class Triangle(Polygon):\n",
    "\n",
    "\t# overriding abstract method\n",
    "\tdef noofsides(self):\n",
    "\t\tprint(\"I have 3 sides\")\n",
    "\n",
    "class Pentagon(Polygon):\n",
    "\n",
    "\tdef noofsides(self):\n",
    "\t\tprint(\"I have 5 sides\")\n",
    "\n",
    "class Hexagon(Polygon):\n",
    "\tdef noofsides(self):\n",
    "\t\tprint(\"I have 6 sides\")\n",
    "\n",
    "class Quadrilateral(Polygon):\n",
    "\n",
    "\t\n",
    "\tdef noofsides(self):\n",
    "\t\tprint(\"I have 4 sides\")\n",
    "\n",
    "R = Triangle()\n",
    "R.noofsides()\n",
    "\n",
    "K = Quadrilateral()\n",
    "K.noofsides()\n",
    "\n"
   ]
  },
  {
   "cell_type": "code",
   "execution_count": 8,
   "id": "13ada2e8-2f35-4820-a3f9-7333148d1410",
   "metadata": {},
   "outputs": [],
   "source": [
    "# Q2. Differentiate between Abstraction and Encapsulation. Explain with an example."
   ]
  },
  {
   "cell_type": "code",
   "execution_count": 9,
   "id": "9fad32f4-aaa9-4638-84bf-f15f0ccc2877",
   "metadata": {},
   "outputs": [],
   "source": [
    "# The major difference between abstraction and encapsulation is \n",
    "# that abstraction hides the code complexity\n",
    "# while encapsulation hides the internal working from the outside world. "
   ]
  },
  {
   "cell_type": "code",
   "execution_count": 3,
   "id": "c155bf13-bd5a-4b97-983b-da82d3bf5e08",
   "metadata": {},
   "outputs": [],
   "source": [
    "class bank_acc:\n",
    "    def __init__(self,balance):\n",
    "        \n",
    "        self.__balance= balance\n",
    "        \n",
    "    def deposit(self,amount):\n",
    "        self.__balance= self.__balance + amount\n",
    "        \n",
    "    def withdraw(self,amount):\n",
    "        if self.__balance >= amount:\n",
    "            self.__balance= self.__balance - amount\n",
    "            return True\n",
    "        else:\n",
    "            return False\n",
    "        \n",
    "    def get_balance(self):\n",
    "        return self.__balance"
   ]
  },
  {
   "cell_type": "code",
   "execution_count": 4,
   "id": "d58832a8-62db-4f40-908a-b9eb6185894e",
   "metadata": {},
   "outputs": [],
   "source": [
    "amy= bank_acc(1000)\n",
    "\n"
   ]
  },
  {
   "cell_type": "code",
   "execution_count": 5,
   "id": "3900ccd2-488e-4628-9b02-f76348a7cac1",
   "metadata": {},
   "outputs": [],
   "source": [
    "amy.deposit(3000)"
   ]
  },
  {
   "cell_type": "code",
   "execution_count": 10,
   "id": "4a4edb95-9d90-4c5a-8913-283b9f566522",
   "metadata": {},
   "outputs": [
    {
     "data": {
      "text/plain": [
       "4000"
      ]
     },
     "execution_count": 10,
     "metadata": {},
     "output_type": "execute_result"
    }
   ],
   "source": [
    "amy.get_balance()\n"
   ]
  },
  {
   "cell_type": "code",
   "execution_count": 14,
   "id": "6268d66f-b60b-4462-a35a-5ec534c6b17c",
   "metadata": {},
   "outputs": [],
   "source": [
    "# Q3. What is abc module in python? Why is it used?"
   ]
  },
  {
   "cell_type": "code",
   "execution_count": 15,
   "id": "e775d3ff-e4b0-4681-ae9e-4b6b28b9dc0c",
   "metadata": {},
   "outputs": [],
   "source": [
    "# Ans: The 'abc' module in Python library provides the infrastructure\n",
    "# for defining custom abstract base classes. 'abc' works by marking methods \n",
    "# of the base class as abstract. This is done by @absttractmethod decorator. \n",
    "# A concrete class which is a sub class of such abstract base class \n",
    "# then implements the abstract base by overriding its abstract methods."
   ]
  },
  {
   "cell_type": "code",
   "execution_count": 16,
   "id": "d9b348aa-b1b0-44d4-a40b-4ef7b9eff979",
   "metadata": {},
   "outputs": [],
   "source": [
    "# Q4. How can we achieve data abstraction?"
   ]
  },
  {
   "cell_type": "code",
   "execution_count": 17,
   "id": "71df3100-e269-4ace-bde7-655793a327f1",
   "metadata": {},
   "outputs": [],
   "source": [
    "# Ans: Data abstraction in Python can be done using the following methods: \n",
    "# 1: Using list comprehensions to transform multiple values into a single value \n",
    "# 2: Using map function to transform multiple values into an array \n",
    "# 3: Using filter function to transform only those items that meet certain criteria \n",
    "# 4:Using reduce function to combine two or more items into a single value \n",
    "# Abstractions allow developers to write code\n",
    "# without worrying about how the code will be executed on the computer."
   ]
  },
  {
   "cell_type": "code",
   "execution_count": 18,
   "id": "7f7bbb14-d3fb-4862-875c-c59f6a48a994",
   "metadata": {},
   "outputs": [],
   "source": [
    "# Q5. Can we create an instance of an abstract class? Explain your answer."
   ]
  },
  {
   "cell_type": "code",
   "execution_count": null,
   "id": "072f00bd-cf81-4efd-9c5d-b6d68a755657",
   "metadata": {},
   "outputs": [],
   "source": []
  }
 ],
 "metadata": {
  "kernelspec": {
   "display_name": "Python 3 (ipykernel)",
   "language": "python",
   "name": "python3"
  },
  "language_info": {
   "codemirror_mode": {
    "name": "ipython",
    "version": 3
   },
   "file_extension": ".py",
   "mimetype": "text/x-python",
   "name": "python",
   "nbconvert_exporter": "python",
   "pygments_lexer": "ipython3",
   "version": "3.10.8"
  }
 },
 "nbformat": 4,
 "nbformat_minor": 5
}
