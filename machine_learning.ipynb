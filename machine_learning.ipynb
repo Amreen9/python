{
 "cells": [
  {
   "cell_type": "markdown",
   "id": "6321fa4b-1a1b-43d6-9b2e-dafc1724deae",
   "metadata": {},
   "source": [
    "# Introduction to Machine Learning-1"
   ]
  },
  {
   "cell_type": "markdown",
   "id": "15ae4675-eeb8-4433-81cc-981c36316a5d",
   "metadata": {},
   "source": [
    "QD- Explain the following with an example\n",
    "- a) Artificial Intelligence\n",
    "- b) Machine Learning,\n",
    "- c) Deep Learning"
   ]
  },
  {
   "cell_type": "markdown",
   "id": "b9149c6a-ff81-49aa-b01e-4d640b30f7af",
   "metadata": {},
   "source": [
    "**Answer :**"
   ]
  },
  {
   "cell_type": "markdown",
   "id": "fc612c6f-d1b2-4144-bfe9-ef8ee5b7b4c7",
   "metadata": {},
   "source": [
    "**Artificial Intelligence:**\n",
    "\n",
    "Artificial Intelligence is basically the mechanism to incorporate human intelligence into machines through a set of rules(algorithm). AI is a combination of two words: “Artificial” meaning something made by humans or non-natural things and “Intelligence” meaning the ability to understand or think accordingly. Another definition could be that “AI is basically the study of training your machine(computers) to mimic a human brain and its thinking capabilities”.\n",
    "\n",
    "*for example*\n",
    "\n",
    "Examples of AI applications include: Google’s AI-Powered Predictions, Ridesharing Apps Like Uber and Lyft, Commercial Flights Use an AI Autopilot, etc.\t\n",
    "\n",
    "\n",
    "**Machine Learning:**\n",
    "\n",
    "Machine Learning is basically the study/process which provides the system(computer) to learn automatically on its own through experiences it had and improve accordingly without being explicitly programmed. ML is an application or subset of AI. ML focuses on the development of programs so that it can access data to use it for itself. The entire process makes observations on data to identify the possible patterns being formed and make better future decisions as per the examples provided to them. The major aim of ML is to allow the systems to learn by themselves through experience without any kind of human intervention or assistance.\n",
    "\n",
    "*for example*\n",
    "\n",
    "Examples of ML applications include: Virtual Personal Assistants: Siri, Alexa, Google, etc., Email Spam and Malware Filtering.\n",
    "\n",
    "\n",
    "\n",
    "**Deep Learning:**\n",
    "\n",
    "Deep Learning is basically a sub-part of the broader family of Machine Learning which makes use of Neural Networks(similar to the neurons working in our brain) to mimic human brain-like behavior. DL algorithms focus on information processing patterns mechanism to possibly identify the patterns just like our human brain does and classifies the information accordingly. DL works on larger sets of data when compared to ML and the prediction mechanism is self-administered by machines. \n",
    "\n",
    "*for example*\n",
    "\n",
    "Examples of DL applications include: Sentiment based news aggregation, Image analysis and caption generation, etc.\n",
    "\n"
   ]
  },
  {
   "cell_type": "markdown",
   "id": "fecede52-048c-4548-b264-21200f685504",
   "metadata": {},
   "source": [
    "Q2- What is supervised learning? List some examples of supervised learning."
   ]
  },
  {
   "cell_type": "markdown",
   "id": "704d2ecf-9459-46f9-a073-2796fae82712",
   "metadata": {},
   "source": [
    "**Answer**"
   ]
  },
  {
   "cell_type": "markdown",
   "id": "146894c3-143e-49ad-8a7d-c755863f637a",
   "metadata": {},
   "source": [
    "**Supervised learning** is a machine learning technique that involves training a model on labeled data. In other words, the algorithm is provided with input data and the corresponding output data, and it learns to map the input to the output. The goal of supervised learning is to learn a function that can predict the output for new input data.\n",
    "\n",
    "Some examples of supervised learning algorithms are:\n",
    "\n",
    "* Support Vector Machine (SVM): A classification algorithm that tries to find the best hyperplane that separates different classes of data 1.\n",
    "\n",
    "- Decision Trees: A classification algorithm that uses a tree-like model of decisions and their possible consequences 2.\n",
    "\n",
    "- Random Forest: An ensemble learning method that constructs multiple decision trees and outputs the class that is the mode of the classes (classification) or mean prediction (regression) of the individual trees 2.\n",
    "- Linear Regression: A regression algorithm that tries to fit a linear equation to the data"
   ]
  },
  {
   "cell_type": "markdown",
   "id": "f3b64f0e-3161-42dc-b0f5-7ad31e031a1f",
   "metadata": {},
   "source": [
    "Q3- What is unsupervised learning? List some examples of unsupervised learning."
   ]
  },
  {
   "cell_type": "markdown",
   "id": "ef2d7406-bc58-4a88-a62d-05352cda932b",
   "metadata": {},
   "source": [
    "**Answer**"
   ]
  },
  {
   "cell_type": "markdown",
   "id": "bcded379-38df-48de-bcd4-ed9b5b459ee8",
   "metadata": {},
   "source": [
    "**Unsupervised learning** is a machine learning technique that involves training a model on unlabeled data. In other words, the algorithm is provided with input data without any corresponding output data, and it learns to find patterns or structure in the data. The goal of unsupervised learning is to learn a function that can identify hidden structures or patterns in the data.\n",
    "\n",
    "Some examples of unsupervised learning algorithms are:\n",
    "\n",
    "- K-means Clustering: A clustering algorithm that partitions the input data into K clusters based on their similarity.\n",
    "\n",
    "- Hierarchical Clustering: A clustering algorithm that creates a tree-like structure of clusters by recursively merging or splitting them based on their similarity.\n",
    "\n",
    "- Anomaly Detection: An algorithm that identifies unusual or rare events or observations in the data."
   ]
  },
  {
   "cell_type": "markdown",
   "id": "59f2584a-460a-4675-8814-34ad3d323adc",
   "metadata": {},
   "source": [
    "Q4- What is the difference between AI, ML, DL, and DS?"
   ]
  },
  {
   "cell_type": "markdown",
   "id": "3634428e-b01c-4d8d-8dd3-38e0d35b35dc",
   "metadata": {},
   "source": [
    "**Answer**"
   ]
  },
  {
   "cell_type": "markdown",
   "id": "93defe9d-28be-4264-b7fc-4553e0735c58",
   "metadata": {},
   "source": [
    "Artificial Intelligence (AI), Machine Learning (ML), Deep Learning (DL), and Data Science (DS) are all related to the field of computer science, but they are not the same thing.\n",
    "\n",
    "AI is a broad field that involves creating machines that can perform tasks that typically require human intelligence, such as visual perception, speech recognition, decision-making, and language translation. AI can be divided into two categories: narrow or weak AI and general or strong AI. Narrow AI is designed to perform a specific task, while general AI is capable of performing any intellectual task that a human can do.\n",
    "\n",
    "ML is a subset of AI that involves training a model on data to make predictions or decisions without being explicitly programmed. In other words, the algorithm learns from the data and improves its performance over time. There are two main types of ML: supervised learning and unsupervised learning. Supervised learning involves training a model on labeled data, while unsupervised learning involves training a model on unlabeled data.\n",
    "\n",
    "DL is a subset of ML that involves training deep neural networks on large amounts of data to make predictions or decisions. DL is particularly useful for tasks such as image recognition, speech recognition, and natural language processing.\n",
    "\n",
    "DS is an interdisciplinary field that involves using scientific methods, processes, algorithms, and systems to extract knowledge and insights from structured and unstructured data. DS combines elements from statistics, mathematics, computer science, and domain expertise to analyze complex data sets.\n",
    "\n",
    "In summary:\n",
    "\n",
    "- AI is a broad field that involves creating machines that can perform tasks that typically require human intelligence.\n",
    "- ML is a subset of AI that involves training a model on data to make predictions or decisions without being explicitly programmed.\n",
    "- DL is a subset of ML that involves training deep neural networks on large amounts of data to make predictions or decisions.\n",
    "- DS is an interdisciplinary field that involves using scientific methods, processes, algorithms, and systems to extract knowledge and insights from structured and unstructured data.\n",
    "\n",
    "Each of these fields has its own strengths and weaknesses and can be used in different applications depending on the problem at hand."
   ]
  },
  {
   "cell_type": "markdown",
   "id": "b4814f03-90d0-4292-9561-abafca404f6d",
   "metadata": {},
   "source": [
    "Q5- What are the main differences between supervised, unsupervised and semi-supervised learning?"
   ]
  },
  {
   "cell_type": "markdown",
   "id": "a5b05a45-067b-4f34-8a2b-3cdc6b71d1e4",
   "metadata": {},
   "source": [
    "**Answer**"
   ]
  },
  {
   "cell_type": "markdown",
   "id": "e46f87b2-b16c-435f-aa17-607ffeae23f0",
   "metadata": {},
   "source": [
    "Supervised, unsupervised, and semi-supervised learning are three main categories of machine learning techniques.\n",
    "\n",
    "**Supervised learning** is a machine learning technique that involves training a model on labeled data. The algorithm is provided with input data and the corresponding output data, and it learns to map the input to the output. The goal of supervised learning is to learn a function that can predict the output for new input data. Some examples of supervised learning algorithms are Support Vector Machine (SVM), Decision Trees, Random Forest, Linear Regression, and Gaussian Naive Bayes.\n",
    "\n",
    "**Unsupervised learning** is a machine learning technique that involves training a model on unlabeled data. The algorithm is provided with input data without any corresponding output data, and it learns to find patterns or structure in the data. The goal of unsupervised learning is to learn a function that can identify hidden structures or patterns in the data. Some examples of unsupervised learning algorithms are K-means Clustering, Hierarchical Clustering, Anomaly Detection, Principal Component Analysis (PCA), and Apriori Algorithm.\n",
    "\n",
    "**Semi-supervised** learning is a machine learning technique that involves training a model on both labeled and unlabeled data. The algorithm is provided with some input data with corresponding output data and some input data without any corresponding output data. The goal of semi-supervised learning is to learn a function that can predict the output for new input data using both labeled and unlabeled data. Semi-supervised learning can be useful when labeled data is scarce or expensive to obtain. Some examples of semi-supervised learning algorithms are Self-Training, Co-Training, Multi-View Learning, and Generative Models.\n",
    "\n",
    "In summary:\n",
    "\n",
    "- Supervised learning involves training a model on labeled data.\n",
    "- Unsupervised learning involves training a model on unlabeled data.\n",
    "- Semi-supervised learning involves training a model on both labeled and unlabeled data.\n",
    "\n",
    "Each of these techniques has its own strengths and weaknesses and can be used in different applications depending on the problem at hand."
   ]
  },
  {
   "cell_type": "markdown",
   "id": "b869f95d-9b52-4883-9e1c-2a71bada5115",
   "metadata": {},
   "source": [
    "Q6- What is train, test and validation split? E=plain the importance of each term."
   ]
  },
  {
   "cell_type": "markdown",
   "id": "ab04f4e8-fd8c-4301-af5d-fd71b1bbd4fc",
   "metadata": {},
   "source": [
    "**Answer**"
   ]
  },
  {
   "cell_type": "markdown",
   "id": "eadfa259-8f7d-4346-b65b-4a5d8254adfd",
   "metadata": {},
   "source": [
    "In machine learning, the train-test-validation split is a technique used to evaluate the performance of a model. The dataset is divided into three parts: the training set, the validation set, and the test set.\n",
    "\n",
    "**The training** set is used to train the model. The algorithm learns from this data to predict the outcome or to make the right decisions. The quality and diversity of training data hugely determine the ability of the model to generalize. This data is more than 60% of the total data available for the project.\n",
    "\n",
    "**The testing** set is used to evaluate the performance of the model after it has been trained. It is independent of the training set but has a somewhat similar type of probability distribution of classes and is used as a benchmark to evaluate the model 1. If the accuracy of the model on training data is greater than that on testing data, then the model is said to have overfitting. This data is approximately 20-25% of the total data available for the project.\n",
    "\n",
    "**The validation** set is used to tune hyperparameters and avoid overfitting. It is used during training to evaluate the performance of different models and select the best one. The validation set is also independent of both training and testing sets. This data is approximately 15-20% of the total data available for the project.\n",
    "\n",
    "The importance of each term can be summarized as follows:\n",
    "\n",
    "- Training set: Used to train the model.\n",
    "- Testing set: Used to evaluate the performance of the model after it has been trained.\n",
    "- Validation set: Used to tune hyperparameters and avoid overfitting."
   ]
  },
  {
   "cell_type": "markdown",
   "id": "159062d7-ef26-441c-84c9-1d86a478bed3",
   "metadata": {},
   "source": [
    "Q7- How can unsupervised learning be used in anomaly detection?"
   ]
  },
  {
   "cell_type": "markdown",
   "id": "8ee6152b-2dfc-484f-b793-802e33190f3c",
   "metadata": {},
   "source": [
    "**Answer**"
   ]
  },
  {
   "cell_type": "markdown",
   "id": "79530591-ba12-4aa7-95bf-95668bcb8e7b",
   "metadata": {},
   "source": [
    "**Unsupervised learning** can be used in anomaly detection to identify patterns in data that deviate significantly from the norm. Anomaly detection is a common use case of unsupervised learning 1. The goal of anomaly detection is to identify unusual or rare events or observations in the data 23.\n",
    "\n",
    "Unsupervised learning algorithms can be used to detect unusual patterns in network traffic that indicate a potential security breach 1. For example, in cybersecurity, unsupervised learning algorithms can be used to detect unusual patterns in network traffic that indicate a potential security breach. In transportation and logistics, anomaly detection can be used to identify logistical obstacles or expose defective mechanical parts (predictive maintenance). Financial organizations may utilize the technique to spot fraudulent transactions and react promptly, which ultimately can save lots of money.\n",
    "\n",
    "Some examples of unsupervised learning algorithms that can be used for anomaly detection are K-means Clustering, Hierarchical Clustering, Anomaly Detection, Principal Component Analysis (PCA), and Apriori Algorithm."
   ]
  },
  {
   "cell_type": "markdown",
   "id": "fc3ab206-3b99-4856-a720-6177da2f4624",
   "metadata": {},
   "source": [
    "Q8- List down some commonly used supervised learning algorithms and unsupervised learning\n",
    "algorithms."
   ]
  },
  {
   "cell_type": "markdown",
   "id": "f1080f1b-7f25-4022-98ad-d66b18a237dc",
   "metadata": {},
   "source": [
    "**Answer**"
   ]
  },
  {
   "cell_type": "markdown",
   "id": "a27227e0-c39a-42ba-b59b-6513190455f8",
   "metadata": {},
   "source": [
    "Some commonly used supervised learning algorithms are:\n",
    "\n",
    "- Linear Regression: A regression algorithm that tries to fit a linear equation to the data.\n",
    "- Logistic Regression: A classification algorithm that predicts the probability of an input belonging to a certain class.\n",
    "- Support Vector Machine (SVM): A classification algorithm that tries to find the best hyperplane that separates different classes of data.\n",
    "- Decision Trees: A classification algorithm that uses a tree-like model of decisions and their possible consequences.\n",
    "- Random Forest: An ensemble learning method that constructs multiple decision trees and outputs the class that is the mode of the classes (classification) or mean prediction (regression) of the individual trees 3.\n",
    "\n",
    "Some commonly used unsupervised learning algorithms are:\n",
    "\n",
    "- K-means Clustering: A clustering algorithm that partitions the input data into K clusters based on their similarity 24.\n",
    "Hierarchical Clustering: A clustering algorithm that creates a tree-like structure of clusters by recursively merging or splitting them based on their similarity 4.\n",
    "Anomaly Detection: An algorithm that identifies unusual or rare events or observations in the data 34.\n",
    "Principal Component Analysis (PCA): A dimensionality reduction technique that transforms the input data into a lower-dimensional space while preserving most of its variance 54.\n",
    "Apriori Algorithm: An algorithm used for association rule mining in transactional databases or datasets "
   ]
  }
 ],
 "metadata": {
  "kernelspec": {
   "display_name": "Python 3 (ipykernel)",
   "language": "python",
   "name": "python3"
  },
  "language_info": {
   "codemirror_mode": {
    "name": "ipython",
    "version": 3
   },
   "file_extension": ".py",
   "mimetype": "text/x-python",
   "name": "python",
   "nbconvert_exporter": "python",
   "pygments_lexer": "ipython3",
   "version": "3.10.8"
  }
 },
 "nbformat": 4,
 "nbformat_minor": 5
}
