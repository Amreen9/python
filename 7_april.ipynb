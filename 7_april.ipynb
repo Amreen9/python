{
 "cells": [
  {
   "cell_type": "markdown",
   "id": "1b4d1ca7-8676-497c-9191-6392ca9b6c82",
   "metadata": {},
   "source": [
    "Q1. What is the relationship between polynomial functions and kernel functions in machine learning\n",
    "algorithms?"
   ]
  },
  {
   "cell_type": "markdown",
   "id": "a61890b6-81ae-406a-be20-7161e567e101",
   "metadata": {},
   "source": [
    "1. Polynomial Kernel:\n",
    "\n",
    "- The polynomial kernel is a type of kernel function commonly used with support vector machines (SVMs) and other kernelized models.\n",
    "- It represents the similarity of vectors (training samples) in a feature space over polynomials of the original variables.\n",
    "- Essentially, it allows learning of non-linear models by transforming the data into a higher-dimensional space.\n",
    "- The polynomial kernel is particularly useful when the data is not linearly separable.\n",
    "- It captures non-linear relationships between input data and can handle complex datasets.\n",
    "- The kernel function is defined as:K(x,y)=(x⋅y+c)d\n",
    "- where:\n",
    "\n",
    "- (x) and (y) are input vectors.\n",
    "- (c) is a constant term.\n",
    "- (d) is the degree of the polynomial.\n",
    "\n",
    "\n",
    "- The polynomial kernel can be approximated by other kernels via a Taylor series expansion1.\n",
    "\n",
    "\n",
    "2. Other Major Kernel Functions:\n",
    "\n",
    "- Gaussian Kernel (Radial Basis Function - RBF):Used when there is no prior knowledge about the data.\n",
    "- Provides a non-linear transformation.\n",
    "\n",
    "\n",
    "- Sigmoid Kernel:Equivalent to a two-layer perceptron model of a neural network.\n",
    "- Used as an activation function for artificial neurons.\n",
    "\n",
    "\n",
    "- Linear Kernel:Used when data is linearly separable.\n",
    "- Represents the inner product between input vectors.\n",
    "\n",
    "\n",
    "- Other Custom Kernels:Besides the polynomial kernel, you can also create custom kernels based on specific problem requirements."
   ]
  },
  {
   "cell_type": "markdown",
   "id": "a8f93493-3143-4561-bb24-a5c1ac867c7e",
   "metadata": {},
   "source": [
    "Q2. How can we implement an SVM with a polynomial kernel in Python using Scikit-learn?"
   ]
  },
  {
   "cell_type": "code",
   "execution_count": 1,
   "id": "e7cc89ee-5778-4247-9743-0096e2b55577",
   "metadata": {},
   "outputs": [],
   "source": [
    "import pandas as pd\n",
    "import numpy as np\n",
    "import seaborn as sns"
   ]
  },
  {
   "cell_type": "code",
   "execution_count": 2,
   "id": "e57cb436-34bd-4a86-acf8-8ee6fe7736e3",
   "metadata": {},
   "outputs": [],
   "source": [
    "from sklearn.datasets import make_regression"
   ]
  },
  {
   "cell_type": "code",
   "execution_count": 3,
   "id": "3e1e7609-7e67-49bd-892a-9ef5891405dd",
   "metadata": {},
   "outputs": [],
   "source": [
    "x,y=make_regression(n_samples=50,n_targets=1,n_features=2,noise=3.0)"
   ]
  },
  {
   "cell_type": "code",
   "execution_count": 4,
   "id": "0f1224bc-b6bc-48a4-9a99-10a133f3959d",
   "metadata": {},
   "outputs": [],
   "source": [
    "from sklearn.svm import SVR"
   ]
  },
  {
   "cell_type": "code",
   "execution_count": 6,
   "id": "cf72c7a2-3f37-4e2a-a8b1-356832f1648a",
   "metadata": {},
   "outputs": [],
   "source": [
    "svr=SVR(kernel='poly')"
   ]
  },
  {
   "cell_type": "code",
   "execution_count": 7,
   "id": "fc07b453-4a4f-44ed-ac98-e85e14a3d8aa",
   "metadata": {},
   "outputs": [],
   "source": [
    "from sklearn.model_selection import train_test_split\n",
    "x_train,x_test,y_train,y_test=train_test_split(x,y,random_state=32,test_size=0.23)"
   ]
  },
  {
   "cell_type": "code",
   "execution_count": 8,
   "id": "bade3606-0309-4628-a9e0-f1f5f1a7b400",
   "metadata": {},
   "outputs": [
    {
     "data": {
      "text/html": [
       "<style>#sk-container-id-1 {color: black;background-color: white;}#sk-container-id-1 pre{padding: 0;}#sk-container-id-1 div.sk-toggleable {background-color: white;}#sk-container-id-1 label.sk-toggleable__label {cursor: pointer;display: block;width: 100%;margin-bottom: 0;padding: 0.3em;box-sizing: border-box;text-align: center;}#sk-container-id-1 label.sk-toggleable__label-arrow:before {content: \"▸\";float: left;margin-right: 0.25em;color: #696969;}#sk-container-id-1 label.sk-toggleable__label-arrow:hover:before {color: black;}#sk-container-id-1 div.sk-estimator:hover label.sk-toggleable__label-arrow:before {color: black;}#sk-container-id-1 div.sk-toggleable__content {max-height: 0;max-width: 0;overflow: hidden;text-align: left;background-color: #f0f8ff;}#sk-container-id-1 div.sk-toggleable__content pre {margin: 0.2em;color: black;border-radius: 0.25em;background-color: #f0f8ff;}#sk-container-id-1 input.sk-toggleable__control:checked~div.sk-toggleable__content {max-height: 200px;max-width: 100%;overflow: auto;}#sk-container-id-1 input.sk-toggleable__control:checked~label.sk-toggleable__label-arrow:before {content: \"▾\";}#sk-container-id-1 div.sk-estimator input.sk-toggleable__control:checked~label.sk-toggleable__label {background-color: #d4ebff;}#sk-container-id-1 div.sk-label input.sk-toggleable__control:checked~label.sk-toggleable__label {background-color: #d4ebff;}#sk-container-id-1 input.sk-hidden--visually {border: 0;clip: rect(1px 1px 1px 1px);clip: rect(1px, 1px, 1px, 1px);height: 1px;margin: -1px;overflow: hidden;padding: 0;position: absolute;width: 1px;}#sk-container-id-1 div.sk-estimator {font-family: monospace;background-color: #f0f8ff;border: 1px dotted black;border-radius: 0.25em;box-sizing: border-box;margin-bottom: 0.5em;}#sk-container-id-1 div.sk-estimator:hover {background-color: #d4ebff;}#sk-container-id-1 div.sk-parallel-item::after {content: \"\";width: 100%;border-bottom: 1px solid gray;flex-grow: 1;}#sk-container-id-1 div.sk-label:hover label.sk-toggleable__label {background-color: #d4ebff;}#sk-container-id-1 div.sk-serial::before {content: \"\";position: absolute;border-left: 1px solid gray;box-sizing: border-box;top: 0;bottom: 0;left: 50%;z-index: 0;}#sk-container-id-1 div.sk-serial {display: flex;flex-direction: column;align-items: center;background-color: white;padding-right: 0.2em;padding-left: 0.2em;position: relative;}#sk-container-id-1 div.sk-item {position: relative;z-index: 1;}#sk-container-id-1 div.sk-parallel {display: flex;align-items: stretch;justify-content: center;background-color: white;position: relative;}#sk-container-id-1 div.sk-item::before, #sk-container-id-1 div.sk-parallel-item::before {content: \"\";position: absolute;border-left: 1px solid gray;box-sizing: border-box;top: 0;bottom: 0;left: 50%;z-index: -1;}#sk-container-id-1 div.sk-parallel-item {display: flex;flex-direction: column;z-index: 1;position: relative;background-color: white;}#sk-container-id-1 div.sk-parallel-item:first-child::after {align-self: flex-end;width: 50%;}#sk-container-id-1 div.sk-parallel-item:last-child::after {align-self: flex-start;width: 50%;}#sk-container-id-1 div.sk-parallel-item:only-child::after {width: 0;}#sk-container-id-1 div.sk-dashed-wrapped {border: 1px dashed gray;margin: 0 0.4em 0.5em 0.4em;box-sizing: border-box;padding-bottom: 0.4em;background-color: white;}#sk-container-id-1 div.sk-label label {font-family: monospace;font-weight: bold;display: inline-block;line-height: 1.2em;}#sk-container-id-1 div.sk-label-container {text-align: center;}#sk-container-id-1 div.sk-container {/* jupyter's `normalize.less` sets `[hidden] { display: none; }` but bootstrap.min.css set `[hidden] { display: none !important; }` so we also need the `!important` here to be able to override the default hidden behavior on the sphinx rendered scikit-learn.org. See: https://github.com/scikit-learn/scikit-learn/issues/21755 */display: inline-block !important;position: relative;}#sk-container-id-1 div.sk-text-repr-fallback {display: none;}</style><div id=\"sk-container-id-1\" class=\"sk-top-container\"><div class=\"sk-text-repr-fallback\"><pre>SVR(kernel=&#x27;poly&#x27;)</pre><b>In a Jupyter environment, please rerun this cell to show the HTML representation or trust the notebook. <br />On GitHub, the HTML representation is unable to render, please try loading this page with nbviewer.org.</b></div><div class=\"sk-container\" hidden><div class=\"sk-item\"><div class=\"sk-estimator sk-toggleable\"><input class=\"sk-toggleable__control sk-hidden--visually\" id=\"sk-estimator-id-1\" type=\"checkbox\" checked><label for=\"sk-estimator-id-1\" class=\"sk-toggleable__label sk-toggleable__label-arrow\">SVR</label><div class=\"sk-toggleable__content\"><pre>SVR(kernel=&#x27;poly&#x27;)</pre></div></div></div></div></div>"
      ],
      "text/plain": [
       "SVR(kernel='poly')"
      ]
     },
     "execution_count": 8,
     "metadata": {},
     "output_type": "execute_result"
    }
   ],
   "source": [
    "svr.fit(x_train,y_train)"
   ]
  },
  {
   "cell_type": "markdown",
   "id": "b30dde58-4fc6-42a4-aa31-b0e1e9e8edde",
   "metadata": {},
   "source": [
    "Q3. How does increasing the value of epsilon affect the number of support vectors in SVR?"
   ]
  },
  {
   "cell_type": "markdown",
   "id": "d6bc062f-286f-45a2-ba7b-3597400804a0",
   "metadata": {},
   "source": [
    "1. Effect of Increasing Epsilon on Support Vectors:\n",
    "- When we increase the value of (\\epsilon):\n",
    "- The margin around the regression function widens.\n",
    "- More data points fall within this margin.\n",
    "- These data points are considered support vectors.\n",
    "- Therefore, increasing (\\epsilon) results in more support vectors.\n",
    "- These support vectors contribute to defining the regression function.\n",
    "- They are the data points that lie within the (\\epsilon)-tube around the regression line."
   ]
  },
  {
   "cell_type": "markdown",
   "id": "a9314862-bd1b-41c5-901c-6deca8501540",
   "metadata": {},
   "source": [
    "Q4. How does the choice of kernel function, C parameter, epsilon parameter, and gamma parameter\n",
    "affect the performance of Support Vector Regression (SVR)? Can you explain how each parameter works\n",
    "and provide examples of when you might want to increase or decrease its value?"
   ]
  },
  {
   "cell_type": "markdown",
   "id": "d17b46ae-ffec-4ae0-a260-97c52c00c690",
   "metadata": {},
   "source": [
    "1. Kernel Function:The choice of kernel function determines how SVR captures relationships between input features.\n",
    "- Common kernel types include:\n",
    "- Linear Kernel: Simple dot product between input vectors.\n",
    "- Polynomial Kernel: Captures non-linear patterns using polynomial functions.\n",
    "- Radial Basis Function (RBF) Kernel: Suitable for complex, non-linear data.\n",
    "\n",
    "- Sigmoid Kernel: Used for neural network-like activation.\n",
    "- Example:\n",
    "- Use a polynomial kernel when the data exhibits non-linear behavior (e.g., stock market predictions).\n",
    "\n",
    "\n",
    "2. C Parameter:\n",
    "- The regularization parameter (C) controls the trade-off between fitting the training data and preventing overfitting.\n",
    "- Larger (C) values:\n",
    "- Tend to minimize training error (less tolerance for errors).\n",
    "- May lead to overfitting if the model becomes too complex.\n",
    "- Smaller (C) values:\n",
    "- Allow larger errors (more tolerance for errors).\n",
    "- Result in a simpler model.\n",
    "- Example:\n",
    "- Increase (C) when you want to fit the training data more closely (low tolerance for errors).\n",
    "\n",
    "3. Epsilon Parameter:\n",
    "- In the epsilon-SVR model, (\\epsilon) specifies the width of the epsilon-tube around the predicted values.\n",
    "- Points within this tube do not incur a penalty in the training loss function.\n",
    "- Larger (\\epsilon) values:\n",
    "- Widen the tube, allowing more points to be within the margin.\n",
    "- May lead to more support vectors.\n",
    "- Smaller (\\epsilon) values:\n",
    "- Narrow the tube, emphasizing points closer to the actual values.\n",
    "- Result in fewer support vectors.\n",
    "- Example: Increase (\\epsilon) when you want to allow more flexibility in predictions.\n",
    "\n",
    "4. Gamma Parameter:\n",
    "- Gamma controls the influence of a single training example on the decision boundary.\n",
    "- High gamma values:\n",
    "- Make the influence of nearby points stronger.\n",
    "- Result in more complex decision boundaries.\n",
    "- Low gamma values:\n",
    "- Make the influence of distant points stronger.\n",
    "- Result in smoother decision boundaries.\n",
    "- Example:\n",
    "- Increase gamma for complex, non-linear data with many features.\n",
    "- Remember that parameter tuning depends on the specific problem and dataset. It’s essential to experiment and validate using cross-validation to find optimal values for these parameters"
   ]
  },
  {
   "cell_type": "markdown",
   "id": "8ec1bf84-b922-4a12-a365-4140c920e9cc",
   "metadata": {},
   "source": [
    "Kernel Function:\n",
    "The choice of kernel function determines how SVR captures relationships between input features.\n",
    "Common kernel types include:\n",
    "Linear Kernel: Simple dot product between input vectors.\n",
    "Polynomial Kernel: Captures non-linear patterns using polynomial functions.\n",
    "Radial Basis Function (RBF) Kernel: Suitable for complex, non-linear data.\n",
    "Sigmoid Kernel: Used for neural network-like activation.\n",
    "Example:\n",
    "Use a polynomial kernel when the data exhibits non-linear behavior (e.g., stock market predictions).\n",
    "C Parameter:\n",
    "The regularization parameter (C) controls the trade-off between fitting the training data and preventing overfitting.\n",
    "Larger (C) values:\n",
    "Tend to minimize training error (less tolerance for errors).\n",
    "May lead to overfitting if the model becomes too complex.\n",
    "Smaller (C) values:\n",
    "Allow larger errors (more tolerance for errors).\n",
    "Result in a simpler model.\n",
    "Example:\n",
    "Increase (C) when you want to fit the training data more closely (low tolerance for errors).\n",
    "Epsilon Parameter:\n",
    "In the epsilon-SVR model, (\\epsilon) specifies the width of the epsilon-tube around the predicted values.\n",
    "Points within this tube do not incur a penalty in the training loss function.\n",
    "Larger (\\epsilon) values:\n",
    "Widen the tube, allowing more points to be within the margin.\n",
    "May lead to more support vectors.\n",
    "Smaller (\\epsilon) values:\n",
    "Narrow the tube, emphasizing points closer to the actual values.\n",
    "Result in fewer support vectors.\n",
    "Example:\n",
    "Increase (\\epsilon) when you want to allow more flexibility in predictions.\n",
    "Gamma Parameter:\n",
    "Gamma controls the influence of a single training example on the decision boundary.\n",
    "High gamma values:\n",
    "Make the influence of nearby points stronger.\n",
    "Result in more complex decision boundaries.\n",
    "Low gamma values:\n",
    "Make the influence of distant points stronger.\n",
    "Result in smoother decision boundaries.\n",
    "Example:\n",
    "Increase gamma for complex, non-linear data with many features.\n",
    "Remember that parameter tuning depends on the specific problem and dataset. It’s essential to experiment and validate using cross-validation to find optimal values for these parameters"
   ]
  },
  {
   "cell_type": "code",
   "execution_count": 31,
   "id": "8cf617e5-4bb9-479e-bca2-ce40a6cd9afc",
   "metadata": {},
   "outputs": [],
   "source": [
    "import pandas as pd\n",
    "import numpy as np\n",
    "import matplotlib.pyplot as plt\n",
    "from sklearn.datasets import make_classification"
   ]
  },
  {
   "cell_type": "code",
   "execution_count": 32,
   "id": "1652fc0b-ed8f-400e-962f-74b04a4a21b9",
   "metadata": {},
   "outputs": [],
   "source": [
    "X,Y=make_classification(n_samples=1000,n_features=2,n_classes=2,n_clusters_per_class=2,n_redundant=0)"
   ]
  },
  {
   "cell_type": "code",
   "execution_count": 33,
   "id": "12236eb8-b851-4d16-b208-97b60397d7e8",
   "metadata": {},
   "outputs": [
    {
     "data": {
      "text/plain": [
       "array([[-0.92409277,  1.32412279],\n",
       "       [ 0.14204365, -0.31038257],\n",
       "       [-1.43996262, -1.5218374 ],\n",
       "       ...,\n",
       "       [ 0.04569757, -0.66855252],\n",
       "       [-1.10948996, -0.95351233],\n",
       "       [-1.40423511, -0.56908751]])"
      ]
     },
     "execution_count": 33,
     "metadata": {},
     "output_type": "execute_result"
    }
   ],
   "source": [
    "X"
   ]
  },
  {
   "cell_type": "code",
   "execution_count": 12,
   "id": "97acb648-ae69-44cb-8d16-eb28232c37f6",
   "metadata": {},
   "outputs": [
    {
     "data": {
      "text/plain": [
       "array([-1.18156438e+02,  8.91859403e+01, -4.55383342e+01, -2.82185865e+01,\n",
       "       -2.91049391e+01, -3.83357335e+01, -7.16020395e+01, -4.75596468e+01,\n",
       "        1.12485168e+02, -7.01525429e+01,  1.12266028e+01,  3.43592077e+01,\n",
       "       -1.27347044e+02,  7.54492582e+01,  5.34226728e+01,  1.40392332e+02,\n",
       "       -2.14264617e+01,  4.10839607e+01,  5.16000914e+01,  3.21439641e+02,\n",
       "        8.54796830e+01, -1.26712438e+01,  6.64666225e+01,  1.18908878e+02,\n",
       "       -4.99722217e+01,  1.68268435e+02, -1.20602811e+02,  1.21023682e+02,\n",
       "       -5.74576958e+01,  3.36037755e+01,  6.15797125e+01, -6.94130495e+01,\n",
       "       -1.06822792e+02, -4.85479879e+00, -1.44748072e+02,  1.37736992e+02,\n",
       "       -7.32751676e+01,  7.25685720e+01, -1.21864147e+02, -3.11378004e+01,\n",
       "        7.97095689e+01,  4.88242848e+01,  8.18275591e+01, -7.49750985e+01,\n",
       "       -2.42951098e+01, -4.60653184e+00,  1.29499162e+02,  7.83149149e+01,\n",
       "       -5.61653221e+01,  8.57317646e+01,  9.01849958e+01, -2.67352321e+00,\n",
       "        3.17752425e+01, -1.19476718e+02, -7.00914893e+01,  1.65414246e+02,\n",
       "       -1.17875924e+01, -1.19851711e+02,  4.06924462e+00, -1.34813004e+02,\n",
       "        5.51124349e+01,  3.03895789e+00,  1.91524084e+02, -1.69687057e+01,\n",
       "       -1.05832611e+02,  2.26918998e+01,  5.28489532e+01, -3.90077534e+01,\n",
       "       -1.03205643e+02,  6.72044978e+01,  1.69409920e+02,  1.62675311e+02,\n",
       "        3.88076983e+01,  2.52890734e+02,  5.74191442e+01,  2.23509516e+01,\n",
       "       -4.75512510e+01, -4.85683783e+01, -2.67367573e+02, -1.09855345e+02,\n",
       "        1.15917737e+02,  1.12480976e+02,  2.21481990e+02,  9.57591885e+00,\n",
       "       -1.22176294e+01,  2.00338353e+02,  5.31367361e+01, -1.49454519e+02,\n",
       "        8.01776031e+01, -3.11081558e-01,  6.87726240e+01,  4.62908032e+01,\n",
       "        8.55917862e+01,  5.27165287e+01,  6.84365673e+01, -6.23792821e+01,\n",
       "       -8.46496641e+01, -7.52255088e+01,  3.12830013e+01,  3.18994355e+01,\n",
       "       -1.84884149e+02,  1.05563777e+01, -1.90690749e+01,  1.94794711e+02,\n",
       "        1.90256670e+02, -6.78090228e+01,  1.47182070e+01,  2.55132031e+01,\n",
       "       -4.10889713e-01,  1.13717615e+02,  1.28258905e+02, -1.72361062e+02,\n",
       "       -1.08578180e+01,  6.81992846e+01,  6.83228032e+01, -1.39080127e+01,\n",
       "       -3.29188933e+00, -1.92067119e+02,  7.89816909e+01, -3.97008709e+01,\n",
       "       -1.35663886e+02,  1.52815133e+02,  1.66244086e+01,  6.69255741e+01,\n",
       "       -1.20533250e+02, -2.27468308e+01, -4.24972764e+01, -5.86531898e+01,\n",
       "        9.60783408e+01,  1.59097077e+02,  4.32606913e+01, -1.19733562e+02,\n",
       "        1.49984540e+02,  9.75983066e+01,  9.09068793e+00, -9.04220737e+01,\n",
       "        8.55840284e+01,  2.36993721e+02,  4.30538416e+01,  9.04527163e+01,\n",
       "        6.28529905e+01,  1.64676617e+02,  2.85400764e+01, -7.45362081e+01,\n",
       "        1.35879462e+01, -4.51022848e+01,  1.41528737e+02,  4.46607458e+01,\n",
       "        3.56165435e+01, -1.24882921e+02,  6.53157558e+01,  6.94063423e+01,\n",
       "       -1.62377890e+02,  1.14086211e+01,  2.73113380e+01,  1.64215394e+02,\n",
       "        1.21769131e+02,  2.18617988e+01, -1.27042299e+02,  2.37285806e+02,\n",
       "        1.26135268e+02, -7.75308934e+01, -6.49102355e+01,  3.95268184e+01,\n",
       "       -1.19620831e+02,  3.26340104e+01,  7.66659877e+01, -8.36350677e+01,\n",
       "        1.30374346e+01, -1.95448147e+02, -1.55836416e+02, -1.96422531e+02,\n",
       "       -7.83918126e+00,  1.67954513e+01, -9.38042052e+01,  9.94304057e+01,\n",
       "       -3.40134766e+01,  7.66552639e+00, -8.20127638e+01,  1.49362364e+02,\n",
       "        2.46660911e+00, -8.21869913e+01,  8.18778929e+01,  7.58498430e+00,\n",
       "        4.86799569e+01,  1.20740380e+02, -4.18228050e+01,  8.00211992e+01,\n",
       "       -4.49445899e+01, -5.33875750e+01,  2.02169511e+01,  7.51965332e+01,\n",
       "        3.85105232e+01,  5.44423512e+01,  7.74187194e+00, -1.29532119e+02,\n",
       "       -5.72864658e+01, -4.93203049e+01,  7.09041382e+01,  1.85322537e+01,\n",
       "        1.06028507e+02, -1.43028778e+01,  6.48459916e+01,  1.01210977e+02,\n",
       "        4.86778512e+01,  9.44009434e+01,  5.97216892e+01,  1.00042921e+02,\n",
       "       -2.09926179e+01, -7.96216240e+01,  8.13489777e+01, -6.16070093e+01,\n",
       "        1.73269069e+02, -1.53957685e+02, -2.38376740e+01, -5.75627071e+01,\n",
       "        1.39790223e+00, -1.70139032e+02,  6.18492862e+01,  4.61613684e+01,\n",
       "        2.75848044e+01,  1.32600901e+02,  9.43073218e+01,  7.99820586e+01,\n",
       "        1.76079943e+01,  4.68356255e+01, -1.07993121e+01,  2.23722410e+01,\n",
       "        3.08479119e+01, -7.68594186e+01,  1.16044031e+02, -1.62269128e+01,\n",
       "        6.62631446e+01,  3.87128312e+01,  1.88689963e+02,  9.15488980e+01,\n",
       "       -6.68100747e+01, -5.31745838e+01,  9.27076830e+01, -2.30609784e+01,\n",
       "       -1.92391835e+01, -4.70502996e+01, -5.99899690e-01, -2.52699092e+01,\n",
       "        1.42417900e+01,  6.02997316e+00, -1.15085833e+01, -4.12117054e+01,\n",
       "        9.73997307e+01,  8.77489269e+01,  1.95161180e+01,  3.18706139e+00,\n",
       "        4.41507104e+01, -1.49888797e+02, -8.70999033e+01, -1.07183777e+02,\n",
       "        8.52485994e-01,  5.13355892e+01, -7.92878783e+00,  6.09517970e+01,\n",
       "       -1.12344948e+02,  4.49311753e+00,  9.04126252e+00, -2.68065174e+01,\n",
       "        3.28653278e+01, -4.73895417e+01, -2.04273785e+02,  6.88818039e+01,\n",
       "        5.50323880e+01, -1.06577655e+01,  2.00956794e+01, -6.58855440e+01,\n",
       "        1.35263605e+02, -1.60526190e+02, -4.10847543e+01, -1.24944744e+02,\n",
       "       -5.18856911e+01,  1.15412138e+02,  1.20256389e+02, -1.60215866e+01,\n",
       "        1.41761838e+02,  4.07781996e+00, -6.13573025e+01,  1.63066654e+02,\n",
       "        9.53796116e+01,  1.19051273e+01, -3.45402635e+02,  3.39936952e+01,\n",
       "        3.74250171e+01,  4.47248948e+01, -1.24073815e+00,  3.79601888e+01,\n",
       "       -1.49375677e+02,  3.82479940e+01,  1.40419562e+02,  7.74533726e+01,\n",
       "       -1.19705371e+02,  1.90810458e+02, -2.36963095e+01,  4.99259877e+01,\n",
       "       -1.35134161e+01, -6.38754751e+01,  7.07556350e+01,  8.80715690e+01,\n",
       "       -1.93285335e+02, -1.75951594e+02, -1.03375800e+01,  1.70516420e+01,\n",
       "        6.45639869e+01, -2.70082504e+01,  4.11820266e+01, -1.16735173e+02,\n",
       "       -6.64461268e+01, -6.83859538e+01, -1.21598016e+02,  9.85401604e-01,\n",
       "        9.53102079e+01, -1.26814702e+01, -8.51231101e+01,  3.08547014e+01,\n",
       "        1.66133472e+02,  1.15502584e+02,  1.53599834e+02, -5.77206247e+01,\n",
       "       -1.10390622e+02,  1.31525106e+02,  1.48465171e+02,  1.19395431e+02,\n",
       "        1.63158072e+01, -4.04187011e+01,  5.03110318e+01,  3.79945843e+01,\n",
       "       -1.41231733e+01, -9.35033216e+01,  1.19448116e+02, -1.59322780e+02,\n",
       "        8.33079640e+01,  1.47865175e+02, -2.80419428e+01, -8.57784869e+01,\n",
       "       -2.03596376e+01,  1.11974738e+02, -2.38895036e+01,  4.32134253e+01,\n",
       "        1.22291006e+02, -5.88181918e+01,  1.51972400e+02,  1.44450317e+00,\n",
       "        4.95215217e+01, -1.89740153e+01,  9.03699688e+01,  5.57161099e+01,\n",
       "        4.99874403e+01, -8.65463238e+01, -4.08272293e+01,  1.59285411e+01,\n",
       "        4.34569687e+01,  1.22871634e+02, -3.80291545e+01, -3.88321400e+01,\n",
       "       -2.25665524e+01,  1.74650912e+02,  1.08761623e+02,  1.37933889e+02,\n",
       "        1.93882340e+01, -9.57138905e+01,  6.85878268e+01,  3.21629882e+01,\n",
       "       -1.11578111e+02, -7.40227143e+01,  5.29769185e+01,  7.67199168e+01,\n",
       "       -1.33351094e+02,  6.23055318e+01, -7.08217787e+01, -7.45486806e+01,\n",
       "       -1.66428642e+02, -1.44639467e+02, -1.68303472e+01, -6.32157323e+01,\n",
       "       -8.19047502e+01,  9.33298104e+01,  1.12912438e+01, -3.07792369e+01,\n",
       "        1.68856823e+02, -5.52602692e+01,  1.17167769e+02,  4.96083438e+01,\n",
       "       -1.37373271e+02,  1.60868000e+02, -3.85366223e+01,  9.89478651e+01,\n",
       "       -1.26645853e+02, -1.76387980e+02,  1.54656278e+02,  2.40368153e+00,\n",
       "        1.00614852e+02, -3.00245134e+01,  1.96525174e+01, -1.99197295e+02,\n",
       "        1.48927179e+02,  1.64397204e+01,  5.07619347e+00,  3.00414093e+01,\n",
       "        1.18252210e+02, -2.74843928e+01,  8.87989674e+01,  2.22714476e+01,\n",
       "        3.85256981e+01, -5.14819289e+01, -4.70649209e+01, -8.22531847e+01,\n",
       "        1.53995116e+01,  9.08445156e+01, -1.52973949e+02, -5.77198133e+01,\n",
       "       -2.92062204e+01, -4.56165736e+01,  1.44013474e+02, -9.88532873e+01,\n",
       "        7.92082260e+01, -2.30543905e+02,  4.13324343e+01,  1.30615892e+02,\n",
       "       -8.08064092e+01, -1.55125221e+02, -1.25180805e+02, -8.18131973e+01,\n",
       "        1.37574829e+02,  9.92606902e+01,  3.81887119e+02, -5.48986494e+01,\n",
       "       -1.67760463e+01, -1.25179709e+02,  2.64075822e+01,  1.15815490e+01,\n",
       "       -4.90243706e+01, -1.93519308e+02, -3.82757043e+01,  1.01429587e+02,\n",
       "       -8.07296871e+01,  1.01127181e+01, -8.57125255e+01, -3.39668291e+01,\n",
       "       -2.00648736e+01,  4.39931930e+01,  4.33519394e+01,  1.93233776e+01,\n",
       "       -8.16435857e+01,  3.25763719e+01,  1.85452952e+02, -3.18219912e+01,\n",
       "        1.42974488e+02,  1.55537057e+02, -5.20085994e+01, -1.69577908e+02,\n",
       "       -7.23393738e+01,  4.22950657e+01,  9.55938285e+01, -8.24946159e+01,\n",
       "       -9.37144888e+01, -1.35916422e+02, -7.85820910e+01,  1.87384960e+01,\n",
       "       -1.17290119e+02,  5.22452611e+01, -1.43837434e+02, -9.39606223e+01,\n",
       "        4.30706677e+01, -7.48351527e+01,  1.98789487e+00, -1.18153684e+02,\n",
       "       -1.68339149e+01,  1.85359299e+02,  2.08066814e+01, -1.93018582e+01,\n",
       "        2.19461329e+01,  8.00398950e+01, -7.42797405e+01,  1.26909196e+02,\n",
       "       -2.11906971e+01,  4.83570993e+00, -3.33037039e+01,  1.10728696e+02,\n",
       "       -5.68320482e+01, -9.66803278e+01, -6.85334572e+00,  7.40829319e+00,\n",
       "       -3.89663304e+01, -1.43657630e+02,  2.03637452e+01, -5.02441446e+01,\n",
       "       -4.02799295e+01, -8.65338953e+00, -1.80187727e+02, -1.06469093e+02,\n",
       "        5.25056206e+01, -1.07525510e+02, -4.90474038e+01,  1.02525188e+02,\n",
       "        4.72981214e+01, -7.15597153e+01, -1.12492831e+02,  1.90474117e+02,\n",
       "        5.26798113e+01,  1.85380893e+02, -3.24747234e+01, -6.73863501e+01,\n",
       "        6.92473207e+01,  1.51628092e+02,  3.75518793e+01, -1.39249737e+02,\n",
       "        2.44425971e+00,  1.74788406e+02, -1.13945172e+02,  1.56316200e+02,\n",
       "       -6.93211465e+01, -8.67006639e-01, -1.30411692e+02,  1.04548919e+02,\n",
       "        7.46096729e+01, -7.44087085e+01, -1.30472171e+02, -2.40208053e+01,\n",
       "       -5.98923346e+01, -6.50752565e+00,  2.38619064e+02, -1.11532625e+02,\n",
       "       -9.36670142e-01,  1.54264293e+02, -2.53647598e+02, -3.89802792e+01,\n",
       "        1.45420554e+02,  1.59906676e+02,  3.94890554e+01,  8.34058408e+01,\n",
       "       -2.17928856e+02, -2.36012673e+01, -9.56419518e+01,  1.70392328e+02,\n",
       "        3.15511340e+01, -5.82635548e+01,  1.33868701e+02, -1.09042330e+02,\n",
       "       -5.26832757e+01, -1.16247675e+01,  1.80821246e+02,  3.66943352e+01,\n",
       "       -4.84938822e+00, -8.85217554e+01, -1.19766984e+02,  4.89952986e+00,\n",
       "        9.19737214e+01,  9.85417308e+01,  2.47654690e+01, -1.36632021e+02,\n",
       "       -4.45176949e+01, -8.34728088e+01,  1.79798187e+02, -1.60763435e+02,\n",
       "       -1.83648558e+02,  3.64557060e+01,  2.28818657e+02,  6.84425760e+01,\n",
       "        5.54515745e+01, -2.26078902e+02, -1.60312091e+01, -6.32743009e+01,\n",
       "        9.74536521e+01, -7.10940000e+01,  8.16560230e+01, -2.91511701e+00,\n",
       "        1.31726080e+02,  7.93870776e+01, -1.62577772e+02,  3.97800653e+01,\n",
       "       -1.82991101e+02,  3.02584467e+01, -5.17264090e+01,  1.05048487e+02,\n",
       "        4.79485859e+01,  3.61750357e+01, -9.99427824e+01,  5.12939769e+01,\n",
       "        1.69154749e+02,  5.89069811e+01,  1.66182099e+02,  9.38125361e+00,\n",
       "        6.47247618e+01, -4.62945978e+01,  8.58235827e+01,  5.67045749e+01,\n",
       "       -2.25071798e+01,  2.00739369e+02, -1.21531012e+02,  1.15904363e+02,\n",
       "        1.15715350e+02,  2.97033038e+01, -8.32066289e+00,  6.72266378e+01,\n",
       "       -6.27203435e+01, -8.07493103e+01,  3.60230259e+01,  1.28927442e+02,\n",
       "        2.42564633e+01,  1.29944460e+02, -2.59614843e+01,  5.06662912e+01,\n",
       "        6.79899083e+01,  6.66457899e+01, -1.60907830e+02, -6.12500832e+01,\n",
       "       -1.52198370e+02,  1.61148717e+02,  1.61289442e+02,  4.11093203e+01,\n",
       "        5.61442024e+01, -1.23999258e+02, -1.10915086e+02, -4.73433153e+01,\n",
       "       -4.81963999e+01, -1.64502203e+02, -1.88235807e+02, -5.57495266e+01,\n",
       "        8.89707044e+01, -5.00801867e+01, -3.20301611e+01, -5.44455526e+01,\n",
       "        5.80481991e+01, -7.77009791e+01,  2.91806517e+01, -1.21881326e+02,\n",
       "        7.82544809e+00, -4.26629028e+01, -2.02776735e+02,  2.28138081e+01,\n",
       "       -4.95644093e+01,  1.08964524e+02, -9.92820508e+01, -4.53091197e+01,\n",
       "        4.75668184e+01, -8.42763419e+00, -1.50665508e+02, -1.83351772e+02,\n",
       "       -2.42326949e+01,  1.15616166e+01,  3.08655738e+01,  9.07493433e+01,\n",
       "        1.18802834e+02, -1.81711384e+02,  6.54672978e+01,  1.21497085e+02,\n",
       "        3.90981713e+01,  3.85298186e+00, -2.99619957e+01, -5.08956320e+01,\n",
       "        4.46901723e+01,  1.14200024e+02,  1.48382935e+02, -7.78087263e+00,\n",
       "       -4.83053797e+01,  2.10584445e+02, -1.22595753e+02, -8.85888880e+01,\n",
       "       -1.09731107e+02,  6.27090827e+01, -1.73890350e+01,  1.90738931e+01,\n",
       "       -1.74220331e+00,  3.11808052e+01, -1.06423004e+02, -6.10713061e+01,\n",
       "       -2.48681317e+02,  7.76642056e+01, -2.52932381e+02, -2.08359680e+01,\n",
       "       -7.73899031e+01, -1.18944074e+02,  5.82966804e+01, -5.03423355e+01,\n",
       "        6.24980250e+01, -2.56753727e+02,  1.03855057e+02, -1.16672227e+02,\n",
       "        1.49142418e+02,  1.72270098e+01, -7.59824540e+01,  1.46481792e+02,\n",
       "       -7.73296739e+00,  5.04818113e+01, -1.05363099e+02, -1.02490520e+02,\n",
       "       -4.64301974e+01, -1.11393098e+02, -1.33130740e+02,  2.49474195e+02,\n",
       "       -6.03499200e+01,  9.51434059e+01,  9.79024461e+01, -4.47139758e+01,\n",
       "       -1.35001859e+02,  5.08410258e+00,  7.45866519e+01, -5.42960746e+01,\n",
       "        1.38390498e+02,  2.03675357e+02,  2.09678866e+02,  9.69518018e-01,\n",
       "        3.08534189e+01, -1.40493217e+01,  4.16521322e+01,  1.56412027e+01,\n",
       "       -8.91131354e+01, -1.70023652e+01, -4.74964979e+01,  4.40764809e+01,\n",
       "       -5.43119640e+01, -6.13319425e+01, -8.59607635e+01,  1.43813427e+01,\n",
       "        2.13374210e+01, -7.74052970e+01, -3.28862790e+01,  9.01248683e+01,\n",
       "       -1.62005309e+02,  1.16396518e+02,  6.98533178e+00,  7.19220291e+01,\n",
       "       -1.34556455e+01, -1.21078727e+01,  1.95250149e+02,  5.32783159e+01,\n",
       "       -2.22345115e+00, -7.78481400e+01,  5.20144308e+00,  1.11726058e+02,\n",
       "       -1.79478077e+02, -5.24081682e+01,  5.61040005e+01,  3.97515729e+01,\n",
       "       -7.27919308e+01, -6.51961668e+01,  1.29263490e+02, -8.14197729e+01,\n",
       "        3.74132128e+01,  6.27085328e-01, -2.84979220e+01, -9.68451886e+01,\n",
       "       -2.32375934e+02,  1.42332019e+02,  3.83747936e+01, -1.31471879e+02,\n",
       "        1.03141592e+01, -4.41481413e+01,  1.50446832e+02, -1.09563430e+02,\n",
       "        8.12313384e+01, -9.88609678e+01,  7.13142230e+01,  4.67006858e+01,\n",
       "        1.74421697e+02,  6.76845656e+01, -3.77843474e+02,  1.26803200e+02,\n",
       "       -7.75258866e+01, -1.18634444e+02, -2.30472689e+02, -1.27153520e+02,\n",
       "       -1.53878507e+02, -5.69603912e+01,  1.74741768e+02, -4.53393017e+01,\n",
       "        4.77663593e+01,  8.56046471e+01,  2.78642635e+02,  7.59173404e+01,\n",
       "        1.22142590e+02, -7.04139785e+01, -4.05679696e+01, -2.00568835e+01,\n",
       "        2.27501356e+01,  1.95237125e+01,  1.44265690e+02, -1.61714174e+01,\n",
       "        7.27478483e+01, -1.10201577e+02,  3.38153836e+01,  1.56325015e+02,\n",
       "       -7.28156189e+01,  1.02359365e+02,  2.69497478e+02, -4.55428972e+01,\n",
       "       -6.82216656e+00,  1.09919665e+02,  5.37594897e+01, -1.98618706e+02,\n",
       "       -1.65662025e+02, -3.89101582e-01, -1.31743292e+01, -4.26497294e+01,\n",
       "       -7.50859323e+00,  1.02139047e+02,  1.88148741e+01, -1.90529148e+02,\n",
       "       -5.82240523e+01,  1.30345963e+02,  4.02627844e+01,  6.47373321e+01,\n",
       "       -9.05590610e+01, -6.48009533e+00,  2.37685380e+02,  1.56727256e+01,\n",
       "       -6.11659461e+00, -3.21929885e+00, -4.10291386e+01, -7.98734431e+01,\n",
       "       -8.11197591e+01, -4.08816751e+01, -1.85590121e+02, -8.73431632e+01,\n",
       "       -1.59613394e+01,  1.82414299e+02,  4.53942325e+01,  1.35357552e+01,\n",
       "        8.28359926e+01,  4.10392517e+01,  1.37008120e+02,  1.02162819e+01,\n",
       "        5.10527563e+01, -7.86193327e+01, -2.14481385e+02,  5.71284136e+01,\n",
       "       -2.86411333e+02,  1.02407682e+02,  1.65328865e+02,  6.05709982e+01,\n",
       "       -8.79470031e+01,  4.46160938e+01,  2.11386464e+01,  4.10206706e+01,\n",
       "        3.94872336e+01,  3.54270756e+00, -1.02961298e+02, -6.54585984e+01,\n",
       "        5.70943869e+01,  4.22295094e+00, -1.14097418e+02, -2.53394813e+01,\n",
       "        1.00174318e+02,  5.66861752e+01,  2.02298085e+00, -2.67406362e+01,\n",
       "       -1.49960097e+01,  4.63357437e+01,  1.16859173e+02,  1.49565318e+01,\n",
       "       -1.61923214e+02,  1.58442366e+02,  3.48803959e+01,  1.16772888e+02,\n",
       "       -3.97213636e+00, -5.44826669e+01, -2.81452822e+01, -5.33789845e+01,\n",
       "       -1.20399293e+02, -3.28520863e+01,  5.89641684e+01,  6.60478885e+01,\n",
       "       -2.06937238e+02,  4.99564461e+01, -1.01655070e+02,  1.05826307e+02,\n",
       "        7.06786658e+01,  9.17771117e+00, -1.27650601e+02,  1.52867060e+02,\n",
       "       -6.34102117e+00, -1.30573501e+01, -2.80873050e+02, -3.58434450e+01,\n",
       "        6.02724578e+01,  2.02488538e+01,  1.47081855e+02, -1.18875056e+02,\n",
       "       -7.97584451e+00, -3.39060352e+01,  1.48956669e+02,  4.49975110e+00,\n",
       "       -8.37640649e+01, -5.30228896e+01,  2.93218865e+01, -2.42321214e+01,\n",
       "       -5.66140307e+01,  1.22496358e+02, -1.32352243e+02,  4.94989876e+01,\n",
       "        1.08737130e+02,  2.39267641e+01,  2.36696786e+02,  2.55914565e+01,\n",
       "        1.57511974e+02,  2.75691257e+01, -7.83089533e+01, -7.56441834e+01,\n",
       "        1.07939812e+02,  5.26628098e+01,  5.94369711e+01,  1.06233370e+02,\n",
       "        5.87947093e+01, -9.45287003e+01, -1.30217821e+01, -8.34797062e+01,\n",
       "       -9.43503881e+01,  5.87250343e+01,  6.05178566e+01, -5.87814367e+00,\n",
       "        2.66679447e+01, -1.27671030e+02,  2.06479592e+00,  9.24663416e+01,\n",
       "        1.58726313e+02, -9.32026938e+01,  9.44256534e+01, -1.27856115e+02,\n",
       "       -8.81881843e+01,  4.07198214e+00,  1.08759005e+02, -2.91697240e+01,\n",
       "        8.30823308e+01, -9.71268525e+01,  3.77131673e+01, -5.42773482e+01,\n",
       "        4.34530315e+01,  7.00624876e+01,  3.95971119e-01, -1.15095693e+02,\n",
       "       -4.20734359e+01, -3.26498091e+02, -2.18785484e+01,  1.08790429e+02,\n",
       "        1.33392078e+02,  5.41460043e+01, -2.27733053e+01,  1.90475662e+01,\n",
       "       -8.86617039e+01,  1.16433995e+02,  7.16880030e+01, -6.72934822e+01,\n",
       "        1.39113151e+01,  2.70460198e+01, -5.03866636e+01,  6.59411783e+01,\n",
       "       -1.29584047e+01, -3.71709183e+01, -1.99297605e+01, -1.83553231e+02,\n",
       "        4.42869085e+01,  8.53441323e+01, -1.44020978e+02,  1.35426388e+01,\n",
       "        1.03198599e+02, -2.12594622e-01, -9.48356494e+01,  8.36734190e+01,\n",
       "        3.99415697e+01,  2.55898062e+01,  4.65040083e+01,  1.17760495e+02,\n",
       "       -4.99296490e+01, -1.42392342e+02,  1.85647941e+01,  6.38581245e+01,\n",
       "        3.81882591e+01,  4.54598733e+01,  4.15904411e+01,  1.95568687e+02,\n",
       "       -4.28025982e+01, -3.16106534e+01,  1.28651410e+02, -3.34280540e+00,\n",
       "        8.98936378e+01,  2.46779418e+01,  1.29752464e+02,  1.35990952e+01,\n",
       "        1.28807493e+02,  4.95732529e+01, -2.01685744e+02,  5.20994576e+01,\n",
       "       -8.51121362e+01, -1.91507287e+02,  4.32262247e+01,  5.59118265e+01,\n",
       "       -2.78040288e+01, -9.93664907e+01, -4.82916727e+01, -1.00487179e+02,\n",
       "        1.57399010e+02, -5.33242827e+00, -6.47140096e+01, -5.58000725e+01])"
      ]
     },
     "execution_count": 12,
     "metadata": {},
     "output_type": "execute_result"
    }
   ],
   "source": [
    "Y"
   ]
  },
  {
   "cell_type": "code",
   "execution_count": 34,
   "id": "74a4e532-e6ac-4b11-87a1-0e49883ab009",
   "metadata": {},
   "outputs": [],
   "source": [
    "from sklearn.model_selection import train_test_split\n",
    "x_train,x_test,y_train,y_test=train_test_split(X,Y,test_size=0.23,random_state=34)"
   ]
  },
  {
   "cell_type": "code",
   "execution_count": 35,
   "id": "3034fb00-ef50-4e00-b806-fd7db9cbfc02",
   "metadata": {},
   "outputs": [],
   "source": [
    "from sklearn.svm import SVC"
   ]
  },
  {
   "cell_type": "code",
   "execution_count": 36,
   "id": "1f5d5cdb-47f4-4715-86b1-430f1cec9c8b",
   "metadata": {},
   "outputs": [],
   "source": [
    "svc=SVC(kernel='linear')"
   ]
  },
  {
   "cell_type": "code",
   "execution_count": 37,
   "id": "05a81d56-ba88-4ad4-8c5a-e29de3356dae",
   "metadata": {},
   "outputs": [
    {
     "data": {
      "text/html": [
       "<style>#sk-container-id-2 {color: black;background-color: white;}#sk-container-id-2 pre{padding: 0;}#sk-container-id-2 div.sk-toggleable {background-color: white;}#sk-container-id-2 label.sk-toggleable__label {cursor: pointer;display: block;width: 100%;margin-bottom: 0;padding: 0.3em;box-sizing: border-box;text-align: center;}#sk-container-id-2 label.sk-toggleable__label-arrow:before {content: \"▸\";float: left;margin-right: 0.25em;color: #696969;}#sk-container-id-2 label.sk-toggleable__label-arrow:hover:before {color: black;}#sk-container-id-2 div.sk-estimator:hover label.sk-toggleable__label-arrow:before {color: black;}#sk-container-id-2 div.sk-toggleable__content {max-height: 0;max-width: 0;overflow: hidden;text-align: left;background-color: #f0f8ff;}#sk-container-id-2 div.sk-toggleable__content pre {margin: 0.2em;color: black;border-radius: 0.25em;background-color: #f0f8ff;}#sk-container-id-2 input.sk-toggleable__control:checked~div.sk-toggleable__content {max-height: 200px;max-width: 100%;overflow: auto;}#sk-container-id-2 input.sk-toggleable__control:checked~label.sk-toggleable__label-arrow:before {content: \"▾\";}#sk-container-id-2 div.sk-estimator input.sk-toggleable__control:checked~label.sk-toggleable__label {background-color: #d4ebff;}#sk-container-id-2 div.sk-label input.sk-toggleable__control:checked~label.sk-toggleable__label {background-color: #d4ebff;}#sk-container-id-2 input.sk-hidden--visually {border: 0;clip: rect(1px 1px 1px 1px);clip: rect(1px, 1px, 1px, 1px);height: 1px;margin: -1px;overflow: hidden;padding: 0;position: absolute;width: 1px;}#sk-container-id-2 div.sk-estimator {font-family: monospace;background-color: #f0f8ff;border: 1px dotted black;border-radius: 0.25em;box-sizing: border-box;margin-bottom: 0.5em;}#sk-container-id-2 div.sk-estimator:hover {background-color: #d4ebff;}#sk-container-id-2 div.sk-parallel-item::after {content: \"\";width: 100%;border-bottom: 1px solid gray;flex-grow: 1;}#sk-container-id-2 div.sk-label:hover label.sk-toggleable__label {background-color: #d4ebff;}#sk-container-id-2 div.sk-serial::before {content: \"\";position: absolute;border-left: 1px solid gray;box-sizing: border-box;top: 0;bottom: 0;left: 50%;z-index: 0;}#sk-container-id-2 div.sk-serial {display: flex;flex-direction: column;align-items: center;background-color: white;padding-right: 0.2em;padding-left: 0.2em;position: relative;}#sk-container-id-2 div.sk-item {position: relative;z-index: 1;}#sk-container-id-2 div.sk-parallel {display: flex;align-items: stretch;justify-content: center;background-color: white;position: relative;}#sk-container-id-2 div.sk-item::before, #sk-container-id-2 div.sk-parallel-item::before {content: \"\";position: absolute;border-left: 1px solid gray;box-sizing: border-box;top: 0;bottom: 0;left: 50%;z-index: -1;}#sk-container-id-2 div.sk-parallel-item {display: flex;flex-direction: column;z-index: 1;position: relative;background-color: white;}#sk-container-id-2 div.sk-parallel-item:first-child::after {align-self: flex-end;width: 50%;}#sk-container-id-2 div.sk-parallel-item:last-child::after {align-self: flex-start;width: 50%;}#sk-container-id-2 div.sk-parallel-item:only-child::after {width: 0;}#sk-container-id-2 div.sk-dashed-wrapped {border: 1px dashed gray;margin: 0 0.4em 0.5em 0.4em;box-sizing: border-box;padding-bottom: 0.4em;background-color: white;}#sk-container-id-2 div.sk-label label {font-family: monospace;font-weight: bold;display: inline-block;line-height: 1.2em;}#sk-container-id-2 div.sk-label-container {text-align: center;}#sk-container-id-2 div.sk-container {/* jupyter's `normalize.less` sets `[hidden] { display: none; }` but bootstrap.min.css set `[hidden] { display: none !important; }` so we also need the `!important` here to be able to override the default hidden behavior on the sphinx rendered scikit-learn.org. See: https://github.com/scikit-learn/scikit-learn/issues/21755 */display: inline-block !important;position: relative;}#sk-container-id-2 div.sk-text-repr-fallback {display: none;}</style><div id=\"sk-container-id-2\" class=\"sk-top-container\"><div class=\"sk-text-repr-fallback\"><pre>SVC(kernel=&#x27;linear&#x27;)</pre><b>In a Jupyter environment, please rerun this cell to show the HTML representation or trust the notebook. <br />On GitHub, the HTML representation is unable to render, please try loading this page with nbviewer.org.</b></div><div class=\"sk-container\" hidden><div class=\"sk-item\"><div class=\"sk-estimator sk-toggleable\"><input class=\"sk-toggleable__control sk-hidden--visually\" id=\"sk-estimator-id-2\" type=\"checkbox\" checked><label for=\"sk-estimator-id-2\" class=\"sk-toggleable__label sk-toggleable__label-arrow\">SVC</label><div class=\"sk-toggleable__content\"><pre>SVC(kernel=&#x27;linear&#x27;)</pre></div></div></div></div></div>"
      ],
      "text/plain": [
       "SVC(kernel='linear')"
      ]
     },
     "execution_count": 37,
     "metadata": {},
     "output_type": "execute_result"
    }
   ],
   "source": [
    "svc.fit(x_train,y_train)"
   ]
  },
  {
   "cell_type": "code",
   "execution_count": 38,
   "id": "b611f804-dc89-44b7-8d74-6b3b8a97ce6a",
   "metadata": {},
   "outputs": [
    {
     "data": {
      "text/plain": [
       "array([[0.55774284, 2.38075129]])"
      ]
     },
     "execution_count": 38,
     "metadata": {},
     "output_type": "execute_result"
    }
   ],
   "source": [
    "svc.coef_"
   ]
  },
  {
   "cell_type": "code",
   "execution_count": 39,
   "id": "9dc59516-dc63-436e-927b-829265fee8f7",
   "metadata": {},
   "outputs": [],
   "source": [
    "y_pred=svc.predict(x_test)"
   ]
  },
  {
   "cell_type": "code",
   "execution_count": 40,
   "id": "13b53ce0-2801-489e-b147-44017db97e2e",
   "metadata": {},
   "outputs": [],
   "source": [
    "from sklearn.metrics import accuracy_score,f1_score,precision_score,recall_score"
   ]
  },
  {
   "cell_type": "code",
   "execution_count": 41,
   "id": "2e194dcd-3bd9-407a-a87d-ef0976f29cbc",
   "metadata": {},
   "outputs": [
    {
     "name": "stdout",
     "output_type": "stream",
     "text": [
      "0.9260869565217391\n",
      "0.923076923076923\n",
      "0.9532710280373832\n",
      "0.8947368421052632\n"
     ]
    }
   ],
   "source": [
    "print(accuracy_score(y_test,y_pred))\n",
    "print(f1_score(y_test,y_pred))\n",
    "print(precision_score(y_test,y_pred))\n",
    "print(recall_score(y_test,y_pred))"
   ]
  },
  {
   "cell_type": "code",
   "execution_count": 42,
   "id": "d8852123-9c3f-42d2-b7cb-822d66e9e5e7",
   "metadata": {},
   "outputs": [],
   "source": [
    "from sklearn.model_selection import GridSearchCV"
   ]
  },
  {
   "cell_type": "code",
   "execution_count": 44,
   "id": "1da4fa18-5472-4ea7-9ba6-7a8243bec0bc",
   "metadata": {},
   "outputs": [],
   "source": [
    "param_grid={\n",
    "    \n",
    "    'C':[0.1,1,10,100,1000],\n",
    "    'gamma':[1,0.1,0.01,0.001,0.0001]\n",
    "}"
   ]
  },
  {
   "cell_type": "code",
   "execution_count": 45,
   "id": "3119acd5-63c2-41f7-bab4-064a2128893a",
   "metadata": {},
   "outputs": [],
   "source": [
    "grid=GridSearchCV(SVC(),param_grid=param_grid,cv=5,verbose=3)"
   ]
  },
  {
   "cell_type": "code",
   "execution_count": 46,
   "id": "34281299-bc62-48cd-b467-93f10fbdea8b",
   "metadata": {},
   "outputs": [
    {
     "name": "stdout",
     "output_type": "stream",
     "text": [
      "Fitting 5 folds for each of 25 candidates, totalling 125 fits\n",
      "[CV 1/5] END ....................C=0.1, gamma=1;, score=0.942 total time=   0.0s\n",
      "[CV 2/5] END ....................C=0.1, gamma=1;, score=0.922 total time=   0.0s\n",
      "[CV 3/5] END ....................C=0.1, gamma=1;, score=0.942 total time=   0.0s\n",
      "[CV 4/5] END ....................C=0.1, gamma=1;, score=0.922 total time=   0.0s\n",
      "[CV 5/5] END ....................C=0.1, gamma=1;, score=0.916 total time=   0.0s\n",
      "[CV 1/5] END ..................C=0.1, gamma=0.1;, score=0.922 total time=   0.0s\n",
      "[CV 2/5] END ..................C=0.1, gamma=0.1;, score=0.916 total time=   0.0s\n",
      "[CV 3/5] END ..................C=0.1, gamma=0.1;, score=0.942 total time=   0.0s\n",
      "[CV 4/5] END ..................C=0.1, gamma=0.1;, score=0.916 total time=   0.0s\n",
      "[CV 5/5] END ..................C=0.1, gamma=0.1;, score=0.909 total time=   0.0s\n",
      "[CV 1/5] END .................C=0.1, gamma=0.01;, score=0.909 total time=   0.0s\n",
      "[CV 2/5] END .................C=0.1, gamma=0.01;, score=0.883 total time=   0.0s\n",
      "[CV 3/5] END .................C=0.1, gamma=0.01;, score=0.922 total time=   0.0s\n",
      "[CV 4/5] END .................C=0.1, gamma=0.01;, score=0.896 total time=   0.0s\n",
      "[CV 5/5] END .................C=0.1, gamma=0.01;, score=0.890 total time=   0.0s\n",
      "[CV 1/5] END ................C=0.1, gamma=0.001;, score=0.500 total time=   0.0s\n",
      "[CV 2/5] END ................C=0.1, gamma=0.001;, score=0.500 total time=   0.0s\n",
      "[CV 3/5] END ................C=0.1, gamma=0.001;, score=0.500 total time=   0.0s\n",
      "[CV 4/5] END ................C=0.1, gamma=0.001;, score=0.500 total time=   0.0s\n",
      "[CV 5/5] END ................C=0.1, gamma=0.001;, score=0.864 total time=   0.0s\n",
      "[CV 1/5] END ...............C=0.1, gamma=0.0001;, score=0.500 total time=   0.0s\n",
      "[CV 2/5] END ...............C=0.1, gamma=0.0001;, score=0.500 total time=   0.0s\n",
      "[CV 3/5] END ...............C=0.1, gamma=0.0001;, score=0.500 total time=   0.0s\n",
      "[CV 4/5] END ...............C=0.1, gamma=0.0001;, score=0.500 total time=   0.0s\n",
      "[CV 5/5] END ...............C=0.1, gamma=0.0001;, score=0.851 total time=   0.0s\n",
      "[CV 1/5] END ......................C=1, gamma=1;, score=0.935 total time=   0.0s\n",
      "[CV 2/5] END ......................C=1, gamma=1;, score=0.922 total time=   0.0s\n",
      "[CV 3/5] END ......................C=1, gamma=1;, score=0.942 total time=   0.0s\n",
      "[CV 4/5] END ......................C=1, gamma=1;, score=0.909 total time=   0.0s\n",
      "[CV 5/5] END ......................C=1, gamma=1;, score=0.909 total time=   0.0s\n",
      "[CV 1/5] END ....................C=1, gamma=0.1;, score=0.929 total time=   0.0s\n",
      "[CV 2/5] END ....................C=1, gamma=0.1;, score=0.909 total time=   0.0s\n",
      "[CV 3/5] END ....................C=1, gamma=0.1;, score=0.935 total time=   0.0s\n",
      "[CV 4/5] END ....................C=1, gamma=0.1;, score=0.922 total time=   0.0s\n",
      "[CV 5/5] END ....................C=1, gamma=0.1;, score=0.929 total time=   0.0s\n",
      "[CV 1/5] END ...................C=1, gamma=0.01;, score=0.922 total time=   0.0s\n",
      "[CV 2/5] END ...................C=1, gamma=0.01;, score=0.909 total time=   0.0s\n",
      "[CV 3/5] END ...................C=1, gamma=0.01;, score=0.942 total time=   0.0s\n",
      "[CV 4/5] END ...................C=1, gamma=0.01;, score=0.916 total time=   0.0s\n",
      "[CV 5/5] END ...................C=1, gamma=0.01;, score=0.916 total time=   0.0s\n",
      "[CV 1/5] END ..................C=1, gamma=0.001;, score=0.909 total time=   0.0s\n",
      "[CV 2/5] END ..................C=1, gamma=0.001;, score=0.883 total time=   0.0s\n",
      "[CV 3/5] END ..................C=1, gamma=0.001;, score=0.922 total time=   0.0s\n",
      "[CV 4/5] END ..................C=1, gamma=0.001;, score=0.890 total time=   0.0s\n",
      "[CV 5/5] END ..................C=1, gamma=0.001;, score=0.890 total time=   0.0s\n",
      "[CV 1/5] END .................C=1, gamma=0.0001;, score=0.500 total time=   0.0s\n",
      "[CV 2/5] END .................C=1, gamma=0.0001;, score=0.500 total time=   0.0s\n",
      "[CV 3/5] END .................C=1, gamma=0.0001;, score=0.500 total time=   0.0s\n",
      "[CV 4/5] END .................C=1, gamma=0.0001;, score=0.500 total time=   0.0s\n",
      "[CV 5/5] END .................C=1, gamma=0.0001;, score=0.851 total time=   0.0s\n",
      "[CV 1/5] END .....................C=10, gamma=1;, score=0.942 total time=   0.0s\n",
      "[CV 2/5] END .....................C=10, gamma=1;, score=0.929 total time=   0.0s\n",
      "[CV 3/5] END .....................C=10, gamma=1;, score=0.955 total time=   0.0s\n",
      "[CV 4/5] END .....................C=10, gamma=1;, score=0.922 total time=   0.0s\n",
      "[CV 5/5] END .....................C=10, gamma=1;, score=0.922 total time=   0.0s\n",
      "[CV 1/5] END ...................C=10, gamma=0.1;, score=0.935 total time=   0.0s\n",
      "[CV 2/5] END ...................C=10, gamma=0.1;, score=0.909 total time=   0.0s\n",
      "[CV 3/5] END ...................C=10, gamma=0.1;, score=0.935 total time=   0.0s\n",
      "[CV 4/5] END ...................C=10, gamma=0.1;, score=0.922 total time=   0.0s\n",
      "[CV 5/5] END ...................C=10, gamma=0.1;, score=0.929 total time=   0.0s\n",
      "[CV 1/5] END ..................C=10, gamma=0.01;, score=0.929 total time=   0.0s\n",
      "[CV 2/5] END ..................C=10, gamma=0.01;, score=0.909 total time=   0.0s\n",
      "[CV 3/5] END ..................C=10, gamma=0.01;, score=0.935 total time=   0.0s\n",
      "[CV 4/5] END ..................C=10, gamma=0.01;, score=0.922 total time=   0.0s\n",
      "[CV 5/5] END ..................C=10, gamma=0.01;, score=0.922 total time=   0.0s\n",
      "[CV 1/5] END .................C=10, gamma=0.001;, score=0.922 total time=   0.0s\n",
      "[CV 2/5] END .................C=10, gamma=0.001;, score=0.909 total time=   0.0s\n",
      "[CV 3/5] END .................C=10, gamma=0.001;, score=0.942 total time=   0.0s\n",
      "[CV 4/5] END .................C=10, gamma=0.001;, score=0.916 total time=   0.0s\n",
      "[CV 5/5] END .................C=10, gamma=0.001;, score=0.916 total time=   0.0s\n",
      "[CV 1/5] END ................C=10, gamma=0.0001;, score=0.909 total time=   0.0s\n",
      "[CV 2/5] END ................C=10, gamma=0.0001;, score=0.883 total time=   0.0s\n",
      "[CV 3/5] END ................C=10, gamma=0.0001;, score=0.922 total time=   0.0s\n",
      "[CV 4/5] END ................C=10, gamma=0.0001;, score=0.896 total time=   0.0s\n",
      "[CV 5/5] END ................C=10, gamma=0.0001;, score=0.896 total time=   0.0s\n",
      "[CV 1/5] END ....................C=100, gamma=1;, score=0.942 total time=   0.0s\n",
      "[CV 2/5] END ....................C=100, gamma=1;, score=0.929 total time=   0.0s\n",
      "[CV 3/5] END ....................C=100, gamma=1;, score=0.955 total time=   0.0s\n",
      "[CV 4/5] END ....................C=100, gamma=1;, score=0.896 total time=   0.0s\n",
      "[CV 5/5] END ....................C=100, gamma=1;, score=0.929 total time=   0.0s\n",
      "[CV 1/5] END ..................C=100, gamma=0.1;, score=0.929 total time=   0.0s\n",
      "[CV 2/5] END ..................C=100, gamma=0.1;, score=0.922 total time=   0.0s\n",
      "[CV 3/5] END ..................C=100, gamma=0.1;, score=0.942 total time=   0.0s\n",
      "[CV 4/5] END ..................C=100, gamma=0.1;, score=0.922 total time=   0.0s\n",
      "[CV 5/5] END ..................C=100, gamma=0.1;, score=0.916 total time=   0.0s\n",
      "[CV 1/5] END .................C=100, gamma=0.01;, score=0.929 total time=   0.0s\n",
      "[CV 2/5] END .................C=100, gamma=0.01;, score=0.909 total time=   0.0s\n",
      "[CV 3/5] END .................C=100, gamma=0.01;, score=0.935 total time=   0.0s\n",
      "[CV 4/5] END .................C=100, gamma=0.01;, score=0.922 total time=   0.0s\n",
      "[CV 5/5] END .................C=100, gamma=0.01;, score=0.935 total time=   0.0s\n",
      "[CV 1/5] END ................C=100, gamma=0.001;, score=0.929 total time=   0.0s\n",
      "[CV 2/5] END ................C=100, gamma=0.001;, score=0.909 total time=   0.0s\n",
      "[CV 3/5] END ................C=100, gamma=0.001;, score=0.935 total time=   0.0s\n",
      "[CV 4/5] END ................C=100, gamma=0.001;, score=0.922 total time=   0.0s\n",
      "[CV 5/5] END ................C=100, gamma=0.001;, score=0.922 total time=   0.0s\n",
      "[CV 1/5] END ...............C=100, gamma=0.0001;, score=0.922 total time=   0.0s\n",
      "[CV 2/5] END ...............C=100, gamma=0.0001;, score=0.909 total time=   0.0s\n",
      "[CV 3/5] END ...............C=100, gamma=0.0001;, score=0.942 total time=   0.0s\n",
      "[CV 4/5] END ...............C=100, gamma=0.0001;, score=0.916 total time=   0.0s\n",
      "[CV 5/5] END ...............C=100, gamma=0.0001;, score=0.916 total time=   0.0s\n",
      "[CV 1/5] END ...................C=1000, gamma=1;, score=0.922 total time=   0.0s\n",
      "[CV 2/5] END ...................C=1000, gamma=1;, score=0.916 total time=   0.0s\n",
      "[CV 3/5] END ...................C=1000, gamma=1;, score=0.961 total time=   0.0s\n",
      "[CV 4/5] END ...................C=1000, gamma=1;, score=0.896 total time=   0.1s\n",
      "[CV 5/5] END ...................C=1000, gamma=1;, score=0.922 total time=   0.0s\n",
      "[CV 1/5] END .................C=1000, gamma=0.1;, score=0.916 total time=   0.0s\n",
      "[CV 2/5] END .................C=1000, gamma=0.1;, score=0.929 total time=   0.0s\n",
      "[CV 3/5] END .................C=1000, gamma=0.1;, score=0.948 total time=   0.0s\n",
      "[CV 4/5] END .................C=1000, gamma=0.1;, score=0.916 total time=   0.0s\n",
      "[CV 5/5] END .................C=1000, gamma=0.1;, score=0.916 total time=   0.0s\n",
      "[CV 1/5] END ................C=1000, gamma=0.01;, score=0.929 total time=   0.0s\n",
      "[CV 2/5] END ................C=1000, gamma=0.01;, score=0.909 total time=   0.0s\n",
      "[CV 3/5] END ................C=1000, gamma=0.01;, score=0.935 total time=   0.0s\n",
      "[CV 4/5] END ................C=1000, gamma=0.01;, score=0.916 total time=   0.0s\n",
      "[CV 5/5] END ................C=1000, gamma=0.01;, score=0.929 total time=   0.0s\n",
      "[CV 1/5] END ...............C=1000, gamma=0.001;, score=0.929 total time=   0.0s\n",
      "[CV 2/5] END ...............C=1000, gamma=0.001;, score=0.909 total time=   0.0s\n",
      "[CV 3/5] END ...............C=1000, gamma=0.001;, score=0.942 total time=   0.0s\n",
      "[CV 4/5] END ...............C=1000, gamma=0.001;, score=0.922 total time=   0.0s\n",
      "[CV 5/5] END ...............C=1000, gamma=0.001;, score=0.922 total time=   0.0s\n",
      "[CV 1/5] END ..............C=1000, gamma=0.0001;, score=0.929 total time=   0.0s\n",
      "[CV 2/5] END ..............C=1000, gamma=0.0001;, score=0.909 total time=   0.0s\n",
      "[CV 3/5] END ..............C=1000, gamma=0.0001;, score=0.935 total time=   0.0s\n",
      "[CV 4/5] END ..............C=1000, gamma=0.0001;, score=0.922 total time=   0.0s\n",
      "[CV 5/5] END ..............C=1000, gamma=0.0001;, score=0.922 total time=   0.0s\n"
     ]
    },
    {
     "data": {
      "text/html": [
       "<style>#sk-container-id-3 {color: black;background-color: white;}#sk-container-id-3 pre{padding: 0;}#sk-container-id-3 div.sk-toggleable {background-color: white;}#sk-container-id-3 label.sk-toggleable__label {cursor: pointer;display: block;width: 100%;margin-bottom: 0;padding: 0.3em;box-sizing: border-box;text-align: center;}#sk-container-id-3 label.sk-toggleable__label-arrow:before {content: \"▸\";float: left;margin-right: 0.25em;color: #696969;}#sk-container-id-3 label.sk-toggleable__label-arrow:hover:before {color: black;}#sk-container-id-3 div.sk-estimator:hover label.sk-toggleable__label-arrow:before {color: black;}#sk-container-id-3 div.sk-toggleable__content {max-height: 0;max-width: 0;overflow: hidden;text-align: left;background-color: #f0f8ff;}#sk-container-id-3 div.sk-toggleable__content pre {margin: 0.2em;color: black;border-radius: 0.25em;background-color: #f0f8ff;}#sk-container-id-3 input.sk-toggleable__control:checked~div.sk-toggleable__content {max-height: 200px;max-width: 100%;overflow: auto;}#sk-container-id-3 input.sk-toggleable__control:checked~label.sk-toggleable__label-arrow:before {content: \"▾\";}#sk-container-id-3 div.sk-estimator input.sk-toggleable__control:checked~label.sk-toggleable__label {background-color: #d4ebff;}#sk-container-id-3 div.sk-label input.sk-toggleable__control:checked~label.sk-toggleable__label {background-color: #d4ebff;}#sk-container-id-3 input.sk-hidden--visually {border: 0;clip: rect(1px 1px 1px 1px);clip: rect(1px, 1px, 1px, 1px);height: 1px;margin: -1px;overflow: hidden;padding: 0;position: absolute;width: 1px;}#sk-container-id-3 div.sk-estimator {font-family: monospace;background-color: #f0f8ff;border: 1px dotted black;border-radius: 0.25em;box-sizing: border-box;margin-bottom: 0.5em;}#sk-container-id-3 div.sk-estimator:hover {background-color: #d4ebff;}#sk-container-id-3 div.sk-parallel-item::after {content: \"\";width: 100%;border-bottom: 1px solid gray;flex-grow: 1;}#sk-container-id-3 div.sk-label:hover label.sk-toggleable__label {background-color: #d4ebff;}#sk-container-id-3 div.sk-serial::before {content: \"\";position: absolute;border-left: 1px solid gray;box-sizing: border-box;top: 0;bottom: 0;left: 50%;z-index: 0;}#sk-container-id-3 div.sk-serial {display: flex;flex-direction: column;align-items: center;background-color: white;padding-right: 0.2em;padding-left: 0.2em;position: relative;}#sk-container-id-3 div.sk-item {position: relative;z-index: 1;}#sk-container-id-3 div.sk-parallel {display: flex;align-items: stretch;justify-content: center;background-color: white;position: relative;}#sk-container-id-3 div.sk-item::before, #sk-container-id-3 div.sk-parallel-item::before {content: \"\";position: absolute;border-left: 1px solid gray;box-sizing: border-box;top: 0;bottom: 0;left: 50%;z-index: -1;}#sk-container-id-3 div.sk-parallel-item {display: flex;flex-direction: column;z-index: 1;position: relative;background-color: white;}#sk-container-id-3 div.sk-parallel-item:first-child::after {align-self: flex-end;width: 50%;}#sk-container-id-3 div.sk-parallel-item:last-child::after {align-self: flex-start;width: 50%;}#sk-container-id-3 div.sk-parallel-item:only-child::after {width: 0;}#sk-container-id-3 div.sk-dashed-wrapped {border: 1px dashed gray;margin: 0 0.4em 0.5em 0.4em;box-sizing: border-box;padding-bottom: 0.4em;background-color: white;}#sk-container-id-3 div.sk-label label {font-family: monospace;font-weight: bold;display: inline-block;line-height: 1.2em;}#sk-container-id-3 div.sk-label-container {text-align: center;}#sk-container-id-3 div.sk-container {/* jupyter's `normalize.less` sets `[hidden] { display: none; }` but bootstrap.min.css set `[hidden] { display: none !important; }` so we also need the `!important` here to be able to override the default hidden behavior on the sphinx rendered scikit-learn.org. See: https://github.com/scikit-learn/scikit-learn/issues/21755 */display: inline-block !important;position: relative;}#sk-container-id-3 div.sk-text-repr-fallback {display: none;}</style><div id=\"sk-container-id-3\" class=\"sk-top-container\"><div class=\"sk-text-repr-fallback\"><pre>GridSearchCV(cv=5, estimator=SVC(),\n",
       "             param_grid={&#x27;C&#x27;: [0.1, 1, 10, 100, 1000],\n",
       "                         &#x27;gamma&#x27;: [1, 0.1, 0.01, 0.001, 0.0001]},\n",
       "             verbose=3)</pre><b>In a Jupyter environment, please rerun this cell to show the HTML representation or trust the notebook. <br />On GitHub, the HTML representation is unable to render, please try loading this page with nbviewer.org.</b></div><div class=\"sk-container\" hidden><div class=\"sk-item sk-dashed-wrapped\"><div class=\"sk-label-container\"><div class=\"sk-label sk-toggleable\"><input class=\"sk-toggleable__control sk-hidden--visually\" id=\"sk-estimator-id-3\" type=\"checkbox\" ><label for=\"sk-estimator-id-3\" class=\"sk-toggleable__label sk-toggleable__label-arrow\">GridSearchCV</label><div class=\"sk-toggleable__content\"><pre>GridSearchCV(cv=5, estimator=SVC(),\n",
       "             param_grid={&#x27;C&#x27;: [0.1, 1, 10, 100, 1000],\n",
       "                         &#x27;gamma&#x27;: [1, 0.1, 0.01, 0.001, 0.0001]},\n",
       "             verbose=3)</pre></div></div></div><div class=\"sk-parallel\"><div class=\"sk-parallel-item\"><div class=\"sk-item\"><div class=\"sk-label-container\"><div class=\"sk-label sk-toggleable\"><input class=\"sk-toggleable__control sk-hidden--visually\" id=\"sk-estimator-id-4\" type=\"checkbox\" ><label for=\"sk-estimator-id-4\" class=\"sk-toggleable__label sk-toggleable__label-arrow\">estimator: SVC</label><div class=\"sk-toggleable__content\"><pre>SVC()</pre></div></div></div><div class=\"sk-serial\"><div class=\"sk-item\"><div class=\"sk-estimator sk-toggleable\"><input class=\"sk-toggleable__control sk-hidden--visually\" id=\"sk-estimator-id-5\" type=\"checkbox\" ><label for=\"sk-estimator-id-5\" class=\"sk-toggleable__label sk-toggleable__label-arrow\">SVC</label><div class=\"sk-toggleable__content\"><pre>SVC()</pre></div></div></div></div></div></div></div></div></div></div>"
      ],
      "text/plain": [
       "GridSearchCV(cv=5, estimator=SVC(),\n",
       "             param_grid={'C': [0.1, 1, 10, 100, 1000],\n",
       "                         'gamma': [1, 0.1, 0.01, 0.001, 0.0001]},\n",
       "             verbose=3)"
      ]
     },
     "execution_count": 46,
     "metadata": {},
     "output_type": "execute_result"
    }
   ],
   "source": [
    "grid.fit(x_train,y_train)"
   ]
  },
  {
   "cell_type": "code",
   "execution_count": 47,
   "id": "8d1134e7-31d3-4cae-8dc8-64295c3e37ca",
   "metadata": {},
   "outputs": [],
   "source": [
    "y_pred=grid.predict(x_test)"
   ]
  },
  {
   "cell_type": "code",
   "execution_count": null,
   "id": "28569e08-d77e-459e-9a93-531aa258cbf9",
   "metadata": {},
   "outputs": [],
   "source": [
    "print(accuracy_score(y_test,y_))"
   ]
  }
 ],
 "metadata": {
  "kernelspec": {
   "display_name": "Python 3 (ipykernel)",
   "language": "python",
   "name": "python3"
  },
  "language_info": {
   "codemirror_mode": {
    "name": "ipython",
    "version": 3
   },
   "file_extension": ".py",
   "mimetype": "text/x-python",
   "name": "python",
   "nbconvert_exporter": "python",
   "pygments_lexer": "ipython3",
   "version": "3.10.8"
  }
 },
 "nbformat": 4,
 "nbformat_minor": 5
}
