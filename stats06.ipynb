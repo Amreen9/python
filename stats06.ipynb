{
 "cells": [
  {
   "cell_type": "markdown",
   "id": "7fbcd980-19f4-4640-b3c9-baa482df44f8",
   "metadata": {},
   "source": [
    "# Assignment"
   ]
  },
  {
   "cell_type": "markdown",
   "id": "0162c5b7-be79-4e75-b3b5-a272c6aeb65e",
   "metadata": {},
   "source": [
    "Q1. Explain the assumptions required to use ANOVA and provide examples of violations that could impact\n",
    "the validity of the results."
   ]
  },
  {
   "cell_type": "markdown",
   "id": "80fdcbff-4cd0-427f-996f-610d0af0d5a1",
   "metadata": {},
   "source": [
    "Ans1: To use the ANOVA test we made the following assumptions:\n",
    "\n",
    "- Each group sample is drawn from a normally distributed population\n",
    "\n",
    "- All populations have a common variance\n",
    "\n",
    "- All samples are drawn independently of each other\n",
    "\n",
    "- Within each sample, the observations are sampled randomly and independently of each other\n",
    "\n",
    "- Factor effects are additive\n",
    "\n",
    "- The populations are symmetrical and uni-modal.\n",
    "- The sample sizes for the groups are equal and greater than 10"
   ]
  },
  {
   "cell_type": "markdown",
   "id": "c06a4144-91ba-4e96-9c1e-7089e5d193ca",
   "metadata": {},
   "source": [
    "Q2. What are the three types of ANOVA, and in what situations would each be used?"
   ]
  },
  {
   "cell_type": "markdown",
   "id": "f3e53358-7273-441b-b43f-c1a32ca40990",
   "metadata": {},
   "source": [
    "Ans2: The use of ANOVA depends on the research design. \n",
    "Commonly, ANOVAs are used in three ways: one-way ANOVA, two-way ANOVA, and N-way ANOVA.\n",
    "\n",
    "***One-Way ANOVA***\n",
    "\n",
    "A one-way ANOVA has just one independent variable. For example, difference in IQ can be assessed by Country,\n",
    "and County can have 2, 20, or more different categories to compare.\n",
    "\n",
    "***Two-Way ANOVA***\n",
    "\n",
    "A two-way ANOVA (are also called factorial ANOVA) refers to an ANOVA using two independent variables. Expanding the example above, a 2-way ANOVA can examine differences in IQ scores (the dependent variable) by Country (independent variable 1) and Gender (independent variable 2). Two-way ANOVA can be used to examine the interaction between the two independent variables. Interactions indicate that differences are not uniform across all categories of the independent variables. For example, females may have higher IQ scores overall compared to males, but this difference could be greater (or less) in European countries compared to North American countries.\n",
    "\n",
    "***N-Way ANOVA***\n",
    "\n",
    "A researcher can also use more than two independent variables, and this is an n-way ANOVA (with n being the number of independent variables you have). For example, potential differences in IQ scores can be examined by Country, Gender, Age group, Ethnicity, etc, simultaneously."
   ]
  },
  {
   "cell_type": "markdown",
   "id": "f8742b64-287b-42bf-91c1-79d6651a0fb5",
   "metadata": {},
   "source": [
    "Q3. What is the partitioning of variance in ANOVA, and why is it important to understand this concept?"
   ]
  },
  {
   "cell_type": "markdown",
   "id": "cea1bfd3-6204-449e-b810-2d328501a99a",
   "metadata": {},
   "source": [
    "Ans3: ANOVA (Analysis of Variance) is a statistical method used to compare the means of two or more groups. The variance of scores is partitioned into components attributable to different sources of variation . The total variance is divided into two parts: variance between groups and variance within groups . The variance between groups is the variance that exists between the means of different groups, while the variance within groups is the variance that exists within each group.\n",
    "\n",
    "Partitioning of variance is important in ANOVA because it helps to determine whether the differences between the means of different groups are statistically significant or not. It also helps to identify which sources of variation are significant and which are not. By partitioning the variance, we can determine the proportion of variance that is due to the treatment effect and the proportion that is due to random error. This information is useful in interpreting the results of an ANOVA test and in making decisions based on those results "
   ]
  },
  {
   "cell_type": "markdown",
   "id": "7a7642f7-b58b-4adf-9f86-7113f6c649c5",
   "metadata": {},
   "source": [
    "Q4. How would you calculate the total sum of squares (SST), explained sum of squares (SSE), and residual\n",
    "sum of squares (SSR) in a one-way ANOVA using Python?"
   ]
  },
  {
   "cell_type": "markdown",
   "id": "affa511a-5c2d-490e-b5c3-7cf4804ba31b",
   "metadata": {},
   "source": [
    "Ans4: To calculate the total sum of squares (SST), explained sum of squares (SSE), and residual sum of squares (SSR) in a one-way ANOVA using Python, you can follow these steps:\n",
    "\n",
    "1. First, you need to fit a regression model using the `statsmodels` library in Python.\n",
    "2. Next, you can use the following formulas to calculate the SST, SSR, and SSE values of the model:\n",
    "\n",
    "    - SST = SSR + SSE\n",
    "    - SSR = Σ (ŷi – y)2\n",
    "    - SSE = Σ (ŷi – yi)2\n",
    "\n",
    "Here, ŷi is the predicted value of the response variable for the ith observation, yi is the actual value of the response variable for the ith observation, and y is the mean of the response variable.\n",
    "\n",
    "3. Finally, you can use the `numpy` library in Python to calculate the SST, SSR, and SSE values of the model.\n",
    "\n",
    "\n",
    "\n",
    "\n",
    "\n"
   ]
  },
  {
   "cell_type": "markdown",
   "id": "6638d96a-444b-42b3-988e-a1d7ccdf4d7b",
   "metadata": {},
   "source": [
    "Q5. In a two-way ANOVA, how would you calculate the main effects and interaction effects using Python?"
   ]
  },
  {
   "cell_type": "markdown",
   "id": "681984ba-e1e6-4c03-9b43-40b99f6739ea",
   "metadata": {},
   "source": [
    "Ans5: To calculate the main effects and interaction effects in a two-way ANOVA using Python, you can use the statsmodels library. Here are the steps:\n",
    "\n",
    "First, you need to fit a regression model using the ols function from the statsmodels library.\n",
    "Next, you can use the anova_lm function from the statsmodels.stats module to calculate the main effects and interaction effects.\n",
    "Here’s an example code snippet that demonstrates how to calculate the main effects and interaction effects of a two-way ANOVA model in Python:"
   ]
  },
  {
   "cell_type": "code",
   "execution_count": 6,
   "id": "5271f827-2744-4edf-89a2-f08e4b172f36",
   "metadata": {},
   "outputs": [
    {
     "data": {
      "text/html": [
       "<div>\n",
       "<style scoped>\n",
       "    .dataframe tbody tr th:only-of-type {\n",
       "        vertical-align: middle;\n",
       "    }\n",
       "\n",
       "    .dataframe tbody tr th {\n",
       "        vertical-align: top;\n",
       "    }\n",
       "\n",
       "    .dataframe thead th {\n",
       "        text-align: right;\n",
       "    }\n",
       "</style>\n",
       "<table border=\"1\" class=\"dataframe\">\n",
       "  <thead>\n",
       "    <tr style=\"text-align: right;\">\n",
       "      <th></th>\n",
       "      <th>water</th>\n",
       "      <th>sun</th>\n",
       "      <th>height</th>\n",
       "    </tr>\n",
       "  </thead>\n",
       "  <tbody>\n",
       "    <tr>\n",
       "      <th>0</th>\n",
       "      <td>daily</td>\n",
       "      <td>low</td>\n",
       "      <td>6</td>\n",
       "    </tr>\n",
       "    <tr>\n",
       "      <th>1</th>\n",
       "      <td>daily</td>\n",
       "      <td>low</td>\n",
       "      <td>6</td>\n",
       "    </tr>\n",
       "    <tr>\n",
       "      <th>2</th>\n",
       "      <td>daily</td>\n",
       "      <td>low</td>\n",
       "      <td>6</td>\n",
       "    </tr>\n",
       "    <tr>\n",
       "      <th>3</th>\n",
       "      <td>daily</td>\n",
       "      <td>low</td>\n",
       "      <td>5</td>\n",
       "    </tr>\n",
       "    <tr>\n",
       "      <th>4</th>\n",
       "      <td>daily</td>\n",
       "      <td>low</td>\n",
       "      <td>6</td>\n",
       "    </tr>\n",
       "    <tr>\n",
       "      <th>5</th>\n",
       "      <td>daily</td>\n",
       "      <td>med</td>\n",
       "      <td>5</td>\n",
       "    </tr>\n",
       "    <tr>\n",
       "      <th>6</th>\n",
       "      <td>daily</td>\n",
       "      <td>med</td>\n",
       "      <td>5</td>\n",
       "    </tr>\n",
       "    <tr>\n",
       "      <th>7</th>\n",
       "      <td>daily</td>\n",
       "      <td>med</td>\n",
       "      <td>6</td>\n",
       "    </tr>\n",
       "    <tr>\n",
       "      <th>8</th>\n",
       "      <td>daily</td>\n",
       "      <td>med</td>\n",
       "      <td>4</td>\n",
       "    </tr>\n",
       "    <tr>\n",
       "      <th>9</th>\n",
       "      <td>daily</td>\n",
       "      <td>med</td>\n",
       "      <td>5</td>\n",
       "    </tr>\n",
       "  </tbody>\n",
       "</table>\n",
       "</div>"
      ],
      "text/plain": [
       "   water  sun  height\n",
       "0  daily  low       6\n",
       "1  daily  low       6\n",
       "2  daily  low       6\n",
       "3  daily  low       5\n",
       "4  daily  low       6\n",
       "5  daily  med       5\n",
       "6  daily  med       5\n",
       "7  daily  med       6\n",
       "8  daily  med       4\n",
       "9  daily  med       5"
      ]
     },
     "execution_count": 6,
     "metadata": {},
     "output_type": "execute_result"
    }
   ],
   "source": [
    "import numpy as np\n",
    "import pandas as pd\n",
    "\n",
    "#create data\n",
    "df = pd.DataFrame({'water': np.repeat(['daily', 'weekly'], 15),\n",
    "                   'sun': np.tile(np.repeat(['low', 'med', 'high'], 5), 2),\n",
    "                   'height': [6, 6, 6, 5, 6, 5, 5, 6, 4, 5,\n",
    "                              6, 6, 7, 8, 7, 3, 4, 4, 4, 5,\n",
    "                              4, 4, 4, 4, 4, 5, 6, 6, 7, 8]})\n",
    "\n",
    "#view first ten rows of data \n",
    "df[:10]\n",
    "\n"
   ]
  },
  {
   "cell_type": "code",
   "execution_count": 7,
   "id": "dac2b702-ec39-406c-a6a5-d37f526be8ea",
   "metadata": {},
   "outputs": [
    {
     "data": {
      "text/html": [
       "<div>\n",
       "<style scoped>\n",
       "    .dataframe tbody tr th:only-of-type {\n",
       "        vertical-align: middle;\n",
       "    }\n",
       "\n",
       "    .dataframe tbody tr th {\n",
       "        vertical-align: top;\n",
       "    }\n",
       "\n",
       "    .dataframe thead th {\n",
       "        text-align: right;\n",
       "    }\n",
       "</style>\n",
       "<table border=\"1\" class=\"dataframe\">\n",
       "  <thead>\n",
       "    <tr style=\"text-align: right;\">\n",
       "      <th></th>\n",
       "      <th>sum_sq</th>\n",
       "      <th>df</th>\n",
       "      <th>F</th>\n",
       "      <th>PR(&gt;F)</th>\n",
       "    </tr>\n",
       "  </thead>\n",
       "  <tbody>\n",
       "    <tr>\n",
       "      <th>C(water)</th>\n",
       "      <td>8.533333</td>\n",
       "      <td>1.0</td>\n",
       "      <td>16.0000</td>\n",
       "      <td>0.000527</td>\n",
       "    </tr>\n",
       "    <tr>\n",
       "      <th>C(sun)</th>\n",
       "      <td>24.866667</td>\n",
       "      <td>2.0</td>\n",
       "      <td>23.3125</td>\n",
       "      <td>0.000002</td>\n",
       "    </tr>\n",
       "    <tr>\n",
       "      <th>C(water):C(sun)</th>\n",
       "      <td>2.466667</td>\n",
       "      <td>2.0</td>\n",
       "      <td>2.3125</td>\n",
       "      <td>0.120667</td>\n",
       "    </tr>\n",
       "    <tr>\n",
       "      <th>Residual</th>\n",
       "      <td>12.800000</td>\n",
       "      <td>24.0</td>\n",
       "      <td>NaN</td>\n",
       "      <td>NaN</td>\n",
       "    </tr>\n",
       "  </tbody>\n",
       "</table>\n",
       "</div>"
      ],
      "text/plain": [
       "                    sum_sq    df        F    PR(>F)\n",
       "C(water)          8.533333   1.0  16.0000  0.000527\n",
       "C(sun)           24.866667   2.0  23.3125  0.000002\n",
       "C(water):C(sun)   2.466667   2.0   2.3125  0.120667\n",
       "Residual         12.800000  24.0      NaN       NaN"
      ]
     },
     "execution_count": 7,
     "metadata": {},
     "output_type": "execute_result"
    }
   ],
   "source": [
    "import statsmodels.api as sm\n",
    "from statsmodels.formula.api import ols\n",
    "\n",
    "#perform two-way ANOVA\n",
    "model = ols('height ~ C(water) + C(sun) + C(water):C(sun)', data=df).fit()\n",
    "sm.stats.anova_lm(model, typ=2)"
   ]
  },
  {
   "cell_type": "markdown",
   "id": "488dc2b9-e7a9-41fe-99eb-631da20e87de",
   "metadata": {},
   "source": [
    "We can see the following p-values for each of the factors in the table:\n",
    "\n",
    "- water: p-value = .000527\n",
    "- sun: p-value = .0000002\n",
    "- water*sun: p-value = .120667\n",
    "\n",
    "Since the p-values for water and sun are both less than .05, this means that both factors have a statistically significant effect on plant height.\n",
    "\n",
    "And since the p-value for the interaction effect (.120667) is not less than .05, this tells us that there is no significant interaction effect between sunlight exposure and watering frequency."
   ]
  },
  {
   "cell_type": "markdown",
   "id": "e094ae2d-1713-4b74-8dad-79ab4063e228",
   "metadata": {},
   "source": [
    "Q6. Suppose you conducted a one-way ANOVA and obtained an F-statistic of 5.23 and a p-value of 0.02.\n",
    "What can you conclude about the differences between the groups, and how would you interpret these\n",
    "results?"
   ]
  },
  {
   "cell_type": "markdown",
   "id": "3d64eb3b-429f-4745-baed-d69203954d16",
   "metadata": {},
   "source": [
    "Ans6: If you conducted a one-way ANOVA and obtained an F-statistic of 5.23 and a p-value of 0.02, you can conclude that there is a statistically significant difference between the means of the groups. The p-value of 0.02 indicates that there is only a 2% chance of observing such a large F-statistic if the null hypothesis (that all group means are equal) were true. Therefore, you can reject the null hypothesis and conclude that at least one group mean is different from the rest.\n",
    "\n",
    "The F-statistic of 5.23 indicates that the variation between the sample means is greater than the variation within the samples. This suggests that the differences between the groups are not due to random chance, but rather to some underlying factor that distinguishes the groups. However, the F-statistic alone does not tell us which group means are different from each other. To determine this, you can perform post-hoc tests such as the Tukey test, Bonferroni test, or Scheffe test."
   ]
  },
  {
   "cell_type": "markdown",
   "id": "e8eeb3f7-c354-4ac2-981e-b5b7fa1a97b4",
   "metadata": {},
   "source": [
    "Q7. In a repeated measures ANOVA, how would you handle missing data, and what are the potential\n",
    "consequences of using different methods to handle missing data?"
   ]
  },
  {
   "cell_type": "markdown",
   "id": "6fb95da6-34e4-46a0-b449-f3cb25cfb91e",
   "metadata": {},
   "source": [
    "Ans7: In a repeated measures ANOVA, missing data can be handled in several ways. One common approach is to use listwise deletion, which involves removing any cases with missing data from the analysis. However, this method can lead to a loss of statistical power and may introduce bias if the missing data are not missing completely at random. Another approach is to use imputation methods to estimate the missing values. There are several imputation methods available, including mean imputation, regression imputation, and multiple imputation. These methods can help to reduce bias and increase statistical power, but they also have their own limitations and assumptions.\n",
    "\n",
    "The choice of method for handling missing data in a repeated measures ANOVA depends on several factors, including the amount and pattern of missing data, the assumptions of the imputation method, and the research question being addressed. It is important to carefully consider the potential consequences of each method and to choose the method that is most appropriate for the specific research question and data set."
   ]
  },
  {
   "cell_type": "markdown",
   "id": "146e701d-0217-407d-b10d-925dfbcff7ff",
   "metadata": {},
   "source": [
    "Q8. What are some common post-hoc tests used after ANOVA, and when would you use each one? Provide\n",
    "an example of a situation where a post-hoc test might be necessary."
   ]
  },
  {
   "cell_type": "markdown",
   "id": "554e2be8-bbc0-46d9-b30f-a8ef280013c7",
   "metadata": {},
   "source": [
    "Ans8: Some common post-hoc tests used after ANOVA include:\n",
    "\n",
    "- Tukey’s HSD test: This test is used to compare all possible pairs of means and is appropriate when the sample sizes are equal.\n",
    "\n",
    "- Bonferroni correction: This test is used to adjust the significance level for multiple comparisons and is appropriate when the sample sizes are unequal.\n",
    "\n",
    "- Dunn’s test: This test is a non-parametric alternative to Tukey’s test and is appropriate when the data violate the assumptions of normality and equal variance.\n",
    "\n",
    "- Scheffe’s test: This test is a conservative test that controls the family-wise error rate and is appropriate when the number of comparisons is small.\n",
    "\n",
    "- Holm’s test: This test is a modified version of the Bonferroni correction that is more powerful and is appropriate when the number of comparisons is large.\n",
    "\n",
    "The choice of post-hoc test depends on several factors, including the sample size, the number of groups being compared, and the assumptions of the test. For example, Tukey’s test is often used when the sample sizes are equal and the data meet the assumptions of normality and equal variance. On the other hand, Scheffe’s test is often used when the number of comparisons is small and the data do not meet the assumptions of normality and equal variance.\n",
    "\n",
    "A situation where a post-hoc test might be necessary is when an ANOVA produces a statistically significant result, indicating that at least one group mean is different from the others. In this case, a post-hoc test can be used to determine which group means are different from each other. For example, suppose a researcher wants to compare the effectiveness of three different treatments for a medical condition. After conducting an ANOVA, the researcher finds that there is a statistically significant difference between the means of the three groups. To determine which treatments are different from each other, the researcher can use a post-hoc test such as Tukey’s test or Bonferroni correction."
   ]
  },
  {
   "cell_type": "markdown",
   "id": "db3904d5-0e4a-410c-8e20-b9fe81e951a5",
   "metadata": {},
   "source": [
    "Q9. A researcher wants to compare the mean weight loss of three diets: A, B, and C. They collect data from\n",
    "50 participants who were randomly assigned to one of the diets. Conduct a one-way ANOVA using Python\n",
    "to determine if there are any significant differences between the mean weight loss of the three diets.\n",
    "Report the F-statistic and p-value, and interpret the results."
   ]
  },
  {
   "cell_type": "markdown",
   "id": "30ff90b4-200b-4e16-b0dc-7ff03daa1da2",
   "metadata": {},
   "source": [
    "To conduct a one-way ANOVA using Python, you can use the scipy.stats module. Here’s how you can do it:import scipy.stats as stats\n",
    "\n"
   ]
  },
  {
   "cell_type": "code",
   "execution_count": 20,
   "id": "f5db0e67-f049-4d43-9292-f20dd6edbb50",
   "metadata": {},
   "outputs": [
    {
     "name": "stdout",
     "output_type": "stream",
     "text": [
      "F-statistic:  159.14922813035997\n",
      "p-value:  3.7470014787571026e-27\n"
     ]
    }
   ],
   "source": [
    "import scipy.stats as stats\n",
    "\n",
    "# weight loss data for the three diets\n",
    "diet_a = [3.2, 2.9, 3.1, 2.8, 3.5, 2.7, 2.6, 2.9, 3.0, 2.8, \n",
    "          3.1, 2.7, 3.0, 3.2, 2.9, 2.8, 2.7, 3.1, 2.8, 3.0, \n",
    "          2.9, 2.8, 3.2, 3.0, 3.1]\n",
    "diet_b = [2.7, 2.1, 2.7, 2.6, 2.2, 2.3, 2.6, 2.1, 2.3, 2.5, \n",
    "          2.2, 2.4, 2.5, 2.3, 2.2, 2.4, 2.5, 2.1, 2.4, 2.2, \n",
    "          2.3, 2.4, 2.5, 2.1, 2.2]\n",
    "diet_c = [1.3, 2.0, 1.8, 1.7, 1.9, 1.2, 2.1, 2.0, 2.2, 2.1, \n",
    "          1.8, 2.0, 1.9, 2.1, 1.8, 1.9, 1.7, 2.0, 1.8, 2.1, \n",
    "          2.2, 1.7, 1.9, 1.8, 2.0]\n",
    "\n",
    "# perform one-way ANOVA\n",
    "f_stat, p_value = stats.f_oneway(diet_a, diet_b, diet_c)\n",
    "\n",
    "# print results\n",
    "print(\"F-statistic: \", f_stat)\n",
    "print(\"p-value: \", p_value)"
   ]
  },
  {
   "cell_type": "markdown",
   "id": "b33759c5-8915-422e-8dac-94f6adbfffbd",
   "metadata": {},
   "source": [
    "F-statistic is 159.15 and the p-value is 3.74e-27.\n",
    "Since the p-value is very small, we can reject the null hypothesis that the means of the three diets are equal, and conclude that there are significant differences between the mean weight loss of the three diets."
   ]
  },
  {
   "cell_type": "markdown",
   "id": "5d37a159-8655-438e-82e0-210e1239537a",
   "metadata": {},
   "source": [
    "The F-statistic is 1.01 and the p-value is 0.3, Since the p-value is more than the significance level of 0.05, we can not reject the null hypothesis that the mean weight loss of the three diets is not equal. This suggests that there are differences between the mean weight loss of the three diets."
   ]
  },
  {
   "cell_type": "markdown",
   "id": "467d83fc-dbc0-41ae-9190-30073edd5e0c",
   "metadata": {},
   "source": [
    "Q10. A company wants to know if there are any significant differences in the average time it takes to\n",
    "complete a task using three different software programs: Program A, Program B, and Program C. They\n",
    "randomly assign 30 employees to one of the programs and record the time it takes each employee to\n",
    "complete the task. Conduct a two-way ANOVA using Python to determine if there are any main effects or\n",
    "interaction effects between the software programs and employee experience level (novice vs.\n",
    "experienced). Report the F-statistics and p-values, and interpret the results."
   ]
  },
  {
   "cell_type": "code",
   "execution_count": 21,
   "id": "f420eff8-fd1a-4f73-87fb-0ca7ad51ba5a",
   "metadata": {},
   "outputs": [
    {
     "name": "stdout",
     "output_type": "stream",
     "text": [
      "                          sum_sq    df             F    PR(>F)\n",
      "Program             6.666667e-02   2.0  8.978177e-04  0.976325\n",
      "Experience         -3.197306e-15   1.0 -8.611795e-17  1.000000\n",
      "Program:Experience  4.163095e+00   2.0  5.606551e-02  0.945591\n",
      "Residual            9.653036e+02  26.0           NaN       NaN\n"
     ]
    },
    {
     "name": "stderr",
     "output_type": "stream",
     "text": [
      "/opt/conda/lib/python3.10/site-packages/statsmodels/base/model.py:1871: ValueWarning: covariance of constraints does not have full rank. The number of constraints is 2, but rank is 1\n",
      "  warnings.warn('covariance of constraints does not have full '\n"
     ]
    }
   ],
   "source": [
    "import pandas as pd\n",
    "import statsmodels.api as sm\n",
    "from statsmodels.formula.api import ols\n",
    "\n",
    "# create a dataframe with the time data and employee experience level\n",
    "data = {'Time':[11, 22, 28, 25, 20, 23, 16, 27, 15, 12, 13, 22, 26, 29, 19, 29, 21, 14, 17,\n",
    "                18, 25, 23, 17, 19, 28, 27, 20, 26, 11, 12],\n",
    "        'Program': ['A', 'A', 'A', 'A', 'A', 'A', 'A', 'B', 'B', 'B', 'B', 'B', 'B', 'B', 'B', \n",
    "                    'C', 'C', 'C', 'C', 'C', 'C', 'C', 'C', 'C', 'C', 'C', 'C', 'C', 'C', 'C'],\n",
    "        'Experience': ['Experienced', 'Experienced', 'Experienced', 'Experienced', 'Experienced', \n",
    "                       'Experienced', 'Experienced', 'Novice', 'Novice', 'Novice', 'Novice', 'Novice', \n",
    "                       'Novice', 'Novice', 'Novice', 'Experienced', 'Experienced', 'Experienced', \n",
    "                       'Experienced', 'Experienced', 'Experienced', 'Experienced', 'Novice', \n",
    "                       'Novice', 'Novice', 'Novice', 'Novice', 'Novice', 'Novice', 'Novice']}\n",
    "\n",
    "df = pd.DataFrame(data)\n",
    "\n",
    "# perform two-way ANOVA\n",
    "model = ols('Time ~ Program + Experience + Program:Experience', data=df).fit()\n",
    "anova_table = sm.stats.anova_lm(model, typ=2)\n",
    "\n",
    "# print results\n",
    "print(anova_table)"
   ]
  },
  {
   "cell_type": "markdown",
   "id": "b3a4cadc-603a-4391-a708-319866541524",
   "metadata": {},
   "source": [
    "Q11. An educational researcher is interested in whether a new teaching method improves student test\n",
    "scores. They randomly assign 100 students to either the control group (traditional teaching method) or the\n",
    "experimental group (new teaching method) and administer a test at the end of the semester. Conduct a\n",
    "two-sample t-test using Python to determine if there are any significant differences in test scores\n",
    "between the two groups. If the results are significant, follow up with a post-hoc test to determine which\n",
    "group(s) differ significantly from each other."
   ]
  },
  {
   "cell_type": "code",
   "execution_count": 23,
   "id": "c82ed8f9-68af-42ca-b681-432796d59d31",
   "metadata": {},
   "outputs": [
    {
     "name": "stdout",
     "output_type": "stream",
     "text": [
      "t-statistic:  -2.2103820834581014\n",
      "p-value:  0.029405151645282155\n"
     ]
    },
    {
     "ename": "TypeError",
     "evalue": "ufunc 'isinf' not supported for the input types, and the inputs could not be safely coerced to any supported types according to the casting rule ''safe''",
     "output_type": "error",
     "traceback": [
      "\u001b[0;31m---------------------------------------------------------------------------\u001b[0m",
      "\u001b[0;31mTypeError\u001b[0m                                 Traceback (most recent call last)",
      "Cell \u001b[0;32mIn[23], line 19\u001b[0m\n\u001b[1;32m     17\u001b[0m allscores \u001b[38;5;241m=\u001b[39m np\u001b[38;5;241m.\u001b[39mconcatenate((control_scores, experimental_scores))\n\u001b[1;32m     18\u001b[0m grouplabels \u001b[38;5;241m=\u001b[39m [\u001b[38;5;124m'\u001b[39m\u001b[38;5;124mcontrol\u001b[39m\u001b[38;5;124m'\u001b[39m] \u001b[38;5;241m*\u001b[39m \u001b[38;5;28mlen\u001b[39m(control_scores) \u001b[38;5;241m+\u001b[39m [\u001b[38;5;124m'\u001b[39m\u001b[38;5;124mexperimental\u001b[39m\u001b[38;5;124m'\u001b[39m] \u001b[38;5;241m*\u001b[39m \u001b[38;5;28mlen\u001b[39m(experimental_scores)\n\u001b[0;32m---> 19\u001b[0m tukey_results \u001b[38;5;241m=\u001b[39m \u001b[43mtukey_hsd\u001b[49m\u001b[43m(\u001b[49m\u001b[43mallscores\u001b[49m\u001b[43m,\u001b[49m\u001b[43m \u001b[49m\u001b[43mgrouplabels\u001b[49m\u001b[43m)\u001b[49m\n\u001b[1;32m     20\u001b[0m \u001b[38;5;28mprint\u001b[39m(tukey_results)\n",
      "File \u001b[0;32m/opt/conda/lib/python3.10/site-packages/scipy/stats/_hypotests.py:1730\u001b[0m, in \u001b[0;36mtukey_hsd\u001b[0;34m(*args)\u001b[0m\n\u001b[1;32m   1587\u001b[0m \u001b[38;5;28;01mdef\u001b[39;00m \u001b[38;5;21mtukey_hsd\u001b[39m(\u001b[38;5;241m*\u001b[39margs):\n\u001b[1;32m   1588\u001b[0m     \u001b[38;5;124;03m\"\"\"Perform Tukey's HSD test for equality of means over multiple treatments.\u001b[39;00m\n\u001b[1;32m   1589\u001b[0m \n\u001b[1;32m   1590\u001b[0m \u001b[38;5;124;03m    Tukey's honestly significant difference (HSD) test performs pairwise\u001b[39;00m\n\u001b[0;32m   (...)\u001b[0m\n\u001b[1;32m   1728\u001b[0m \u001b[38;5;124;03m    (2 - 1) -9.220  0.540\u001b[39;00m\n\u001b[1;32m   1729\u001b[0m \u001b[38;5;124;03m    \"\"\"\u001b[39;00m\n\u001b[0;32m-> 1730\u001b[0m     args \u001b[38;5;241m=\u001b[39m \u001b[43m_tukey_hsd_iv\u001b[49m\u001b[43m(\u001b[49m\u001b[43margs\u001b[49m\u001b[43m)\u001b[49m\n\u001b[1;32m   1731\u001b[0m     ntreatments \u001b[38;5;241m=\u001b[39m \u001b[38;5;28mlen\u001b[39m(args)\n\u001b[1;32m   1732\u001b[0m     means \u001b[38;5;241m=\u001b[39m np\u001b[38;5;241m.\u001b[39masarray([np\u001b[38;5;241m.\u001b[39mmean(arg) \u001b[38;5;28;01mfor\u001b[39;00m arg \u001b[38;5;129;01min\u001b[39;00m args])\n",
      "File \u001b[0;32m/opt/conda/lib/python3.10/site-packages/scipy/stats/_hypotests.py:1582\u001b[0m, in \u001b[0;36m_tukey_hsd_iv\u001b[0;34m(args)\u001b[0m\n\u001b[1;32m   1580\u001b[0m     \u001b[38;5;28;01mif\u001b[39;00m arg\u001b[38;5;241m.\u001b[39msize \u001b[38;5;241m<\u001b[39m\u001b[38;5;241m=\u001b[39m \u001b[38;5;241m1\u001b[39m:\n\u001b[1;32m   1581\u001b[0m         \u001b[38;5;28;01mraise\u001b[39;00m \u001b[38;5;167;01mValueError\u001b[39;00m(\u001b[38;5;124m\"\u001b[39m\u001b[38;5;124mInput sample size must be greater than one.\u001b[39m\u001b[38;5;124m\"\u001b[39m)\n\u001b[0;32m-> 1582\u001b[0m     \u001b[38;5;28;01mif\u001b[39;00m \u001b[43mnp\u001b[49m\u001b[38;5;241;43m.\u001b[39;49m\u001b[43misinf\u001b[49m\u001b[43m(\u001b[49m\u001b[43marg\u001b[49m\u001b[43m)\u001b[49m\u001b[38;5;241m.\u001b[39many():\n\u001b[1;32m   1583\u001b[0m         \u001b[38;5;28;01mraise\u001b[39;00m \u001b[38;5;167;01mValueError\u001b[39;00m(\u001b[38;5;124m\"\u001b[39m\u001b[38;5;124mInput samples must be finite.\u001b[39m\u001b[38;5;124m\"\u001b[39m)\n\u001b[1;32m   1584\u001b[0m \u001b[38;5;28;01mreturn\u001b[39;00m args\n",
      "\u001b[0;31mTypeError\u001b[0m: ufunc 'isinf' not supported for the input types, and the inputs could not be safely coerced to any supported types according to the casting rule ''safe''"
     ]
    }
   ],
   "source": [
    "import numpy as np\n",
    "from scipy.stats import ttest_ind, f_oneway, tukey_hsd\n",
    "\n",
    "# generate example data\n",
    "control_scores = np.random.normal(loc=70, scale=10, size=50)\n",
    "experimental_scores = np.random.normal(loc=75, scale=10, size=50)\n",
    "\n",
    "# conduct two-sample t-test\n",
    "t_statistic, p_value = ttest_ind(control_scores, experimental_scores)\n",
    "\n",
    "# print results\n",
    "print(\"t-statistic: \", t_statistic)\n",
    "print(\"p-value: \", p_value)\n",
    "\n",
    "# conduct post-hoc Tukey test if significant differences found\n",
    "if p_value < 0.05:\n",
    "    allscores = np.concatenate((control_scores, experimental_scores))\n",
    "    grouplabels = ['control'] * len(control_scores) + ['experimental'] * len(experimental_scores)\n",
    "    tukey_results = tukey_hsd(allscores, grouplabels)\n",
    "    print(tukey_results)"
   ]
  },
  {
   "cell_type": "markdown",
   "id": "e47ba470-cb24-4913-851c-b65cbd9f3b2d",
   "metadata": {},
   "source": [
    "Q12. A researcher wants to know if there are any significant differences in the average daily sales of three\n",
    "retail stores: Store A, Store B, and Store C. They randomly select 30 days and record the sales for each store\n",
    "on those days. Conduct a repeated measures ANOVA using Python to determine if there are any\n",
    "\n",
    "significant differences in sales between the three stores. If the results are significant, follow up with a post-\n",
    "hoc test to determine which store(s) differ significantly from each other."
   ]
  },
  {
   "cell_type": "code",
   "execution_count": 27,
   "id": "886c9d07-e82c-4169-8bc6-00cb34997d28",
   "metadata": {},
   "outputs": [
    {
     "name": "stdout",
     "output_type": "stream",
     "text": [
      "F-statistic:  23.163159834474857\n",
      "p-value:  8.614820417858605e-09\n"
     ]
    },
    {
     "ename": "TypeError",
     "evalue": "ufunc 'isinf' not supported for the input types, and the inputs could not be safely coerced to any supported types according to the casting rule ''safe''",
     "output_type": "error",
     "traceback": [
      "\u001b[0;31m---------------------------------------------------------------------------\u001b[0m",
      "\u001b[0;31mTypeError\u001b[0m                                 Traceback (most recent call last)",
      "Cell \u001b[0;32mIn[27], line 20\u001b[0m\n\u001b[1;32m     18\u001b[0m all_sales \u001b[38;5;241m=\u001b[39m np\u001b[38;5;241m.\u001b[39mconcatenate((store_a_sales, store_b_sales, store_c_sales))\n\u001b[1;32m     19\u001b[0m group_labels \u001b[38;5;241m=\u001b[39m [\u001b[38;5;124m'\u001b[39m\u001b[38;5;124mStore A\u001b[39m\u001b[38;5;124m'\u001b[39m] \u001b[38;5;241m*\u001b[39m \u001b[38;5;28mlen\u001b[39m(store_a_sales) \u001b[38;5;241m+\u001b[39m [\u001b[38;5;124m'\u001b[39m\u001b[38;5;124mStore B\u001b[39m\u001b[38;5;124m'\u001b[39m] \u001b[38;5;241m*\u001b[39m \u001b[38;5;28mlen\u001b[39m(store_b_sales) \u001b[38;5;241m+\u001b[39m [\u001b[38;5;124m'\u001b[39m\u001b[38;5;124mStore C\u001b[39m\u001b[38;5;124m'\u001b[39m] \u001b[38;5;241m*\u001b[39m \u001b[38;5;28mlen\u001b[39m(store_c_sales)\n\u001b[0;32m---> 20\u001b[0m tukey_results \u001b[38;5;241m=\u001b[39m \u001b[43mtukey_hsd\u001b[49m\u001b[43m(\u001b[49m\u001b[43mall_sales\u001b[49m\u001b[43m,\u001b[49m\u001b[43m \u001b[49m\u001b[43mgroup_labels\u001b[49m\u001b[43m)\u001b[49m\n\u001b[1;32m     21\u001b[0m \u001b[38;5;28mprint\u001b[39m(tukey_results) \n",
      "File \u001b[0;32m/opt/conda/lib/python3.10/site-packages/scipy/stats/_hypotests.py:1730\u001b[0m, in \u001b[0;36mtukey_hsd\u001b[0;34m(*args)\u001b[0m\n\u001b[1;32m   1587\u001b[0m \u001b[38;5;28;01mdef\u001b[39;00m \u001b[38;5;21mtukey_hsd\u001b[39m(\u001b[38;5;241m*\u001b[39margs):\n\u001b[1;32m   1588\u001b[0m     \u001b[38;5;124;03m\"\"\"Perform Tukey's HSD test for equality of means over multiple treatments.\u001b[39;00m\n\u001b[1;32m   1589\u001b[0m \n\u001b[1;32m   1590\u001b[0m \u001b[38;5;124;03m    Tukey's honestly significant difference (HSD) test performs pairwise\u001b[39;00m\n\u001b[0;32m   (...)\u001b[0m\n\u001b[1;32m   1728\u001b[0m \u001b[38;5;124;03m    (2 - 1) -9.220  0.540\u001b[39;00m\n\u001b[1;32m   1729\u001b[0m \u001b[38;5;124;03m    \"\"\"\u001b[39;00m\n\u001b[0;32m-> 1730\u001b[0m     args \u001b[38;5;241m=\u001b[39m \u001b[43m_tukey_hsd_iv\u001b[49m\u001b[43m(\u001b[49m\u001b[43margs\u001b[49m\u001b[43m)\u001b[49m\n\u001b[1;32m   1731\u001b[0m     ntreatments \u001b[38;5;241m=\u001b[39m \u001b[38;5;28mlen\u001b[39m(args)\n\u001b[1;32m   1732\u001b[0m     means \u001b[38;5;241m=\u001b[39m np\u001b[38;5;241m.\u001b[39masarray([np\u001b[38;5;241m.\u001b[39mmean(arg) \u001b[38;5;28;01mfor\u001b[39;00m arg \u001b[38;5;129;01min\u001b[39;00m args])\n",
      "File \u001b[0;32m/opt/conda/lib/python3.10/site-packages/scipy/stats/_hypotests.py:1582\u001b[0m, in \u001b[0;36m_tukey_hsd_iv\u001b[0;34m(args)\u001b[0m\n\u001b[1;32m   1580\u001b[0m     \u001b[38;5;28;01mif\u001b[39;00m arg\u001b[38;5;241m.\u001b[39msize \u001b[38;5;241m<\u001b[39m\u001b[38;5;241m=\u001b[39m \u001b[38;5;241m1\u001b[39m:\n\u001b[1;32m   1581\u001b[0m         \u001b[38;5;28;01mraise\u001b[39;00m \u001b[38;5;167;01mValueError\u001b[39;00m(\u001b[38;5;124m\"\u001b[39m\u001b[38;5;124mInput sample size must be greater than one.\u001b[39m\u001b[38;5;124m\"\u001b[39m)\n\u001b[0;32m-> 1582\u001b[0m     \u001b[38;5;28;01mif\u001b[39;00m \u001b[43mnp\u001b[49m\u001b[38;5;241;43m.\u001b[39;49m\u001b[43misinf\u001b[49m\u001b[43m(\u001b[49m\u001b[43marg\u001b[49m\u001b[43m)\u001b[49m\u001b[38;5;241m.\u001b[39many():\n\u001b[1;32m   1583\u001b[0m         \u001b[38;5;28;01mraise\u001b[39;00m \u001b[38;5;167;01mValueError\u001b[39;00m(\u001b[38;5;124m\"\u001b[39m\u001b[38;5;124mInput samples must be finite.\u001b[39m\u001b[38;5;124m\"\u001b[39m)\n\u001b[1;32m   1584\u001b[0m \u001b[38;5;28;01mreturn\u001b[39;00m args\n",
      "\u001b[0;31mTypeError\u001b[0m: ufunc 'isinf' not supported for the input types, and the inputs could not be safely coerced to any supported types according to the casting rule ''safe''"
     ]
    }
   ],
   "source": [
    "import numpy as np\n",
    "from scipy.stats import f_oneway, tukey_hsd\n",
    "\n",
    "# generate example data\n",
    "store_a_sales = np.random.normal(loc=900, scale=100, size=30)\n",
    "store_b_sales = np.random.normal(loc=1000, scale=100, size=30)\n",
    "store_c_sales = np.random.normal(loc=1100, scale=100, size=30)\n",
    "\n",
    "# conduct one-way ANOVA\n",
    "f_statistic, p_value = f_oneway(store_a_sales, store_b_sales, store_c_sales)\n",
    "\n",
    "# print results\n",
    "print(\"F-statistic: \", f_statistic)\n",
    "print(\"p-value: \", p_value)\n",
    "\n",
    "# conduct post-hoc Tukey test if significant differences found\n",
    "if p_value < 0.05:\n",
    "    all_sales = np.concatenate((store_a_sales, store_b_sales, store_c_sales))\n",
    "    group_labels = ['Store A'] * len(store_a_sales) + ['Store B'] * len(store_b_sales) + ['Store C'] * len(store_c_sales)\n",
    "    tukey_results = tukey_hsd(all_sales, group_labels)\n",
    "    print(tukey_results) "
   ]
  },
  {
   "cell_type": "code",
   "execution_count": null,
   "id": "29174ad0-dab0-4e98-b3c6-e9c22cdf1bf1",
   "metadata": {},
   "outputs": [],
   "source": []
  }
 ],
 "metadata": {
  "kernelspec": {
   "display_name": "Python 3 (ipykernel)",
   "language": "python",
   "name": "python3"
  },
  "language_info": {
   "codemirror_mode": {
    "name": "ipython",
    "version": 3
   },
   "file_extension": ".py",
   "mimetype": "text/x-python",
   "name": "python",
   "nbconvert_exporter": "python",
   "pygments_lexer": "ipython3",
   "version": "3.10.8"
  }
 },
 "nbformat": 4,
 "nbformat_minor": 5
}
