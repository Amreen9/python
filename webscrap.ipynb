{
 "cells": [
  {
   "cell_type": "code",
   "execution_count": 1,
   "id": "13e49681-1040-4abc-be27-94ae0e225a96",
   "metadata": {},
   "outputs": [
    {
     "ename": "SyntaxError",
     "evalue": "invalid syntax (693500026.py, line 1)",
     "output_type": "error",
     "traceback": [
      "\u001b[0;36m  Cell \u001b[0;32mIn[1], line 1\u001b[0;36m\u001b[0m\n\u001b[0;31m    Q1. What is Web Scraping? Why is it Used?\u001b[0m\n\u001b[0m                    ^\u001b[0m\n\u001b[0;31mSyntaxError\u001b[0m\u001b[0;31m:\u001b[0m invalid syntax\n"
     ]
    }
   ],
   "source": [
    "Q1. What is Web Scraping? Why is it Used? \n",
    "Give three areas where Web Scraping is used to get data."
   ]
  },
  {
   "cell_type": "code",
   "execution_count": 2,
   "id": "a2343ea0-d96d-4536-88c4-cb993dc40b67",
   "metadata": {},
   "outputs": [],
   "source": [
    "# Web scraping is an automatic method to obtain large amounts of data from websites.\n",
    "# Most of this data is unstructured data in an HTML format which is then converted \n",
    "# into structured data in a spreadsheet or a database so that it can be used in\n",
    "# various applications. There are many different ways to perform web scraping to \n",
    "# obtain data from websites. These include using online services, particular API’s \n",
    "# or even creating your code for web scraping from scratch. Many large websites, \n",
    "# like Google, Twitter, Facebook, StackOverflow, etc. \n",
    "# have API’s that allow you to access their data in a structured format"
   ]
  },
  {
   "cell_type": "code",
   "execution_count": 3,
   "id": "4d09a370-2a67-47b5-8f2b-52471786bf78",
   "metadata": {},
   "outputs": [],
   "source": [
    "# web scraping is used :\n",
    "\n",
    "# 1. Price Monitoring\n",
    "\n",
    "# Web Scraping can be used by companies to scrap the product data for their products\n",
    "# and competing products as well to see how it impacts their pricing strategies. \n",
    "# Companies can use this data to fix the optimal pricing for their products \n",
    "# so that they can obtain maximum revenue.\n",
    "\n",
    "# 2. Market Research\n",
    "\n",
    "# Web scraping can be used for market research by companies.\n",
    "# High-quality web scraped data obtained in large volumes can be very helpful \n",
    "# for companies in analyzing consumer trends \n",
    "# and understanding which direction the company should move in the future. \n",
    "\n",
    "# 3. News Monitoring\n",
    "\n",
    "# Web scraping news sites can provide detailed reports on the current news to a \n",
    "# company. This is even more essential for companies that are frequently in the \n",
    "# news or that depend on daily news for their day-to-day functioning. \n",
    "# After all, news reports can make or break a company in a single day!"
   ]
  },
  {
   "cell_type": "code",
   "execution_count": 4,
   "id": "3316b0e9-b225-4fc7-a2ef-b5fe8d065c5a",
   "metadata": {},
   "outputs": [],
   "source": [
    "# Q2. What are the different methods used for Web Scraping?"
   ]
  },
  {
   "cell_type": "code",
   "execution_count": 6,
   "id": "fcbe9527-c0a3-4dac-b34c-d1afb4109bf7",
   "metadata": {},
   "outputs": [],
   "source": [
    "# Web Scrapers can be divided on the basis of many different criteria, \n",
    "# including Self-built or Pre-built Web Scrapers, \n",
    "# Browser extension or Software Web Scrapers, and Cloud or Local Web Scrapers.\n",
    "\n"
   ]
  },
  {
   "cell_type": "code",
   "execution_count": 7,
   "id": "cb387a5f-013c-490c-bee0-1976d52764bd",
   "metadata": {},
   "outputs": [],
   "source": [
    "# Q3. What is Beautiful Soup? Why is it used?"
   ]
  },
  {
   "cell_type": "code",
   "execution_count": 8,
   "id": "7876bb19-a6b9-44f8-bb44-0056f5a4bb2f",
   "metadata": {},
   "outputs": [],
   "source": [
    "# The Beautiful Soup is a python library which is named after a Lewis Carroll poem \n",
    "# of the same name in “Alice’s Adventures in the Wonderland”. Beautiful Soup is a \n",
    "# python package and as the name suggests, parses the unwanted data and helps to \n",
    "# organize and format the messy web data by fixing bad HTML\n",
    "# and present to us in an easily-traversible XML structures."
   ]
  },
  {
   "cell_type": "code",
   "execution_count": 9,
   "id": "72c2fe4f-91f9-4118-a57b-2eb85323a6fd",
   "metadata": {},
   "outputs": [
    {
     "name": "stdout",
     "output_type": "stream",
     "text": [
      "Object `project` not found.\n"
     ]
    }
   ],
   "source": [
    "# Q4. Why is flask used in this Web Scraping project?"
   ]
  },
  {
   "cell_type": "code",
   "execution_count": 10,
   "id": "edb6e79a-6805-4dcb-94a9-07a13abefc61",
   "metadata": {},
   "outputs": [],
   "source": [
    "# flask is a light weighted framework to built websites,it is used to making\n",
    "# this project easier also efficient for all the people around the world for use."
   ]
  },
  {
   "cell_type": "code",
   "execution_count": 12,
   "id": "a7516ac4-cefc-46c5-afeb-c6ec8578148d",
   "metadata": {},
   "outputs": [],
   "source": [
    "# Q5. Write the names of AWS services used in this project. \n",
    "# Also, explain the use of each service"
   ]
  },
  {
   "cell_type": "code",
   "execution_count": null,
   "id": "4eb90199-497a-4e67-8739-9b225472cb01",
   "metadata": {},
   "outputs": [],
   "source": [
    "# There are three cloud computing models available on AWS.\n",
    "\n",
    "# Infrastructure as a Service (IaaS): It is the basic building block of cloud IT. \n",
    "# It generally provides access to data storage space, networking features, and \n",
    "# computer hardware(virtual or dedicated hardware). It is highly flexible and \n",
    "# gives management controls over the IT resources to the developer. For example, \n",
    "# VPC, EC2, EBS.\n",
    "\n",
    "# Platform as a Service (PaaS): This is a type of service where AWS manages the \n",
    "# underlying infrastructure (usually operating system and hardware). This helps \n",
    "# the developer to be more efficient as they do not have to worry about \n",
    "# undifferentiated heavy lifting required for running the applications such as \n",
    "# capacity planning, software maintenance, resource procurement, patching, etc.,\n",
    "# and focus more on deployment and management of the applications. For example, RDS, EMR, ElasticSearch.\n",
    "\n",
    "# Software as a Service(SaaS): It is a complete product that usually runs on a \n",
    "# browser. It primarily refers to end-user applications. It is run and managed by\n",
    "# the service provider. The end-user only has to worry about the application of the \n",
    "# software suitable to its needs. For example, Saleforce.com, Web-based email, Office 365 ."
   ]
  }
 ],
 "metadata": {
  "kernelspec": {
   "display_name": "Python 3 (ipykernel)",
   "language": "python",
   "name": "python3"
  },
  "language_info": {
   "codemirror_mode": {
    "name": "ipython",
    "version": 3
   },
   "file_extension": ".py",
   "mimetype": "text/x-python",
   "name": "python",
   "nbconvert_exporter": "python",
   "pygments_lexer": "ipython3",
   "version": "3.10.8"
  }
 },
 "nbformat": 4,
 "nbformat_minor": 5
}
