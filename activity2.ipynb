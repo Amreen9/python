{
 "cells": [
  {
   "cell_type": "code",
   "execution_count": null,
   "id": "2674d57a-4f3a-4f15-82f3-627aa3ec9438",
   "metadata": {},
   "outputs": [],
   "source": [
    "# Q1. You are writing code for a company. The requirement of the company is that you create a python\n",
    "# function that will check whether the password entered by the user is correct or not. The function should\n",
    "# take the password as input and return the string “Valid Password” if the entered password follows the\n",
    "# below-given password guidelines else it should return “Invalid Password”."
   ]
  },
  {
   "cell_type": "code",
   "execution_count": 12,
   "id": "02eb0ddc-fbb0-4062-bf75-0a00bc67ac95",
   "metadata": {},
   "outputs": [],
   "source": [
    "def password_check(str):\n",
    "    list = ['!', '@', '#', '$', '%', '&', '(', ')', '-', '_', '[', ']', '{', '}',\n",
    "            ';', ':', '\"', '.', '/', '<', '>', '?']\n",
    "    estr = True\n",
    "    if len(str) >= 10:\n",
    "        for i in str:\n",
    "            if i in list:\n",
    "                estr = True\n",
    "            else:\n",
    "                if i.isnumeric():\n",
    "                    estr = True\n",
    "                else:\n",
    "                    if i.isupper():\n",
    "                        estr = True\n",
    "                    else:\n",
    "                        if i.islower():\n",
    "                            estr = True\n",
    "                            print(\"password is valid\")\n",
    "                        else:\n",
    "                            return False\n",
    "    else:\n",
    "        estr = False\n",
    "    return estr"
   ]
  },
  {
   "cell_type": "code",
   "execution_count": 14,
   "id": "0e17142e-561d-42fb-b790-45313c24c75a",
   "metadata": {},
   "outputs": [
    {
     "name": "stdout",
     "output_type": "stream",
     "text": [
      "password is valid\n",
      "password is valid\n",
      "password is valid\n",
      "password is valid\n",
      "password is valid\n",
      "True\n"
     ]
    }
   ],
   "source": [
    "print(password_check(\"12@ajskjAA\"))"
   ]
  },
  {
   "cell_type": "code",
   "execution_count": 15,
   "id": "e16294bc-eb24-454e-90db-71c583ce6c81",
   "metadata": {},
   "outputs": [],
   "source": [
    "# Q2. Solve the below-given questions using at least one of the following:\n",
    "# 1. Lambda functioJ\n",
    "# 2. Filter functioJ\n",
    "# 3. Zap functioJ\n",
    "# 4. List ComprehensioI"
   ]
  },
  {
   "cell_type": "code",
   "execution_count": 16,
   "id": "f9360234-f761-40d1-8e00-b0407098616b",
   "metadata": {},
   "outputs": [],
   "source": [
    " # Check if the string starts with a particular letter "
   ]
  },
  {
   "cell_type": "code",
   "execution_count": 19,
   "id": "f10407e6-1cfe-473c-9203-92a04ad6067b",
   "metadata": {},
   "outputs": [
    {
     "name": "stdout",
     "output_type": "stream",
     "text": [
      "True\n"
     ]
    }
   ],
   "source": [
    "starts_with = lambda x: True if x.startswith('A') else False\n",
    "print(starts_with(\"Apple\"))"
   ]
  },
  {
   "cell_type": "code",
   "execution_count": 27,
   "id": "41f212d9-417e-4338-90ba-21dcd0d95839",
   "metadata": {},
   "outputs": [
    {
     "name": "stdout",
     "output_type": "stream",
     "text": [
      "True\n"
     ]
    }
   ],
   "source": [
    "# Check if the string is numeric\n",
    "x= lambda x: True if x.isnumeric() else False\n",
    "print(x(\"1233\"))"
   ]
  },
  {
   "cell_type": "code",
   "execution_count": 28,
   "id": "7df3edbd-81f2-4630-84c4-5dbf16aca13a",
   "metadata": {},
   "outputs": [],
   "source": [
    "#  Sort a list of tuples having fruit names and their quantity. \n",
    "# [(\"mango\",99),(\"orange\",80), (\"grapes\", 1000)"
   ]
  },
  {
   "cell_type": "code",
   "execution_count": 31,
   "id": "399fc3d1-15f4-4707-8028-935bca1189e7",
   "metadata": {},
   "outputs": [
    {
     "name": "stdout",
     "output_type": "stream",
     "text": [
      "[('orange', 80), ('mango', 99), ('grapes', 1000)]\n"
     ]
    }
   ],
   "source": [
    "list1=(\"mango\",99),(\"orange\",80), (\"grapes\", 1000)\n",
    "print(sorted(list1, key=lambda data: data[1]))"
   ]
  },
  {
   "cell_type": "code",
   "execution_count": 32,
   "id": "ecb0f820-97ed-4e4b-9022-696243419efe",
   "metadata": {},
   "outputs": [],
   "source": [
    " # Find the squares of numbers from 1 to 10"
   ]
  },
  {
   "cell_type": "code",
   "execution_count": 35,
   "id": "a291b719-88d1-4be3-850d-73d71aabf219",
   "metadata": {},
   "outputs": [
    {
     "name": "stdout",
     "output_type": "stream",
     "text": [
      "[1, 4, 9, 16, 25, 36, 49, 64, 81, 100]\n"
     ]
    }
   ],
   "source": [
    "l1=[1,2,3,4,5,6,7,8,9,10]\n",
    "sqr=list(map(lambda x:x**2,l1))\n",
    "print(sqr)"
   ]
  },
  {
   "cell_type": "code",
   "execution_count": 36,
   "id": "d0e6d459-92f2-4402-b5f8-2e2653e3e93c",
   "metadata": {},
   "outputs": [],
   "source": [
    "# Find the cube root of numbers from 1 to 10"
   ]
  },
  {
   "cell_type": "code",
   "execution_count": 42,
   "id": "d8aa8cca-ddc7-4dc9-baf8-02d428ff6a7d",
   "metadata": {},
   "outputs": [
    {
     "name": "stdout",
     "output_type": "stream",
     "text": [
      "[1.0, 1.4142135623730951, 1.7320508075688772, 2.0, 2.23606797749979, 2.449489742783178, 2.6457513110645907, 2.8284271247461903, 3.0, 3.1622776601683795]\n"
     ]
    }
   ],
   "source": [
    "l1=[1,2,3,4,5,6,7,8,9,10]\n",
    "root=list(map(lambda x:x**0.5,l1))\n",
    "print(root)"
   ]
  },
  {
   "cell_type": "code",
   "execution_count": 39,
   "id": "5b262d60-7453-4694-9829-61f6169b7e06",
   "metadata": {},
   "outputs": [],
   "source": [
    "# Check if a given number is even"
   ]
  },
  {
   "cell_type": "code",
   "execution_count": 41,
   "id": "daf8192f-7074-4c8d-8d16-911f696f965e",
   "metadata": {},
   "outputs": [
    {
     "name": "stdout",
     "output_type": "stream",
     "text": [
      "True\n"
     ]
    }
   ],
   "source": [
    "x=lambda x:True if x%2==0 else False\n",
    "print(x(12))"
   ]
  },
  {
   "cell_type": "code",
   "execution_count": 43,
   "id": "e86dbf77-b767-42c1-822e-f146b8e80465",
   "metadata": {},
   "outputs": [],
   "source": [
    "# Filter odd numbers from the given list.\n",
    "#l1=[1,2,3,4,5,6,7,8,9,10]\n"
   ]
  },
  {
   "cell_type": "code",
   "execution_count": 47,
   "id": "0f215405-9951-430f-8cc2-84e22c21f7de",
   "metadata": {},
   "outputs": [
    {
     "name": "stdout",
     "output_type": "stream",
     "text": [
      "[1, 3, 5, 7, 9]\n"
     ]
    }
   ],
   "source": [
    "l1=[1,2,3,4,5,6,7,8,9,10]\n",
    "x=list(filter(lambda x:x%2==1,l1))\n",
    "print(x)\n"
   ]
  },
  {
   "cell_type": "code",
   "execution_count": 48,
   "id": "e4d7f6ef-60de-4205-b62b-0f19b3d17969",
   "metadata": {},
   "outputs": [],
   "source": [
    "# Sort a list of integers into positive and negative integers lists.\n",
    "# [1,2,3,4,5,6,-1,-2,-3,-4,-5,0]"
   ]
  },
  {
   "cell_type": "code",
   "execution_count": 51,
   "id": "f8b52131-b4a7-4996-a143-c4ca6db66f38",
   "metadata": {},
   "outputs": [
    {
     "name": "stdout",
     "output_type": "stream",
     "text": [
      "[1, 2, 3, 4, 5, 6]\n"
     ]
    }
   ],
   "source": [
    "l1=[1,2,3,4,5,6,-1,-2,-3,-4,-5,0]\n",
    "sort=list(filter(lambda x:x>0,l1))\n",
    "sort2=list()\n",
    "print(sort)"
   ]
  },
  {
   "cell_type": "code",
   "execution_count": null,
   "id": "ddeb3b59-179e-4689-970a-c9043e97d20e",
   "metadata": {},
   "outputs": [],
   "source": []
  }
 ],
 "metadata": {
  "kernelspec": {
   "display_name": "Python 3 (ipykernel)",
   "language": "python",
   "name": "python3"
  },
  "language_info": {
   "codemirror_mode": {
    "name": "ipython",
    "version": 3
   },
   "file_extension": ".py",
   "mimetype": "text/x-python",
   "name": "python",
   "nbconvert_exporter": "python",
   "pygments_lexer": "ipython3",
   "version": "3.10.8"
  }
 },
 "nbformat": 4,
 "nbformat_minor": 5
}
