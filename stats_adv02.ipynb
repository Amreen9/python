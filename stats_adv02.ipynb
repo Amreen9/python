{
 "cells": [
  {
   "cell_type": "markdown",
   "id": "8beb4110-1d01-49f6-b004-e45eef93c914",
   "metadata": {},
   "source": [
    "**Statistics Advance-3**"
   ]
  },
  {
   "cell_type": "markdown",
   "id": "bf78471c-e829-43b3-8f55-3bb8c7e78da3",
   "metadata": {},
   "source": [
    "Q1: What is Estimation Statistics? Explain point estimate and interval estimate."
   ]
  },
  {
   "cell_type": "markdown",
   "id": "04c1e619-d718-4e78-895e-fdf35fbaa8de",
   "metadata": {},
   "source": [
    "Estimation statistics is a method for estimating unknown parameters. \n",
    "\n",
    "There are two common methods for estimation statistics: \n",
    "1> point estimation \n",
    "2> interval estimation.\n",
    "\n",
    "*Point estimation* provides a single value estimate of the parameter. \n",
    "A point estimator is a statistic that is used to measure the value of a population's unknown parameter.\n",
    "\n",
    "*Interval estimation* provides a range of plausible values within which we can be confident that the true parameter value lies."
   ]
  },
  {
   "cell_type": "markdown",
   "id": "9c508e1e-6e77-40d0-8673-607a9faa4add",
   "metadata": {},
   "source": [
    "Q2. Write a Python function to estimate the population mean using a sample mean and standard\n",
    "deviation."
   ]
  },
  {
   "cell_type": "code",
   "execution_count": 2,
   "id": "2ee89f1f-c6d3-43a1-a062-43f53d675d9d",
   "metadata": {},
   "outputs": [
    {
     "name": "stdout",
     "output_type": "stream",
     "text": [
      "[45.58449585 53.66284907]\n",
      "[ 3.87934741 10.30670309]\n"
     ]
    },
    {
     "data": {
      "image/png": "[encoded data removed]",
      "text/plain": [
       "<Figure size 640x480 with 1 Axes>"
      ]
     },
     "metadata": {},
     "output_type": "display_data"
    },
    {
     "data": {
      "image/png": "[encoded data removed]",
      "text/plain": [
       "<Figure size 640x480 with 1 Axes>"
      ]
     },
     "metadata": {},
     "output_type": "display_data"
    }
   ],
   "source": [
    "from scipy.stats import norm, chi2\n",
    "\n",
    "import numpy as np\n",
    "import matplotlib.pyplot as plt\n",
    "\n",
    "\n",
    "population = norm(loc = 50, scale = 10)\n",
    "\n",
    "n = 10\n",
    "samp = population.rvs(n)\n",
    "\n",
    "ybar = samp.mean()\n",
    "s = samp.var(ddof = 1)\n",
    "\n",
    "var_posterior = (n-1)*s/chi2(df =n-1).rvs(100_000)\n",
    "mu_posterior = norm(loc = ybar, scale = np.sqrt(var_posterior/n)).rvs()\n",
    "\n",
    "\n",
    "#Now for credible intevals\n",
    "print(np.percentile(mu_posterior, [2.5, 97.5]))\n",
    "print(np.percentile(np.sqrt(var_posterior), [2.5, 97.5]))\n",
    "\n",
    "fig, ax = plt.subplots()\n",
    "ax.hist(mu_posterior, bins = 25)\n",
    "\n",
    "fig,ax = plt.subplots()\n",
    "ax.hist(np.sqrt(var_posterior), bins = 25)\n",
    "plt.show()"
   ]
  },
  {
   "cell_type": "markdown",
   "id": "26b81838-6913-4b63-985c-a6910de9134c",
   "metadata": {},
   "source": [
    "Q3: What is Hypothesis testing? Why is it used? State the importance of Hypothesis testing."
   ]
  },
  {
   "cell_type": "markdown",
   "id": "ea9b27ab-5e78-4fb0-b8e0-3099ae3dd39e",
   "metadata": {},
   "source": [
    "Hypothesis testing is a statistical method that is used to make a decision about a population parameter based on sample data. It involves the following steps:\n",
    "\n",
    "Stating the null hypothesis and the alternative hypothesis, which are mutually exclusive statements about the population parameter of interest.\n",
    "Choosing a significance level, which is the probability of rejecting the null hypothesis when it is true (a type I error).\n",
    "Selecting a test statistic, which is a function of the sample data that measures the discrepancy between the null hypothesis and the alternative hypothesis.\n",
    "Calculating the p-value, which is the probability of obtaining a test statistic at least as extreme as the observed one, assuming that the null hypothesis is true.\n",
    "Comparing the p-value with the significance level and making a decision to reject or fail to reject the null hypothesis.\n",
    "\n",
    "Hypothesis testing is used for various purposes, such as:\n",
    "\n",
    "- Testing if a treatment has an effect on an outcome variable.\n",
    "\n",
    "- Comparing the means or proportions of two or more groups.\n",
    "\n",
    "- Checking if a correlation or regression coefficient is different from zero.\n",
    "\n",
    "- Evaluating if a distribution fits a certain shape or model.\n",
    "\n",
    "The importance of hypothesis testing lies in its ability to:\n",
    "\n",
    "- Provide a framework for making statistical inferences and drawing conclusions from data.\n",
    "\n",
    "- Measure the strength of evidence against a null hypothesis and quantify the uncertainty associated with the decision.\n",
    "\n",
    "- Control the type I error rate and minimize the type II error rate (the probability of failing to reject the null hypothesis when it is false).\n",
    "\n",
    "- Generalize the results from a sample to a population and assess their practical significance."
   ]
  },
  {
   "cell_type": "markdown",
   "id": "f79f45d3-d227-4528-97d5-db981eb0e769",
   "metadata": {},
   "source": [
    "Q4. Create a hypothesis that states whether the average weight of male college students is greater than\n",
    "the average weight of female college students."
   ]
  },
  {
   "cell_type": "markdown",
   "id": "058ea2cb-d8fd-4058-bf63-61d210fe898e",
   "metadata": {},
   "source": [
    "One possible hypothesis that states whether the average weight of male college students is greater than the average weight of female college students is:\n",
    "\n",
    "Null hypothesis:The average weight of male college students is equal to or less than the average weight of female college students.\n",
    "Alternative hypothesis: The average weight of male college students is greater than the average weight of female college students.\n",
    "In symbols, this can be written as:\n",
    "\n",
    "H0: μm ≤ μf\n",
    "Ha: μm > μf\n",
    "\n",
    "Where μm is the population mean of male college students’ weight and μf is the population mean of female college students’ weight."
   ]
  },
  {
   "cell_type": "markdown",
   "id": "c75f5ac6-b0fb-4fc7-ba75-9d2fd1181b3d",
   "metadata": {},
   "source": [
    "Q5. Write a Python script to conduct a hypothesis test on the difference between two population means,\n",
    "given a sample from each population."
   ]
  },
  {
   "cell_type": "code",
   "execution_count": 4,
   "id": "8d2dfd83-65fc-4059-b5e4-b2e189eec9bd",
   "metadata": {},
   "outputs": [
    {
     "name": "stdout",
     "output_type": "stream",
     "text": [
      "Sample 1: mean = 28.0 sd = 3.7416573867739413\n",
      "Sample 2: mean = 31.0 sd = 3.7416573867739413\n",
      "t-statistic = -1.3887301496588274\n",
      "p-value = 0.19506635912696582\n",
      "We fail to reject the null hypothesis that the population means are equal.\n"
     ]
    }
   ],
   "source": [
    "# Import the scipy.stats library\n",
    "import scipy.stats as stats\n",
    "\n",
    "# Define the sample data from each population\n",
    "sample1 = [23, 25, 27, 29, 31, 33]\n",
    "sample2 = [26, 28, 30, 32, 34, 36]\n",
    "\n",
    "# Calculate the sample means and standard deviations\n",
    "mean1 = sum(sample1) / len(sample1)\n",
    "mean2 = sum(sample2) / len(sample2)\n",
    "sd1 = stats.tstd(sample1)\n",
    "sd2 = stats.tstd(sample2)\n",
    "\n",
    "# Print the sample statistics\n",
    "print(\"Sample 1: mean =\", mean1, \"sd =\", sd1)\n",
    "print(\"Sample 2: mean =\", mean2, \"sd =\", sd2)\n",
    "\n",
    "# Perform a two-sample t-test for the difference in population means\n",
    "# Assuming unequal variances (Welch's t-test)\n",
    "t_stat, p_value = stats.ttest_ind(sample1, sample2, equal_var=False)\n",
    "\n",
    "# Print the test statistic and the p-value\n",
    "print(\"t-statistic =\", t_stat)\n",
    "print(\"p-value =\", p_value)\n",
    "\n",
    "# Choose a significance level\n",
    "alpha = 0.05\n",
    "\n",
    "# Compare the p-value with the significance level and make a decision\n",
    "if p_value < alpha:\n",
    "    print(\"We reject the null hypothesis that the population means are equal.\")\n",
    "else:\n",
    "    print(\"We fail to reject the null hypothesis that the population means are equal.\")\n"
   ]
  },
  {
   "cell_type": "markdown",
   "id": "d004552b-3e44-4a23-92b5-5f51fd786f55",
   "metadata": {},
   "source": [
    "Q6: What is a null and alternative hypothesis? Give some examples."
   ]
  },
  {
   "cell_type": "markdown",
   "id": "6bb4e5e8-1550-4ed9-89fd-cb0ea14d6c2c",
   "metadata": {},
   "source": [
    "A null hypothesis is a statement that assumes there is no difference or no effect in the population of interest. It is usually denoted by H0 and represents the status quo or the default position. \n",
    "\n",
    "A alternative hypothesis is a statement that assumes there is some difference or some effect in the population of interest. It is usually denoted by HA or H1 and represents the research question or the claim to be tested.\n",
    "\n",
    "Some examples of null and alternative hypotheses are:\n",
    "\n",
    "Example: \n",
    "    \n",
    "A researcher wants to test if a new drug lowers blood pressure more than the standard drug.\n",
    "\n",
    "- Null hypothesis: H0: The mean blood pressure reduction of the new drug is equal to the mean blood pressure reduction of the standard drug.\n",
    "\n",
    "- Alternative hypothesis: HA: The mean blood pressure reduction of the new drug is greater than the mean blood pressure reduction of the standard drug."
   ]
  },
  {
   "cell_type": "markdown",
   "id": "3220cd34-2dab-487a-acea-c2de64a97c99",
   "metadata": {},
   "source": [
    "Q7: Write down the steps involved in hypothesis testing."
   ]
  },
  {
   "cell_type": "markdown",
   "id": "184498d5-f59e-4dd4-ad4e-f577cc138af5",
   "metadata": {},
   "source": [
    "The steps involved in hypothesis testing are:\n",
    "\n",
    "- Step 1: State the hypotheses. This involves writing the null hypothesis (H0) and the alternative hypothesis (HA) in terms of the population parameter of interest.\n",
    "\n",
    "- Step 2: Set the criteria for a decision. This involves choosing a level of significance (α) and a test statistic (t, z, F, etc.) based on the type and size of the data.\n",
    "\n",
    "- Step 3: Compute the test statistic. This involves calculating the value of the test statistic and the corresponding p-value using the sample data and the appropriate formula or software.\n",
    "\n",
    "- Step 4: Make a decision. This involves comparing the p-value with the level of significance and deciding whether to reject or fail to reject the null hypothesis. A common rule is to reject the null hypothesis if p < α and fail to reject it otherwise."
   ]
  },
  {
   "cell_type": "markdown",
   "id": "3409ad76-58f4-4ad8-9ac4-7af0fd31dc07",
   "metadata": {},
   "source": [
    "Q8. Define p-value and explain its significance in hypothesis testing."
   ]
  },
  {
   "cell_type": "markdown",
   "id": "7418b43a-d25c-4eb4-bf94-9502406de57b",
   "metadata": {},
   "source": [
    "The p-value is a statistical measurement that helps to assess the evidence against the null hypothesis in a hypothesis test. The null hypothesis is the assumption that there is no effect or difference between the groups or variables being tested. The p-value is the probability of obtaining the observed data or more extreme data under the null hypothesis. The lower the p-value, the more evidence there is against the null hypothesis and in favor of the alternative hypothesis, which is the opposite of the null hypothesis. The p-value can be compared with a level of significance (α) to decide whether to reject or fail to reject the null hypothesis. A common threshold for statistical significance is a p-value less than or equal to 0.05, which means that there is less than a 5% chance that the null hypothesis is true. The p-value allows the readers to interpret the data and the level of significance of the results of a hypothesis test."
   ]
  },
  {
   "cell_type": "markdown",
   "id": "f4cadb8e-8902-4fd7-a9a3-89619d41862f",
   "metadata": {},
   "source": [
    "Q9. Generate a Student's t-distribution plot using Python's matplotlib library, with the degrees of freedom\n",
    "parameter set to 10."
   ]
  },
  {
   "cell_type": "code",
   "execution_count": null,
   "id": "c356d44f-b638-4d56-bc54-f9e0afd2db1d",
   "metadata": {},
   "outputs": [],
   "source": [
    "# Import the libraries\n",
    "import numpy as np\n",
    "import matplotlib.pyplot as plt\n",
    "from scipy.stats import t\n",
    "\n",
    "# Set the degrees of freedom parameter\n",
    "df = 10\n",
    "\n",
    "# Generate the x values from -5 to 5 with 0.01 intervals\n",
    "x = np.arange(-5, 5, 0.01)\n",
    "\n",
    "# Calculate the probability density function values for x\n",
    "y = t.pdf(x, df)\n",
    "\n",
    "# Plot the curve\n",
    "plt.plot(x, y)\n",
    "plt.xlabel('x')\n",
    "plt.ylabel('pdf')\n",
    "plt.title('Student\\'s t-distribution with df = 10')\n",
    "plt.show()"
   ]
  },
  {
   "cell_type": "markdown",
   "id": "f41619fa-8f44-41bf-9797-556c334e065c",
   "metadata": {},
   "source": [
    "Q10. Write a Python program to calculate the two-sample t-test for independent samples, given two\n",
    "random samples of equal size and a null hypothesis that the population means are equal."
   ]
  },
  {
   "cell_type": "code",
   "execution_count": 5,
   "id": "f430e33e-f58d-4214-9bf1-9bfa76e27cf6",
   "metadata": {},
   "outputs": [
    {
     "data": {
      "text/plain": [
       "Ttest_indResult(statistic=-0.6337397070250238, pvalue=0.5300471010405257)"
      ]
     },
     "execution_count": 5,
     "metadata": {},
     "output_type": "execute_result"
    }
   ],
   "source": [
    "import scipy.stats as stats\n",
    "import numpy as np\n",
    " \n",
    "data_group1 = np.array([14, 15, 15, 16, 13, 8, 14,\n",
    "                        17, 16, 14, 19, 20, 21, 15,\n",
    "                        15, 16, 16, 13, 14, 12])\n",
    " \n",
    "data_group2 = np.array([15, 17, 14, 17, 14, 8, 12,\n",
    "                        19, 19, 14, 17, 22, 24, 16,\n",
    "                        13, 16, 13, 18, 15, 13])\n",
    " \n",
    "# Perform the two sample t-test with equal variances\n",
    "stats.ttest_ind(a=data_group1, b=data_group2, equal_var=True)"
   ]
  },
  {
   "cell_type": "markdown",
   "id": "0cdae97f-b3b4-4280-8d0f-857b04cf4e7c",
   "metadata": {},
   "source": [
    "Here, since the p-value (0.53004) is greater than alpha = 0.05 so we cannot reject the null hypothesis of the test. We do not have sufficient evidence to say that the mean height of students between the two data groups is different."
   ]
  },
  {
   "cell_type": "markdown",
   "id": "e887a3ba-b38e-47f3-8cf6-a16fa90e5ef5",
   "metadata": {},
   "source": [
    "Q11: What is Student’s t distribution? When to use the t-Distribution."
   ]
  },
  {
   "cell_type": "markdown",
   "id": "a32f1c51-03a0-4b08-a442-de463f2b2b4c",
   "metadata": {},
   "source": [
    "Student’s t distribution is a continuous probability distribution that generalizes the standard normal distribution. It is symmetric and bell-shaped, but has heavier tails than the normal distribution. The shape of the t distribution depends on a parameter called the degrees of freedom, which is related to the sample size of the data.\n",
    "\n",
    "We use the t distribution when we want to estimate the mean of a normally distributed population from a small sample, and we don’t know the population standard deviation. The t distribution is also useful for testing hypotheses about the difference between two population means, or the slope of a regression line."
   ]
  },
  {
   "cell_type": "markdown",
   "id": "f73956e4-a5e7-469f-bda5-4f4ff2c11066",
   "metadata": {},
   "source": [
    "Q12: What is t-statistic? State the formula for t-statistic."
   ]
  },
  {
   "cell_type": "markdown",
   "id": "0ee94838-b69f-4b1b-a584-5391c5ad2f42",
   "metadata": {},
   "source": [
    "A t-statistic is a standardized value that measures the difference between a sample mean and a population mean, relative to the sample standard deviation. It is used in hypothesis testing via Student’s t-test12.\n",
    "The formula for a t-statistic depends on the type of t-test, such as one-sample, two-sample, or paired. The general formula for a one-sample t-statistic is:\n",
    "\n",
    "t = (x̄ - μ) / (s / √n)\n",
    "\n",
    "where xˉ is the sample mean, μ0​ is the population mean, s is the sample standard deviation, and n is the sample size34"
   ]
  },
  {
   "cell_type": "markdown",
   "id": "fe5b0eec-9b64-4b61-81d3-4ee20198f612",
   "metadata": {},
   "source": [
    "Q13. A coffee shop owner wants to estimate the average daily revenue for their shop. They take a random\n",
    "sample of 50 days and find the sample mean revenue to be $500 with a standard deviation of $50.\n",
    "Estimate the population mean revenue with a 95% confidence interval."
   ]
  },
  {
   "cell_type": "markdown",
   "id": "58298095-28ce-4a34-9f26-c52487d8f482",
   "metadata": {},
   "source": [
    "To estimate the population mean revenue with a 95% confidence interval, we can follow these steps:\n",
    "\n",
    "Calculate the standard error of the mean (SEM) using the formula SEM = s / sqrt(n), where s is the sample standard deviation, and n is the sample size. In this case, s = $50 and n = 50, so SEM = $50 / sqrt(50) = $7.07.\n",
    "\n",
    "Determine the critical value for a 95% confidence interval using a t-distribution table with degrees of freedom (df) = n - 1. For n = 50, df = 49, and the critical value is approximately 2.009.\n",
    "\n",
    "Calculate the margin of error (ME) using the formula ME = critical value * SEM. In this case, ME = 2.009 * $7.07 = $14.20.\n",
    "\n",
    "Calculate the lower and upper bounds of the confidence interval using the formula CI = sample mean +/- ME. In this case, the sample mean is $500, so the lower bound is $500 - $14.20 = $485.80, and the upper bound is $500 + $14.20 = $514.20.\n",
    "\n",
    "Therefore, we can estimate with 95% confidence that the population mean revenue for the coffee shop is between $ 485.80 and  $ 514.20."
   ]
  },
  {
   "cell_type": "markdown",
   "id": "d30ef381-c999-4123-86f9-69ee52e9bd08",
   "metadata": {},
   "source": [
    "Q14. A researcher hypothesizes that a new drug will decrease blood pressure by 10 mmHg. They conduct a\n",
    "clinical trial with 100 patients and find that the sample mean decrease in blood pressure is 8 mmHg with a\n",
    "standard deviation of 3 mmHg. Test the hypothesis with a significance level of 0.05."
   ]
  },
  {
   "cell_type": "markdown",
   "id": "2da3bfb2-5093-458e-b750-a2ddc2f9fc57",
   "metadata": {},
   "source": [
    "To test the hypothesis with a significance level of 0.05, we need to calculate the test statistic and compare it with the critical value. The test statistic is calculated as:\n",
    "\n",
    "t = (x̄ - μ) / (s / √n)\n",
    "\n",
    "where x̄ is the sample mean, μ is the hypothesized population mean, s is the sample standard deviation, and n is the sample size.\n",
    "\n",
    "Substituting the values, we get:\n",
    "\n",
    "t = (8 - 10) / (3 / √100) = -2.67\n",
    "\n",
    "The degrees of freedom for this test are n - 1 = 99. Using a t-distribution table or calculator with a significance level of 0.05 and degrees of freedom of 99, we find that the critical value is ±1.984.\n",
    "\n",
    "Since -2.67 < -1.984, we reject the null hypothesis and conclude that there is sufficient evidence to support the alternative hypothesis that the drug decreases blood pressure by 10 mmHg at a significance level of 0.05"
   ]
  },
  {
   "cell_type": "markdown",
   "id": "5e23f975-4b97-440a-808f-7db9324155c2",
   "metadata": {},
   "source": [
    "Q15. An electronics company produces a certain type of product with a mean weight of 5 pounds and a\n",
    "standard deviation of 0.5 pounds. A random sample of 25 products is taken, and the sample mean weight\n",
    "is found to be 4.8 pounds. Test the hypothesis that the true mean weight of the products is less than 5\n",
    "pounds with a significance level of 0.01."
   ]
  },
  {
   "cell_type": "markdown",
   "id": "0bf0f35e-da4d-4884-85eb-82a5fcf08047",
   "metadata": {},
   "source": [
    "Ans:\n",
    "    \n",
    "To test the hypothesis that the true mean weight of the products is less than 5 pounds with a significance level of 0.01, we can use a one-tailed t-test. The null hypothesis is that the true mean weight of the products is equal to 5 pounds, and the alternative hypothesis is that it is less than 5 pounds.\n",
    "\n",
    "The test statistic for this hypothesis test is calculated as follows:\n",
    "\n",
    "t = (x̄ - μ) / (s / sqrt(n))\n",
    "\n",
    "where x̄ is the sample mean, μ is the hypothesized population mean, s is the sample standard deviation, and n is the sample size.\n",
    "\n",
    "Substituting the given values, we get:\n",
    "\n",
    "t = (4.8 - 5) / (0.5 / sqrt(25)) = -2\n",
    "\n",
    "The degrees of freedom for this test are n - 1 = 24. Using a t-distribution table with 24 degrees of freedom and a significance level of 0.01, we find that the critical value for this test is -2.492.\n",
    "\n",
    "Since our calculated t-value (-2) does not exceed the critical value (-2.492), we fail to reject the null hypothesis. Therefore, we do not have sufficient evidence to conclude that the true mean weight of the products is less than 5 pounds at a significance level of 0.01."
   ]
  },
  {
   "cell_type": "markdown",
   "id": "e8f01cd3-1800-44ac-b753-8bed23a2b0de",
   "metadata": {},
   "source": [
    "Q16. Two groups of students are given different study materials to prepare for a test. The first group (n1 =\n",
    "30) has a mean score of 80 with a standard deviation of 10, and the second group (n2 = 40) has a mean\n",
    "score of 75 with a standard deviation of 8. Test the hypothesis that the population means for the two\n",
    "groups are equal with a significance level of 0.01."
   ]
  },
  {
   "cell_type": "markdown",
   "id": "8bcb9a84-4bb8-45cc-83b3-92823e30d1bc",
   "metadata": {},
   "source": [
    "Ans: To test the hypothesis that the population means for the two groups are equal with a significance level of 0.01, we can use a two-tailed t-test. The null hypothesis is that the population means for the two groups are equal, and the alternative hypothesis is that they are not equal.\n",
    "\n",
    "The test statistic for this hypothesis test is calculated as follows:\n",
    "\n",
    "t = (x̄1 - x̄2) / sqrt(s1^2/n1 + s2^2/n2)\n",
    "\n",
    "where x̄1 and x̄2 are the sample means, s1 and s2 are the sample standard deviations, and n1 and n2 are the sample sizes.\n",
    "\n",
    "Substituting the given values, we get:\n",
    "\n",
    "t = (80 - 75) / sqrt(10^2/30 + 8^2/40) = 1.19\n",
    "\n",
    "The degrees of freedom for this test are (n1 - 1) + (n2 - 1) = 68. Using a t-distribution table with 68 degrees of freedom and a significance level of 0.01, we find that the critical values for this test are -2.617 and 2.617.\n",
    "\n",
    "Since our calculated t-value (1.19) does not exceed either of the critical values (-2.617 and 2.617), we fail to reject the null hypothesis. Therefore, we do not have sufficient evidence to conclude that the population means for the two groups are not equal at a significance level of 0.01."
   ]
  },
  {
   "cell_type": "markdown",
   "id": "c1208c69-70b1-4bc5-8ef9-e44ae9d0b99d",
   "metadata": {},
   "source": [
    "\n",
    "Q17. A marketing company wants to estimate the average number of ads watched by viewers during a TV\n",
    "program. They take a random sample of 50 viewers and find that the sample mean is 4 with a standard\n",
    "deviation of 1.5. Estimate the population mean with a 99% confidence interval."
   ]
  },
  {
   "cell_type": "code",
   "execution_count": null,
   "id": "5095f97f-8435-4fb4-b498-e088aa9af3da",
   "metadata": {},
   "outputs": [],
   "source": []
  },
  {
   "cell_type": "code",
   "execution_count": null,
   "id": "7d070d88-4ec5-4e4c-8257-e880d71120f8",
   "metadata": {},
   "outputs": [],
   "source": []
  },
  {
   "cell_type": "code",
   "execution_count": null,
   "id": "178581b7-7fa5-4991-9e69-2c7d0dfbbfea",
   "metadata": {},
   "outputs": [],
   "source": []
  }
 ],
 "metadata": {
  "kernelspec": {
   "display_name": "Python 3 (ipykernel)",
   "language": "python",
   "name": "python3"
  },
  "language_info": {
   "codemirror_mode": {
    "name": "ipython",
    "version": 3
   },
   "file_extension": ".py",
   "mimetype": "text/x-python",
   "name": "python",
   "nbconvert_exporter": "python",
   "pygments_lexer": "ipython3",
   "version": "3.10.8"
  }
 },
 "nbformat": 4,
 "nbformat_minor": 5
}
