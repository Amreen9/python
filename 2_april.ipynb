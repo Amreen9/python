{
 "cells": [
  {
   "cell_type": "markdown",
   "id": "a377b65e-2a4a-48a3-a021-f7cd8a8a755c",
   "metadata": {},
   "source": [
    "### Q1. What is the purpose of grid search cv in machine learning, and how does it work?\n"
   ]
  },
  {
   "cell_type": "markdown",
   "id": "0a235d3e-da45-402d-8206-5270d1dcfd2a",
   "metadata": {},
   "source": [
    "### Answer:"
   ]
  },
  {
   "cell_type": "markdown",
   "id": "d2e521f8-aac2-4fc2-bcc4-30fcbcbaa261",
   "metadata": {},
   "source": [
    "GridSearchCV is a powerful technique used in machine learning for hyperparameter tuning. Let’s dive into what it is and how it works:\n",
    "\n",
    "### Purpose of GridSearchCV:\n",
    "\n",
    "In any machine learning project, we train different models on a dataset and select the one with the best performance. However, determining the best model isn’t straightforward because we can’t be certain that a particular model is optimal for the specific problem at hand.\n",
    "\n",
    "Hyperparameters play a crucial role in a model’s performance. Setting appropriate values for these hyperparameters can significantly improve a model’s accuracy.\n",
    "\n",
    "The purpose of GridSearchCV is to find the optimal values for these hyperparameters. It automates the process of tuning hyperparameters, saving time and resources.\n",
    "\n",
    "### How GridSearchCV Works:\n",
    "\n",
    "We pass predefined values for hyperparameters to the GridSearchCV function.\n",
    "These hyperparameters are defined in a dictionary, where each hyperparameter is associated with a list of possible values. For example:\n",
    "\n",
    "param_grid = {\n",
    "    'C': [0.1, 1, 10, 100, 1000],\n",
    "    'gamma': [1, 0.1, 0.01, 0.001, 0.0001],\n",
    "    'kernel': ['rbf', 'linear', 'sigmoid']\n",
    "}\n",
    "\n",
    "GridSearchCV then tries all combinations of these hyperparameter values and evaluates the model’s performance using cross-validation.\n",
    "\n",
    "After evaluating the model for each combination, it provides accuracy or loss metrics.\n",
    "Finally, we can choose the hyperparameter combination that yields the best performance.\n",
    "\n",
    "### Using GridSearchCV:\n",
    "\n",
    "To use GridSearchCV, we provide the following arguments:\n",
    "\n",
    "estimator: The machine learning model (estimator) we want to tune.\n",
    "\n",
    "param_grid: The dictionary of hyperparameters and their possible values.\n",
    "\n",
    "scoring: The evaluation metric (e.g., accuracy, F1-score).\n",
    "\n",
    "cv: The number of cross-validation folds.\n",
    "\n",
    "The function then performs an exhaustive search over the hyperparameter grid, helping us find the best set of hyperparameters for our model."
   ]
  },
  {
   "cell_type": "markdown",
   "id": "f090f9c6-d962-49ec-985f-5668b75a38b8",
   "metadata": {},
   "source": [
    "### Q2. Describe the difference between grid search cv and randomize search cv, and when might you choose one over the other?"
   ]
  },
  {
   "cell_type": "markdown",
   "id": "71801ced-d06b-4714-87df-486dc83db744",
   "metadata": {},
   "source": [
    "### Answer:"
   ]
  },
  {
   "cell_type": "markdown",
   "id": "8019aaed-b80a-4951-8f68-2a7c2aafc9fb",
   "metadata": {},
   "source": [
    "### the differences between GridSearchCV and RandomizedSearchCV and when to choose one over the other:\n",
    "\n",
    "1. GridSearchCV:\n",
    "\n",
    "- Purpose: GridSearchCV systematically evaluates the model’s performance across all possible combinations of hyperparameters defined in a grid.\n",
    "- How It Works:It takes a dictionary of hyperparameters and their potential values.Then, it trains and evaluates the model for each combination.\n",
    "- Useful when:The hyperparameter search space is small and manageable.The impact of each hyperparameter on model performance is well-understood.Computational resources are not a constraint.However, it can be computationally expensive if the search space is large.\n",
    "- Example: If you have parameters like epoch, dense_layer_size, and second_dense_layer, GridSearch would explore all combinations12.\n",
    "\n",
    "2. RandomizedSearchCV:\n",
    "\n",
    "- Purpose: RandomizedSearchCV randomly samples hyperparameters from specified distributions.\n",
    "- How It Works:It selects a fixed number of parameter settings (controlled by n_iter).Evaluates the model for these randomly sampled combinations.\n",
    "- Useful when:The hyperparameter search space is large and complex.\n",
    "- You don’t have a strong prior belief about specific hyperparameters.\n",
    "- It’s more efficient than GridSearch for optimizing fewer parameters.\n",
    "- May miss some combinations that could be better but provides a good trade-off between exploration and exploitation13.\n",
    "\n",
    "### Choosing Between Them:\n",
    "\n",
    "## GridSearchCV:\n",
    "Use when you have a smaller search space, understand the impact of each hyperparameter, and computational resources allow.\n",
    "\n",
    "### RandomizedSearchCV:\n",
    "Prefer when dealing with a large or uncertain search space.\n",
    "Balances exploration and efficiency.\n",
    "\n",
    "In summary, choose GridSearchCV for precision and RandomizedSearchCV for efficiency and flexibility based on your specific problem and available resources."
   ]
  },
  {
   "cell_type": "markdown",
   "id": "4274194f-5a52-442f-92b0-586cc8941f8f",
   "metadata": {},
   "source": [
    "### Q3. What is data leakage, and why is it a problem in machine learning? Provide an example."
   ]
  },
  {
   "cell_type": "markdown",
   "id": "aced4533-515c-4150-be59-2dff8bb456b3",
   "metadata": {},
   "source": [
    "### Answer:"
   ]
  },
  {
   "cell_type": "markdown",
   "id": "265dd7b0-662d-4031-a3c8-8c7bf6610b4c",
   "metadata": {},
   "source": [
    "#### Data leakage in machine learning occurs when unexpected additional information infiltrates the training process of an algorithm. Let’s unpack this concept:\n",
    "\n",
    "1. Definition:Data leakage happens when the data used to train a model includes unintended information about the subject being evaluated.\n",
    "- Essentially, it occurs when external data influences the model creation process.\n",
    "- This unrecognized data can lead to inaccurate performance metrics and make it challenging to identify the root cause of errors.\n",
    "\n",
    "2. Why Is Data Leakage a Problem?:\n",
    "\n",
    "- Model Reliability: Leakage compromises the reliability of the trained model. It may perform exceptionally well during training but fail in real-world applications.\n",
    "- Misplaced Confidence: Businesses may have misplaced confidence in a model that performs well during training but fails in deployment.\n",
    "- Unexpected Outcomes: Leakage can lead to unexpected outcomes, affecting decision-making and potentially causing financial losses.\n",
    "\n",
    "3. How Data Leakage Happens:\n",
    "- Data Handling and Preparation Stage:\n",
    "- Scaling or Normalization: If you scale or normalize the entire dataset before splitting it, you risk unintentionally mixing information.\n",
    "- Feature Engineering: Creating new features from the complete dataset before dividing it can embed insights from the test data into the training data, leading to leakage.\n",
    "\n",
    "4. Example:\n",
    "- Imagine building a credit risk model to predict loan defaults.\n",
    "- Leakage Scenario: You accidentally include the loan approval date as a feature.During training, the model learns that loans approved on certain days are more likely to default.However, this information is not available at prediction time (when deciding whether to approve a new loan).\n",
    "- The model’s performance will be artificially inflated during training but fail to generalize in practice."
   ]
  },
  {
   "cell_type": "markdown",
   "id": "3090d92c-c85f-4c2f-aa02-d787f87e0926",
   "metadata": {},
   "source": [
    "### Q4. How can you prevent data leakage when building a machine learning model?"
   ]
  },
  {
   "cell_type": "markdown",
   "id": "1549f5ac-ca48-44fd-866b-a99c66cac133",
   "metadata": {},
   "source": [
    "### Answer:"
   ]
  },
  {
   "cell_type": "markdown",
   "id": "5c1f6861-2b60-4b0d-be4e-fc11479aedb5",
   "metadata": {},
   "source": [
    "#### Preventing data leakage is crucial for building reliable machine learning models. Here are some strategies to avoid it:\n",
    "\n",
    "1. Feature Selection and Engineering:\n",
    "- Select Relevant Features: Choose features that are directly related to the problem you’re solving. Exclude irrelevant or potentially leaky features.\n",
    "- Avoid Future Information: Do not use features that contain information from the future (e.g., target-related features that wouldn’t be available during prediction).\n",
    "\n",
    "2. Data Splitting:\n",
    "- Train-Test Split: Split your dataset into training and test subsets before any preprocessing.\n",
    "- Time Series Data: If dealing with time series data, maintain the chronological sequence. Avoid using subsequent data for predictions related to earlier time points.\n",
    "\n",
    "3. Cross-Validation:Use cross-validation techniques (e.g., k-fold cross-validation) to evaluate model performance.\n",
    "- Ensure that data leakage doesn’t occur during cross-validation by correctly splitting the data.\n",
    "\n",
    "4. Target Leakage:\n",
    "- Be Cautious with Target Variables: Avoid using features that are directly derived from the target variable (e.g., aggregations based on the target).\n",
    "- Remove Leaky Features: Identify and remove features that leak information about the target.\n",
    "\n",
    "5. Ethical Considerations:\n",
    "- Be aware of discrimination or unfairness in model predictions due to data leakage.\n",
    "- Ensure that your model doesn’t inadvertently learn biases from leaked information."
   ]
  },
  {
   "cell_type": "markdown",
   "id": "660f6908-0f49-4fc0-a3da-3247e43f8b07",
   "metadata": {},
   "source": [
    "### Q5. What is a confusion matrix, and what does it tell you about the performance of a classification model?"
   ]
  },
  {
   "cell_type": "markdown",
   "id": "85acb70d-1d71-4375-99a4-b4f3b44b5861",
   "metadata": {},
   "source": [
    "### Answer:"
   ]
  },
  {
   "cell_type": "markdown",
   "id": "e11c59ed-c737-40ed-bfd0-45a5c933f8ac",
   "metadata": {},
   "source": [
    "### A confusion matrix is a fundamental tool in evaluating the performance of a classification model. Let’s delve into its significance and what it reveals:\n",
    "\n",
    "1. Definition:\n",
    "+  A confusion matrix is a matrix that summarizes how well a machine learning model performs on a set of test data.\n",
    "\n",
    "+ It displays the number of accurate and inaccurate predictions made by the model.Specifically, it is used for classification models that predict categorical labels (e.g., spam or not spam, disease or no disease).\n",
    "\n",
    "2. Components of a Confusion Matrix:\n",
    "\n",
    "- True Positives (TP): Instances where the model correctly predicts a positive class (e.g., correctly identifying a disease).\n",
    "- True Negatives (TN): Instances where the model correctly predicts a negative class (e.g., correctly identifying non-spam emails).\n",
    "- False Positives (FP): Instances where the model incorrectly predicts a positive class (e.g., marking a non-spam email as spam).\n",
    "- False Negatives (FN): Instances where the model incorrectly predicts a negative class (e.g., missing a disease diagnosis).\n",
    "\n",
    "3. Interpretation:\n",
    "> The confusion matrix provides insights into the following metrics:\n",
    "- Accuracy: The ratio of correct predictions to the total instances.\n",
    "- Precision: The proportion of true positives among all predicted positives.\n",
    "- Recall (Sensitivity): The proportion of true positives among all actual positives.\n",
    "- Specificity: The proportion of true negatives among all actual negatives.\n",
    "\n",
    "- Usefulness:\n",
    "- The confusion matrix helps us understand where the model makes mistakes.\n",
    "- It guides us in adjusting the model’s parameters or improving its performance.\n",
    "\n",
    "In summary, a confusion matrix provides a comprehensive view of a classification model’s effectiveness, enabling better decision-making and model refinement12."
   ]
  },
  {
   "cell_type": "markdown",
   "id": "1a4b9dd5-4f1d-413f-8adf-2c6a2a037192",
   "metadata": {},
   "source": [
    "### Q6. Explain the difference between precision and recall in the context of a confusion matrix."
   ]
  },
  {
   "cell_type": "markdown",
   "id": "5f343e5f-53c3-48de-8476-db8bfabd92ea",
   "metadata": {},
   "source": [
    "### Answer:"
   ]
  },
  {
   "cell_type": "markdown",
   "id": "70f306d5-eeda-4378-bf50-d5e9b2df0096",
   "metadata": {},
   "source": [
    "1. Precision:\n",
    "\n",
    "- Definition: Precision measures how accurate the positive predictions made by a model are.\n",
    "\n",
    " Precision = { True Positives (TP) / {False Positives (FP)+True Positives (TP)}\n",
    "\n",
    "- Interpretation:\n",
    "- High precision means that when the model predicts a positive class, it is likely to be correct.\n",
    "- It focuses on minimizing false positives (i.e., instances incorrectly predicted as positive).\n",
    "\n",
    "\n",
    "2. Recall (Sensitivity):\n",
    "\n",
    "- Definition: Recall (also known as sensitivity or true positive rate) measures how well the model captures all actual positive instances.\n",
    "\n",
    "- Formula:\n",
    "\n",
    "Recall = True Positives (TP)/False Negatives (FN)+True Positives (TP)\n",
    "\n",
    "\n",
    "- Interpretation:\n",
    "- High recall means that the model identifies most of the actual positive cases.\n",
    "- It focuses on minimizing false negatives (i.e., instances incorrectly predicted as negative).\n",
    "\n",
    "\n",
    "- Trade-Off:\n",
    "\n",
    "- Precision and recall often have an inverse relationship:\n",
    "\n",
    "- Increasing precision may lead to a decrease in recall (and vice versa).Finding the right balance depends on the specific problem and its consequences.\n",
    "\n",
    "\n",
    "- F1-score combines both metrics to provide a single value that balances precision and recall.\n",
    "\n",
    "- Use Cases:\n",
    "\n",
    "- Precision:\n",
    "\n",
    "- Important when false positives are costly (e.g., spam detection).\n",
    "- Example: A medical test for a rare disease (you want to minimize false positives).\n",
    "\n",
    "- Recall:\n",
    "\n",
    "- Crucial when false negatives are costly (e.g., cancer diagnosis).\n",
    "- Example: Identifying defective products on an assembly line (you want to minimize false negatives)."
   ]
  },
  {
   "cell_type": "markdown",
   "id": "afe39330-f73a-4bc1-9a18-9fa67614ba89",
   "metadata": {},
   "source": [
    "### Q7. How can you interpret a confusion matrix to determine which types of errors your model is making?"
   ]
  },
  {
   "cell_type": "markdown",
   "id": "45285fc6-8786-4def-bbad-4b7550780c65",
   "metadata": {},
   "source": [
    "### Answer:"
   ]
  },
  {
   "cell_type": "markdown",
   "id": "236cbe7b-d2d6-4d6a-85b8-3e8aae3e1c31",
   "metadata": {},
   "source": [
    "A confusion matrix is a powerful tool for understanding the performance of a classification model. Let’s explore how it helps us identify the types of errors the model is making:\n",
    "\n",
    "1. What Is a Confusion Matrix?:\n",
    "- A confusion matrix is a 2x2 table that summarizes the model’s predictions against actual class labels.\n",
    "- It provides insights into the following:\n",
    "\n",
    ">True Positives (TP): Instances correctly predicted as positive.\n",
    "\n",
    ">True Negatives (TN): Instances correctly predicted as negative.\n",
    "\n",
    ">False Positives (FP): Instances incorrectly predicted as positive.\n",
    "\n",
    ">False Negatives (FN): Instances incorrectly predicted as negative.\n",
    "\n",
    "2. Types of Errors Revealed:\n",
    "\n",
    "- False Positives (FP):These occur when the model predicts a positive class, but the actual class is negative. Example: Labeling a non-spam email as spam.\n",
    "\n",
    "-  False Negatives (FN):These occur when the model predicts a negative class, but the actual class is positive.Example: Missing a fraudulent transaction in a fraud detection system.\n",
    "\n",
    "- Interpreting the Matrix:\n",
    "- Precision (TP / (TP + FP)):Measures how many predicted positive instances are actually positive.High precision means fewer false positives.\n",
    "\n",
    "3. Recall (Sensitivity) (TP / (TP + FN)):\n",
    "- Measures how many actual positive instances were correctly predicted.High recall means fewer false negatives.\n",
    "\n",
    "4. Trade-offs:\n",
    "- Balancing precision and recall:\n",
    "- Increasing precision may lead to more false negatives.\n",
    "- Increasing recall may lead to more false positives.\n",
    "\n",
    "5. Context matters:\n",
    "- Consider the consequences of each error type.\n",
    "- For medical diagnoses, false negatives (missing a disease) can be critical.\n",
    "- For spam filters, false positives (flagging non-spam) are less harmful.\n",
    "\n",
    "6. Example:\n",
    "- Imagine a cancer diagnosis model:\n",
    "- TP: Correctly identifies cancer cases.\n",
    "- TN: Correctly identifies non-cancer cases.\n",
    "- FP: Incorrectly labels healthy patients as having cancer.\n",
    "- FN: Misses actual cancer cases.\n",
    "\n",
    "Analyzing these values helps us understand the model’s strengths and weaknesses."
   ]
  },
  {
   "cell_type": "code",
   "execution_count": null,
   "id": "62f0e139-4dc5-4499-a6f0-b7cfd1b38389",
   "metadata": {},
   "outputs": [],
   "source": []
  },
  {
   "cell_type": "markdown",
   "id": "87d20ac1-660b-4af8-b839-4b90d66837d5",
   "metadata": {},
   "source": [
    "### Q8. What are some common metrics that can be derived from a confusion matrix, and how are they calculated?"
   ]
  },
  {
   "cell_type": "markdown",
   "id": "e9d58efd-5bf2-4af7-a639-c119ee7f7aff",
   "metadata": {},
   "source": [
    "### Answer:"
   ]
  },
  {
   "cell_type": "markdown",
   "id": "7be6fd09-8e4b-4afb-bc89-ca55ae8e9b29",
   "metadata": {},
   "source": [
    "#### A confusion matrix provides valuable insights into a classification model’s performance. Let’s explore common metrics derived from it and how they are calculated:\n",
    "\n",
    "\n",
    "### Accuracy:\n",
    "\n",
    "- Definition: Accuracy measures the proportion of correct predictions out of all predictions made.\n",
    "\n",
    "- Interpretation: High accuracy indicates overall correctness, but it can be misleading in imbalanced datasets.\n",
    "\n",
    "\n",
    "### Precision (Positive Predictive Value):\n",
    "\n",
    "- Definition: Precision assesses the proportion of correct positive predictions out of all positive predictions made.\n",
    "\n",
    "- Interpretation: High precision means fewer false positives (incorrect positive predictions).\n",
    "\n",
    "\n",
    "###  Recall (Sensitivity, True Positive Rate):\n",
    "\n",
    "- Definition: Recall measures the proportion of actual positive instances correctly predicted by the model.\n",
    "\n",
    "- Interpretation: High recall means fewer false negatives (missed positive instances).\n",
    "\n",
    "### F1-Score (Harmonic Mean of Precision and Recall):\n",
    "\n",
    "- Definition: F1-score balances precision and recall.\n",
    "\n",
    "- Interpretation: Useful when precision and recall need to be balanced.\n",
    "\n",
    "\n",
    "### Specificity (True Negative Rate):\n",
    "\n",
    "- Definition: Specificity measures the proportion of actual negative instances correctly predicted as negative.\n",
    "\n",
    "- Interpretation: High specificity means fewer false positives for the negative class.\n",
    "\n",
    "\n",
    "### False Positive Rate (Fallout):\n",
    "\n",
    "- Definition: FPR calculates the proportion of actual negative instances incorrectly predicted as positive.\n",
    "\n",
    "- Interpretation: Useful for scenarios where minimizing false positives is critical."
   ]
  },
  {
   "cell_type": "markdown",
   "id": "51c1d69e-9fc4-4a48-98b2-a3269cea49fe",
   "metadata": {},
   "source": [
    "### Q9. What is the relationship between the accuracy of a model and the values in its confusion matrix?"
   ]
  },
  {
   "cell_type": "markdown",
   "id": "cfc7b0a8-bb91-4570-97a1-58d98cd28541",
   "metadata": {},
   "source": [
    "### Answer:"
   ]
  },
  {
   "cell_type": "markdown",
   "id": "0b5b7837-1008-4e8d-9248-996a005e95a4",
   "metadata": {},
   "source": [
    "The accuracy of a model and the values in its confusion matrix are closely related, but they provide different perspectives on the model’s performance:\n",
    "\n",
    "1. Accuracy:\n",
    "\n",
    "- Definition: Accuracy is the ratio of correctly predicted instances (both true positives and true negatives) to the total number of instances.\n",
    "- Formula: Accuracy= TP+TN / (TP + TN + FP + FN)\n",
    "\n",
    "- Interpretation: High accuracy suggests that the model is making correct predictions overall.However, accuracy alone can be misleading, especially in imbalanced datasets.\n",
    "\n",
    "2. Confusion Matrix:\n",
    "\n",
    "- Definition: The confusion matrix breaks down the model’s predictions into four categories:\n",
    "\n",
    ">True Positives (TP): Instances correctly predicted as positive.\n",
    "\n",
    ">True Negatives (TN): Instances correctly predicted as negative.\n",
    "\n",
    ">False Positives (FP): Instances incorrectly predicted as positive.\n",
    "\n",
    ">False Negatives (FN): Instances incorrectly predicted as negative.\n",
    "\n",
    "- interpretation: The confusion matrix provides a more detailed view of the model’s performance.\n",
    "- It reveals how well the model handles different classes.\n",
    "- It helps identify biases, trade-offs between precision and recall, and areas for improvement.\n",
    "\n",
    "3. Relationship:\n",
    "- Accuracy is influenced by all four values in the confusion matrix.\n",
    "- If the model has high TP and TN, accuracy will be high.However, if there’s a class imbalance (e.g., rare disease detection), accuracy may not reflect true performance.\n",
    "- Precision (TP / (TP + FP)) and recall (TP / (TP + FN)) are also derived from the confusion matrix.\n",
    "\n",
    "4. Considerations:\n",
    "- Class Imbalance: Accuracy can be misleading when classes are imbalanced.\n",
    "- Trade-offs: Improving one metric (e.g., precision) may affect others (e.g., recall).\n",
    "- Context Matters: Consider the problem domain and consequences of false positives and false negatives.\n",
    "\n",
    "In summary, while accuracy provides an overall view, the confusion matrix offers deeper insights into a model’s strengths, weaknesses, and potential biases. It’s essential to analyze both together for a comprehensive evaluation."
   ]
  },
  {
   "cell_type": "markdown",
   "id": "3eee1fc8-48df-4ba6-b327-862166a3da5f",
   "metadata": {},
   "source": [
    "### Q10. How can you use a confusion matrix to identify potential biases or limitations in your machine learning model?"
   ]
  },
  {
   "cell_type": "markdown",
   "id": "d838fa28-b5c0-465f-a867-9e525f8fb48a",
   "metadata": {},
   "source": [
    "### Answer:\n"
   ]
  },
  {
   "cell_type": "markdown",
   "id": "66639dff-1305-4eb4-9639-87b9e2b3fc02",
   "metadata": {},
   "source": [
    "A confusion matrix is a valuable tool for assessing the performance of a machine learning model, especially in classification tasks. Let’s delve into how it can help identify potential biases or limitations:\n",
    "\n",
    "1. Understanding the Confusion Matrix:\n",
    "- A confusion matrix is a 2x2 table that summarizes the model’s predictions against actual class labels.\n",
    "- It provides insights into the following:\n",
    "\n",
    ">True Positives (TP): Instances correctly predicted as positive.\n",
    "\n",
    ">True Negatives (TN): Instances correctly predicted as negative.\n",
    "\n",
    ">False Positives (FP): Instances incorrectly predicted as positive.\n",
    "\n",
    ">False Negatives (FN): Instances incorrectly predicted as negative.\n",
    "\n",
    "2. Biases and Limitations Revealed:\n",
    "- Class Imbalance: When dealing with imbalanced datasets (where one class dominates), the confusion matrix highlights the model’s performance beyond basic accuracy metrics.\n",
    "- Bias Toward Majority Class:High TN and low FP may indicate a bias toward the majority class.The model might be conservative in predicting the minority class.\n",
    "- Bias Toward Minority Class:High TP and low FN may indicate a bias toward the minority class.The model might be overly optimistic about the minority class.\n",
    "\n",
    "3. Trade-offs Between Precision and Recall:\n",
    "\n",
    ">Precision (TP / (TP + FP)) focuses on minimizing false positives.\n",
    "\n",
    ">Recall (TP / (TP + FN)) emphasizes minimizing false negatives.\n",
    "\n",
    ">The confusion matrix helps visualize these trade-offs."
   ]
  },
  {
   "cell_type": "markdown",
   "id": "cd56f308-75ca-4b28-836c-de626a63e4bf",
   "metadata": {},
   "source": []
  },
  {
   "cell_type": "code",
   "execution_count": null,
   "id": "e4b1a32e-1cd4-4e70-af2e-98e13866d714",
   "metadata": {},
   "outputs": [],
   "source": []
  },
  {
   "cell_type": "code",
   "execution_count": null,
   "id": "64a00641-71c5-48af-a82e-843bb2560a84",
   "metadata": {},
   "outputs": [],
   "source": []
  },
  {
   "cell_type": "code",
   "execution_count": null,
   "id": "433f7aa5-32a4-4a06-bea5-b33f2ad220ac",
   "metadata": {},
   "outputs": [],
   "source": []
  },
  {
   "cell_type": "code",
   "execution_count": null,
   "id": "cff9ec1f-17a0-4c33-a5ff-e5d2afd4d0ca",
   "metadata": {},
   "outputs": [],
   "source": []
  }
 ],
 "metadata": {
  "kernelspec": {
   "display_name": "Python 3 (ipykernel)",
   "language": "python",
   "name": "python3"
  },
  "language_info": {
   "codemirror_mode": {
    "name": "ipython",
    "version": 3
   },
   "file_extension": ".py",
   "mimetype": "text/x-python",
   "name": "python",
   "nbconvert_exporter": "python",
   "pygments_lexer": "ipython3",
   "version": "3.10.8"
  }
 },
 "nbformat": 4,
 "nbformat_minor": 5
}
