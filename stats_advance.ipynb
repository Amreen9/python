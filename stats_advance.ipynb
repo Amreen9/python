{
 "cells": [
  {
   "cell_type": "code",
   "execution_count": null,
   "id": "553924cd-c940-444e-a536-7f3608a1a697",
   "metadata": {},
   "outputs": [],
   "source": [
    "# Q1. What is the Probability density function?"
   ]
  },
  {
   "cell_type": "code",
   "execution_count": null,
   "id": "62b3f6f1-1a03-4910-ac90-6e06425b400e",
   "metadata": {},
   "outputs": [],
   "source": [
    "# ans: the probability density function  (PDF) is used to specify the probability of the random variable falling within a particular range of values, as opposed to taking on any one value. This probability is given by the integral of this variable's PDF over that range—that is, it is given by the area under the density function but above the horizontal axis and between the lowest and greatest values of the range. The probability density function is nonnegative everywhere, and the area under the entire curve is equal to 1."
   ]
  },
  {
   "cell_type": "code",
   "execution_count": null,
   "id": "aee034dd-13d7-42a9-9bb3-9af506eed85c",
   "metadata": {},
   "outputs": [],
   "source": [
    "# Q2. What are the types of Probability distribution?"
   ]
  },
  {
   "cell_type": "code",
   "execution_count": null,
   "id": "afe45521-f8f8-4ca7-a20a-7d7544cfab39",
   "metadata": {},
   "outputs": [],
   "source": [
    "# ans: the types of probability distribution function are:\n",
    "    \n",
    "# Binomial distribution\n",
    "# Poisson distribution\n",
    "# Uniform distribution\n",
    "# Standard normal distribution\n",
    "# F distribution"
   ]
  },
  {
   "cell_type": "code",
   "execution_count": null,
   "id": "b596ef9c-a6fd-4720-9083-eaa2f0339b75",
   "metadata": {},
   "outputs": [],
   "source": [
    "# Q3. Write a Python function to calculate the probability density function of a normal distribution with\n",
    "# given mean and standard deviation at a given point."
   ]
  },
  {
   "cell_type": "code",
   "execution_count": 9,
   "id": "2e28e5de-495b-4a94-a259-87d5fbab9350",
   "metadata": {},
   "outputs": [
    {
     "name": "stdout",
     "output_type": "stream",
     "text": [
      "0.0804410163156249\n"
     ]
    }
   ],
   "source": [
    "from scipy.stats import norm\n",
    "import numpy as np\n",
    "\n",
    "data_start=-5\n",
    "data_end=5\n",
    "data_points=11\n",
    "data=np.linspace(data_start,data_end,data_points)\n",
    "\n",
    "mean=np.mean(data)\n",
    "std=np.std(data)\n",
    "probability_pdf= norm.pdf(3,loc=mean,scale=std)\n",
    "print(probability_pdf)"
   ]
  },
  {
   "cell_type": "code",
   "execution_count": null,
   "id": "3e965894-b9c2-4e3f-8101-37f9690f672e",
   "metadata": {},
   "outputs": [],
   "source": [
    "# Q4. What are the properties of Binomial distribution? Give two examples of events where binomial\n",
    "# distribution can be applied."
   ]
  },
  {
   "cell_type": "code",
   "execution_count": null,
   "id": "c43a8afe-26b6-4c4e-a998-7d6a7670cab2",
   "metadata": {},
   "outputs": [],
   "source": [
    "# Ans: Some properties of binomial distribution are:\n",
    "\n",
    "# It has two possible outcomes: success or failure, yes or no, true or false, etc.\n",
    "# It has a fixed number of independent trials, denoted by n.\n",
    "# The probability of success, denoted by p, is the same for each trial.\n",
    "# The random variable X is the number of successes in n trials.\n",
    "\n",
    "# the events where binomial distribution can be applied are:\n",
    "\n",
    "# Rolling a die and counting the number of times a 6 appears in 10 rolls.\n",
    "# Tossing a coin and counting the number of heads in 20 tosses.\n",
    "# Shooting a free-throw in basketball and counting the number of successful shots in 15 attempts."
   ]
  },
  {
   "cell_type": "code",
   "execution_count": null,
   "id": "524874f7-630c-4968-a1de-b0c6ecb281ca",
   "metadata": {},
   "outputs": [],
   "source": [
    "# Q5. Generate a random sample of size 1000 from a binomial distribution with probability of success 0.4\n",
    "# and plot a histogram of the results using matplotlib."
   ]
  },
  {
   "cell_type": "code",
   "execution_count": 11,
   "id": "c2abab53-e159-464a-a8ac-088b15562f43",
   "metadata": {},
   "outputs": [
    {
     "data": {
      "image/png": "[encoded data removed]",
      "text/plain": [
       "<Figure size 640x480 with 1 Axes>"
      ]
     },
     "metadata": {},
     "output_type": "display_data"
    }
   ],
   "source": [
    "import numpy as np\n",
    "import matplotlib.pyplot as plt\n",
    "\n",
    "x=np.random.binomial(n=10,p=0.4,size=1000)\n",
    "\n",
    "plt.hist(x,bins=10)\n",
    "plt.xlabel('number of success')\n",
    "plt.ylabel('frequency')\n",
    "plt.title('Binomial distribution with n=10 and p=0.4')\n",
    "plt.show()"
   ]
  },
  {
   "cell_type": "code",
   "execution_count": null,
   "id": "7e78161c-24db-416d-afdd-45e80a200f9f",
   "metadata": {},
   "outputs": [],
   "source": [
    "# Q6. Write a Python function to calculate the cumulative distribution function of a Poisson distribution\n",
    "# with given mean at a given point."
   ]
  },
  {
   "cell_type": "code",
   "execution_count": 12,
   "id": "4c10ed30-8dcc-465d-80e6-3f766142b9ae",
   "metadata": {},
   "outputs": [
    {
     "name": "stdout",
     "output_type": "stream",
     "text": [
      "0.2650259152973616\n",
      "0.9512595966960213\n"
     ]
    }
   ],
   "source": [
    "import scipy.stats as stats\n",
    "\n",
    "#define a function that takes mean and point as arguments\n",
    "def poisson_cdf(mean, point):\n",
    "  #return the CDF value at the point\n",
    "  return stats.poisson.cdf(point, mean)\n",
    "\n",
    "#test the function with some values\n",
    "print(poisson_cdf(5, 3))\n",
    "print(poisson_cdf(10, 15)) "
   ]
  },
  {
   "cell_type": "code",
   "execution_count": null,
   "id": "ad85c06c-b343-4365-9803-c6fecf64240f",
   "metadata": {},
   "outputs": [],
   "source": [
    "# Q7. How Binomial distribution different from Poisson distribution?"
   ]
  },
  {
   "cell_type": "code",
   "execution_count": null,
   "id": "89f91ad2-0f70-43e3-ad04-de4fe9e98ec8",
   "metadata": {},
   "outputs": [],
   "source": [
    "# Ans: The Binomial distribution and the Poisson distribution are both discrete probability distributions that can be used to model the number of events that occur in a given scenario. However, they have some key differences:\n",
    "\n",
    "# In a Binomial distribution, there is a fixed number of trials (e.g. flip a coin 3 times), each with a constant probability of success or failure. In a Poisson distribution, there could be any number of events that occur during a certain time interval or space (e.g. how many customers will arrive at a store in a given hour?), with an average rate that is constant but unknown.\n",
    "# In a Binomial distribution, the mean and the variance are both functions of the number of trials and the probability of success. In a Poisson distribution, the mean and the variance are both equal to the average rate of events.\n",
    "# In a Binomial distribution, there are only two possible outcomes for each trial, i.e. success or failure. In a Poisson distribution, there are unlimited possible outcomes for the number of events that occur in an interval."
   ]
  },
  {
   "cell_type": "code",
   "execution_count": null,
   "id": "39770a1c-cfc5-4ce0-aa69-f6e17bd9b88a",
   "metadata": {},
   "outputs": [],
   "source": [
    "# Q8. Generate a random sample of size 1000 from a Poisson distribution with mean 5 and calculate the\n",
    "# sample mean and variance."
   ]
  },
  {
   "cell_type": "code",
   "execution_count": 13,
   "id": "22253852-88b7-4d3d-86cf-c1cde636c061",
   "metadata": {},
   "outputs": [
    {
     "name": "stdout",
     "output_type": "stream",
     "text": [
      "Sample mean: 5.016\n",
      "Sample variance: 4.875744\n"
     ]
    }
   ],
   "source": [
    "import numpy as np\n",
    "\n",
    "#generate a random sample of size 1000 from a Poisson distribution with mean 5\n",
    "sample = np.random.poisson(lam=5, size=1000)\n",
    "\n",
    "#calculate the sample mean and variance\n",
    "sample_mean = np.mean(sample)\n",
    "sample_var = np.var(sample)\n",
    "\n",
    "#print the results\n",
    "print(\"Sample mean:\", sample_mean) \n",
    "print(\"Sample variance:\", sample_var) "
   ]
  },
  {
   "cell_type": "code",
   "execution_count": null,
   "id": "1c43332a-a100-4b1b-a6ce-f179bdf7ec7e",
   "metadata": {},
   "outputs": [],
   "source": [
    "# Q9. How mean and variance are related in Binomial distribution and Poisson distribution?"
   ]
  },
  {
   "cell_type": "code",
   "execution_count": null,
   "id": "2d1ba5e5-50d4-47fe-be5f-5b4757e0705f",
   "metadata": {},
   "outputs": [],
   "source": [
    "# Ans: In a Binomial distribution, the mean and the variance are both functions of the number of trials (n) and the probability of success (p). They are given by the formulas:\n",
    "\n",
    "# Mean = np\n",
    "# Variance = np(1-p)\n",
    "# In a Poisson distribution, the mean and the variance are both equal to the average rate of events (λ). They are given by the formula:\n",
    "\n",
    "# Mean = Variance = λ\n",
    "# Therefore, in a Binomial distribution, the mean and the variance can be different, while in a Poisson distribution, they are always the same"
   ]
  },
  {
   "cell_type": "code",
   "execution_count": null,
   "id": "e476469d-945e-4d8a-8b3a-680920abcdf7",
   "metadata": {},
   "outputs": [],
   "source": [
    "# Q10. In normal distribution with respect to mean position, where does the least frequent data appear?"
   ]
  },
  {
   "cell_type": "code",
   "execution_count": null,
   "id": "e100c55e-7d73-47d3-ae5c-1a1e290fa0ce",
   "metadata": {},
   "outputs": [],
   "source": [
    "# In a normal distribution, the data is symmetric from the peak of the curve, where the mean is. This means that most of the observed data is clustered near the mean, while the data become less frequent when farther away from the mean."
   ]
  }
 ],
 "metadata": {
  "kernelspec": {
   "display_name": "Python 3 (ipykernel)",
   "language": "python",
   "name": "python3"
  },
  "language_info": {
   "codemirror_mode": {
    "name": "ipython",
    "version": 3
   },
   "file_extension": ".py",
   "mimetype": "text/x-python",
   "name": "python",
   "nbconvert_exporter": "python",
   "pygments_lexer": "ipython3",
   "version": "3.10.8"
  }
 },
 "nbformat": 4,
 "nbformat_minor": 5
}
